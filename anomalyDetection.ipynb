{
 "cells": [
  {
   "cell_type": "code",
   "execution_count": 18,
   "metadata": {
    "collapsed": true,
    "deletable": true,
    "editable": true
   },
   "outputs": [],
   "source": [
    "import numpy as np\n",
    "import pandas as pd\n",
    "import sklearn as sk\n"
   ]
  },
  {
   "cell_type": "code",
   "execution_count": 19,
   "metadata": {
    "collapsed": true,
    "deletable": true,
    "editable": true
   },
   "outputs": [],
   "source": [
    "from sklearn.cluster import KMeans\n",
    "from time import time\n",
    "import matplotlib.pyplot as plt\n",
    "\n",
    "from sklearn import metrics\n",
    "from sklearn.cluster import KMeans\n",
    "from sklearn.datasets import load_digits\n",
    "from sklearn.decomposition import PCA\n",
    "from sklearn.preprocessing import scale\n",
    "from sklearn.model_selection import train_test_split\n",
    "%matplotlib inline\n"
   ]
  },
  {
   "cell_type": "markdown",
   "metadata": {
    "deletable": true,
    "editable": true
   },
   "source": [
    "## ok, lets begin "
   ]
  },
  {
   "cell_type": "code",
   "execution_count": 20,
   "metadata": {
    "collapsed": false,
    "deletable": true,
    "editable": true
   },
   "outputs": [
    {
     "name": "stdout",
     "output_type": "stream",
     "text": [
      "This line will be printed.\n"
     ]
    }
   ],
   "source": [
    "print(\"This line will be printed.\")"
   ]
  },
  {
   "cell_type": "code",
   "execution_count": 32,
   "metadata": {
    "collapsed": false,
    "deletable": true,
    "editable": true
   },
   "outputs": [],
   "source": [
    "dataset=pd.read_csv(\"k2.txt\",delimiter=\"\\t\",header=None)\n",
    "dataset.columns = [\"x\", \"y\"]"
   ]
  },
  {
   "cell_type": "code",
   "execution_count": 33,
   "metadata": {
    "collapsed": false,
    "deletable": true,
    "editable": true
   },
   "outputs": [
    {
     "data": {
      "text/html": [
       "<div>\n",
       "<style>\n",
       "    .dataframe thead tr:only-child th {\n",
       "        text-align: right;\n",
       "    }\n",
       "\n",
       "    .dataframe thead th {\n",
       "        text-align: left;\n",
       "    }\n",
       "\n",
       "    .dataframe tbody tr th {\n",
       "        vertical-align: top;\n",
       "    }\n",
       "</style>\n",
       "<table border=\"1\" class=\"dataframe\">\n",
       "  <thead>\n",
       "    <tr style=\"text-align: right;\">\n",
       "      <th></th>\n",
       "      <th>x</th>\n",
       "      <th>y</th>\n",
       "    </tr>\n",
       "  </thead>\n",
       "  <tbody>\n",
       "    <tr>\n",
       "      <th>0</th>\n",
       "      <td>0.196706</td>\n",
       "      <td>0.266175</td>\n",
       "    </tr>\n",
       "    <tr>\n",
       "      <th>1</th>\n",
       "      <td>0.413287</td>\n",
       "      <td>0.355828</td>\n",
       "    </tr>\n",
       "    <tr>\n",
       "      <th>2</th>\n",
       "      <td>0.338436</td>\n",
       "      <td>0.435738</td>\n",
       "    </tr>\n",
       "    <tr>\n",
       "      <th>3</th>\n",
       "      <td>0.103802</td>\n",
       "      <td>0.164345</td>\n",
       "    </tr>\n",
       "    <tr>\n",
       "      <th>4</th>\n",
       "      <td>0.159052</td>\n",
       "      <td>0.325059</td>\n",
       "    </tr>\n",
       "    <tr>\n",
       "      <th>5</th>\n",
       "      <td>0.066905</td>\n",
       "      <td>0.487418</td>\n",
       "    </tr>\n",
       "    <tr>\n",
       "      <th>6</th>\n",
       "      <td>0.335731</td>\n",
       "      <td>0.037984</td>\n",
       "    </tr>\n",
       "    <tr>\n",
       "      <th>7</th>\n",
       "      <td>0.285496</td>\n",
       "      <td>0.293510</td>\n",
       "    </tr>\n",
       "    <tr>\n",
       "      <th>8</th>\n",
       "      <td>0.084884</td>\n",
       "      <td>0.206943</td>\n",
       "    </tr>\n",
       "    <tr>\n",
       "      <th>9</th>\n",
       "      <td>0.073828</td>\n",
       "      <td>0.154568</td>\n",
       "    </tr>\n",
       "    <tr>\n",
       "      <th>10</th>\n",
       "      <td>0.238040</td>\n",
       "      <td>0.131917</td>\n",
       "    </tr>\n",
       "    <tr>\n",
       "      <th>11</th>\n",
       "      <td>0.454051</td>\n",
       "      <td>0.379383</td>\n",
       "    </tr>\n",
       "    <tr>\n",
       "      <th>12</th>\n",
       "      <td>0.276088</td>\n",
       "      <td>0.497608</td>\n",
       "    </tr>\n",
       "    <tr>\n",
       "      <th>13</th>\n",
       "      <td>0.016470</td>\n",
       "      <td>0.093286</td>\n",
       "    </tr>\n",
       "    <tr>\n",
       "      <th>14</th>\n",
       "      <td>0.026931</td>\n",
       "      <td>0.390573</td>\n",
       "    </tr>\n",
       "    <tr>\n",
       "      <th>15</th>\n",
       "      <td>0.402532</td>\n",
       "      <td>0.097899</td>\n",
       "    </tr>\n",
       "    <tr>\n",
       "      <th>16</th>\n",
       "      <td>0.225687</td>\n",
       "      <td>0.496179</td>\n",
       "    </tr>\n",
       "    <tr>\n",
       "      <th>17</th>\n",
       "      <td>0.191323</td>\n",
       "      <td>0.401131</td>\n",
       "    </tr>\n",
       "    <tr>\n",
       "      <th>18</th>\n",
       "      <td>0.394822</td>\n",
       "      <td>0.212113</td>\n",
       "    </tr>\n",
       "    <tr>\n",
       "      <th>19</th>\n",
       "      <td>0.182143</td>\n",
       "      <td>0.364432</td>\n",
       "    </tr>\n",
       "    <tr>\n",
       "      <th>20</th>\n",
       "      <td>1.498354</td>\n",
       "      <td>1.403501</td>\n",
       "    </tr>\n",
       "    <tr>\n",
       "      <th>21</th>\n",
       "      <td>1.808990</td>\n",
       "      <td>1.934979</td>\n",
       "    </tr>\n",
       "    <tr>\n",
       "      <th>22</th>\n",
       "      <td>1.356509</td>\n",
       "      <td>1.479485</td>\n",
       "    </tr>\n",
       "    <tr>\n",
       "      <th>23</th>\n",
       "      <td>1.073243</td>\n",
       "      <td>1.231792</td>\n",
       "    </tr>\n",
       "    <tr>\n",
       "      <th>24</th>\n",
       "      <td>1.590991</td>\n",
       "      <td>1.396290</td>\n",
       "    </tr>\n",
       "    <tr>\n",
       "      <th>25</th>\n",
       "      <td>1.910188</td>\n",
       "      <td>1.705077</td>\n",
       "    </tr>\n",
       "    <tr>\n",
       "      <th>26</th>\n",
       "      <td>1.193766</td>\n",
       "      <td>1.558559</td>\n",
       "    </tr>\n",
       "    <tr>\n",
       "      <th>27</th>\n",
       "      <td>1.432368</td>\n",
       "      <td>1.756631</td>\n",
       "    </tr>\n",
       "    <tr>\n",
       "      <th>28</th>\n",
       "      <td>1.749160</td>\n",
       "      <td>1.995481</td>\n",
       "    </tr>\n",
       "    <tr>\n",
       "      <th>29</th>\n",
       "      <td>1.039184</td>\n",
       "      <td>1.962431</td>\n",
       "    </tr>\n",
       "    <tr>\n",
       "      <th>30</th>\n",
       "      <td>1.946325</td>\n",
       "      <td>1.535067</td>\n",
       "    </tr>\n",
       "    <tr>\n",
       "      <th>31</th>\n",
       "      <td>1.763673</td>\n",
       "      <td>1.963870</td>\n",
       "    </tr>\n",
       "    <tr>\n",
       "      <th>32</th>\n",
       "      <td>1.558821</td>\n",
       "      <td>1.115626</td>\n",
       "    </tr>\n",
       "    <tr>\n",
       "      <th>33</th>\n",
       "      <td>1.183843</td>\n",
       "      <td>1.051448</td>\n",
       "    </tr>\n",
       "    <tr>\n",
       "      <th>34</th>\n",
       "      <td>1.497949</td>\n",
       "      <td>1.304349</td>\n",
       "    </tr>\n",
       "    <tr>\n",
       "      <th>35</th>\n",
       "      <td>1.517846</td>\n",
       "      <td>1.580192</td>\n",
       "    </tr>\n",
       "    <tr>\n",
       "      <th>36</th>\n",
       "      <td>1.994243</td>\n",
       "      <td>1.530964</td>\n",
       "    </tr>\n",
       "    <tr>\n",
       "      <th>37</th>\n",
       "      <td>1.854852</td>\n",
       "      <td>1.901208</td>\n",
       "    </tr>\n",
       "    <tr>\n",
       "      <th>38</th>\n",
       "      <td>1.962404</td>\n",
       "      <td>1.540550</td>\n",
       "    </tr>\n",
       "    <tr>\n",
       "      <th>39</th>\n",
       "      <td>1.678941</td>\n",
       "      <td>1.431981</td>\n",
       "    </tr>\n",
       "    <tr>\n",
       "      <th>40</th>\n",
       "      <td>3.678941</td>\n",
       "      <td>4.431981</td>\n",
       "    </tr>\n",
       "  </tbody>\n",
       "</table>\n",
       "</div>"
      ],
      "text/plain": [
       "           x         y\n",
       "0   0.196706  0.266175\n",
       "1   0.413287  0.355828\n",
       "2   0.338436  0.435738\n",
       "3   0.103802  0.164345\n",
       "4   0.159052  0.325059\n",
       "5   0.066905  0.487418\n",
       "6   0.335731  0.037984\n",
       "7   0.285496  0.293510\n",
       "8   0.084884  0.206943\n",
       "9   0.073828  0.154568\n",
       "10  0.238040  0.131917\n",
       "11  0.454051  0.379383\n",
       "12  0.276088  0.497608\n",
       "13  0.016470  0.093286\n",
       "14  0.026931  0.390573\n",
       "15  0.402532  0.097899\n",
       "16  0.225687  0.496179\n",
       "17  0.191323  0.401131\n",
       "18  0.394822  0.212113\n",
       "19  0.182143  0.364432\n",
       "20  1.498354  1.403501\n",
       "21  1.808990  1.934979\n",
       "22  1.356509  1.479485\n",
       "23  1.073243  1.231792\n",
       "24  1.590991  1.396290\n",
       "25  1.910188  1.705077\n",
       "26  1.193766  1.558559\n",
       "27  1.432368  1.756631\n",
       "28  1.749160  1.995481\n",
       "29  1.039184  1.962431\n",
       "30  1.946325  1.535067\n",
       "31  1.763673  1.963870\n",
       "32  1.558821  1.115626\n",
       "33  1.183843  1.051448\n",
       "34  1.497949  1.304349\n",
       "35  1.517846  1.580192\n",
       "36  1.994243  1.530964\n",
       "37  1.854852  1.901208\n",
       "38  1.962404  1.540550\n",
       "39  1.678941  1.431981\n",
       "40  3.678941  4.431981"
      ]
     },
     "execution_count": 33,
     "metadata": {},
     "output_type": "execute_result"
    }
   ],
   "source": [
    "dataset"
   ]
  },
  {
   "cell_type": "code",
   "execution_count": 34,
   "metadata": {
    "collapsed": false,
    "deletable": true,
    "editable": true
   },
   "outputs": [
    {
     "data": {
      "text/plain": [
       "<matplotlib.axes._subplots.AxesSubplot at 0x25c93167438>"
      ]
     },
     "execution_count": 34,
     "metadata": {},
     "output_type": "execute_result"
    },
    {
     "data": {
      "image/png": "[encoded data removed]",
      "text/plain": [
       "<matplotlib.figure.Figure at 0x25c93160588>"
      ]
     },
     "metadata": {},
     "output_type": "display_data"
    }
   ],
   "source": [
    "x = dataset['x']\n",
    "y = dataset['y']\n",
    "d = {'y' : y.values}\n",
    "\n",
    "df = pd.DataFrame(d)\n",
    "\n",
    "df.plot(x=x, style=['o','rx'])"
   ]
  },
  {
   "cell_type": "code",
   "execution_count": 35,
   "metadata": {
    "collapsed": false
   },
   "outputs": [
    {
     "data": {
      "text/plain": [
       "<matplotlib.collections.PathCollection at 0x25c942cde48>"
      ]
     },
     "execution_count": 35,
     "metadata": {},
     "output_type": "execute_result"
    },
    {
     "data": {
      "image/png": "[encoded data removed]",
      "text/plain": [
       "<matplotlib.figure.Figure at 0x25c9428d940>"
      ]
     },
     "metadata": {},
     "output_type": "display_data"
    }
   ],
   "source": [
    "myX = dataset.values\n",
    "plt.scatter(myX[:,0],myX[:,1], label='True Position')  \n"
   ]
  },
  {
   "cell_type": "code",
   "execution_count": 36,
   "metadata": {
    "collapsed": false
   },
   "outputs": [
    {
     "name": "stdout",
     "output_type": "stream",
     "text": [
      "[[ 1.6805043   1.70530776]\n",
      " [ 0.22331067  0.28960446]]\n",
      "[1 1 1 1 1 1 1 1 1 1 1 1 1 1 1 1 1 1 1 1 0 0 0 0 0 0 0 0 0 0 0 0 0 0 0 0 0\n",
      " 0 0 0 0]\n",
      "41\n"
     ]
    }
   ],
   "source": [
    "kmeans = KMeans(n_clusters=2)  \n",
    "kmeans.fit(myX)  \n",
    "print(kmeans.cluster_centers_) \n",
    "print(kmeans.labels_)  \n",
    "print(kmeans.labels_.size)  "
   ]
  },
  {
   "cell_type": "code",
   "execution_count": 37,
   "metadata": {
    "collapsed": false
   },
   "outputs": [
    {
     "data": {
      "text/plain": [
       "<matplotlib.collections.PathCollection at 0x25c94336dd8>"
      ]
     },
     "execution_count": 37,
     "metadata": {},
     "output_type": "execute_result"
    },
    {
     "data": {
      "image/png": "[encoded data removed]",
      "text/plain": [
       "<matplotlib.figure.Figure at 0x25c942a1cf8>"
      ]
     },
     "metadata": {},
     "output_type": "display_data"
    }
   ],
   "source": [
    "plt.scatter(myX[:,0], myX[:,1], c=kmeans.labels_, cmap='rainbow')  \n",
    "plt.scatter(kmeans.cluster_centers_[:,0] ,kmeans.cluster_centers_[:,1], color='black')  "
   ]
  },
  {
   "cell_type": "markdown",
   "metadata": {},
   "source": [
    "# now we have k-means working. now we add a outlier, and leave it without a cluster, or make it as its own cluter"
   ]
  },
  {
   "cell_type": "markdown",
   "metadata": {},
   "source": [
    "## im still learning python,so im just going to add a outlier to the .txt"
   ]
  },
  {
   "cell_type": "code",
   "execution_count": 55,
   "metadata": {
    "collapsed": false
   },
   "outputs": [
    {
     "data": {
      "text/plain": [
       "array([[ 0.19670575,  0.26617497],\n",
       "       [ 0.41328699,  0.35582835],\n",
       "       [ 0.33843555,  0.43573826],\n",
       "       [ 0.10380152,  0.16434481],\n",
       "       [ 0.15905236,  0.32505901],\n",
       "       [ 0.06690549,  0.48741807],\n",
       "       [ 0.33573144,  0.03798368],\n",
       "       [ 0.28549554,  0.29350958],\n",
       "       [ 0.08488353,  0.20694325],\n",
       "       [ 0.07382789,  0.15456821],\n",
       "       [ 0.23803986,  0.13191702],\n",
       "       [ 0.45405121,  0.37938313],\n",
       "       [ 0.27608751,  0.49760799],\n",
       "       [ 0.01646995,  0.09328572],\n",
       "       [ 0.02693146,  0.39057263],\n",
       "       [ 0.40253161,  0.09789899],\n",
       "       [ 0.22568743,  0.49617949],\n",
       "       [ 0.19132311,  0.40113078],\n",
       "       [ 0.39482185,  0.21211335],\n",
       "       [ 0.18214343,  0.36443193],\n",
       "       [ 1.49835358,  1.40350139],\n",
       "       [ 1.80899027,  1.93497909],\n",
       "       [ 1.35650893,  1.47948455],\n",
       "       [ 1.07324343,  1.23179161],\n",
       "       [ 1.59099146,  1.39629025],\n",
       "       [ 1.91018783,  1.70507748],\n",
       "       [ 1.19376594,  1.55855903],\n",
       "       [ 1.43236779,  1.7566307 ],\n",
       "       [ 1.74915973,  1.99548106],\n",
       "       [ 1.03918449,  1.9624314 ],\n",
       "       [ 1.94632499,  1.53506711],\n",
       "       [ 1.76367332,  1.96387013],\n",
       "       [ 1.55882055,  1.11562588],\n",
       "       [ 1.18384294,  1.05144829],\n",
       "       [ 1.49794882,  1.30434895],\n",
       "       [ 1.5178456 ,  1.58019183],\n",
       "       [ 1.99424301,  1.53096445],\n",
       "       [ 1.85485168,  1.90120809],\n",
       "       [ 1.96240394,  1.54055043],\n",
       "       [ 1.67894101,  1.43198061],\n",
       "       [ 3.67894101,  4.43198061]])"
      ]
     },
     "execution_count": 55,
     "metadata": {},
     "output_type": "execute_result"
    }
   ],
   "source": [
    "myX"
   ]
  },
  {
   "cell_type": "code",
   "execution_count": 38,
   "metadata": {
    "collapsed": false
   },
   "outputs": [
    {
     "name": "stdout",
     "output_type": "stream",
     "text": [
      "[[ 1.87372935  1.76339973]\n",
      " [ 0.22331067  0.28960446]\n",
      " [ 3.67894101  4.43198061]\n",
      " [ 1.4396107   1.33274037]\n",
      " [ 1.22177274  1.75920705]]\n",
      "[1 1 1 1 1 1 1 1 1 1 1 1 1 1 1 1 1 1 1 1 3 0 3 3 3 0 4 4 0 4 0 0 3 3 3 3 0\n",
      " 0 0 3 2]\n",
      "41\n"
     ]
    },
    {
     "data": {
      "text/plain": [
       "<matplotlib.collections.PathCollection at 0x25c9438ef98>"
      ]
     },
     "execution_count": 38,
     "metadata": {},
     "output_type": "execute_result"
    },
    {
     "data": {
      "image/png": "[encoded data removed]",
      "text/plain": [
       "<matplotlib.figure.Figure at 0x25c94306588>"
      ]
     },
     "metadata": {},
     "output_type": "display_data"
    }
   ],
   "source": [
    "kmeans = KMeans(n_clusters=5)  \n",
    "kmeans.fit(myX)  \n",
    "print(kmeans.cluster_centers_) \n",
    "print(kmeans.labels_)  \n",
    "print(kmeans.labels_.size)  \n",
    "\n",
    "plt.scatter(myX[:,0],myX[:,1], c=kmeans.labels_,cmap='cool')  \n",
    "plt.scatter(kmeans.cluster_centers_[:,0] ,kmeans.cluster_centers_[:,1], color='black')  "
   ]
  },
  {
   "cell_type": "markdown",
   "metadata": {},
   "source": [
    "lets just set n_clusters = 5. we will go on a witch hunt and flag any tiny clusters.... i want to be able to find the sprend of each cluster also. this is because be must have 2 point which are far apart get clustered together, reguardless, they ARE BOTH OUTLIERS    "
   ]
  },
  {
   "cell_type": "code",
   "execution_count": 39,
   "metadata": {
    "collapsed": false
   },
   "outputs": [
    {
     "data": {
      "text/plain": [
       "array([1, 1, 1, 1, 1, 1, 1, 1, 1, 1, 1, 1, 1, 1, 1, 1, 1, 1, 1, 1, 3, 0, 3,\n",
       "       3, 3, 0, 4, 4, 0, 4, 0, 0, 3, 3, 3, 3, 0, 0, 0, 3, 2])"
      ]
     },
     "execution_count": 39,
     "metadata": {},
     "output_type": "execute_result"
    }
   ],
   "source": [
    "kmeans.labels_"
   ]
  },
  {
   "cell_type": "markdown",
   "metadata": {},
   "source": [
    "##### unused code. here for reference \n",
    "myList =[]\n",
    "\n",
    "for i in range(len(kmeans.labels_)):\n",
    "    if i == np.argmin(counts):\n",
    "        myList.append(i)\n",
    "        \n",
    "print(myList)"
   ]
  },
  {
   "cell_type": "code",
   "execution_count": 70,
   "metadata": {
    "collapsed": false
   },
   "outputs": [
    {
     "name": "stdout",
     "output_type": "stream",
     "text": [
      "number of repeats for each element:  [ 8 20  1  9  3]\n",
      "\n",
      "list pos of least repeating element:  2\n",
      "\n",
      "index of least repeating element:  (array([40], dtype=int64),)\n",
      "\n",
      "[40] <class 'numpy.ndarray'>\n",
      "\n",
      "40 <class 'numpy.int64'>\n",
      "[ 1.49835358  1.40350139]\n",
      "[[ 0.19670575  0.26617497]\n",
      " [ 0.41328699  0.35582835]\n",
      " [ 0.33843555  0.43573826]\n",
      " [ 0.10380152  0.16434481]\n",
      " [ 0.15905236  0.32505901]\n",
      " [ 0.06690549  0.48741807]\n",
      " [ 0.33573144  0.03798368]\n",
      " [ 0.28549554  0.29350958]\n",
      " [ 0.08488353  0.20694325]\n",
      " [ 0.07382789  0.15456821]\n",
      " [ 0.23803986  0.13191702]\n",
      " [ 0.45405121  0.37938313]\n",
      " [ 0.27608751  0.49760799]\n",
      " [ 0.01646995  0.09328572]\n",
      " [ 0.02693146  0.39057263]\n",
      " [ 0.40253161  0.09789899]\n",
      " [ 0.22568743  0.49617949]\n",
      " [ 0.19132311  0.40113078]\n",
      " [ 0.39482185  0.21211335]\n",
      " [ 0.18214343  0.36443193]]\n",
      "\n",
      "[[ 1.80899027  1.93497909]\n",
      " [ 1.35650893  1.47948455]\n",
      " [ 1.07324343  1.23179161]\n",
      " [ 1.59099146  1.39629025]\n",
      " [ 1.91018783  1.70507748]\n",
      " [ 1.19376594  1.55855903]\n",
      " [ 1.43236779  1.7566307 ]\n",
      " [ 1.74915973  1.99548106]\n",
      " [ 1.03918449  1.9624314 ]\n",
      " [ 1.94632499  1.53506711]\n",
      " [ 1.76367332  1.96387013]\n",
      " [ 1.55882055  1.11562588]\n",
      " [ 1.18384294  1.05144829]\n",
      " [ 1.49794882  1.30434895]\n",
      " [ 1.5178456   1.58019183]\n",
      " [ 1.99424301  1.53096445]\n",
      " [ 1.85485168  1.90120809]\n",
      " [ 1.96240394  1.54055043]\n",
      " [ 1.67894101  1.43198061]\n",
      " [ 3.67894101  4.43198061]]\n",
      "\n"
     ]
    },
    {
     "data": {
      "text/plain": [
       "array([ 0.19670575,  0.26617497,  0.41328699,  0.35582835,  0.33843555,\n",
       "        0.43573826,  0.10380152,  0.16434481,  0.15905236,  0.32505901,\n",
       "        0.06690549,  0.48741807,  0.33573144,  0.03798368,  0.28549554,\n",
       "        0.29350958,  0.08488353,  0.20694325,  0.07382789,  0.15456821,\n",
       "        0.23803986,  0.13191702,  0.45405121,  0.37938313,  0.27608751,\n",
       "        0.49760799,  0.01646995,  0.09328572,  0.02693146,  0.39057263,\n",
       "        0.40253161,  0.09789899,  0.22568743,  0.49617949,  0.19132311,\n",
       "        0.40113078,  0.39482185,  0.21211335,  0.18214343,  0.36443193,\n",
       "        1.80899027,  1.93497909,  1.35650893,  1.47948455,  1.07324343,\n",
       "        1.23179161,  1.59099146,  1.39629025,  1.91018783,  1.70507748,\n",
       "        1.19376594,  1.55855903,  1.43236779,  1.7566307 ,  1.74915973,\n",
       "        1.99548106,  1.03918449,  1.9624314 ,  1.94632499,  1.53506711,\n",
       "        1.76367332,  1.96387013,  1.55882055,  1.11562588,  1.18384294,\n",
       "        1.05144829,  1.49794882,  1.30434895,  1.5178456 ,  1.58019183,\n",
       "        1.99424301,  1.53096445,  1.85485168,  1.90120809,  1.96240394,\n",
       "        1.54055043,  1.67894101,  1.43198061,  3.67894101,  4.43198061])"
      ]
     },
     "execution_count": 70,
     "metadata": {},
     "output_type": "execute_result"
    }
   ],
   "source": [
    "counts = np.bincount(kmeans.labels_)\n",
    "print('number of repeats for each element: ',counts)\n",
    "print()\n",
    "\n",
    "print('list pos of least repeating element: ',np.argmin(counts))\n",
    "print()\n",
    "\n",
    "itemindex = np.where(kmeans.labels_==np.argmin(counts))\n",
    "print('index of least repeating element: ',itemindex)\n",
    "\n",
    "print()\n",
    "print((itemindex[0]),type(itemindex[0]))\n",
    "print()\n",
    "print((itemindex[0][0]), type(itemindex[0][0]))\n",
    "\n",
    "\n",
    "\n",
    "      \n",
    "elemToDel = 20 #itemindex[0][0]\n",
    "print(myX[elemToDel]) \n",
    "\n",
    "\n",
    "#myX = myX[0:x] U myX[x:len(myX)]\n",
    "\n",
    "\n",
    "\n",
    "print(myX[0:elemToDel])\n",
    "print()\n",
    "print(myX[elemToDel+1:myX.size])\n",
    "print()\n",
    "\n",
    "\n",
    "\n",
    "a =myX[0:elemToDel]\n",
    "b =myX[elemToDel+1:myX.size]\n",
    "\n",
    "\n",
    "myXX = np.append(a, b)\n",
    "myXX\n",
    "\n",
    "\n",
    "\n",
    "\n",
    "\n"
   ]
  },
  {
   "cell_type": "code",
   "execution_count": null,
   "metadata": {
    "collapsed": false
   },
   "outputs": [],
   "source": []
  },
  {
   "cell_type": "code",
   "execution_count": null,
   "metadata": {
    "collapsed": true
   },
   "outputs": [],
   "source": []
  },
  {
   "cell_type": "code",
   "execution_count": null,
   "metadata": {
    "collapsed": true
   },
   "outputs": [],
   "source": []
  },
  {
   "cell_type": "markdown",
   "metadata": {
    "deletable": true,
    "editable": true
   },
   "source": [
    "-----------------------------------------------------------------------------"
   ]
  },
  {
   "cell_type": "markdown",
   "metadata": {},
   "source": [
    "### [ below we have centent from 'k-means-clustering-with-scikit-learn'](https://stackabuse.com/k-means-clustering-with-scikit-learn/)"
   ]
  },
  {
   "cell_type": "code",
   "execution_count": 7,
   "metadata": {
    "collapsed": true,
    "deletable": true,
    "editable": true
   },
   "outputs": [],
   "source": [
    "import matplotlib.pyplot as plt  \n",
    "%matplotlib inline\n",
    "import numpy as np  \n",
    "from sklearn.cluster import KMeans  "
   ]
  },
  {
   "cell_type": "code",
   "execution_count": 8,
   "metadata": {
    "collapsed": true,
    "deletable": true,
    "editable": true
   },
   "outputs": [],
   "source": [
    "X = np.array([[5,3],  \n",
    "     [10,15],\n",
    "     [15,12],\n",
    "     [24,10],\n",
    "     [30,45],\n",
    "     [85,70],\n",
    "     [71,80],\n",
    "     [60,78],\n",
    "     [55,52],\n",
    "     [80,91],])"
   ]
  },
  {
   "cell_type": "code",
   "execution_count": 9,
   "metadata": {
    "collapsed": false
   },
   "outputs": [
    {
     "data": {
      "text/plain": [
       "<matplotlib.collections.PathCollection at 0x1407a2beb38>"
      ]
     },
     "execution_count": 9,
     "metadata": {},
     "output_type": "execute_result"
    },
    {
     "data": {
      "image/png": "[encoded data removed]",
      "text/plain": [
       "<matplotlib.figure.Figure at 0x14079d9fda0>"
      ]
     },
     "metadata": {},
     "output_type": "display_data"
    }
   ],
   "source": [
    "plt.scatter(X[:,0],X[:,1], label='True Position')  \n"
   ]
  },
  {
   "cell_type": "code",
   "execution_count": 10,
   "metadata": {
    "collapsed": false
   },
   "outputs": [
    {
     "name": "stdout",
     "output_type": "stream",
     "text": [
      "[[ 70.2  74.2]\n",
      " [ 16.8  17. ]]\n",
      "[1 1 1 1 1 0 0 0 0 0]\n"
     ]
    }
   ],
   "source": [
    "kmeans = KMeans(n_clusters=2)  \n",
    "kmeans.fit(X)  \n",
    "print(kmeans.cluster_centers_) \n",
    "print(kmeans.labels_)  \n",
    "\n",
    "\n",
    "\n"
   ]
  },
  {
   "cell_type": "code",
   "execution_count": 11,
   "metadata": {
    "collapsed": false
   },
   "outputs": [
    {
     "data": {
      "text/plain": [
       "<matplotlib.collections.PathCollection at 0x1407a77b6a0>"
      ]
     },
     "execution_count": 11,
     "metadata": {},
     "output_type": "execute_result"
    },
    {
     "data": {
      "image/png": "[encoded data removed]",
      "text/plain": [
       "<matplotlib.figure.Figure at 0x1407a291b70>"
      ]
     },
     "metadata": {},
     "output_type": "display_data"
    }
   ],
   "source": [
    "plt.scatter(X[:,0], X[:,1], c=kmeans.labels_, cmap='rainbow')  \n",
    "plt.scatter(kmeans.cluster_centers_[:,0] ,kmeans.cluster_centers_[:,1], color='black')  "
   ]
  },
  {
   "cell_type": "markdown",
   "metadata": {
    "deletable": true,
    "editable": true
   },
   "source": [
    "### [ below we have centent from 'python data science handbook'](https://jakevdp.github.io/PythonDataScienceHandbook/05.11-k-means.html)\n",
    "\n",
    "#### here I firgur out density clustering/DBSCAN"
   ]
  },
  {
   "cell_type": "code",
   "execution_count": null,
   "metadata": {
    "collapsed": true
   },
   "outputs": [],
   "source": []
  }
 ],
 "metadata": {
  "kernelspec": {
   "display_name": "Python 3",
   "language": "python",
   "name": "python3"
  },
  "language_info": {
   "codemirror_mode": {
    "name": "ipython",
    "version": 3
   },
   "file_extension": ".py",
   "mimetype": "text/x-python",
   "name": "python",
   "nbconvert_exporter": "python",
   "pygments_lexer": "ipython3",
   "version": "3.5.2"
  }
 },
 "nbformat": 4,
 "nbformat_minor": 2
}
