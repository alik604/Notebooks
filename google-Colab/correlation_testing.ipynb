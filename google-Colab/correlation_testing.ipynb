{
  "nbformat": 4,
  "nbformat_minor": 0,
  "metadata": {
    "colab": {
      "name": "correlation testing.ipynb",
      "version": "0.3.2",
      "provenance": [],
      "include_colab_link": true
    },
    "kernelspec": {
      "name": "python3",
      "display_name": "Python 3"
    },
    "accelerator": "GPU"
  },
  "cells": [
    {
      "cell_type": "markdown",
      "metadata": {
        "id": "view-in-github",
        "colab_type": "text"
      },
      "source": [
        "<a href=\"https://colab.research.google.com/github/alik604/Notebooks/blob/master/google-Colab/correlation_testing.ipynb\" target=\"_parent\"><img src=\"https://colab.research.google.com/assets/colab-badge.svg\" alt=\"Open In Colab\"/></a>"
      ]
    },
    {
      "cell_type": "code",
      "metadata": {
        "id": "m8SUlyW9xhdG",
        "colab_type": "code",
        "outputId": "41915dac-fe17-4f10-b99e-afdd1c4174ae",
        "colab": {
          "base_uri": "https://localhost:8080/",
          "height": 235
        }
      },
      "source": [
        "# Importing the libraries\n",
        "import math\n",
        "import scipy\n",
        "import numpy as np\n",
        "import pandas as pd\n",
        "\n",
        "import matplotlib.pyplot as plt\n",
        "plt.style.use('fivethirtyeight')\n",
        "from sklearn.metrics import mean_squared_error\n",
        "from sklearn import preprocessing\n",
        "\n",
        "!pip install fix-yahoo-finance\n",
        "import fix_yahoo_finance as yf\n"
      ],
      "execution_count": 0,
      "outputs": [
        {
          "output_type": "stream",
          "text": [
            "Requirement already satisfied: fix-yahoo-finance in /usr/local/lib/python3.6/dist-packages (0.0.22)\n",
            "Requirement already satisfied: multitasking in /usr/local/lib/python3.6/dist-packages (from fix-yahoo-finance) (0.0.9)\n",
            "Requirement already satisfied: numpy in /usr/local/lib/python3.6/dist-packages (from fix-yahoo-finance) (1.16.4)\n",
            "Requirement already satisfied: requests in /usr/local/lib/python3.6/dist-packages (from fix-yahoo-finance) (2.21.0)\n",
            "Requirement already satisfied: pandas in /usr/local/lib/python3.6/dist-packages (from fix-yahoo-finance) (0.24.2)\n",
            "Requirement already satisfied: urllib3<1.25,>=1.21.1 in /usr/local/lib/python3.6/dist-packages (from requests->fix-yahoo-finance) (1.24.3)\n",
            "Requirement already satisfied: certifi>=2017.4.17 in /usr/local/lib/python3.6/dist-packages (from requests->fix-yahoo-finance) (2019.6.16)\n",
            "Requirement already satisfied: chardet<3.1.0,>=3.0.2 in /usr/local/lib/python3.6/dist-packages (from requests->fix-yahoo-finance) (3.0.4)\n",
            "Requirement already satisfied: idna<2.9,>=2.5 in /usr/local/lib/python3.6/dist-packages (from requests->fix-yahoo-finance) (2.8)\n",
            "Requirement already satisfied: pytz>=2011k in /usr/local/lib/python3.6/dist-packages (from pandas->fix-yahoo-finance) (2018.9)\n",
            "Requirement already satisfied: python-dateutil>=2.5.0 in /usr/local/lib/python3.6/dist-packages (from pandas->fix-yahoo-finance) (2.5.3)\n",
            "Requirement already satisfied: six>=1.5 in /usr/local/lib/python3.6/dist-packages (from python-dateutil>=2.5.0->pandas->fix-yahoo-finance) (1.12.0)\n"
          ],
          "name": "stdout"
        }
      ]
    },
    {
      "cell_type": "code",
      "metadata": {
        "id": "pu3zopIPxn3Y",
        "colab_type": "code",
        "outputId": "edaa57ec-fbe3-4ab1-aec6-9071d48cb7e9",
        "colab": {
          "base_uri": "https://localhost:8080/",
          "height": 355
        }
      },
      "source": [
        "QQQ = yf.download('qqq',\"1990-1-1\").drop(columns=['Open','High', 'Low','Adj Close','Volume'])\n",
        "SPX = yf.download('spy',\"1990-1-1\").drop(columns=['Open','High', 'Low','Adj Close','Volume'])\n",
        "SPXL = yf.download('SPXL',\"1990-1-1\").drop(columns=['Open','High', 'Low','Adj Close','Volume'])\n",
        "GDX = yf.download('GDX',\"1990-1-1\").drop(columns=['Open','High', 'Low','Adj Close','Volume'])\n",
        "\n",
        "\n",
        "df = pd.DataFrame({\n",
        "    'SPX':SPX.Close,\n",
        "    'SPX_MA_3':SPX.Close.rolling(window=3).mean(),\n",
        "     'SPX_shift_3':SPX.Close.shift(periods= 3),\n",
        "    \n",
        "    'SPXL':SPXL.Close,\n",
        "    'QQQ':QQQ.Close,\n",
        "    'TQQQ':yf.download('TQQQ',\"1990-1-1\").drop(columns=['Open','High', 'Low','Adj Close','Volume']).Close,\n",
        "    'GDX':GDX.Close,\n",
        "    'GLD':yf.download('GLD',\"1990-1-1\").drop(columns=['Open','High', 'Low','Adj Close','Volume']).Close,\n",
        "    'GOLD':yf.download('XAU',\"1990-1-1\").drop(columns=['Open','High', 'Low','Adj Close','Volume']).Close\n",
        "})\n",
        "\n",
        "df = df.dropna()\n",
        "\n",
        "df.head()\n",
        "\n"
      ],
      "execution_count": 0,
      "outputs": [
        {
          "output_type": "stream",
          "text": [
            "[*********************100%***********************]  1 of 1 downloaded\n",
            "[*********************100%***********************]  1 of 1 downloaded\n",
            "[*********************100%***********************]  1 of 1 downloaded\n",
            "[*********************100%***********************]  1 of 1 downloaded\n",
            "[*********************100%***********************]  1 of 1 downloaded\n",
            "[*********************100%***********************]  1 of 1 downloaded\n",
            "[*********************100%***********************]  1 of 1 downloaded\n"
          ],
          "name": "stdout"
        },
        {
          "output_type": "execute_result",
          "data": {
            "text/html": [
              "<div>\n",
              "<style scoped>\n",
              "    .dataframe tbody tr th:only-of-type {\n",
              "        vertical-align: middle;\n",
              "    }\n",
              "\n",
              "    .dataframe tbody tr th {\n",
              "        vertical-align: top;\n",
              "    }\n",
              "\n",
              "    .dataframe thead th {\n",
              "        text-align: right;\n",
              "    }\n",
              "</style>\n",
              "<table border=\"1\" class=\"dataframe\">\n",
              "  <thead>\n",
              "    <tr style=\"text-align: right;\">\n",
              "      <th></th>\n",
              "      <th>SPX</th>\n",
              "      <th>SPX_MA_3</th>\n",
              "      <th>SPX_shift_3</th>\n",
              "      <th>SPXL</th>\n",
              "      <th>QQQ</th>\n",
              "      <th>TQQQ</th>\n",
              "      <th>GDX</th>\n",
              "      <th>GLD</th>\n",
              "      <th>GOLD</th>\n",
              "    </tr>\n",
              "    <tr>\n",
              "      <th>Date</th>\n",
              "      <th></th>\n",
              "      <th></th>\n",
              "      <th></th>\n",
              "      <th></th>\n",
              "      <th></th>\n",
              "      <th></th>\n",
              "      <th></th>\n",
              "      <th></th>\n",
              "      <th></th>\n",
              "    </tr>\n",
              "  </thead>\n",
              "  <tbody>\n",
              "    <tr>\n",
              "      <th>2013-02-26</th>\n",
              "      <td>150.020004</td>\n",
              "      <td>150.303334</td>\n",
              "      <td>150.419998</td>\n",
              "      <td>8.460000</td>\n",
              "      <td>66.559998</td>\n",
              "      <td>4.550833</td>\n",
              "      <td>39.049999</td>\n",
              "      <td>156.220001</td>\n",
              "      <td>0.13</td>\n",
              "    </tr>\n",
              "    <tr>\n",
              "      <th>2013-02-27</th>\n",
              "      <td>151.910004</td>\n",
              "      <td>150.310003</td>\n",
              "      <td>151.889999</td>\n",
              "      <td>8.773334</td>\n",
              "      <td>67.239998</td>\n",
              "      <td>4.689167</td>\n",
              "      <td>38.259998</td>\n",
              "      <td>154.570007</td>\n",
              "      <td>0.13</td>\n",
              "    </tr>\n",
              "    <tr>\n",
              "      <th>2013-02-28</th>\n",
              "      <td>151.610001</td>\n",
              "      <td>151.180003</td>\n",
              "      <td>149.000000</td>\n",
              "      <td>8.700000</td>\n",
              "      <td>67.099998</td>\n",
              "      <td>4.671667</td>\n",
              "      <td>37.400002</td>\n",
              "      <td>153.000000</td>\n",
              "      <td>0.13</td>\n",
              "    </tr>\n",
              "    <tr>\n",
              "      <th>2013-03-01</th>\n",
              "      <td>152.110001</td>\n",
              "      <td>151.876669</td>\n",
              "      <td>150.020004</td>\n",
              "      <td>8.818334</td>\n",
              "      <td>67.379997</td>\n",
              "      <td>4.720000</td>\n",
              "      <td>37.110001</td>\n",
              "      <td>152.440002</td>\n",
              "      <td>0.13</td>\n",
              "    </tr>\n",
              "    <tr>\n",
              "      <th>2013-03-04</th>\n",
              "      <td>152.919998</td>\n",
              "      <td>152.213333</td>\n",
              "      <td>151.910004</td>\n",
              "      <td>8.949166</td>\n",
              "      <td>67.680000</td>\n",
              "      <td>4.780833</td>\n",
              "      <td>35.910000</td>\n",
              "      <td>152.300003</td>\n",
              "      <td>0.10</td>\n",
              "    </tr>\n",
              "  </tbody>\n",
              "</table>\n",
              "</div>"
            ],
            "text/plain": [
              "                   SPX    SPX_MA_3  SPX_shift_3  ...        GDX         GLD  GOLD\n",
              "Date                                             ...                             \n",
              "2013-02-26  150.020004  150.303334   150.419998  ...  39.049999  156.220001  0.13\n",
              "2013-02-27  151.910004  150.310003   151.889999  ...  38.259998  154.570007  0.13\n",
              "2013-02-28  151.610001  151.180003   149.000000  ...  37.400002  153.000000  0.13\n",
              "2013-03-01  152.110001  151.876669   150.020004  ...  37.110001  152.440002  0.13\n",
              "2013-03-04  152.919998  152.213333   151.910004  ...  35.910000  152.300003  0.10\n",
              "\n",
              "[5 rows x 9 columns]"
            ]
          },
          "metadata": {
            "tags": []
          },
          "execution_count": 31
        }
      ]
    },
    {
      "cell_type": "code",
      "metadata": {
        "id": "PT0OoLHQ6Da2",
        "colab_type": "code",
        "outputId": "334c69ab-a460-4ae3-e1fd-d4cffcbd1915",
        "colab": {
          "base_uri": "https://localhost:8080/",
          "height": 35
        }
      },
      "source": [
        "mse = mean_squared_error(df.SPX, df.QQQ)\n",
        "mse"
      ],
      "execution_count": 0,
      "outputs": [
        {
          "output_type": "execute_result",
          "data": {
            "text/plain": [
              "9758.608698251202"
            ]
          },
          "metadata": {
            "tags": []
          },
          "execution_count": 32
        }
      ]
    },
    {
      "cell_type": "code",
      "metadata": {
        "id": "GiKYDPtK6Ddt",
        "colab_type": "code",
        "outputId": "749361bb-c8d4-44e5-9a66-012db3208583",
        "colab": {
          "base_uri": "https://localhost:8080/",
          "height": 228
        }
      },
      "source": [
        "norm_df=(df-df.min())/(df.max()-df.min())\n",
        "norm_df.head()"
      ],
      "execution_count": 0,
      "outputs": [
        {
          "output_type": "execute_result",
          "data": {
            "text/html": [
              "<div>\n",
              "<style scoped>\n",
              "    .dataframe tbody tr th:only-of-type {\n",
              "        vertical-align: middle;\n",
              "    }\n",
              "\n",
              "    .dataframe tbody tr th {\n",
              "        vertical-align: top;\n",
              "    }\n",
              "\n",
              "    .dataframe thead th {\n",
              "        text-align: right;\n",
              "    }\n",
              "</style>\n",
              "<table border=\"1\" class=\"dataframe\">\n",
              "  <thead>\n",
              "    <tr style=\"text-align: right;\">\n",
              "      <th></th>\n",
              "      <th>SPX</th>\n",
              "      <th>SPX_MA_3</th>\n",
              "      <th>SPX_shift_3</th>\n",
              "      <th>SPXL</th>\n",
              "      <th>QQQ</th>\n",
              "      <th>TQQQ</th>\n",
              "      <th>GDX</th>\n",
              "      <th>GLD</th>\n",
              "      <th>GOLD</th>\n",
              "    </tr>\n",
              "    <tr>\n",
              "      <th>Date</th>\n",
              "      <th></th>\n",
              "      <th></th>\n",
              "      <th></th>\n",
              "      <th></th>\n",
              "      <th></th>\n",
              "      <th></th>\n",
              "      <th></th>\n",
              "      <th></th>\n",
              "      <th></th>\n",
              "    </tr>\n",
              "  </thead>\n",
              "  <tbody>\n",
              "    <tr>\n",
              "      <th>2013-02-26</th>\n",
              "      <td>0.000000</td>\n",
              "      <td>0.000000</td>\n",
              "      <td>0.010573</td>\n",
              "      <td>0.000000</td>\n",
              "      <td>0.000000</td>\n",
              "      <td>0.000000</td>\n",
              "      <td>1.000000</td>\n",
              "      <td>0.999453</td>\n",
              "      <td>0.006984</td>\n",
              "    </tr>\n",
              "    <tr>\n",
              "      <th>2013-02-27</th>\n",
              "      <td>0.013840</td>\n",
              "      <td>0.000050</td>\n",
              "      <td>0.021519</td>\n",
              "      <td>0.006809</td>\n",
              "      <td>0.006515</td>\n",
              "      <td>0.002465</td>\n",
              "      <td>0.970278</td>\n",
              "      <td>0.969360</td>\n",
              "      <td>0.006984</td>\n",
              "    </tr>\n",
              "    <tr>\n",
              "      <th>2013-02-28</th>\n",
              "      <td>0.011643</td>\n",
              "      <td>0.006516</td>\n",
              "      <td>0.000000</td>\n",
              "      <td>0.005215</td>\n",
              "      <td>0.005174</td>\n",
              "      <td>0.002153</td>\n",
              "      <td>0.937923</td>\n",
              "      <td>0.940726</td>\n",
              "      <td>0.006984</td>\n",
              "    </tr>\n",
              "    <tr>\n",
              "      <th>2013-03-01</th>\n",
              "      <td>0.015305</td>\n",
              "      <td>0.011693</td>\n",
              "      <td>0.007595</td>\n",
              "      <td>0.007786</td>\n",
              "      <td>0.007857</td>\n",
              "      <td>0.003015</td>\n",
              "      <td>0.927013</td>\n",
              "      <td>0.930513</td>\n",
              "      <td>0.006984</td>\n",
              "    </tr>\n",
              "    <tr>\n",
              "      <th>2013-03-04</th>\n",
              "      <td>0.021236</td>\n",
              "      <td>0.014195</td>\n",
              "      <td>0.021668</td>\n",
              "      <td>0.010629</td>\n",
              "      <td>0.010731</td>\n",
              "      <td>0.004099</td>\n",
              "      <td>0.881866</td>\n",
              "      <td>0.927959</td>\n",
              "      <td>0.003175</td>\n",
              "    </tr>\n",
              "  </tbody>\n",
              "</table>\n",
              "</div>"
            ],
            "text/plain": [
              "                 SPX  SPX_MA_3  SPX_shift_3  ...       GDX       GLD      GOLD\n",
              "Date                                         ...                              \n",
              "2013-02-26  0.000000  0.000000     0.010573  ...  1.000000  0.999453  0.006984\n",
              "2013-02-27  0.013840  0.000050     0.021519  ...  0.970278  0.969360  0.006984\n",
              "2013-02-28  0.011643  0.006516     0.000000  ...  0.937923  0.940726  0.006984\n",
              "2013-03-01  0.015305  0.011693     0.007595  ...  0.927013  0.930513  0.006984\n",
              "2013-03-04  0.021236  0.014195     0.021668  ...  0.881866  0.927959  0.003175\n",
              "\n",
              "[5 rows x 9 columns]"
            ]
          },
          "metadata": {
            "tags": []
          },
          "execution_count": 33
        }
      ]
    },
    {
      "cell_type": "code",
      "metadata": {
        "id": "CRZYzytO6Dg0",
        "colab_type": "code",
        "outputId": "d7e98996-98ea-431c-8439-2c3dabf09e0f",
        "colab": {
          "base_uri": "https://localhost:8080/",
          "height": 35
        }
      },
      "source": [
        "mse = mean_squared_error(norm_df.SPX, norm_df.GLD)\n",
        "mse"
      ],
      "execution_count": 0,
      "outputs": [
        {
          "output_type": "execute_result",
          "data": {
            "text/plain": [
              "0.11123244315793719"
            ]
          },
          "metadata": {
            "tags": []
          },
          "execution_count": 34
        }
      ]
    },
    {
      "cell_type": "code",
      "metadata": {
        "id": "oMidTpywW8qE",
        "colab_type": "code",
        "colab": {}
      },
      "source": [
        ""
      ],
      "execution_count": 0,
      "outputs": []
    },
    {
      "cell_type": "code",
      "metadata": {
        "id": "S3XNxVzjVzQu",
        "colab_type": "code",
        "outputId": "520543d9-7fab-4522-8646-5a1d4a8b3f9a",
        "colab": {
          "base_uri": "https://localhost:8080/",
          "height": 318
        }
      },
      "source": [
        "def get_mse_df(df=df):\n",
        "  Matrix = [[round(mean_squared_error(df.iloc[:, row],df.iloc[:, col]),6) for row in range(df.columns.size)] for col in range(df.columns.size)] \n",
        "  cols = df.columns\n",
        "\n",
        "  mse_df = pd.DataFrame(Matrix, columns=cols, index=cols)\n",
        "  return mse_df\n",
        "\n",
        "mse_df=get_mse_df(norm_df)\n",
        "mse_df"
      ],
      "execution_count": 0,
      "outputs": [
        {
          "output_type": "execute_result",
          "data": {
            "text/html": [
              "<div>\n",
              "<style scoped>\n",
              "    .dataframe tbody tr th:only-of-type {\n",
              "        vertical-align: middle;\n",
              "    }\n",
              "\n",
              "    .dataframe tbody tr th {\n",
              "        vertical-align: top;\n",
              "    }\n",
              "\n",
              "    .dataframe thead th {\n",
              "        text-align: right;\n",
              "    }\n",
              "</style>\n",
              "<table border=\"1\" class=\"dataframe\">\n",
              "  <thead>\n",
              "    <tr style=\"text-align: right;\">\n",
              "      <th></th>\n",
              "      <th>SPX</th>\n",
              "      <th>SPX_MA_3</th>\n",
              "      <th>SPX_shift_3</th>\n",
              "      <th>SPXL</th>\n",
              "      <th>QQQ</th>\n",
              "      <th>TQQQ</th>\n",
              "      <th>GDX</th>\n",
              "      <th>GLD</th>\n",
              "      <th>GOLD</th>\n",
              "    </tr>\n",
              "  </thead>\n",
              "  <tbody>\n",
              "    <tr>\n",
              "      <th>SPX</th>\n",
              "      <td>0.000000</td>\n",
              "      <td>0.000077</td>\n",
              "      <td>0.000455</td>\n",
              "      <td>0.011680</td>\n",
              "      <td>0.001329</td>\n",
              "      <td>0.025578</td>\n",
              "      <td>0.102667</td>\n",
              "      <td>0.111232</td>\n",
              "      <td>0.048699</td>\n",
              "    </tr>\n",
              "    <tr>\n",
              "      <th>SPX_MA_3</th>\n",
              "      <td>0.000077</td>\n",
              "      <td>0.000000</td>\n",
              "      <td>0.000243</td>\n",
              "      <td>0.012482</td>\n",
              "      <td>0.001358</td>\n",
              "      <td>0.026658</td>\n",
              "      <td>0.104462</td>\n",
              "      <td>0.113378</td>\n",
              "      <td>0.049331</td>\n",
              "    </tr>\n",
              "    <tr>\n",
              "      <th>SPX_shift_3</th>\n",
              "      <td>0.000455</td>\n",
              "      <td>0.000243</td>\n",
              "      <td>0.000000</td>\n",
              "      <td>0.014676</td>\n",
              "      <td>0.001927</td>\n",
              "      <td>0.029639</td>\n",
              "      <td>0.104974</td>\n",
              "      <td>0.114514</td>\n",
              "      <td>0.051065</td>\n",
              "    </tr>\n",
              "    <tr>\n",
              "      <th>SPXL</th>\n",
              "      <td>0.011680</td>\n",
              "      <td>0.012482</td>\n",
              "      <td>0.014676</td>\n",
              "      <td>0.000000</td>\n",
              "      <td>0.010130</td>\n",
              "      <td>0.003093</td>\n",
              "      <td>0.100835</td>\n",
              "      <td>0.099324</td>\n",
              "      <td>0.041748</td>\n",
              "    </tr>\n",
              "    <tr>\n",
              "      <th>QQQ</th>\n",
              "      <td>0.001329</td>\n",
              "      <td>0.001358</td>\n",
              "      <td>0.001927</td>\n",
              "      <td>0.010130</td>\n",
              "      <td>0.000000</td>\n",
              "      <td>0.021252</td>\n",
              "      <td>0.114938</td>\n",
              "      <td>0.121680</td>\n",
              "      <td>0.043342</td>\n",
              "    </tr>\n",
              "    <tr>\n",
              "      <th>TQQQ</th>\n",
              "      <td>0.025578</td>\n",
              "      <td>0.026658</td>\n",
              "      <td>0.029639</td>\n",
              "      <td>0.003093</td>\n",
              "      <td>0.021252</td>\n",
              "      <td>0.000000</td>\n",
              "      <td>0.113725</td>\n",
              "      <td>0.106553</td>\n",
              "      <td>0.044142</td>\n",
              "    </tr>\n",
              "    <tr>\n",
              "      <th>GDX</th>\n",
              "      <td>0.102667</td>\n",
              "      <td>0.104462</td>\n",
              "      <td>0.104974</td>\n",
              "      <td>0.100835</td>\n",
              "      <td>0.114938</td>\n",
              "      <td>0.113725</td>\n",
              "      <td>0.000000</td>\n",
              "      <td>0.005406</td>\n",
              "      <td>0.152939</td>\n",
              "    </tr>\n",
              "    <tr>\n",
              "      <th>GLD</th>\n",
              "      <td>0.111232</td>\n",
              "      <td>0.113378</td>\n",
              "      <td>0.114514</td>\n",
              "      <td>0.099324</td>\n",
              "      <td>0.121680</td>\n",
              "      <td>0.106553</td>\n",
              "      <td>0.005406</td>\n",
              "      <td>0.000000</td>\n",
              "      <td>0.152822</td>\n",
              "    </tr>\n",
              "    <tr>\n",
              "      <th>GOLD</th>\n",
              "      <td>0.048699</td>\n",
              "      <td>0.049331</td>\n",
              "      <td>0.051065</td>\n",
              "      <td>0.041748</td>\n",
              "      <td>0.043342</td>\n",
              "      <td>0.044142</td>\n",
              "      <td>0.152939</td>\n",
              "      <td>0.152822</td>\n",
              "      <td>0.000000</td>\n",
              "    </tr>\n",
              "  </tbody>\n",
              "</table>\n",
              "</div>"
            ],
            "text/plain": [
              "                  SPX  SPX_MA_3  SPX_shift_3  ...       GDX       GLD      GOLD\n",
              "SPX          0.000000  0.000077     0.000455  ...  0.102667  0.111232  0.048699\n",
              "SPX_MA_3     0.000077  0.000000     0.000243  ...  0.104462  0.113378  0.049331\n",
              "SPX_shift_3  0.000455  0.000243     0.000000  ...  0.104974  0.114514  0.051065\n",
              "SPXL         0.011680  0.012482     0.014676  ...  0.100835  0.099324  0.041748\n",
              "QQQ          0.001329  0.001358     0.001927  ...  0.114938  0.121680  0.043342\n",
              "TQQQ         0.025578  0.026658     0.029639  ...  0.113725  0.106553  0.044142\n",
              "GDX          0.102667  0.104462     0.104974  ...  0.000000  0.005406  0.152939\n",
              "GLD          0.111232  0.113378     0.114514  ...  0.005406  0.000000  0.152822\n",
              "GOLD         0.048699  0.049331     0.051065  ...  0.152939  0.152822  0.000000\n",
              "\n",
              "[9 rows x 9 columns]"
            ]
          },
          "metadata": {
            "tags": []
          },
          "execution_count": 35
        }
      ]
    },
    {
      "cell_type": "code",
      "metadata": {
        "id": "P6AGCPWk6Dju",
        "colab_type": "code",
        "outputId": "6eb4a0f2-f242-498d-8526-3e5afbf2677c",
        "colab": {
          "base_uri": "https://localhost:8080/",
          "height": 318
        }
      },
      "source": [
        "norm_df.corr()"
      ],
      "execution_count": 0,
      "outputs": [
        {
          "output_type": "execute_result",
          "data": {
            "text/html": [
              "<div>\n",
              "<style scoped>\n",
              "    .dataframe tbody tr th:only-of-type {\n",
              "        vertical-align: middle;\n",
              "    }\n",
              "\n",
              "    .dataframe tbody tr th {\n",
              "        vertical-align: top;\n",
              "    }\n",
              "\n",
              "    .dataframe thead th {\n",
              "        text-align: right;\n",
              "    }\n",
              "</style>\n",
              "<table border=\"1\" class=\"dataframe\">\n",
              "  <thead>\n",
              "    <tr style=\"text-align: right;\">\n",
              "      <th></th>\n",
              "      <th>SPX</th>\n",
              "      <th>SPX_MA_3</th>\n",
              "      <th>SPX_shift_3</th>\n",
              "      <th>SPXL</th>\n",
              "      <th>QQQ</th>\n",
              "      <th>TQQQ</th>\n",
              "      <th>GDX</th>\n",
              "      <th>GLD</th>\n",
              "      <th>GOLD</th>\n",
              "    </tr>\n",
              "  </thead>\n",
              "  <tbody>\n",
              "    <tr>\n",
              "      <th>SPX</th>\n",
              "      <td>1.000000</td>\n",
              "      <td>0.999417</td>\n",
              "      <td>0.996906</td>\n",
              "      <td>0.988330</td>\n",
              "      <td>0.993280</td>\n",
              "      <td>0.969431</td>\n",
              "      <td>-0.288655</td>\n",
              "      <td>-0.394475</td>\n",
              "      <td>0.728615</td>\n",
              "    </tr>\n",
              "    <tr>\n",
              "      <th>SPX_MA_3</th>\n",
              "      <td>0.999417</td>\n",
              "      <td>1.000000</td>\n",
              "      <td>0.998349</td>\n",
              "      <td>0.987546</td>\n",
              "      <td>0.993124</td>\n",
              "      <td>0.968876</td>\n",
              "      <td>-0.289975</td>\n",
              "      <td>-0.395988</td>\n",
              "      <td>0.729595</td>\n",
              "    </tr>\n",
              "    <tr>\n",
              "      <th>SPX_shift_3</th>\n",
              "      <td>0.996906</td>\n",
              "      <td>0.998349</td>\n",
              "      <td>1.000000</td>\n",
              "      <td>0.984383</td>\n",
              "      <td>0.991680</td>\n",
              "      <td>0.966254</td>\n",
              "      <td>-0.295113</td>\n",
              "      <td>-0.400761</td>\n",
              "      <td>0.731198</td>\n",
              "    </tr>\n",
              "    <tr>\n",
              "      <th>SPXL</th>\n",
              "      <td>0.988330</td>\n",
              "      <td>0.987546</td>\n",
              "      <td>0.984383</td>\n",
              "      <td>1.000000</td>\n",
              "      <td>0.983047</td>\n",
              "      <td>0.991467</td>\n",
              "      <td>-0.230716</td>\n",
              "      <td>-0.310717</td>\n",
              "      <td>0.692597</td>\n",
              "    </tr>\n",
              "    <tr>\n",
              "      <th>QQQ</th>\n",
              "      <td>0.993280</td>\n",
              "      <td>0.993124</td>\n",
              "      <td>0.991680</td>\n",
              "      <td>0.983047</td>\n",
              "      <td>1.000000</td>\n",
              "      <td>0.976702</td>\n",
              "      <td>-0.307834</td>\n",
              "      <td>-0.398970</td>\n",
              "      <td>0.752597</td>\n",
              "    </tr>\n",
              "    <tr>\n",
              "      <th>TQQQ</th>\n",
              "      <td>0.969431</td>\n",
              "      <td>0.968876</td>\n",
              "      <td>0.966254</td>\n",
              "      <td>0.991467</td>\n",
              "      <td>0.976702</td>\n",
              "      <td>1.000000</td>\n",
              "      <td>-0.229470</td>\n",
              "      <td>-0.281733</td>\n",
              "      <td>0.690702</td>\n",
              "    </tr>\n",
              "    <tr>\n",
              "      <th>GDX</th>\n",
              "      <td>-0.288655</td>\n",
              "      <td>-0.289975</td>\n",
              "      <td>-0.295113</td>\n",
              "      <td>-0.230716</td>\n",
              "      <td>-0.307834</td>\n",
              "      <td>-0.229470</td>\n",
              "      <td>1.000000</td>\n",
              "      <td>0.934826</td>\n",
              "      <td>-0.335085</td>\n",
              "    </tr>\n",
              "    <tr>\n",
              "      <th>GLD</th>\n",
              "      <td>-0.394475</td>\n",
              "      <td>-0.395988</td>\n",
              "      <td>-0.400761</td>\n",
              "      <td>-0.310717</td>\n",
              "      <td>-0.398970</td>\n",
              "      <td>-0.281733</td>\n",
              "      <td>0.934826</td>\n",
              "      <td>1.000000</td>\n",
              "      <td>-0.414332</td>\n",
              "    </tr>\n",
              "    <tr>\n",
              "      <th>GOLD</th>\n",
              "      <td>0.728615</td>\n",
              "      <td>0.729595</td>\n",
              "      <td>0.731198</td>\n",
              "      <td>0.692597</td>\n",
              "      <td>0.752597</td>\n",
              "      <td>0.690702</td>\n",
              "      <td>-0.335085</td>\n",
              "      <td>-0.414332</td>\n",
              "      <td>1.000000</td>\n",
              "    </tr>\n",
              "  </tbody>\n",
              "</table>\n",
              "</div>"
            ],
            "text/plain": [
              "                  SPX  SPX_MA_3  SPX_shift_3  ...       GDX       GLD      GOLD\n",
              "SPX          1.000000  0.999417     0.996906  ... -0.288655 -0.394475  0.728615\n",
              "SPX_MA_3     0.999417  1.000000     0.998349  ... -0.289975 -0.395988  0.729595\n",
              "SPX_shift_3  0.996906  0.998349     1.000000  ... -0.295113 -0.400761  0.731198\n",
              "SPXL         0.988330  0.987546     0.984383  ... -0.230716 -0.310717  0.692597\n",
              "QQQ          0.993280  0.993124     0.991680  ... -0.307834 -0.398970  0.752597\n",
              "TQQQ         0.969431  0.968876     0.966254  ... -0.229470 -0.281733  0.690702\n",
              "GDX         -0.288655 -0.289975    -0.295113  ...  1.000000  0.934826 -0.335085\n",
              "GLD         -0.394475 -0.395988    -0.400761  ...  0.934826  1.000000 -0.414332\n",
              "GOLD         0.728615  0.729595     0.731198  ... -0.335085 -0.414332  1.000000\n",
              "\n",
              "[9 rows x 9 columns]"
            ]
          },
          "metadata": {
            "tags": []
          },
          "execution_count": 36
        }
      ]
    },
    {
      "cell_type": "code",
      "metadata": {
        "id": "uJrKf-ZB6DnN",
        "colab_type": "code",
        "colab": {}
      },
      "source": [
        "from statsmodels.tsa.stattools import grangercausalitytests"
      ],
      "execution_count": 0,
      "outputs": []
    },
    {
      "cell_type": "code",
      "metadata": {
        "id": "r7Nzgx92VjKS",
        "colab_type": "code",
        "outputId": "7edff9c2-d554-4521-b769-a51686e14678",
        "colab": {
          "base_uri": "https://localhost:8080/",
          "height": 654
        }
      },
      "source": [
        "gc_res = grangercausalitytests(norm_df[['SPX', 'SPX_MA_3']],5)"
      ],
      "execution_count": 0,
      "outputs": [
        {
          "output_type": "stream",
          "text": [
            "\n",
            "Granger Causality\n",
            "number of lags (no zero) 1\n",
            "ssr based F test:         F=0.0028  , p=0.9575  , df_denom=1004, df_num=1\n",
            "ssr based chi2 test:   chi2=0.0029  , p=0.9574  , df=1\n",
            "likelihood ratio test: chi2=0.0029  , p=0.9574  , df=1\n",
            "parameter F test:         F=0.0028  , p=0.9575  , df_denom=1004, df_num=1\n",
            "\n",
            "Granger Causality\n",
            "number of lags (no zero) 2\n",
            "ssr based F test:         F=0.6852  , p=0.5042  , df_denom=1001, df_num=2\n",
            "ssr based chi2 test:   chi2=1.3772  , p=0.5023  , df=2\n",
            "likelihood ratio test: chi2=1.3763  , p=0.5025  , df=2\n",
            "parameter F test:         F=0.6852  , p=0.5042  , df_denom=1001, df_num=2\n",
            "\n",
            "Granger Causality\n",
            "number of lags (no zero) 3\n",
            "ssr based F test:         F=2.3482  , p=0.0712  , df_denom=998, df_num=3\n",
            "ssr based chi2 test:   chi2=7.0942  , p=0.0690  , df=3\n",
            "likelihood ratio test: chi2=7.0692  , p=0.0697  , df=3\n",
            "parameter F test:         F=2.3482  , p=0.0712  , df_denom=998, df_num=3\n",
            "\n",
            "Granger Causality\n",
            "number of lags (no zero) 4\n",
            "ssr based F test:         F=1.5887  , p=0.1751  , df_denom=995, df_num=4\n",
            "ssr based chi2 test:   chi2=6.4124  , p=0.1704  , df=4\n",
            "likelihood ratio test: chi2=6.3920  , p=0.1717  , df=4\n",
            "parameter F test:         F=1.5887  , p=0.1751  , df_denom=995, df_num=4\n",
            "\n",
            "Granger Causality\n",
            "number of lags (no zero) 5\n",
            "ssr based F test:         F=1.5181  , p=0.1814  , df_denom=992, df_num=5\n",
            "ssr based chi2 test:   chi2=7.6748  , p=0.1751  , df=5\n",
            "likelihood ratio test: chi2=7.6456  , p=0.1769  , df=5\n",
            "parameter F test:         F=1.5181  , p=0.1814  , df_denom=992, df_num=5\n"
          ],
          "name": "stdout"
        }
      ]
    },
    {
      "cell_type": "code",
      "metadata": {
        "id": "J90UYuGu9mpd",
        "colab_type": "code",
        "outputId": "353d240a-ccb1-44bf-e540-5f7bfd3645fd",
        "colab": {
          "base_uri": "https://localhost:8080/",
          "height": 654
        }
      },
      "source": [
        "gc_res = grangercausalitytests(norm_df[['SPX', 'SPX_shift_3']],5)"
      ],
      "execution_count": 0,
      "outputs": [
        {
          "output_type": "stream",
          "text": [
            "\n",
            "Granger Causality\n",
            "number of lags (no zero) 1\n",
            "ssr based F test:         F=0.0221  , p=0.8818  , df_denom=1004, df_num=1\n",
            "ssr based chi2 test:   chi2=0.0222  , p=0.8816  , df=1\n",
            "likelihood ratio test: chi2=0.0222  , p=0.8816  , df=1\n",
            "parameter F test:         F=0.0221  , p=0.8818  , df_denom=1004, df_num=1\n",
            "\n",
            "Granger Causality\n",
            "number of lags (no zero) 2\n",
            "ssr based F test:         F=5.2319  , p=0.0055  , df_denom=1001, df_num=2\n",
            "ssr based chi2 test:   chi2=10.5160 , p=0.0052  , df=2\n",
            "likelihood ratio test: chi2=10.4614 , p=0.0053  , df=2\n",
            "parameter F test:         F=5.2319  , p=0.0055  , df_denom=1001, df_num=2\n",
            "\n",
            "Granger Causality\n",
            "number of lags (no zero) 3\n",
            "ssr based F test:         F=3.9166  , p=0.0085  , df_denom=998, df_num=3\n",
            "ssr based chi2 test:   chi2=11.8323 , p=0.0080  , df=3\n",
            "likelihood ratio test: chi2=11.7632 , p=0.0082  , df=3\n",
            "parameter F test:         F=3.9166  , p=0.0085  , df_denom=998, df_num=3\n",
            "\n",
            "Granger Causality\n",
            "number of lags (no zero) 4\n",
            "ssr based F test:         F=3.2323  , p=0.0120  , df_denom=995, df_num=4\n",
            "ssr based chi2 test:   chi2=13.0463 , p=0.0111  , df=4\n",
            "likelihood ratio test: chi2=12.9622 , p=0.0115  , df=4\n",
            "parameter F test:         F=3.2323  , p=0.0120  , df_denom=995, df_num=4\n",
            "\n",
            "Granger Causality\n",
            "number of lags (no zero) 5\n",
            "ssr based F test:         F=1.5728  , p=0.1650  , df_denom=992, df_num=5\n",
            "ssr based chi2 test:   chi2=7.9510  , p=0.1590  , df=5\n",
            "likelihood ratio test: chi2=7.9197  , p=0.1607  , df=5\n",
            "parameter F test:         F=1.5728  , p=0.1650  , df_denom=992, df_num=5\n"
          ],
          "name": "stdout"
        }
      ]
    },
    {
      "cell_type": "code",
      "metadata": {
        "id": "gM3Mfnn1VjNK",
        "colab_type": "code",
        "outputId": "562edaf6-5025-4344-ba7f-0a7b7ac25bf7",
        "colab": {
          "base_uri": "https://localhost:8080/",
          "height": 654
        }
      },
      "source": [
        "gc_res = grangercausalitytests(norm_df[['SPX', 'SPXL']],5)"
      ],
      "execution_count": 0,
      "outputs": [
        {
          "output_type": "stream",
          "text": [
            "\n",
            "Granger Causality\n",
            "number of lags (no zero) 1\n",
            "ssr based F test:         F=1.7187  , p=0.1902  , df_denom=1004, df_num=1\n",
            "ssr based chi2 test:   chi2=1.7239  , p=0.1892  , df=1\n",
            "likelihood ratio test: chi2=1.7224  , p=0.1894  , df=1\n",
            "parameter F test:         F=1.7187  , p=0.1902  , df_denom=1004, df_num=1\n",
            "\n",
            "Granger Causality\n",
            "number of lags (no zero) 2\n",
            "ssr based F test:         F=0.7769  , p=0.4601  , df_denom=1001, df_num=2\n",
            "ssr based chi2 test:   chi2=1.5616  , p=0.4580  , df=2\n",
            "likelihood ratio test: chi2=1.5604  , p=0.4583  , df=2\n",
            "parameter F test:         F=0.7769  , p=0.4601  , df_denom=1001, df_num=2\n",
            "\n",
            "Granger Causality\n",
            "number of lags (no zero) 3\n",
            "ssr based F test:         F=0.7901  , p=0.4995  , df_denom=998, df_num=3\n",
            "ssr based chi2 test:   chi2=2.3870  , p=0.4961  , df=3\n",
            "likelihood ratio test: chi2=2.3842  , p=0.4966  , df=3\n",
            "parameter F test:         F=0.7901  , p=0.4995  , df_denom=998, df_num=3\n",
            "\n",
            "Granger Causality\n",
            "number of lags (no zero) 4\n",
            "ssr based F test:         F=0.6042  , p=0.6597  , df_denom=995, df_num=4\n",
            "ssr based chi2 test:   chi2=2.4387  , p=0.6556  , df=4\n",
            "likelihood ratio test: chi2=2.4358  , p=0.6562  , df=4\n",
            "parameter F test:         F=0.6042  , p=0.6597  , df_denom=995, df_num=4\n",
            "\n",
            "Granger Causality\n",
            "number of lags (no zero) 5\n",
            "ssr based F test:         F=0.5054  , p=0.7724  , df_denom=992, df_num=5\n",
            "ssr based chi2 test:   chi2=2.5549  , p=0.7682  , df=5\n",
            "likelihood ratio test: chi2=2.5517  , p=0.7687  , df=5\n",
            "parameter F test:         F=0.5054  , p=0.7724  , df_denom=992, df_num=5\n"
          ],
          "name": "stdout"
        }
      ]
    },
    {
      "cell_type": "code",
      "metadata": {
        "id": "KKebZsTFVjPj",
        "colab_type": "code",
        "outputId": "02a187d3-5035-4ef2-99bb-3a0abada9a1f",
        "colab": {
          "base_uri": "https://localhost:8080/",
          "height": 590
        }
      },
      "source": [
        "from statsmodels.graphics.tsaplots import plot_acf\n",
        "plot_acf(df.SPX_shift_3,lags=3)\n",
        "plt.show()"
      ],
      "execution_count": 0,
      "outputs": [
        {
          "output_type": "execute_result",
          "data": {
            "image/png": "[encoded data removed]",
            "text/plain": [
              "<Figure size 432x288 with 1 Axes>"
            ]
          },
          "metadata": {
            "tags": []
          },
          "execution_count": 51
        },
        {
          "output_type": "display_data",
          "data": {
            "image/png": "[encoded data removed]",
            "text/plain": [
              "<Figure size 432x288 with 1 Axes>"
            ]
          },
          "metadata": {
            "tags": []
          }
        }
      ]
    },
    {
      "cell_type": "code",
      "metadata": {
        "id": "_Q32fr066DqN",
        "colab_type": "code",
        "outputId": "c2253f9a-007a-4b7d-944b-6c5115f10018",
        "colab": {
          "base_uri": "https://localhost:8080/",
          "height": 301
        }
      },
      "source": [
        "x =scipy.signal.correlate(df.SPX,df.SPX_shift_3,mode='same')/len(df.SPX) # https://docs.scipy.org/doc/numpy-1.13.0/reference/generated/numpy.correlate.html\n",
        "\n",
        "x=pd.DataFrame({'x':x})\n",
        "x.plot()"
      ],
      "execution_count": 0,
      "outputs": [
        {
          "output_type": "execute_result",
          "data": {
            "text/plain": [
              "<matplotlib.axes._subplots.AxesSubplot at 0x7f4ded341470>"
            ]
          },
          "metadata": {
            "tags": []
          },
          "execution_count": 57
        },
        {
          "output_type": "display_data",
          "data": {
            "image/png": "[encoded data removed]",
            "text/plain": [
              "<Figure size 432x288 with 1 Axes>"
            ]
          },
          "metadata": {
            "tags": []
          }
        }
      ]
    },
    {
      "cell_type": "code",
      "metadata": {
        "id": "XMmb0uZW6DtF",
        "colab_type": "code",
        "colab": {}
      },
      "source": [
        "\n",
        "# DGLD = yf.download('DGLD',\"1990-1-1\").drop(columns=['Open','High', 'Low','Adj Close','Volume'])\n",
        "\n",
        "# DGLD['MA'] = DGLD.rolling(180).sum()/180\n",
        "# DGLD.plot(figsize=(18,6))"
      ],
      "execution_count": 0,
      "outputs": []
    }
  ]
}