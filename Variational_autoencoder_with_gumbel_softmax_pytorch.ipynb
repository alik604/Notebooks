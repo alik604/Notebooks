{
  "nbformat": 4,
  "nbformat_minor": 0,
  "metadata": {
    "kernelspec": {
      "display_name": "Python 3",
      "language": "python",
      "name": "python3"
    },
    "language_info": {
      "codemirror_mode": {
        "name": "ipython",
        "version": 3
      },
      "file_extension": ".py",
      "mimetype": "text/x-python",
      "name": "python",
      "nbconvert_exporter": "python",
      "pygments_lexer": "ipython3",
      "version": "3.7.2"
    },
    "colab": {
      "name": "Variational autoencoder with gumbel softmax - pytorch",
      "provenance": [],
      "collapsed_sections": [],
      "include_colab_link": true
    },
    "accelerator": "GPU"
  },
  "cells": [
    {
      "cell_type": "markdown",
      "metadata": {
        "id": "view-in-github",
        "colab_type": "text"
      },
      "source": [
        "<a href=\"https://colab.research.google.com/github/alik604/Notebooks/blob/master/Variational_autoencoder_with_gumbel_softmax_pytorch.ipynb\" target=\"_parent\"><img src=\"https://colab.research.google.com/assets/colab-badge.svg\" alt=\"Open In Colab\"/></a>"
      ]
    },
    {
      "cell_type": "markdown",
      "metadata": {
        "id": "Ah64CVHtEpij"
      },
      "source": [
        "#Variational autoencoder with gumbel softmax - pytorch\n",
        "\n",
        "From: https://github.com/shaabhishek/gumbel-softmax-pytorch/blob/master/Categorical%20VAE.ipynb"
      ]
    },
    {
      "cell_type": "code",
      "metadata": {
        "id": "3rpwFslHElV5"
      },
      "source": [
        "from torchvision import datasets, transforms\n",
        "import matplotlib.pyplot as plt\n",
        "import torch\n",
        "import torch.nn as nn\n",
        "from torch.optim import Adam\n",
        "import torch.nn.functional as F\n",
        "from torch.distributions import kl_divergence\n",
        "import numpy as np"
      ],
      "execution_count": null,
      "outputs": []
    },
    {
      "cell_type": "code",
      "metadata": {
        "id": "AW-68wwZElWA"
      },
      "source": [
        "device = 'cuda' if torch.cuda.is_available() else 'cpu'"
      ],
      "execution_count": null,
      "outputs": []
    },
    {
      "cell_type": "markdown",
      "metadata": {
        "id": "vShK8KGtElWC"
      },
      "source": [
        "# Data"
      ]
    },
    {
      "cell_type": "code",
      "metadata": {
        "id": "QBMCyGkDElWC"
      },
      "source": [
        "train_loader = torch.utils.data.DataLoader(\n",
        "    datasets.MNIST('../data', train=True, download=True,\n",
        "                   transform=transforms.Compose([\n",
        "                       transforms.ToTensor(),\n",
        "#                        transforms.Normalize((0.1307,), (0.3081,))\n",
        "                   ])),\n",
        "        batch_size=128, shuffle=True)\n",
        "\n",
        "\n",
        "test_loader = torch.utils.data.DataLoader(\n",
        "    datasets.MNIST(root='../data', train=False, download=True,\n",
        "                   transform=transforms.Compose([\n",
        "                       transforms.ToTensor(),\n",
        "#                        transforms.Normalize((0.1307,), (0.3081,))\n",
        "                       ])),\n",
        "    batch_size=1, shuffle=True)"
      ],
      "execution_count": null,
      "outputs": []
    },
    {
      "cell_type": "markdown",
      "metadata": {
        "id": "0Z_Kh5ZlElWE"
      },
      "source": [
        "# Network"
      ]
    },
    {
      "cell_type": "code",
      "metadata": {
        "id": "qmFGz3_tElWF"
      },
      "source": [
        "def sample_gumbel(shape, eps=1e-20):\n",
        "    unif = torch.rand(*shape).to(device)\n",
        "    g = -torch.log(-torch.log(unif + eps))\n",
        "    return g\n",
        "\n",
        "def sample_gumbel_softmax(logits, temperature):\n",
        "    \"\"\"\n",
        "        Input:\n",
        "        logits: Tensor of log probs, shape = BS x k\n",
        "        temperature = scalar\n",
        "        \n",
        "        Output: Tensor of values sampled from Gumbel softmax.\n",
        "                These will tend towards a one-hot representation in the limit of temp -> 0\n",
        "                shape = BS x k\n",
        "    \"\"\"\n",
        "    g = sample_gumbel(logits.shape)\n",
        "    h = (g + logits)/temperature\n",
        "    h_max = h.max(dim=-1, keepdim=True)[0]\n",
        "    h = h - h_max\n",
        "    cache = torch.exp(h)\n",
        "    y = cache / cache.sum(dim=-1, keepdim=True)\n",
        "    return y"
      ],
      "execution_count": null,
      "outputs": []
    },
    {
      "cell_type": "code",
      "metadata": {
        "id": "zwV0AqWpElWH"
      },
      "source": [
        "class VAE(nn.Module):\n",
        "    def __init__(self):\n",
        "        super().__init__()\n",
        "        self.temperature = 1.\n",
        "        self.K = 10\n",
        "        self.N = 30\n",
        "        self.create_encoder()\n",
        "        self.create_decoder()\n",
        "        \n",
        "    def create_encoder(self):\n",
        "        \"\"\"\n",
        "            Input for the encoder is a BS x 784 tensor\n",
        "            Output from the encoder are the log probabilities of the categorical distribution\n",
        "        \"\"\"\n",
        "        self.encoder = nn.Sequential(\n",
        "            nn.Linear(784, 512),\n",
        "            nn.ReLU(),\n",
        "            nn.Linear(512, 256),\n",
        "            nn.ReLU(),\n",
        "            nn.Linear(256, self.K*self.N)\n",
        "        )\n",
        "        \n",
        "    def create_decoder(self):\n",
        "        \"\"\"\n",
        "            Input for the decoder is a BS x N*K tensor\n",
        "            Output from the decoder are the log probabilities of the bernoulli pixels\n",
        "        \"\"\"\n",
        "        self.decoder = nn.Sequential(\n",
        "            nn.Linear(self.N*self.K, 256),\n",
        "            nn.ReLU(),\n",
        "            nn.Linear(256, 512),\n",
        "            nn.ReLU(),\n",
        "            nn.Linear(512, 784),\n",
        "            nn.LogSigmoid()\n",
        "        )\n",
        "        \n",
        "    def sample(self, img):\n",
        "        with torch.no_grad():\n",
        "            logits_nz = self.encoder(img)\n",
        "            logits_z = F.log_softmax(logits_nz.view(-1, self.N, self.K), dim=-1)\n",
        "            latent_vars = sample_gumbel_softmax(logits_z, self.temperature)\n",
        "            logits_x = self.decoder(latent_vars)\n",
        "            dist_x = torch.distributions.Bernoulli(logits=logits_x)\n",
        "            sampled_img = dist_x.sample((1,))\n",
        "            \n",
        "        return sampled_img.cpu().numpy()\n",
        "        \n",
        "    def forward(self, img, anneal=1.):\n",
        "        \"\"\"\n",
        "            Input: \n",
        "            img: Tensor of shape BS x 784\n",
        "        \"\"\"\n",
        "        # Encoding\n",
        "        logits_nz = self.encoder(img)\n",
        "        logits_z = F.log_softmax(logits_nz.view(-1, self.N, self.K), dim=-1)\n",
        "        posterior_dist = torch.distributions.Categorical(logits=logits_z)\n",
        "        prior_dist = torch.distributions.Categorical(probs=torch.ones_like(logits_z)/self.K)\n",
        "        \n",
        "        # Sampling\n",
        "        latent_vars = sample_gumbel_softmax(logits_z, self.temperature).view(-1, self.N*self.K)\n",
        "        \n",
        "        # Decoding\n",
        "        logits_x = self.decoder(latent_vars)\n",
        "        dist_x = torch.distributions.Bernoulli(logits=logits_x)\n",
        "\n",
        "        # Losses\n",
        "        ll = dist_x.log_prob(img).sum(dim=-1)\n",
        "#         kl1 = posterior_dist.probs * (logits_z - torch.log(torch.ones_like(logits_z)/self.K))\n",
        "        kl = kl_divergence(posterior_dist, prior_dist).sum(-1)\n",
        "        assert torch.all(kl > 0)\n",
        "        assert torch.all(ll < 0)\n",
        "        elbo = ll - kl\n",
        "        loss = -elbo.mean()\n",
        "        return loss"
      ],
      "execution_count": null,
      "outputs": []
    },
    {
      "cell_type": "code",
      "metadata": {
        "id": "62LIzd1-ElWJ"
      },
      "source": [
        "def sample(model, img):\n",
        "    with torch.no_grad():\n",
        "        logits_nz = model.encoder(img)\n",
        "        logits_z = F.log_softmax(logits_nz.view(-1, model.N, model.K), dim=-1)\n",
        "        latent_vars = sample_gumbel_softmax(logits_z, model.temperature).view(-1, model.N*model.K)\n",
        "        logits_x = model.decoder(latent_vars)\n",
        "        dist_x = torch.distributions.Bernoulli(logits=logits_x)\n",
        "        sampled_img = dist_x.sample((1,))\n",
        "\n",
        "    return sampled_img.cpu().numpy()"
      ],
      "execution_count": null,
      "outputs": []
    },
    {
      "cell_type": "code",
      "metadata": {
        "id": "FHjbfqtjElWM"
      },
      "source": [
        "def plot_img(model):\n",
        "    for batch_idx, (data, target) in enumerate(test_loader):\n",
        "        img_flat = sample(model, data.view(-1, 28*28).to(device))\n",
        "        plt.figure()\n",
        "        plt.subplot(121)\n",
        "        plt.imshow(img_flat.reshape(28,28))\n",
        "        plt.subplot(122)\n",
        "        plt.imshow(data.reshape(28,28))\n",
        "        plt.show()\n",
        "        break"
      ],
      "execution_count": null,
      "outputs": []
    },
    {
      "cell_type": "code",
      "metadata": {
        "id": "t2XsD-0vElWO"
      },
      "source": [
        "def train(model, optimizer, maxiters):\n",
        "    iters = 0\n",
        "    while iters < maxiters:\n",
        "        for batch_idx, (data, target) in enumerate(train_loader):\n",
        "            iters+=1\n",
        "#             anneal = min(1., epoch*.1)\n",
        "            optimizer.zero_grad()\n",
        "            data = data.to(device)\n",
        "            loss = model(data.view(-1, 28*28))\n",
        "    #             neg_elbo = -elbo\n",
        "            loss.backward()\n",
        "            optimizer.step()\n",
        "            if batch_idx % 100 == 0:\n",
        "                model.temperature = np.maximum(model.temperature * np.exp(-ANNEAL_RATE * batch_idx), temp_min)\n",
        "                print(\"New Model Temperature: {}\".format(model.temperature))\n",
        "            if iters % 1000 == 0:\n",
        "              plot_img(model)\n",
        "            if iters % 100 == 0:\n",
        "                plot_img(model)\n",
        "                print('Train Iteration: {} [{}/{} ({:.0f}%)]\\tLoss: {:.6f}'.format(\n",
        "                    iters, batch_idx * len(data), len(train_loader.dataset),\n",
        "                    100. * batch_idx / len(train_loader), loss.item()))"
      ],
      "execution_count": null,
      "outputs": []
    },
    {
      "cell_type": "code",
      "metadata": {
        "scrolled": false,
        "id": "_34SZKmCElWQ"
      },
      "source": [
        "model = VAE().to(device)\n",
        "optimizer = Adam(model.parameters(), lr=1e-3)\n",
        "temp_min = 0.5\n",
        "ANNEAL_RATE = 0.00003\n",
        "train(model, optimizer, maxiters=10000)"
      ],
      "execution_count": null,
      "outputs": []
    },
    {
      "cell_type": "code",
      "metadata": {
        "id": "iqZCMCY6Gl2o"
      },
      "source": [
        "# 135 if more neurons\n"
      ],
      "execution_count": null,
      "outputs": []
    },
    {
      "cell_type": "code",
      "metadata": {
        "id": "wv-9_1-HGi3Y"
      },
      "source": [
        ""
      ],
      "execution_count": null,
      "outputs": []
    },
    {
      "cell_type": "code",
      "metadata": {
        "id": "5mfYLUxxElWT"
      },
      "source": [
        ""
      ],
      "execution_count": null,
      "outputs": []
    }
  ]
}