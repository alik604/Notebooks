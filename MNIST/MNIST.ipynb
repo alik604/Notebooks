{
  "nbformat": 4,
  "nbformat_minor": 0,
  "metadata": {
    "colab": {
      "name": "MNIST.ipynb",
      "version": "0.3.2",
      "provenance": [],
      "collapsed_sections": [],
      "include_colab_link": true
    },
    "kernelspec": {
      "name": "python3",
      "display_name": "Python 3"
    },
    "accelerator": "GPU"
  },
  "cells": [
    {
      "cell_type": "markdown",
      "metadata": {
        "id": "view-in-github",
        "colab_type": "text"
      },
      "source": [
        "<a href=\"https://colab.research.google.com/github/alik604/Notebooks/blob/master/MNIST/MNIST.ipynb\" target=\"_parent\"><img src=\"https://colab.research.google.com/assets/colab-badge.svg\" alt=\"Open In Colab\"/></a>"
      ]
    },
    {
      "metadata": {
        "id": "8134ctvW5ev7",
        "colab_type": "code",
        "colab": {
          "base_uri": "https://localhost:8080/",
          "height": 70
        },
        "outputId": "e421dbb3-6d08-4207-d1dd-614abaf64ea8"
      },
      "cell_type": "code",
      "source": [
        "from __future__ import print_function\n",
        "import keras\n",
        "from keras.datasets import mnist\n",
        "from keras.models import Sequential\n",
        "from keras.layers import Dense, Dropout, Flatten\n",
        "from keras.layers import Conv2D, MaxPooling2D\n",
        "from keras import backend as K\n",
        "\n",
        "batch_size = 128\n",
        "num_classes = 10\n",
        "epochs = 12\n",
        "\n",
        "# input image dimensions\n",
        "img_rows, img_cols = 28, 28\n",
        "\n",
        "# the data, split between train and test sets\n",
        "(x_train, y_train), (x_test, y_test) = mnist.load_data()"
      ],
      "execution_count": 5,
      "outputs": [
        {
          "output_type": "stream",
          "text": [
            "Using TensorFlow backend.\n"
          ],
          "name": "stderr"
        },
        {
          "output_type": "stream",
          "text": [
            "Downloading data from https://s3.amazonaws.com/img-datasets/mnist.npz\n",
            "11493376/11490434 [==============================] - 1s 0us/step\n"
          ],
          "name": "stdout"
        }
      ]
    },
    {
      "metadata": {
        "id": "wVNpwLK05l4P",
        "colab_type": "code",
        "outputId": "ce19484a-b979-4143-c3a5-3b6cd18385be",
        "colab": {
          "base_uri": "https://localhost:8080/",
          "height": 70
        }
      },
      "cell_type": "code",
      "source": [
        "if K.image_data_format() == 'channels_first':\n",
        "    x_train = x_train.reshape(x_train.shape[0], 1, img_rows, img_cols)\n",
        "    x_test = x_test.reshape(x_test.shape[0], 1, img_rows, img_cols)\n",
        "    input_shape = (1, img_rows, img_cols)\n",
        "else:\n",
        "    x_train = x_train.reshape(x_train.shape[0], img_rows, img_cols, 1)\n",
        "    x_test = x_test.reshape(x_test.shape[0], img_rows, img_cols, 1)\n",
        "    input_shape = (img_rows, img_cols, 1)\n",
        "\n",
        "x_train = x_train.astype('float32')\n",
        "x_test = x_test.astype('float32')\n",
        "x_train /= 255\n",
        "x_test /= 255\n",
        "print('x_train shape:', x_train.shape)\n",
        "print(x_train.shape[0], 'train samples')\n",
        "print(x_test.shape[0], 'test samples')\n",
        "\n",
        "# convert class vectors to binary class matrices\n",
        "y_train = keras.utils.to_categorical(y_train, num_classes)\n",
        "y_test = keras.utils.to_categorical(y_test, num_classes)"
      ],
      "execution_count": 6,
      "outputs": [
        {
          "output_type": "stream",
          "text": [
            "x_train shape: (60000, 28, 28, 1)\n",
            "60000 train samples\n",
            "10000 test samples\n"
          ],
          "name": "stdout"
        }
      ]
    },
    {
      "metadata": {
        "id": "FyPrkLgR6zEx",
        "colab_type": "text"
      },
      "cell_type": "markdown",
      "source": [
        ""
      ]
    },
    {
      "metadata": {
        "id": "nM4fe2I4O2Qa",
        "colab_type": "text"
      },
      "cell_type": "markdown",
      "source": [
        " [layers order](http://cs231n.github.io/convolutional-networks/#layerpat)\n",
        "\n"
      ]
    },
    {
      "metadata": {
        "id": "ZNSJ2oNca5xi",
        "colab_type": "text"
      },
      "cell_type": "markdown",
      "source": [
        " 100; 4, yeilds 98%. \n",
        " \n",
        " \n",
        " 50; 3, yeilds 98%. \n",
        " \n",
        " \n",
        " 100; 3, with final layer(Dense(num_classes, activation='relu')), yeilds 34.65%\n",
        " \n",
        "100; 3, with final layer: Dense(num_classes, activation='sigmoid') , yeilds 9.8%"
      ]
    },
    {
      "metadata": {
        "id": "hQLQ3i1f6zex",
        "colab_type": "code",
        "outputId": "f12dca4b-0e91-4c3a-eec5-798644732485",
        "colab": {
          "base_uri": "https://localhost:8080/",
          "height": 492
        }
      },
      "cell_type": "code",
      "source": [
        "model = Sequential() \n",
        "#layers order http://cs231n.github.io/convolutional-networks/#layerpat\n",
        "\n",
        "model.add(Conv2D(filters=100, kernel_size=3, activation='relu'))\n",
        "\n",
        "model.add(Flatten())\n",
        "\n",
        "model.add(Dense(num_classes, activation='softmax'))\n",
        "\n",
        "model.compile(loss=keras.losses.categorical_crossentropy,\n",
        "              optimizer=keras.optimizers.Adadelta(),\n",
        "              metrics=['accuracy'])\n",
        "\n",
        "model.fit(x_train, y_train,\n",
        "          batch_size=batch_size,\n",
        "          epochs=epochs,\n",
        "          verbose=1,\n",
        "          validation_data=(x_test, y_test))\n",
        "score = model.evaluate(x_test, y_test, verbose=0)\n",
        "print('Test loss:', score[0])\n",
        "print('Test accuracy:', score[1])"
      ],
      "execution_count": 17,
      "outputs": [
        {
          "output_type": "stream",
          "text": [
            "Train on 60000 samples, validate on 10000 samples\n",
            "Epoch 1/12\n",
            "60000/60000 [==============================] - 7s 110us/step - loss: 0.2516 - acc: 0.9257 - val_loss: 0.1045 - val_acc: 0.9708\n",
            "Epoch 2/12\n",
            "60000/60000 [==============================] - 6s 101us/step - loss: 0.0869 - acc: 0.9757 - val_loss: 0.0714 - val_acc: 0.9775\n",
            "Epoch 3/12\n",
            "60000/60000 [==============================] - 6s 102us/step - loss: 0.0634 - acc: 0.9818 - val_loss: 0.0655 - val_acc: 0.9797\n",
            "Epoch 4/12\n",
            "60000/60000 [==============================] - 6s 101us/step - loss: 0.0515 - acc: 0.9851 - val_loss: 0.0653 - val_acc: 0.9787\n",
            "Epoch 5/12\n",
            "60000/60000 [==============================] - 6s 101us/step - loss: 0.0439 - acc: 0.9872 - val_loss: 0.0594 - val_acc: 0.9809\n",
            "Epoch 6/12\n",
            "60000/60000 [==============================] - 6s 101us/step - loss: 0.0380 - acc: 0.9893 - val_loss: 0.0534 - val_acc: 0.9824\n",
            "Epoch 7/12\n",
            "60000/60000 [==============================] - 6s 102us/step - loss: 0.0342 - acc: 0.9898 - val_loss: 0.0621 - val_acc: 0.9807\n",
            "Epoch 8/12\n",
            "60000/60000 [==============================] - 6s 101us/step - loss: 0.0294 - acc: 0.9917 - val_loss: 0.0562 - val_acc: 0.9832\n",
            "Epoch 9/12\n",
            "60000/60000 [==============================] - 6s 101us/step - loss: 0.0260 - acc: 0.9926 - val_loss: 0.0579 - val_acc: 0.9822\n",
            "Epoch 10/12\n",
            "60000/60000 [==============================] - 6s 102us/step - loss: 0.0227 - acc: 0.9938 - val_loss: 0.0580 - val_acc: 0.9829\n",
            "Epoch 11/12\n",
            "60000/60000 [==============================] - 6s 102us/step - loss: 0.0204 - acc: 0.9942 - val_loss: 0.0625 - val_acc: 0.9819\n",
            "Epoch 12/12\n",
            "60000/60000 [==============================] - 6s 101us/step - loss: 0.0180 - acc: 0.9951 - val_loss: 0.0616 - val_acc: 0.9826\n",
            "Test loss: 0.06163809543608222\n",
            "Test accuracy: 0.9826\n"
          ],
          "name": "stdout"
        }
      ]
    },
    {
      "metadata": {
        "id": "VVLxLs0SYDIB",
        "colab_type": "code",
        "colab": {
          "base_uri": "https://localhost:8080/",
          "height": 34
        },
        "outputId": "b28ef970-4e27-474e-829b-2c343d812b20"
      },
      "cell_type": "code",
      "source": [
        "print('Test accuracy:', score[1])"
      ],
      "execution_count": 96,
      "outputs": [
        {
          "output_type": "stream",
          "text": [
            "1st index: 0.9813\n"
          ],
          "name": "stdout"
        }
      ]
    },
    {
      "metadata": {
        "id": "SCyEakLx6v4n",
        "colab_type": "code",
        "colab": {
          "base_uri": "https://localhost:8080/",
          "height": 512
        },
        "outputId": "ca14ed47-b1bd-4e16-b9c1-f976b4298031"
      },
      "cell_type": "code",
      "source": [
        "model = None\n",
        "model = Sequential() \n",
        "#layers order http://cs231n.github.io/convolutional-networks/#layerpat\n",
        "\n",
        "\n",
        "model.add(Conv2D(filters=100, kernel_size=3, activation='relu'))\n",
        "model.add(Conv2D(filters=100, kernel_size=3, activation='relu'))\n",
        "model.add(MaxPooling2D(pool_size=(2, 2)))\n",
        "\n",
        "model.add(Flatten())\n",
        "model.add(Dense(num_classes, activation='softmax'))\n",
        "\n",
        "model.compile(loss=keras.losses.categorical_crossentropy,\n",
        "              optimizer=keras.optimizers.Adadelta(),\n",
        "              metrics=['accuracy'])\n",
        "\n",
        "model.fit(x_train, y_train,\n",
        "          batch_size=batch_size,\n",
        "          epochs=epochs,\n",
        "          verbose=1,\n",
        "          validation_data=(x_test, y_test))\n",
        "score = model.evaluate(x_test, y_test, verbose=0)\n",
        "print('Test loss:', score[0])\n",
        "print('Test accuracy:', score[1])"
      ],
      "execution_count": 19,
      "outputs": [
        {
          "output_type": "stream",
          "text": [
            "Train on 60000 samples, validate on 10000 samples\n",
            "Epoch 1/12\n",
            "60000/60000 [==============================] - 16s 263us/step - loss: 0.1960 - acc: 0.9408 - val_loss: 0.0535 - val_acc: 0.9825\n",
            "Epoch 2/12\n",
            "60000/60000 [==============================] - 15s 247us/step - loss: 0.0569 - acc: 0.9828 - val_loss: 0.0471 - val_acc: 0.9843\n",
            "Epoch 3/12\n",
            "60000/60000 [==============================] - 15s 248us/step - loss: 0.0411 - acc: 0.9881 - val_loss: 0.0395 - val_acc: 0.9870\n",
            "Epoch 4/12\n",
            "60000/60000 [==============================] - 15s 248us/step - loss: 0.0332 - acc: 0.9901 - val_loss: 0.0362 - val_acc: 0.9881\n",
            "Epoch 5/12\n",
            "60000/60000 [==============================] - 15s 248us/step - loss: 0.0273 - acc: 0.9916 - val_loss: 0.0366 - val_acc: 0.9880\n",
            "Epoch 6/12\n",
            "60000/60000 [==============================] - 15s 249us/step - loss: 0.0225 - acc: 0.9934 - val_loss: 0.0317 - val_acc: 0.9900\n",
            "Epoch 7/12\n",
            "60000/60000 [==============================] - 15s 248us/step - loss: 0.0188 - acc: 0.9946 - val_loss: 0.0348 - val_acc: 0.9893\n",
            "Epoch 8/12\n",
            "60000/60000 [==============================] - 15s 248us/step - loss: 0.0159 - acc: 0.9952 - val_loss: 0.0343 - val_acc: 0.9900\n",
            "Epoch 9/12\n",
            "60000/60000 [==============================] - 15s 249us/step - loss: 0.0136 - acc: 0.9960 - val_loss: 0.0363 - val_acc: 0.9901\n",
            "Epoch 10/12\n",
            "60000/60000 [==============================] - 15s 249us/step - loss: 0.0114 - acc: 0.9968 - val_loss: 0.0367 - val_acc: 0.9891\n",
            "Epoch 11/12\n",
            "60000/60000 [==============================] - 15s 248us/step - loss: 0.0092 - acc: 0.9977 - val_loss: 0.0415 - val_acc: 0.9887\n",
            "Epoch 12/12\n",
            "60000/60000 [==============================] - 15s 249us/step - loss: 0.0078 - acc: 0.9979 - val_loss: 0.0367 - val_acc: 0.9895\n",
            "Test loss: 0.03674039043331104\n",
            "Test accuracy: 0.9895\n"
          ],
          "name": "stdout"
        }
      ]
    },
    {
      "metadata": {
        "id": "FNMoiFhjgVoV",
        "colab_type": "code",
        "colab": {
          "base_uri": "https://localhost:8080/",
          "height": 492
        },
        "outputId": "75b8ef73-819a-470c-ef47-808a938c8060"
      },
      "cell_type": "code",
      "source": [
        "model = None\n",
        "model = Sequential() \n",
        "#layers order http://cs231n.github.io/convolutional-networks/#layerpat\n",
        "\n",
        "model.add(Conv2D(filters=100, kernel_size=3, activation='relu'))\n",
        "model.add(Conv2D(filters=100, kernel_size=3, activation='relu'))\n",
        "model.add(MaxPooling2D(pool_size=(2, 2)))\n",
        "\n",
        "model.add(Conv2D(filters=100, kernel_size=3, activation='relu'))\n",
        "model.add(MaxPooling2D(pool_size=(2, 2)))\n",
        "\n",
        "\n",
        "\n",
        "\n",
        "model.add(Flatten())\n",
        "model.add(Dense(num_classes, activation='softmax'))\n",
        "\n",
        "model.compile(loss=keras.losses.categorical_crossentropy,\n",
        "              optimizer=keras.optimizers.Adadelta(),\n",
        "              metrics=['accuracy'])\n",
        "\n",
        "model.fit(x_train, y_train,\n",
        "          batch_size=batch_size,\n",
        "          epochs=epochs,\n",
        "          verbose=1,\n",
        "          validation_data=(x_test, y_test))\n",
        "score = model.evaluate(x_test, y_test, verbose=0)\n",
        "print('Test loss:', score[0])\n",
        "print('Test accuracy:', score[1])"
      ],
      "execution_count": 20,
      "outputs": [
        {
          "output_type": "stream",
          "text": [
            "Train on 60000 samples, validate on 10000 samples\n",
            "Epoch 1/12\n",
            "60000/60000 [==============================] - 18s 305us/step - loss: 0.1852 - acc: 0.9428 - val_loss: 0.0533 - val_acc: 0.9817\n",
            "Epoch 2/12\n",
            "60000/60000 [==============================] - 18s 292us/step - loss: 0.0492 - acc: 0.9851 - val_loss: 0.0409 - val_acc: 0.9873\n",
            "Epoch 3/12\n",
            "60000/60000 [==============================] - 18s 292us/step - loss: 0.0345 - acc: 0.9891 - val_loss: 0.0372 - val_acc: 0.9881\n",
            "Epoch 4/12\n",
            "60000/60000 [==============================] - 17s 291us/step - loss: 0.0267 - acc: 0.9916 - val_loss: 0.0318 - val_acc: 0.9903\n",
            "Epoch 5/12\n",
            "60000/60000 [==============================] - 18s 292us/step - loss: 0.0213 - acc: 0.9934 - val_loss: 0.0253 - val_acc: 0.9918\n",
            "Epoch 6/12\n",
            "60000/60000 [==============================] - 17s 291us/step - loss: 0.0172 - acc: 0.9946 - val_loss: 0.0227 - val_acc: 0.9931\n",
            "Epoch 7/12\n",
            "60000/60000 [==============================] - 18s 292us/step - loss: 0.0140 - acc: 0.9958 - val_loss: 0.0249 - val_acc: 0.9930\n",
            "Epoch 8/12\n",
            "60000/60000 [==============================] - 18s 292us/step - loss: 0.0114 - acc: 0.9966 - val_loss: 0.0235 - val_acc: 0.9928\n",
            "Epoch 9/12\n",
            "60000/60000 [==============================] - 17s 292us/step - loss: 0.0093 - acc: 0.9972 - val_loss: 0.0285 - val_acc: 0.9926\n",
            "Epoch 10/12\n",
            "60000/60000 [==============================] - 18s 292us/step - loss: 0.0070 - acc: 0.9981 - val_loss: 0.0276 - val_acc: 0.9924\n",
            "Epoch 11/12\n",
            "60000/60000 [==============================] - 18s 292us/step - loss: 0.0058 - acc: 0.9983 - val_loss: 0.0299 - val_acc: 0.9926\n",
            "Epoch 12/12\n",
            "60000/60000 [==============================] - 17s 291us/step - loss: 0.0047 - acc: 0.9986 - val_loss: 0.0310 - val_acc: 0.9924\n",
            "Test loss: 0.030968712733812343\n",
            "Test accuracy: 0.9924\n"
          ],
          "name": "stdout"
        }
      ]
    },
    {
      "metadata": {
        "id": "SA1wK25RY83T",
        "colab_type": "code",
        "colab": {
          "base_uri": "https://localhost:8080/",
          "height": 512
        },
        "outputId": "2cce71f5-043e-4586-daaf-e1d4fa268192"
      },
      "cell_type": "code",
      "source": [
        "model = None\n",
        "model = Sequential() \n",
        "#layers order http://cs231n.github.io/convolutional-networks/#layerpat\n",
        "\n",
        "model.add(Conv2D(filters=100, kernel_size=3, activation='relu'))\n",
        "model.add(MaxPooling2D(pool_size=(2, 2)))\n",
        "\n",
        "model.add(Conv2D(filters=100, kernel_size=3, activation='relu'))\n",
        "model.add(MaxPooling2D(pool_size=(2, 2)))\n",
        "\n",
        "\n",
        "\n",
        "\n",
        "model.add(Flatten())\n",
        "model.add(Dense(num_classes, activation='softmax'))\n",
        "\n",
        "model.compile(loss=keras.losses.categorical_crossentropy,\n",
        "              optimizer=keras.optimizers.Adadelta(),\n",
        "              metrics=['accuracy'])\n",
        "\n",
        "model.fit(x_train, y_train,\n",
        "          batch_size=batch_size,\n",
        "          epochs=epochs,\n",
        "          verbose=1,\n",
        "          validation_data=(x_test, y_test))\n",
        "score = model.evaluate(x_test, y_test, verbose=0)\n",
        "print('Test loss:', score[0])\n",
        "print('Test accuracy:', score[1])"
      ],
      "execution_count": 23,
      "outputs": [
        {
          "output_type": "stream",
          "text": [
            "Train on 60000 samples, validate on 10000 samples\n",
            "Epoch 1/12\n",
            "60000/60000 [==============================] - 9s 148us/step - loss: 0.2164 - acc: 0.9331 - val_loss: 0.0648 - val_acc: 0.9799\n",
            "Epoch 2/12\n",
            "60000/60000 [==============================] - 8s 135us/step - loss: 0.0639 - acc: 0.9805 - val_loss: 0.0445 - val_acc: 0.9859\n",
            "Epoch 3/12\n",
            "60000/60000 [==============================] - 8s 136us/step - loss: 0.0470 - acc: 0.9857 - val_loss: 0.0483 - val_acc: 0.9841\n",
            "Epoch 4/12\n",
            "60000/60000 [==============================] - 8s 135us/step - loss: 0.0380 - acc: 0.9881 - val_loss: 0.0358 - val_acc: 0.9895\n",
            "Epoch 5/12\n",
            "60000/60000 [==============================] - 8s 135us/step - loss: 0.0320 - acc: 0.9898 - val_loss: 0.0320 - val_acc: 0.9893\n",
            "Epoch 6/12\n",
            "60000/60000 [==============================] - 8s 136us/step - loss: 0.0275 - acc: 0.9915 - val_loss: 0.0301 - val_acc: 0.9897\n",
            "Epoch 7/12\n",
            "60000/60000 [==============================] - 8s 135us/step - loss: 0.0239 - acc: 0.9925 - val_loss: 0.0287 - val_acc: 0.9904\n",
            "Epoch 8/12\n",
            "60000/60000 [==============================] - 8s 135us/step - loss: 0.0204 - acc: 0.9935 - val_loss: 0.0297 - val_acc: 0.9904\n",
            "Epoch 9/12\n",
            "60000/60000 [==============================] - 8s 136us/step - loss: 0.0178 - acc: 0.9946 - val_loss: 0.0333 - val_acc: 0.9896\n",
            "Epoch 10/12\n",
            "60000/60000 [==============================] - 8s 135us/step - loss: 0.0153 - acc: 0.9954 - val_loss: 0.0315 - val_acc: 0.9902\n",
            "Epoch 11/12\n",
            "60000/60000 [==============================] - 8s 136us/step - loss: 0.0134 - acc: 0.9960 - val_loss: 0.0281 - val_acc: 0.9914\n",
            "Epoch 12/12\n",
            "60000/60000 [==============================] - 8s 136us/step - loss: 0.0117 - acc: 0.9966 - val_loss: 0.0305 - val_acc: 0.9901\n",
            "Test loss: 0.030517288568560615\n",
            "Test accuracy: 0.9901\n"
          ],
          "name": "stdout"
        }
      ]
    },
    {
      "metadata": {
        "id": "yNhk3f6DY87u",
        "colab_type": "code",
        "colab": {}
      },
      "cell_type": "code",
      "source": [
        ""
      ],
      "execution_count": 0,
      "outputs": []
    },
    {
      "metadata": {
        "id": "EucgQUGBY8_W",
        "colab_type": "code",
        "colab": {}
      },
      "cell_type": "code",
      "source": [
        ""
      ],
      "execution_count": 0,
      "outputs": []
    },
    {
      "metadata": {
        "id": "A3uS7TbQY9Ce",
        "colab_type": "code",
        "colab": {}
      },
      "cell_type": "code",
      "source": [
        ""
      ],
      "execution_count": 0,
      "outputs": []
    },
    {
      "metadata": {
        "id": "yNvOFcO0Y9GF",
        "colab_type": "code",
        "colab": {}
      },
      "cell_type": "code",
      "source": [
        ""
      ],
      "execution_count": 0,
      "outputs": []
    },
    {
      "metadata": {
        "id": "-9zNKMEZ9dKd",
        "colab_type": "text"
      },
      "cell_type": "markdown",
      "source": [
        " [sample code (working)](https://colab.research.google.com/drive/1iTGGKIfxRRrhWpQQUqHdfVMrfqkdE0un#scrollTo=R6U6JC6Z4Scj)\n",
        "\n",
        "```\n",
        "model = Sequential()\n",
        "model.add(Conv2D(32, kernel_size=(3, 3),\n",
        "                 activation='relu',\n",
        "                 input_shape=input_shape))\n",
        "model.add(Conv2D(64, (3, 3), activation='relu'))\n",
        "model.add(MaxPooling2D(pool_size=(2, 2)))\n",
        "model.add(Dropout(0.25))\n",
        "model.add(Flatten())\n",
        "model.add(Dense(128, activation='relu'))\n",
        "model.add(Dropout(0.5))\n",
        "model.add(Dense(num_classes, activation='softmax'))\n",
        "\n",
        "model.compile(loss=keras.losses.categorical_crossentropy,\n",
        "              optimizer=keras.optimizers.Adadelta(),\n",
        "              metrics=['accuracy'])\n",
        "\n",
        "model.fit(x_train, y_train,\n",
        "          batch_size=batch_size,\n",
        "          epochs=epochs,\n",
        "          verbose=1,\n",
        "          validation_data=(x_test, y_test))\n",
        "score = model.evaluate(x_test, y_test, verbose=0)\n",
        "print('Test loss:', score[0])```\n",
        "\n"
      ]
    }
  ]
}