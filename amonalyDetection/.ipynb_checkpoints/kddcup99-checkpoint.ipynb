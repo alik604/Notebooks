{
 "cells": [
  {
   "cell_type": "markdown",
   "metadata": {
    "colab_type": "text",
    "id": "-ZixxRgn_QE2"
   },
   "source": [
    "# Intrusion Detection \n",
    "\n",
    "### Dataset from https://www.kaggle.com/bharath5673/kddcup99\n",
    "\n",
    "### Sample code used: https://www.kaggle.com/pranavuikey/network-intrusion-detection\n"
   ]
  },
  {
   "cell_type": "code",
   "execution_count": null,
   "metadata": {
    "colab": {},
    "colab_type": "code",
    "id": "m9hIv2s7_QE6"
   },
   "outputs": [],
   "source": [
    "%config IPCompleter.greedy=True\n",
    "import pandas as pd\n",
    "import seaborn as sns\n",
    "import numpy as np\n",
    "import re\n",
    "import sklearn\n",
    "\n",
    "import warnings\n",
    "warnings.filterwarnings(\"ignore\")\n",
    "\n",
    "import matplotlib.pyplot as plt\n",
    "import matplotlib as matplot\n",
    "%matplotlib inline\n",
    "\n",
    "from IPython.core.interactiveshell import InteractiveShell\n",
    "InteractiveShell.ast_node_interactivity = \"all\""
   ]
  },
  {
   "cell_type": "code",
   "execution_count": null,
   "metadata": {
    "colab": {
     "base_uri": "https://localhost:8080/",
     "height": 90
    },
    "colab_type": "code",
    "id": "xcmNZAzs_Svh",
    "outputId": "e05f63fa-f250-48ad-96bc-55107df22997"
   },
   "outputs": [],
   "source": [
    "import os\n",
    "\n",
    "# os.environ['KAGGLE_USERNAME'] = \"alik604\" # username from the json file os.environ['KAGGLEKEY'] = \"xxxxxxxxxxxxxxxxxxxxxxxxxxxx\" # key from the json file\n",
    "# os.environ['KAGGLE_KEY'] = \"1c6c5de0f6a4d1610a2f8f5ad6771bb7\"\n",
    "\n",
    "# !mkdir /root/.kaggle\n",
    "# !echo '{\"username\":\"alik604\",\"key\":\"1c6c5de0f6a4d1610a2f8f5ad6771bb7\"}' > /root/.kaggle/kaggle.json\n",
    "\n",
    "# # !kaggle datasets download -d bharath5673/kddcup99\n",
    "# # !ls"
   ]
  },
  {
   "cell_type": "code",
   "execution_count": 3,
   "metadata": {
    "colab": {
     "base_uri": "https://localhost:8080/",
     "height": 35
    },
    "colab_type": "code",
    "id": "JH1rg6ZqAxp-",
    "outputId": "c5f3e558-f097-44bc-f380-67127cdb672f"
   },
   "outputs": [
    {
     "name": "stdout",
     "output_type": "stream",
     "text": [
      "kddcup99.zip  kddcup.data  kddcup.data.corrected  sample_data\n"
     ]
    }
   ],
   "source": [
    "# import zipfile\n",
    "\n",
    "# zip_ref = zipfile.ZipFile('kddcup99.zip', 'r')\n",
    "# zip_ref.extractall()\n",
    "# zip_ref.close()\n",
    "# !ls"
   ]
  },
  {
   "cell_type": "code",
   "execution_count": 0,
   "metadata": {
    "colab": {},
    "colab_type": "code",
    "id": "1kOQHweQ_QE-"
   },
   "outputs": [],
   "source": [
    "train = pd.read_csv('./Train_data.csv')\n",
    "test = pd.read_csv('./test_data.csv')\n",
    "test = test.drop('Unnamed: 0', axis=1)"
   ]
  },
  {
   "cell_type": "markdown",
   "metadata": {
    "colab_type": "text",
    "id": "RVdcfGhNG9YD"
   },
   "source": [
    "### Reduce train size for faster trainin, remove when in production"
   ]
  },
  {
   "cell_type": "code",
   "execution_count": 0,
   "metadata": {
    "colab": {},
    "colab_type": "code",
    "id": "imr81BQZY_zW"
   },
   "outputs": [],
   "source": [
    "# train=train.sample(frac =.50,random_state=1) # TODO "
   ]
  },
  {
   "cell_type": "markdown",
   "metadata": {
    "colab_type": "text",
    "id": "Xbsr_Auy_QFN"
   },
   "source": [
    "### The following few cells are taken from the 'sample code'"
   ]
  },
  {
   "cell_type": "code",
   "execution_count": 0,
   "metadata": {
    "colab": {
     "base_uri": "https://localhost:8080/",
     "height": 308
    },
    "colab_type": "code",
    "id": "nl9Yok3f_QFO",
    "outputId": "a1dac64c-ea57-491d-92e5-2d17715ab8ae"
   },
   "outputs": [
    {
     "data": {
      "text/plain": [
       "{'dos', 'normal', 'probe', 'r2l', 'u2r'}"
      ]
     },
     "execution_count": 68,
     "metadata": {
      "tags": []
     },
     "output_type": "execute_result"
    },
    {
     "data": {
      "text/plain": [
       "count    125973.000000\n",
       "mean          0.744985\n",
       "std           0.653748\n",
       "min           0.000000\n",
       "25%           0.000000\n",
       "50%           1.000000\n",
       "75%           1.000000\n",
       "max           4.000000\n",
       "Name: xAttack, dtype: float64"
      ]
     },
     "execution_count": 68,
     "metadata": {
      "tags": []
     },
     "output_type": "execute_result"
    },
    {
     "name": "stdout",
     "output_type": "stream",
     "text": [
      "\n",
      "\n"
     ]
    },
    {
     "data": {
      "text/plain": [
       "is_host_login      0.001099\n",
       "num_compromised    0.004279\n",
       "num_root           0.005006\n",
       "dst_bytes          0.008763\n",
       "land               0.010021\n",
       "Name: xAttack, dtype: float64"
      ]
     },
     "execution_count": 68,
     "metadata": {
      "tags": []
     },
     "output_type": "execute_result"
    }
   ],
   "source": [
    "from sklearn import preprocessing\n",
    "le = preprocessing.LabelEncoder()\n",
    "\n",
    "\n",
    "set(list(train['xAttack']))\n",
    "train['xAttack'] = le.fit_transform(train['xAttack'])\n",
    "test['xAttack'] = le.fit_transform(test['xAttack'])\n",
    "\n",
    "train['xAttack'].describe()\n",
    "\n",
    "train['protocol_type'] = le.fit_transform(train['protocol_type'])\n",
    "test['protocol_type'] = le.fit_transform(test['protocol_type'])\n",
    "\n",
    "print('\\n')\n",
    "tmp = train.corr().abs().sort_values('xAttack')\n",
    "garbage = tmp['xAttack'].nsmallest(5)\n",
    "\n",
    "garbage\n",
    "garbage = list(garbage.index) + ['num_outbound_cmds','is_host_login']\n",
    "\n"
   ]
  },
  {
   "cell_type": "code",
   "execution_count": 0,
   "metadata": {
    "colab": {},
    "colab_type": "code",
    "id": "Y5PCmnfo0khb"
   },
   "outputs": [],
   "source": [
    "X_train = train.drop('xAttack', axis=1)\n",
    "Y_train = train.loc[:,['xAttack']]\n",
    "X_test = test.drop('xAttack', axis=1)\n",
    "Y_test = test.loc[:,['xAttack']]"
   ]
  },
  {
   "cell_type": "markdown",
   "metadata": {
    "colab_type": "text",
    "id": "60WOhD9X_QFf"
   },
   "source": [
    "## Drop features with lowest STD"
   ]
  },
  {
   "cell_type": "code",
   "execution_count": 0,
   "metadata": {
    "colab": {
     "base_uri": "https://localhost:8080/",
     "height": 199
    },
    "colab_type": "code",
    "id": "NsFRJ0zE_QFo",
    "outputId": "67529770-924f-4a74-acd9-c223c5ba8f0d"
   },
   "outputs": [
    {
     "data": {
      "text/plain": [
       "10"
      ]
     },
     "execution_count": 70,
     "metadata": {
      "tags": []
     },
     "output_type": "execute_result"
    },
    {
     "data": {
      "text/plain": [
       "{'dst_bytes',\n",
       " 'is_host_login',\n",
       " 'land',\n",
       " 'num_compromised',\n",
       " 'num_failed_logins',\n",
       " 'num_outbound_cmds',\n",
       " 'num_root',\n",
       " 'num_shells',\n",
       " 'root_shell',\n",
       " 'urgent'}"
      ]
     },
     "execution_count": 70,
     "metadata": {
      "tags": []
     },
     "output_type": "execute_result"
    }
   ],
   "source": [
    "# df.ix[2,:]==0 # see where STD== 0, which means all values are the same... which is useless \n",
    "# train = train.drop('num_outbound_cmds', axis=1)\n",
    "## bad sample code I fixed \n",
    "\n",
    "con_list = [\n",
    "    'protocol_type', 'service', 'flag', 'land', 'logged_in', 'su_attempted',\n",
    "    'is_host_login', 'is_guest_login'\n",
    "]\n",
    "\n",
    "df = X_train.drop(con_list, axis=1)\n",
    "\n",
    "#drop n smallest std features\n",
    "df = df.std(axis=0).to_frame()\n",
    "tmp = df.nsmallest(5, columns=0)\n",
    "tmp = list(\n",
    "    tmp.transpose().columns)  #fuckin pandas.core.indexes.base.Index   -_-\n",
    "#tmp = tmp.append('num_outbound_cmds')  # might not work...\n",
    "tmp = set(tmp + garbage)\n",
    "len(tmp)\n",
    "tmp"
   ]
  },
  {
   "cell_type": "code",
   "execution_count": 0,
   "metadata": {
    "colab": {},
    "colab_type": "code",
    "id": "G4e7NTqd_QFr"
   },
   "outputs": [],
   "source": [
    "from sklearn import linear_model\n",
    "\n",
    "from sklearn.ensemble import VotingClassifier\n",
    "\n",
    "from sklearn.ensemble import AdaBoostClassifier\n",
    "from sklearn.ensemble import RandomForestClassifier\n",
    "from sklearn.ensemble import BaggingClassifier\n",
    "from sklearn.ensemble import ExtraTreesClassifier\n",
    "from sklearn.ensemble import GradientBoostingClassifier\n",
    "from sklearn.ensemble import IsolationForest\n",
    "\n",
    "from sklearn.svm import SVC\n",
    "from sklearn.tree import DecisionTreeClassifier"
   ]
  },
  {
   "cell_type": "code",
   "execution_count": 0,
   "metadata": {
    "colab": {
     "base_uri": "https://localhost:8080/",
     "height": 54
    },
    "colab_type": "code",
    "id": "3gTEKlbI_QFu",
    "outputId": "e7f16a1c-d4de-4cac-c7c5-6fedb9a0f6f6"
   },
   "outputs": [
    {
     "data": {
      "text/plain": [
       "LinearRegression(copy_X=True, fit_intercept=True, n_jobs=None, normalize=False)"
      ]
     },
     "execution_count": 75,
     "metadata": {
      "tags": []
     },
     "output_type": "execute_result"
    },
    {
     "name": "stdout",
     "output_type": "stream",
     "text": [
      "Linear regression processing ,,,\n",
      "Linear regression Score: 0.30 %\n"
     ]
    }
   ],
   "source": [
    "LR = linear_model.LinearRegression()\n",
    "LR.fit(X_train, Y_train)\n",
    "lr_score = LR.score(X_test, Y_test)\n",
    "print('Linear regression processing ,,,')\n",
    "print('Linear regression Score: %.2f %%' % lr_score)"
   ]
  },
  {
   "cell_type": "code",
   "execution_count": 0,
   "metadata": {
    "colab": {
     "base_uri": "https://localhost:8080/",
     "height": 199
    },
    "colab_type": "code",
    "id": "wj9l0ezu_QFy",
    "outputId": "71145fa0-fcbe-4b9e-cb26-f6bb3f888ecf"
   },
   "outputs": [
    {
     "data": {
      "text/plain": [
       "{'dst_bytes',\n",
       " 'is_host_login',\n",
       " 'land',\n",
       " 'num_compromised',\n",
       " 'num_failed_logins',\n",
       " 'num_outbound_cmds',\n",
       " 'num_root',\n",
       " 'num_shells',\n",
       " 'root_shell',\n",
       " 'urgent'}"
      ]
     },
     "execution_count": 73,
     "metadata": {
      "tags": []
     },
     "output_type": "execute_result"
    },
    {
     "data": {
      "text/plain": [
       "(125973, 31)"
      ]
     },
     "execution_count": 73,
     "metadata": {
      "tags": []
     },
     "output_type": "execute_result"
    },
    {
     "data": {
      "text/plain": [
       "(10000, 31)"
      ]
     },
     "execution_count": 73,
     "metadata": {
      "tags": []
     },
     "output_type": "execute_result"
    }
   ],
   "source": [
    "try:  #TODO\n",
    "    X_train = X_train.drop(tmp,axis=1)\n",
    "    X_test = X_test.drop(tmp,axis=1)\n",
    "except:\n",
    "    None\n",
    "    \n",
    "X_train.shape\n",
    "X_test.shape"
   ]
  },
  {
   "cell_type": "code",
   "execution_count": 0,
   "metadata": {
    "colab": {
     "base_uri": "https://localhost:8080/",
     "height": 54
    },
    "colab_type": "code",
    "id": "yK9WTOsh_QF2",
    "outputId": "d8edfe2c-9a0b-411c-fc6a-922074e55892"
   },
   "outputs": [
    {
     "data": {
      "text/plain": [
       "LinearRegression(copy_X=True, fit_intercept=True, n_jobs=None, normalize=False)"
      ]
     },
     "execution_count": 74,
     "metadata": {
      "tags": []
     },
     "output_type": "execute_result"
    },
    {
     "name": "stdout",
     "output_type": "stream",
     "text": [
      "Linear regression processing ,,,\n",
      "Linear regression Score: 0.30 %\n"
     ]
    }
   ],
   "source": [
    "LR = linear_model.LinearRegression()\n",
    "LR.fit(X_train, Y_train)\n",
    "lr_score = LR.score(X_test, Y_test)\n",
    "print('Linear regression processing ,,,')\n",
    "print('Linear regression Score: %.2f %%' % lr_score)"
   ]
  },
  {
   "cell_type": "code",
   "execution_count": 0,
   "metadata": {
    "colab": {},
    "colab_type": "code",
    "id": "7y-NiCAv_QF9"
   },
   "outputs": [],
   "source": [
    "AB = AdaBoostClassifier(base_estimator=DecisionTreeClassifier(), n_estimators=100, learning_rate=1.0)\n",
    "RF = RandomForestClassifier(n_estimators=10, criterion='entropy', max_features='auto', bootstrap=True)\n",
    "ET = ExtraTreesClassifier(n_estimators=10, criterion='gini', max_features='auto', bootstrap=False)\n",
    "GB = GradientBoostingClassifier(loss='deviance', learning_rate=0.1, n_estimators=200, max_features='auto')"
   ]
  },
  {
   "cell_type": "code",
   "execution_count": 0,
   "metadata": {
    "colab": {},
    "colab_type": "code",
    "id": "1LSuWcIj_QGA"
   },
   "outputs": [],
   "source": [
    "# y_train = Y_train['xAttack'].ravel()\n",
    "# x_train = X_train.values\n",
    "# x_test = X_test.values"
   ]
  },
  {
   "cell_type": "code",
   "execution_count": 0,
   "metadata": {
    "colab": {
     "base_uri": "https://localhost:8080/",
     "height": 308
    },
    "colab_type": "code",
    "id": "OY4ePfZq_QGD",
    "outputId": "621925fb-ec11-41f0-9ce1-ddb9e779d864"
   },
   "outputs": [
    {
     "data": {
      "text/plain": [
       "AdaBoostClassifier(algorithm='SAMME.R',\n",
       "                   base_estimator=DecisionTreeClassifier(class_weight=None,\n",
       "                                                         criterion='gini',\n",
       "                                                         max_depth=None,\n",
       "                                                         max_features=None,\n",
       "                                                         max_leaf_nodes=None,\n",
       "                                                         min_impurity_decrease=0.0,\n",
       "                                                         min_impurity_split=None,\n",
       "                                                         min_samples_leaf=1,\n",
       "                                                         min_samples_split=2,\n",
       "                                                         min_weight_fraction_leaf=0.0,\n",
       "                                                         presort=False,\n",
       "                                                         random_state=None,\n",
       "                                                         splitter='best'),\n",
       "                   learning_rate=1.0, n_estimators=100, random_state=None)"
      ]
     },
     "execution_count": 38,
     "metadata": {
      "tags": []
     },
     "output_type": "execute_result"
    },
    {
     "name": "stdout",
     "output_type": "stream",
     "text": [
      "AdaBoostClassifier processing ,,,\n",
      "AdaBoostClassifier Score: 0.748 %\n"
     ]
    }
   ],
   "source": [
    "AB.fit(X_train, Y_train)\n",
    "AB_feature = AB.feature_importances_\n",
    "#AB_feature\n",
    "ab_score = AB.score(X_test, Y_test)\n",
    "\n",
    "print('AdaBoostClassifier processing ,,,')\n",
    "print('AdaBoostClassifier Score: %.3f %%' % ab_score)"
   ]
  },
  {
   "cell_type": "code",
   "execution_count": 0,
   "metadata": {
    "colab": {
     "base_uri": "https://localhost:8080/",
     "height": 163
    },
    "colab_type": "code",
    "id": "mGENFPUS_QGN",
    "outputId": "965f665d-8638-4711-f3d8-f0a64ccab9a3"
   },
   "outputs": [
    {
     "data": {
      "text/plain": [
       "RandomForestClassifier(bootstrap=True, class_weight=None, criterion='entropy',\n",
       "                       max_depth=None, max_features='auto', max_leaf_nodes=None,\n",
       "                       min_impurity_decrease=0.0, min_impurity_split=None,\n",
       "                       min_samples_leaf=1, min_samples_split=2,\n",
       "                       min_weight_fraction_leaf=0.0, n_estimators=10,\n",
       "                       n_jobs=None, oob_score=False, random_state=None,\n",
       "                       verbose=0, warm_start=False)"
      ]
     },
     "execution_count": 39,
     "metadata": {
      "tags": []
     },
     "output_type": "execute_result"
    },
    {
     "name": "stdout",
     "output_type": "stream",
     "text": [
      "RandomForestClassifier processing ,,,\n",
      "RandomForestClassifier Score: 0.765 %\n"
     ]
    }
   ],
   "source": [
    "RF.fit(X_train, Y_train)\n",
    "RF_feature = RF.feature_importances_\n",
    "#RF_feature\n",
    "\n",
    "rf_score = RF.score(X_test, Y_test)\n",
    "\n",
    "print('RandomForestClassifier processing ,,,')\n",
    "print('RandomForestClassifier Score: %.3f %%' % rf_score)"
   ]
  },
  {
   "cell_type": "code",
   "execution_count": 0,
   "metadata": {
    "colab": {
     "base_uri": "https://localhost:8080/",
     "height": 163
    },
    "colab_type": "code",
    "id": "NDZHaC4K_QGV",
    "outputId": "57afabd3-8eb7-4c54-a969-f01b04bff1c0"
   },
   "outputs": [
    {
     "data": {
      "text/plain": [
       "ExtraTreesClassifier(bootstrap=False, class_weight=None, criterion='gini',\n",
       "                     max_depth=None, max_features='auto', max_leaf_nodes=None,\n",
       "                     min_impurity_decrease=0.0, min_impurity_split=None,\n",
       "                     min_samples_leaf=1, min_samples_split=2,\n",
       "                     min_weight_fraction_leaf=0.0, n_estimators=10, n_jobs=None,\n",
       "                     oob_score=False, random_state=None, verbose=0,\n",
       "                     warm_start=False)"
      ]
     },
     "execution_count": 40,
     "metadata": {
      "tags": []
     },
     "output_type": "execute_result"
    },
    {
     "name": "stdout",
     "output_type": "stream",
     "text": [
      "ExtraTreesClassifier processing ,,,\n",
      "ExtraTreeClassifier: 0.766 %\n"
     ]
    }
   ],
   "source": [
    "ET.fit(X_train, Y_train)\n",
    "ET_feature = ET.feature_importances_\n",
    "#ET_feature\n",
    "\n",
    "et_score = ET.score(X_test, Y_test)\n",
    "\n",
    "print('ExtraTreesClassifier processing ,,,')\n",
    "print('ExtraTreeClassifier: %.3f %%' % et_score)"
   ]
  },
  {
   "cell_type": "code",
   "execution_count": 0,
   "metadata": {
    "colab": {
     "base_uri": "https://localhost:8080/",
     "height": 217
    },
    "colab_type": "code",
    "id": "jJ6oCaY3_QGY",
    "outputId": "8ff409a2-8690-406c-e89a-38aa255d383a"
   },
   "outputs": [
    {
     "data": {
      "text/plain": [
       "GradientBoostingClassifier(criterion='friedman_mse', init=None,\n",
       "                           learning_rate=0.1, loss='deviance', max_depth=3,\n",
       "                           max_features='auto', max_leaf_nodes=None,\n",
       "                           min_impurity_decrease=0.0, min_impurity_split=None,\n",
       "                           min_samples_leaf=1, min_samples_split=2,\n",
       "                           min_weight_fraction_leaf=0.0, n_estimators=200,\n",
       "                           n_iter_no_change=None, presort='auto',\n",
       "                           random_state=None, subsample=1.0, tol=0.0001,\n",
       "                           validation_fraction=0.1, verbose=0,\n",
       "                           warm_start=False)"
      ]
     },
     "execution_count": 41,
     "metadata": {
      "tags": []
     },
     "output_type": "execute_result"
    },
    {
     "name": "stdout",
     "output_type": "stream",
     "text": [
      "GradientBoostingClassifier processing ,,,\n",
      "GradientBoostingClassifier Score: 0.761 %\n"
     ]
    }
   ],
   "source": [
    "GB.fit(X_train, Y_train)\n",
    "\n",
    "GB_feature = GB.feature_importances_\n",
    "#GB_feature\n",
    "\n",
    "gb_score = GB.score(X_test, Y_test)\n",
    "\n",
    "print('GradientBoostingClassifier processing ,,,')\n",
    "print('GradientBoostingClassifier Score: %.3f %%' % gb_score)"
   ]
  },
  {
   "cell_type": "code",
   "execution_count": 0,
   "metadata": {
    "colab": {
     "base_uri": "https://localhost:8080/",
     "height": 108
    },
    "colab_type": "code",
    "id": "G6xhq-V7_QGb",
    "outputId": "35bbf7ca-4a0d-4373-f03c-beb98cac5246"
   },
   "outputs": [
    {
     "data": {
      "text/html": [
       "<div>\n",
       "<style scoped>\n",
       "    .dataframe tbody tr th:only-of-type {\n",
       "        vertical-align: middle;\n",
       "    }\n",
       "\n",
       "    .dataframe tbody tr th {\n",
       "        vertical-align: top;\n",
       "    }\n",
       "\n",
       "    .dataframe thead th {\n",
       "        text-align: right;\n",
       "    }\n",
       "</style>\n",
       "<table border=\"1\" class=\"dataframe\">\n",
       "  <thead>\n",
       "    <tr style=\"text-align: right;\">\n",
       "      <th></th>\n",
       "      <th>features</th>\n",
       "      <th>AdaBoost</th>\n",
       "      <th>RandomForest</th>\n",
       "      <th>ExtraTree</th>\n",
       "      <th>GradientBoost</th>\n",
       "    </tr>\n",
       "  </thead>\n",
       "  <tbody>\n",
       "    <tr>\n",
       "      <th>0</th>\n",
       "      <td>duration</td>\n",
       "      <td>0.024841</td>\n",
       "      <td>0.003554</td>\n",
       "      <td>0.002528</td>\n",
       "      <td>0.002356</td>\n",
       "    </tr>\n",
       "    <tr>\n",
       "      <th>1</th>\n",
       "      <td>protocol_type</td>\n",
       "      <td>NaN</td>\n",
       "      <td>0.022990</td>\n",
       "      <td>0.041392</td>\n",
       "      <td>0.031850</td>\n",
       "    </tr>\n",
       "  </tbody>\n",
       "</table>\n",
       "</div>"
      ],
      "text/plain": [
       "        features  AdaBoost  RandomForest  ExtraTree  GradientBoost\n",
       "0       duration  0.024841      0.003554   0.002528       0.002356\n",
       "1  protocol_type       NaN      0.022990   0.041392       0.031850"
      ]
     },
     "execution_count": 78,
     "metadata": {
      "tags": []
     },
     "output_type": "execute_result"
    }
   ],
   "source": [
    "feature_df = pd.DataFrame({'features': X_train.columns.values, # names\n",
    "                           'AdaBoost' : AB_feature,\n",
    "                           'RandomForest' : RF_feature,\n",
    "                           'ExtraTree' : ET_feature,\n",
    "                           'GradientBoost' : GB_feature\n",
    "                          })\n",
    "#feature_df.features\n",
    "feature_df.head(2)"
   ]
  },
  {
   "cell_type": "code",
   "execution_count": 0,
   "metadata": {
    "colab": {
     "base_uri": "https://localhost:8080/",
     "height": 678
    },
    "colab_type": "code",
    "id": "SOPwTYny_QGe",
    "outputId": "6ab47e20-9a81-49e9-979b-384c9bbb53a0"
   },
   "outputs": [
    {
     "data": {
      "text/html": [
       "<div>\n",
       "<style scoped>\n",
       "    .dataframe tbody tr th:only-of-type {\n",
       "        vertical-align: middle;\n",
       "    }\n",
       "\n",
       "    .dataframe tbody tr th {\n",
       "        vertical-align: top;\n",
       "    }\n",
       "\n",
       "    .dataframe thead th {\n",
       "        text-align: right;\n",
       "    }\n",
       "</style>\n",
       "<table border=\"1\" class=\"dataframe\">\n",
       "  <thead>\n",
       "    <tr style=\"text-align: right;\">\n",
       "      <th></th>\n",
       "      <th>features</th>\n",
       "      <th>AdaBoost</th>\n",
       "      <th>RandomForest</th>\n",
       "      <th>ExtraTree</th>\n",
       "      <th>GradientBoost</th>\n",
       "    </tr>\n",
       "  </thead>\n",
       "  <tbody>\n",
       "    <tr>\n",
       "      <th>23</th>\n",
       "      <td>dst_host_same_srv_rate</td>\n",
       "      <td>0.087415</td>\n",
       "      <td>0.050009</td>\n",
       "      <td>0.027385</td>\n",
       "      <td>0.003637</td>\n",
       "    </tr>\n",
       "    <tr>\n",
       "      <th>25</th>\n",
       "      <td>dst_host_same_src_port_rate</td>\n",
       "      <td>0.042108</td>\n",
       "      <td>0.037372</td>\n",
       "      <td>0.044946</td>\n",
       "      <td>0.007915</td>\n",
       "    </tr>\n",
       "    <tr>\n",
       "      <th>24</th>\n",
       "      <td>dst_host_diff_srv_rate</td>\n",
       "      <td>0.028493</td>\n",
       "      <td>0.028069</td>\n",
       "      <td>0.037521</td>\n",
       "      <td>0.052778</td>\n",
       "    </tr>\n",
       "    <tr>\n",
       "      <th>0</th>\n",
       "      <td>duration</td>\n",
       "      <td>0.024841</td>\n",
       "      <td>0.003554</td>\n",
       "      <td>0.002528</td>\n",
       "      <td>0.002356</td>\n",
       "    </tr>\n",
       "    <tr>\n",
       "      <th>29</th>\n",
       "      <td>dst_host_rerror_rate</td>\n",
       "      <td>0.017669</td>\n",
       "      <td>0.020824</td>\n",
       "      <td>0.032725</td>\n",
       "      <td>0.004649</td>\n",
       "    </tr>\n",
       "    <tr>\n",
       "      <th>12</th>\n",
       "      <td>count</td>\n",
       "      <td>0.017467</td>\n",
       "      <td>0.044294</td>\n",
       "      <td>0.040761</td>\n",
       "      <td>0.057363</td>\n",
       "    </tr>\n",
       "    <tr>\n",
       "      <th>5</th>\n",
       "      <td>wrong_fragment</td>\n",
       "      <td>0.011327</td>\n",
       "      <td>0.006679</td>\n",
       "      <td>0.015107</td>\n",
       "      <td>0.013814</td>\n",
       "    </tr>\n",
       "    <tr>\n",
       "      <th>18</th>\n",
       "      <td>same_srv_rate</td>\n",
       "      <td>0.010658</td>\n",
       "      <td>0.027390</td>\n",
       "      <td>0.025926</td>\n",
       "      <td>0.194059</td>\n",
       "    </tr>\n",
       "    <tr>\n",
       "      <th>9</th>\n",
       "      <td>num_file_creations</td>\n",
       "      <td>0.009409</td>\n",
       "      <td>0.000242</td>\n",
       "      <td>0.000254</td>\n",
       "      <td>0.001184</td>\n",
       "    </tr>\n",
       "    <tr>\n",
       "      <th>7</th>\n",
       "      <td>logged_in</td>\n",
       "      <td>0.007966</td>\n",
       "      <td>0.008731</td>\n",
       "      <td>0.064461</td>\n",
       "      <td>0.003302</td>\n",
       "    </tr>\n",
       "    <tr>\n",
       "      <th>27</th>\n",
       "      <td>dst_host_serror_rate</td>\n",
       "      <td>0.007306</td>\n",
       "      <td>0.007168</td>\n",
       "      <td>0.179524</td>\n",
       "      <td>0.077281</td>\n",
       "    </tr>\n",
       "    <tr>\n",
       "      <th>28</th>\n",
       "      <td>dst_host_srv_serror_rate</td>\n",
       "      <td>NaN</td>\n",
       "      <td>0.059418</td>\n",
       "      <td>0.136709</td>\n",
       "      <td>0.000300</td>\n",
       "    </tr>\n",
       "    <tr>\n",
       "      <th>14</th>\n",
       "      <td>serror_rate</td>\n",
       "      <td>0.004599</td>\n",
       "      <td>0.027617</td>\n",
       "      <td>0.073722</td>\n",
       "      <td>0.009355</td>\n",
       "    </tr>\n",
       "    <tr>\n",
       "      <th>16</th>\n",
       "      <td>rerror_rate</td>\n",
       "      <td>0.004069</td>\n",
       "      <td>0.008998</td>\n",
       "      <td>0.041599</td>\n",
       "      <td>0.000030</td>\n",
       "    </tr>\n",
       "    <tr>\n",
       "      <th>1</th>\n",
       "      <td>protocol_type</td>\n",
       "      <td>NaN</td>\n",
       "      <td>0.022990</td>\n",
       "      <td>0.041392</td>\n",
       "      <td>0.031850</td>\n",
       "    </tr>\n",
       "    <tr>\n",
       "      <th>22</th>\n",
       "      <td>dst_host_srv_count</td>\n",
       "      <td>NaN</td>\n",
       "      <td>0.055723</td>\n",
       "      <td>0.039456</td>\n",
       "      <td>0.021806</td>\n",
       "    </tr>\n",
       "    <tr>\n",
       "      <th>4</th>\n",
       "      <td>src_bytes</td>\n",
       "      <td>NaN</td>\n",
       "      <td>0.319445</td>\n",
       "      <td>0.023485</td>\n",
       "      <td>0.409165</td>\n",
       "    </tr>\n",
       "    <tr>\n",
       "      <th>26</th>\n",
       "      <td>dst_host_srv_diff_host_rate</td>\n",
       "      <td>NaN</td>\n",
       "      <td>0.013543</td>\n",
       "      <td>0.016416</td>\n",
       "      <td>0.049680</td>\n",
       "    </tr>\n",
       "    <tr>\n",
       "      <th>19</th>\n",
       "      <td>diff_srv_rate</td>\n",
       "      <td>NaN</td>\n",
       "      <td>0.112182</td>\n",
       "      <td>0.009726</td>\n",
       "      <td>0.034747</td>\n",
       "    </tr>\n",
       "    <tr>\n",
       "      <th>13</th>\n",
       "      <td>srv_count</td>\n",
       "      <td>NaN</td>\n",
       "      <td>0.030012</td>\n",
       "      <td>0.017895</td>\n",
       "      <td>0.003800</td>\n",
       "    </tr>\n",
       "    <tr>\n",
       "      <th>2</th>\n",
       "      <td>service</td>\n",
       "      <td>NaN</td>\n",
       "      <td>0.028846</td>\n",
       "      <td>0.018768</td>\n",
       "      <td>0.010731</td>\n",
       "    </tr>\n",
       "  </tbody>\n",
       "</table>\n",
       "</div>"
      ],
      "text/plain": [
       "                       features  AdaBoost  ...  ExtraTree  GradientBoost\n",
       "23       dst_host_same_srv_rate  0.087415  ...   0.027385       0.003637\n",
       "25  dst_host_same_src_port_rate  0.042108  ...   0.044946       0.007915\n",
       "24       dst_host_diff_srv_rate  0.028493  ...   0.037521       0.052778\n",
       "0                      duration  0.024841  ...   0.002528       0.002356\n",
       "29         dst_host_rerror_rate  0.017669  ...   0.032725       0.004649\n",
       "12                        count  0.017467  ...   0.040761       0.057363\n",
       "5                wrong_fragment  0.011327  ...   0.015107       0.013814\n",
       "18                same_srv_rate  0.010658  ...   0.025926       0.194059\n",
       "9            num_file_creations  0.009409  ...   0.000254       0.001184\n",
       "7                     logged_in  0.007966  ...   0.064461       0.003302\n",
       "27         dst_host_serror_rate  0.007306  ...   0.179524       0.077281\n",
       "28     dst_host_srv_serror_rate       NaN  ...   0.136709       0.000300\n",
       "14                  serror_rate  0.004599  ...   0.073722       0.009355\n",
       "16                  rerror_rate  0.004069  ...   0.041599       0.000030\n",
       "1                 protocol_type       NaN  ...   0.041392       0.031850\n",
       "22           dst_host_srv_count       NaN  ...   0.039456       0.021806\n",
       "4                     src_bytes       NaN  ...   0.023485       0.409165\n",
       "26  dst_host_srv_diff_host_rate       NaN  ...   0.016416       0.049680\n",
       "19                diff_srv_rate       NaN  ...   0.009726       0.034747\n",
       "13                    srv_count       NaN  ...   0.017895       0.003800\n",
       "2                       service       NaN  ...   0.018768       0.010731\n",
       "\n",
       "[21 rows x 5 columns]"
      ]
     },
     "execution_count": 81,
     "metadata": {
      "tags": []
     },
     "output_type": "execute_result"
    }
   ],
   "source": [
    "n = 10\n",
    "a_f = feature_df.nlargest(n, 'AdaBoost')\n",
    "e_f = feature_df.nlargest(n, 'ExtraTree')\n",
    "g_f = feature_df.nlargest(n, 'GradientBoost')\n",
    "r_f = feature_df.nlargest(n, 'RandomForest')\n",
    "\n",
    "result = pd.concat([a_f, e_f, g_f, r_f])\n",
    "result = result.drop_duplicates() \n",
    "# result.shape\n",
    "# print('\\n')\n",
    "\n",
    "# garbage = np.argsort(result.transpose().mean())\n",
    "# garbage = garbage.sort_index()[:5] # FML... :'(\n",
    "    \n",
    "# garbage.index\n",
    "\n",
    "# result = result.drop(garbage.index)\n",
    "# result.shape\n",
    "\n",
    "\n",
    "\n",
    "# arr = X_train.columns.to_numpy()\n",
    "# result = result.set_index(np.take(arr,result.index))\n",
    "result.in"
   ]
  },
  {
   "cell_type": "markdown",
   "metadata": {
    "colab_type": "text",
    "id": "MDdDSU8RO3a4"
   },
   "source": [
    "### what the fuck am i doing with my life.... 45mins wasted on numpy "
   ]
  },
  {
   "cell_type": "code",
   "execution_count": 0,
   "metadata": {
    "colab": {
     "base_uri": "https://localhost:8080/",
     "height": 35
    },
    "colab_type": "code",
    "id": "6W8vwtE0_QGh",
    "outputId": "5593e804-da4a-42d3-d005-b7aba35ff4d8"
   },
   "outputs": [
    {
     "data": {
      "text/plain": [
       "(125973, 21)"
      ]
     },
     "execution_count": 82,
     "metadata": {
      "tags": []
     },
     "output_type": "execute_result"
    },
    {
     "data": {
      "text/plain": [
       "125973"
      ]
     },
     "execution_count": 82,
     "metadata": {
      "tags": []
     },
     "output_type": "execute_result"
    }
   ],
   "source": [
    "# X_train_SF = X_train[result.index]\n",
    "# X_test_SF = X_test[result.index]\n",
    "\n",
    "\n",
    "\n",
    "selected_features = result['features'].values.tolist()\n",
    "X_train_SF = X_train[selected_features]\n",
    "X_test_SF = X_test[selected_features]\n",
    "\n",
    "\n",
    "x = X_train_SF#.reshape(-1, 26)  # 31\n",
    "y = Y_train['xAttack'].ravel()\n",
    "\n",
    "\n",
    "# x=x[:20000]\n",
    "# y=y[:20000]\n",
    "\n",
    "\n",
    "x.shape\n",
    "y.size"
   ]
  },
  {
   "cell_type": "code",
   "execution_count": 0,
   "metadata": {
    "colab": {
     "base_uri": "https://localhost:8080/",
     "height": 108
    },
    "colab_type": "code",
    "id": "DPbIkY3GNXp6",
    "outputId": "17d1f7f7-aec6-400c-f2b9-52da04a01e5c"
   },
   "outputs": [
    {
     "name": "stdout",
     "output_type": "stream",
     "text": [
      "Acc: 0.74 [DecisionTreeClassifier]\n",
      "Acc: 0.76 [Random Forest]\n",
      "Acc: 0.72 [GradientBoostingClassifier]\n",
      "Acc: 0.76 [ExtraTreesClassifier]\n",
      "Acc: 0.76 [Ensemble]\n"
     ]
    }
   ],
   "source": [
    "from sklearn.tree import DecisionTreeClassifier\n",
    "clf1 = DecisionTreeClassifier() \n",
    "clf2 = RandomForestClassifier(n_estimators=25, random_state=1)# .77\n",
    "clf3 = GradientBoostingClassifier() # .76\n",
    "ET = ExtraTreesClassifier(n_estimators=10, criterion='gini', max_features='auto', bootstrap=False) # .76 # without this lil fucker, Acc: 0.75 [Ensemble], 0.78 with \n",
    "\n",
    "eclf = VotingClassifier(estimators=[('lr', clf1), ('rf', clf2), ('gnb', clf3),('et',ET)], voting='hard') \n",
    "# n =7 with better selection; .79\n",
    "# n =7 ; .77\n",
    "# n =10 ; .78\n",
    "# n =14 ; .77\n",
    "\n",
    "\n",
    "# eclf = VotingClassifier(estimators=[('lr', clf1), ('rf', clf2), ('gnb', clf3),('et',ET)], voting='soft') #.76\n",
    "\n",
    "for clf, label in zip([clf1, clf2, clf3,ET, eclf], ['DecisionTreeClassifier', 'Random Forest', 'GradientBoostingClassifier','ExtraTreesClassifier', 'Ensemble']): \n",
    "    # scores = cross_val_score(clf, x, y, cv=2, scoring='accuracy') # cv= 5 \n",
    "    # print(\"Accuracy: %0.2f (+/- %0.2f) [%s]\" % (scores.mean(), scores.std(), label))\n",
    "\n",
    "    tmp = clf.fit(x,y)\n",
    "    pred = clf.score(X_test_SF,Y_test)\n",
    "    print(\"Acc: %0.2f [%s]\" % (pred,label))"
   ]
  },
  {
   "cell_type": "markdown",
   "metadata": {
    "colab_type": "text",
    "id": "cH2taY3SX6UB"
   },
   "source": [
    "## lets multithread this fucker"
   ]
  },
  {
   "cell_type": "markdown",
   "metadata": {
    "colab_type": "text",
    "id": "tsv_1ahu_QGz"
   },
   "source": [
    "* https://stackoverflow.com/questions/42920148/using-sklearn-voting-ensemble-with-partial-fit\n",
    "\n",
    "* https://gist.github.com/tomquisel/a421235422fdf6b51ec2ccc5e3dee1b4\n",
    "\n"
   ]
  },
  {
   "cell_type": "code",
   "execution_count": 0,
   "metadata": {
    "colab": {},
    "colab_type": "code",
    "id": "cfvwOpUF_QG1"
   },
   "outputs": [],
   "source": [
    "# import multiprocessing\n",
    "\n",
    "# ET = ExtraTreesClassifier(n_estimators=10, criterion='gini', max_features='auto', bootstrap=False) # .76 \n",
    "# RF = RandomForestClassifier(n_estimators=25, random_state=1)# .75\n",
    "# GB = GradientBoostingClassifier() # .74\n",
    "# ET = ExtraTreesClassifier(n_estimators=10, criterion='gini', max_features='auto', bootstrap=False) # .77 # without this lil fucker, Acc: 0.75 [Ensemble]\n",
    "# clfList = [ET,RF,GB,ET]\n",
    "\n",
    "# def spawn(clf):\n",
    "#   clf.fit(x,y)\n",
    "#   print(\"Done another one!\")\n",
    "\n",
    "# import time\n",
    "# start = time.time()\n",
    "\n",
    "# if __name__ == '__main__':\n",
    "  \n",
    "#   for i in clfList:\n",
    "#     print(i)\n",
    "#     #spawn(i) # 16 secounds \n",
    "\n",
    "#     # # 16 secounds\n",
    "#     # p = threading.Thread(target=spawn, args=(i,))\n",
    "#     # p.start()\n",
    "#     # p.join()\n",
    "    \n",
    "#   p=multiprocessing.Pool(6) # 15.65\n",
    "#   results = p.map(spawn,clfList) # clfList has 4 models, first 2 are fast, last 2 are slow\n",
    "#   results\n",
    "\n",
    "\n",
    "# end = time.time()\n",
    "# print(end - start)\n"
   ]
  },
  {
   "cell_type": "code",
   "execution_count": 0,
   "metadata": {
    "colab": {},
    "colab_type": "code",
    "id": "q0xAIEffkqU-"
   },
   "outputs": [],
   "source": [
    "# ET.score(X_test_SF,Y_test)\n"
   ]
  },
  {
   "cell_type": "code",
   "execution_count": 0,
   "metadata": {
    "colab": {},
    "colab_type": "code",
    "id": "UBY_i_Uf_QG4"
   },
   "outputs": [],
   "source": []
  },
  {
   "cell_type": "code",
   "execution_count": 0,
   "metadata": {
    "colab": {},
    "colab_type": "code",
    "id": "1IqJJqUO_QG7"
   },
   "outputs": [],
   "source": []
  },
  {
   "cell_type": "code",
   "execution_count": 0,
   "metadata": {
    "colab": {},
    "colab_type": "code",
    "id": "rk9MFP46_QG-"
   },
   "outputs": [],
   "source": [
    "# from sklearn.cluster import KMeans\n",
    "# for i in range(10):\n",
    "#     tmp = KMeans(i)    \n",
    "#     tmp = clf.fit(x,y)\n",
    "#     tmp = tmp.score(X_test_SF,Y_test)\n",
    "#     print(i,tmp)\n",
    "\n"
   ]
  },
  {
   "cell_type": "code",
   "execution_count": 0,
   "metadata": {
    "colab": {},
    "colab_type": "code",
    "id": "_CpIgnfF_QHC"
   },
   "outputs": [],
   "source": []
  },
  {
   "cell_type": "code",
   "execution_count": 0,
   "metadata": {
    "colab": {},
    "colab_type": "code",
    "id": "CRxi6CFz_QHF"
   },
   "outputs": [],
   "source": []
  },
  {
   "cell_type": "code",
   "execution_count": 0,
   "metadata": {
    "colab": {},
    "colab_type": "code",
    "id": "LNhmNgE5_QHI"
   },
   "outputs": [],
   "source": []
  },
  {
   "cell_type": "code",
   "execution_count": 0,
   "metadata": {
    "colab": {},
    "colab_type": "code",
    "id": "APkmU6e__QHL"
   },
   "outputs": [],
   "source": []
  },
  {
   "cell_type": "code",
   "execution_count": 0,
   "metadata": {
    "colab": {},
    "colab_type": "code",
    "id": "MO9HTqti_QHQ"
   },
   "outputs": [],
   "source": []
  }
 ],
 "metadata": {
  "accelerator": "GPU",
  "colab": {
   "collapsed_sections": [],
   "name": "Copy of amonalyDetection/kddcup-99.ipynb",
   "provenance": []
  },
  "kernelspec": {
   "display_name": "Python 3",
   "language": "python",
   "name": "python3"
  },
  "language_info": {
   "codemirror_mode": {
    "name": "ipython",
    "version": 3
   },
   "file_extension": ".py",
   "mimetype": "text/x-python",
   "name": "python",
   "nbconvert_exporter": "python",
   "pygments_lexer": "ipython3",
   "version": "3.7.3"
  }
 },
 "nbformat": 4,
 "nbformat_minor": 1
}
