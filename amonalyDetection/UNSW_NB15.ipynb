{
  "nbformat": 4,
  "nbformat_minor": 0,
  "metadata": {
    "colab": {
      "name": "UNSW-NB15",
      "provenance": [],
      "collapsed_sections": [
        "h2Kvca3apvAc",
        "JApW6PtyluMN"
      ],
      "include_colab_link": true
    },
    "kernelspec": {
      "name": "python3",
      "display_name": "Python 3"
    },
    "accelerator": "TPU"
  },
  "cells": [
    {
      "cell_type": "markdown",
      "metadata": {
        "id": "view-in-github",
        "colab_type": "text"
      },
      "source": [
        "<a href=\"https://colab.research.google.com/github/alik604/Notebooks/blob/master/amonalyDetection/UNSW_NB15.ipynb\" target=\"_parent\"><img src=\"https://colab.research.google.com/assets/colab-badge.svg\" alt=\"Open In Colab\"/></a>"
      ]
    },
    {
      "cell_type": "markdown",
      "metadata": {
        "id": "Fl-cPhNxn6QU",
        "colab_type": "text"
      },
      "source": [
        " ## References \n",
        "\n",
        " * Data source: https://www.unsw.adfa.edu.au/unsw-canberra-cyber/cybersecurity/ADFA-NB15-Datasets/\n",
        " * Sample/starter code: https://github.com/Nir-J/ML-Projects/blob/master/UNSW-Network_Packet_Classification/unsw.py"
      ]
    },
    {
      "cell_type": "code",
      "metadata": {
        "id": "Lx1Zh6UUU-ov",
        "colab_type": "code",
        "colab": {}
      },
      "source": [
        "%config IPCompleter.greedy=True\n",
        "import pandas as pd\n",
        "import seaborn as sns\n",
        "import numpy as np\n",
        "\n",
        "import matplotlib as matplot\n",
        "import matplotlib.pyplot as plt\n",
        "%matplotlib inline\n",
        "\n",
        "from IPython.core.interactiveshell import InteractiveShell\n",
        "InteractiveShell.ast_node_interactivity = \"all\"\n",
        "\n",
        "import warnings\n",
        "warnings.filterwarnings(\"ignore\")\n",
        "\n",
        "from keras.models import Model, load_model\n",
        "from keras.layers import *\n",
        "from keras.callbacks import ModelCheckpoint, TensorBoard\n",
        "from keras import regularizers\n",
        "\n",
        "from sklearn.metrics import (confusion_matrix, precision_recall_curve, auc,\n",
        "                             roc_curve, recall_score, classification_report, f1_score,\n",
        "                             precision_recall_fscore_support)\n",
        "from sklearn.tree import DecisionTreeClassifier\n",
        "from sklearn.ensemble import RandomForestClassifier, ExtraTreesClassifier, VotingClassifier\n",
        "from sklearn.model_selection import train_test_split\n",
        "from sklearn.preprocessing import LabelEncoder,normalize"
      ],
      "execution_count": 0,
      "outputs": []
    },
    {
      "cell_type": "markdown",
      "metadata": {
        "id": "h2Kvca3apvAc",
        "colab_type": "text"
      },
      "source": [
        "# Preprocessing (transformation/scaling) "
      ]
    },
    {
      "cell_type": "code",
      "metadata": {
        "id": "vjw9JrARVJ23",
        "colab_type": "code",
        "colab": {}
      },
      "source": [
        "train = pd.read_csv('https://raw.githubusercontent.com/Nir-J/ML-Projects/master/UNSW-Network_Packet_Classification/UNSW_NB15_training-set.csv')\n",
        "test = pd.read_csv('https://raw.githubusercontent.com/Nir-J/ML-Projects/master/UNSW-Network_Packet_Classification/UNSW_NB15_testing-set.csv')\n",
        "combined_data = pd.concat([train, test]).drop(['id'],axis=1)"
      ],
      "execution_count": 0,
      "outputs": []
    },
    {
      "cell_type": "code",
      "metadata": {
        "id": "C5hh-CdxbjCZ",
        "colab_type": "code",
        "colab": {
          "base_uri": "https://localhost:8080/",
          "height": 0
        },
        "outputId": "2d79c3cc-edc7-4e43-823e-357ce7588b09"
      },
      "source": [
        "tmp = train.where(train['attack_cat'] == \"Normal\").dropna()\n",
        "len(tmp['attack_cat'])/len(train['attack_cat'])\n",
        "print ()\n",
        "tmp = test.where(test['attack_cat'] == \"Normal\").dropna()\n",
        "len(tmp['attack_cat'])/len(test['attack_cat'])"
      ],
      "execution_count": 125,
      "outputs": [
        {
          "output_type": "execute_result",
          "data": {
            "text/plain": [
              "0.3193776697977085"
            ]
          },
          "metadata": {
            "tags": []
          },
          "execution_count": 125
        },
        {
          "output_type": "stream",
          "text": [
            "\n"
          ],
          "name": "stdout"
        },
        {
          "output_type": "execute_result",
          "data": {
            "text/plain": [
              "0.44939999028324346"
            ]
          },
          "metadata": {
            "tags": []
          },
          "execution_count": 125
        }
      ]
    },
    {
      "cell_type": "code",
      "metadata": {
        "id": "_tfrFURcVJ6X",
        "colab_type": "code",
        "outputId": "1b8822ed-0a4e-45df-d144-e380b4dfe480",
        "colab": {
          "base_uri": "https://localhost:8080/",
          "height": 0
        }
      },
      "source": [
        "le1 = LabelEncoder()\n",
        "le = LabelEncoder()\n",
        "\n",
        "vector = combined_data['attack_cat']\n",
        "\n",
        "print(\"attack cat:\", set(list(vector))) # use print to make it print on single line \n",
        "\n",
        "combined_data['attack_cat'] = le1.fit_transform(vector)\n",
        "combined_data['proto'] = le.fit_transform(combined_data['proto'])\n",
        "combined_data['service'] = le.fit_transform(combined_data['service'])\n",
        "combined_data['state'] = le.fit_transform(combined_data['state'])\n",
        "\n",
        "vector = combined_data['attack_cat']\n",
        "print('\\nDescribing attack_type: ')\n",
        "print(\"min\", vector.min())\n",
        "print(\"max\", vector.max())\n",
        "print(\"mode\",vector.mode())\n",
        "print(\"mode\", len(np.where(vector.values==6)[0])/len(vector),\"%\")\n",
        "print(\"looks like 6 is 'normal', but its not that common\") "
      ],
      "execution_count": 126,
      "outputs": [
        {
          "output_type": "stream",
          "text": [
            "attack cat: {'Worms', 'Backdoor', 'DoS', 'Reconnaissance', 'Fuzzers', 'Normal', 'Generic', 'Shellcode', 'Analysis', 'Exploits'}\n",
            "\n",
            "Describing attack_type: \n",
            "min 0\n",
            "max 9\n",
            "mode 0    6\n",
            "dtype: int64\n",
            "mode 0.3609225646458884 %\n",
            "looks like 6 is 'normal', but its not that common\n"
          ],
          "name": "stdout"
        }
      ]
    },
    {
      "cell_type": "code",
      "metadata": {
        "id": "FdGigIypbQfd",
        "colab_type": "code",
        "colab": {
          "base_uri": "https://localhost:8080/",
          "height": 0
        },
        "outputId": "1c70687f-45dd-45ec-8335-c5d63c176921"
      },
      "source": [
        "le1.inverse_transform([0,1,2,3,4,5,6,7,8,9])"
      ],
      "execution_count": 127,
      "outputs": [
        {
          "output_type": "execute_result",
          "data": {
            "text/plain": [
              "array(['Analysis', 'Backdoor', 'DoS', 'Exploits', 'Fuzzers', 'Generic',\n",
              "       'Normal', 'Reconnaissance', 'Shellcode', 'Worms'], dtype=object)"
            ]
          },
          "metadata": {
            "tags": []
          },
          "execution_count": 127
        }
      ]
    },
    {
      "cell_type": "code",
      "metadata": {
        "id": "1bFqsTemVJ92",
        "colab_type": "code",
        "outputId": "cc25129e-cded-4c6d-f546-667ed7ea3bae",
        "colab": {
          "base_uri": "https://localhost:8080/",
          "height": 0
        }
      },
      "source": [
        "# lowSTD = list(combined_data.std().to_frame().nsmallest(6,columns=0).index)\n",
        "# lowCORR = list(combined_data.corr().abs().sort_values('attack_cat')['attack_cat'].nsmallest(3).index) # .where(lambda x: x < 0.005).dropna()\n",
        "# drop = set( lowCORR + lowSTD)\n",
        "drop = {'ackdat', 'ct_ftp_cmd', 'djit', 'is_ftp_login', 'is_sm_ips_ports', 'response_body_len', 'sjit', 'synack', 'tcprtt'}\n",
        "combined_data.shape\n",
        "combined_data_reduced=combined_data.drop(drop,axis=1)\n",
        "combined_data_reduced.shape"
      ],
      "execution_count": 128,
      "outputs": [
        {
          "output_type": "execute_result",
          "data": {
            "text/plain": [
              "(257673, 44)"
            ]
          },
          "metadata": {
            "tags": []
          },
          "execution_count": 128
        },
        {
          "output_type": "execute_result",
          "data": {
            "text/plain": [
              "(257673, 35)"
            ]
          },
          "metadata": {
            "tags": []
          },
          "execution_count": 128
        }
      ]
    },
    {
      "cell_type": "code",
      "metadata": {
        "id": "Pjuk4i-aVAx7",
        "colab_type": "code",
        "colab": {}
      },
      "source": [
        "transform = list(combined_data_reduced.columns.values[4:])\n",
        "transform.append('dur')\n",
        "transform.remove('attack_cat')\n",
        "# transform min-max norm \n",
        "combined_data_reduced[transform] = combined_data_reduced[transform].apply(lambda x: (x - x.min()) / (x.max() - x.min()))"
      ],
      "execution_count": 0,
      "outputs": []
    },
    {
      "cell_type": "code",
      "metadata": {
        "id": "uRDvu_a8VA1q",
        "colab_type": "code",
        "colab": {}
      },
      "source": [
        "data_x = combined_data_reduced.drop(['attack_cat','label'], axis=1) # droped label\n",
        "data_y = combined_data_reduced.loc[:,['label']]\n",
        "# del combined_data # free mem\n",
        "X_train, X_test, y_train, y_test = train_test_split(data_x, data_y, test_size=.90, random_state=42) # TODO"
      ],
      "execution_count": 0,
      "outputs": []
    },
    {
      "cell_type": "code",
      "metadata": {
        "id": "l53VPdZ0ZA95",
        "colab_type": "code",
        "colab": {}
      },
      "source": [
        "#combined_data_reduced.where(combined_data_reduced['label'] == 1.0).dropna().tail(20)"
      ],
      "execution_count": 0,
      "outputs": []
    },
    {
      "cell_type": "code",
      "metadata": {
        "id": "xjNm11s-fqvw",
        "colab_type": "code",
        "outputId": "1884c01a-a3d5-454b-d5f0-40c83a570465",
        "colab": {
          "base_uri": "https://localhost:8080/",
          "height": 0
        }
      },
      "source": [
        "X_train.shape\n",
        "y_train.shape\n",
        "X_test.shape # test is larger... good \n",
        "y_test.shape"
      ],
      "execution_count": 132,
      "outputs": [
        {
          "output_type": "execute_result",
          "data": {
            "text/plain": [
              "(25767, 33)"
            ]
          },
          "metadata": {
            "tags": []
          },
          "execution_count": 132
        },
        {
          "output_type": "execute_result",
          "data": {
            "text/plain": [
              "(25767, 1)"
            ]
          },
          "metadata": {
            "tags": []
          },
          "execution_count": 132
        },
        {
          "output_type": "execute_result",
          "data": {
            "text/plain": [
              "(231906, 33)"
            ]
          },
          "metadata": {
            "tags": []
          },
          "execution_count": 132
        },
        {
          "output_type": "execute_result",
          "data": {
            "text/plain": [
              "(231906, 1)"
            ]
          },
          "metadata": {
            "tags": []
          },
          "execution_count": 132
        }
      ]
    },
    {
      "cell_type": "markdown",
      "metadata": {
        "id": "gVO_4gmThrU-",
        "colab_type": "text"
      },
      "source": [
        "# Benchmark before additional feature removal"
      ]
    },
    {
      "cell_type": "code",
      "metadata": {
        "id": "YZYIJ9d_VA57",
        "colab_type": "code",
        "colab": {}
      },
      "source": [
        "# x = X_train\n",
        "# y = y_train['attack_cat'].ravel()\n",
        "\n",
        "DTC = DecisionTreeClassifier() \n",
        "RFC = RandomForestClassifier(n_estimators=25, random_state=1)\n",
        "ETC = ExtraTreesClassifier(n_estimators=10, criterion='gini', max_features='auto', bootstrap=False)\n",
        "\n",
        "# eclf = VotingClassifier(estimators=[('lr', DTC), ('rf', RFC),('et',ETC)], voting='hard') \n",
        "# for clf, label in zip([DTC, RFC,ETC, eclf], ['DecisionTreeClassifier', 'RandomForestClassifier', 'ExtraTreesClassifier', 'Ensemble']): \n",
        "#     _ = eclf.fit(X_train,y_train)\n",
        "#     pred = eclf.score(X_test,y_test)\n",
        "#     print(\"Acc: %0.10f [%s]\" % (pred,label))"
      ],
      "execution_count": 0,
      "outputs": []
    },
    {
      "cell_type": "markdown",
      "metadata": {
        "id": "ZKObsSh2f4tM",
        "colab_type": "text"
      },
      "source": [
        "0.82 will all data and on reduced data"
      ]
    },
    {
      "cell_type": "code",
      "metadata": {
        "id": "MU1Lvj7fVA9S",
        "colab_type": "code",
        "colab": {}
      },
      "source": [
        "from sklearn.feature_selection import RFE\n",
        "from sklearn.decomposition import PCA,TruncatedSVD,PCA\n",
        "from sklearn.svm import LinearSVC\n",
        "n = 10 "
      ],
      "execution_count": 0,
      "outputs": []
    },
    {
      "cell_type": "code",
      "metadata": {
        "id": "5UJPOp7yVBA9",
        "colab_type": "code",
        "colab": {}
      },
      "source": [
        "rfe = RFE(DecisionTreeClassifier(), n).fit(X_train,y_train)\n",
        "\n",
        "desiredIndices = np.where(rfe.support_==True)[0]\n",
        "whitelist = X_train.columns.values[desiredIndices]\n",
        "X_train_RFE,X_test_RFE = X_train[whitelist],X_test[whitelist]\n",
        "\n",
        "# eclf = VotingClassifier(estimators=[('DecisionTreeClassifier', DTC), ('RandomForestClassifier', RFC),('ExtraTreesClassifier',ETC)], voting='hard')\n",
        "# _ = eclf.fit(X_train_RFE,y_train)\n",
        "# pred = eclf.score(X_test_RFE,y_test)\n",
        "\n",
        "# print(\"Acc: %0.10f\" % (pred))\n",
        "# print(\"number of features\",X_train_RFE.shape[1])"
      ],
      "execution_count": 0,
      "outputs": []
    },
    {
      "cell_type": "code",
      "metadata": {
        "id": "DL6SblkRVBEs",
        "colab_type": "code",
        "colab": {}
      },
      "source": [
        "svd = TruncatedSVD(n_components=n-1).fit(X_train_RFE)   # -20 will give 0.778, in the below benchmark preditings catogories \n",
        "X_train_svd, X_test_svd = svd.transform(X_train_RFE), svd.transform(X_test_RFE)"
      ],
      "execution_count": 0,
      "outputs": []
    },
    {
      "cell_type": "markdown",
      "metadata": {
        "id": "AgKg-9lehlHl",
        "colab_type": "text"
      },
      "source": [
        "# Benchmark after additional feature removal"
      ]
    },
    {
      "cell_type": "code",
      "metadata": {
        "id": "vIekQooxVBHk",
        "colab_type": "code",
        "outputId": "01fa3284-2818-4a68-a440-92fba3a04406",
        "colab": {
          "base_uri": "https://localhost:8080/",
          "height": 35
        }
      },
      "source": [
        "print(X_train_svd.shape)\n",
        "\n",
        "DTC = DecisionTreeClassifier() \n",
        "RFC = RandomForestClassifier(n_estimators=25, random_state=1)\n",
        "ETC = ExtraTreesClassifier(n_estimators=10, criterion='gini', max_features='auto', bootstrap=False)\n",
        "\n",
        "# eclf = VotingClassifier(estimators=[('DecisionTreeClassifier', DTC), ('RandomForestClassifier', RFC),('ExtraTreesClassifier',ETC)], voting='hard')\n",
        "# for clf, label in zip([DTC, RFC,ETC, eclf], ['DecisionTreeClassifier', 'RandomForestClassifier', 'ExtraTreesClassifier', 'Ensemble']): \n",
        "#     _ = eclf.fit(X_train_svd,y_train)\n",
        "#     pred = eclf.score(X_test_svd,y_test)\n",
        "#     print(\"Acc: %0.10f [%s]\" % (pred,label))"
      ],
      "execution_count": 137,
      "outputs": [
        {
          "output_type": "stream",
          "text": [
            "(25767, 9)\n"
          ],
          "name": "stdout"
        }
      ]
    },
    {
      "cell_type": "markdown",
      "metadata": {
        "id": "4TKXI3uhe9Iz",
        "colab_type": "text"
      },
      "source": [
        " **predicting *label*:** \n",
        "```\n",
        "RFE only \n",
        "Acc: 0.9259010116 [DecisionTreeClassifier]\n",
        "Acc: 0.9258389175 [RandomForestClassifier]\n",
        "Acc: 0.9255957155 [ExtraTreesClassifier]\n",
        "Acc: 0.9259010116 [Ensemble]\n",
        "number of features 20\n",
        "---------------\n",
        "Acc: 0.9386820522\n",
        "number of features 10\n",
        "[ pipeing to SVD 9 dimentions yeilds:  Acc: 0.9221753642 [Ensemble] ; piping to PCA will yeild .921] \n",
        "```\n",
        "```\n",
        "(64418, 20)\n",
        "* Acc: 0.9283589040 [DecisionTreeClassifier]\n",
        "* Acc: 0.9278052314 [RandomForestClassifier]\n",
        "* Acc: 0.9286848982 [ExtraTreesClassifier]\n",
        "* Acc: 0.9278000569 [Ensemble]\n",
        "```\n",
        "```\n",
        "(64418, 10)\n",
        "Acc: 0.9141341751 [DecisionTreeClassifier]\n",
        "Acc: 0.9145119143 [RandomForestClassifier]\n",
        "Acc: 0.9141290005 [ExtraTreesClassifier]\n",
        "Acc: 0.9135028848 [Ensemble]\n",
        "```\n",
        "\n",
        "\n"
      ]
    },
    {
      "cell_type": "markdown",
      "metadata": {
        "id": "JApW6PtyluMN",
        "colab_type": "text"
      },
      "source": [
        "# Lets' try another way"
      ]
    },
    {
      "cell_type": "code",
      "metadata": {
        "id": "X40zFLvrjReM",
        "colab_type": "code",
        "colab": {}
      },
      "source": [
        "# from sklearn.model_selection import cross_val_score\n",
        "# from sklearn.ensemble import BaggingClassifier, ExtraTreesClassifier, RandomForestClassifier\n",
        "# from sklearn.neighbors import KNeighborsClassifier\n",
        "# from sklearn.linear_model import RidgeClassifier\n",
        "# from sklearn.svm import SVC\n",
        "# seed = 1075\n",
        "# np.random.seed(seed)\n",
        "# # Create classifiers\n",
        "# rf = RandomForestClassifier()\n",
        "# et = ExtraTreesClassifier()\n",
        "# knn = KNeighborsClassifier()\n",
        "# svc = SVC()\n",
        "# rg = RidgeClassifier()"
      ],
      "execution_count": 0,
      "outputs": []
    },
    {
      "cell_type": "code",
      "metadata": {
        "id": "Qe4Y-NL0jRhs",
        "colab_type": "code",
        "colab": {}
      },
      "source": [
        "# clf_array = [rf, et, knn, svc, rg]\n",
        "# for clf in clf_array:\n",
        "#     vanilla_scores = cross_val_score(clf, X_train_RFE, y_train, cv=3, n_jobs=-1)\n",
        "#     bagging_clf = BaggingClassifier(clf, \n",
        "#        max_samples=0.4, max_features=10, random_state=seed)\n",
        "#     bagging_scores = cross_val_score(bagging_clf, X_test, y_test, cv=3, \n",
        "#        n_jobs=-1)\n",
        "    \n",
        "#     print(\"Mean of: {1:.3f}, std: (+/-) {2:.3f} [{0}]\".format(clf.__class__.__name__,vanilla_scores.mean(), vanilla_scores.std()))\n",
        "#     print(\"Mean of: {1:.3f}, std: (+/-) {2:.3f} [Bagging {0}]\\n\".format(clf.__class__.__name__,bagging_scores.mean(), bagging_scores.std()))"
      ],
      "execution_count": 0,
      "outputs": []
    },
    {
      "cell_type": "markdown",
      "metadata": {
        "id": "h1pgtJb9jRk_",
        "colab_type": "text"
      },
      "source": [
        "# Onto Deep Learning \n",
        "> I ran SVD/PCA to remove variance since my goal to \"get the better deep learning result possible\" "
      ]
    },
    {
      "cell_type": "code",
      "metadata": {
        "id": "SM79Lsj2rD16",
        "colab_type": "code",
        "colab": {}
      },
      "source": [
        "from keras.models import Sequential\n"
      ],
      "execution_count": 0,
      "outputs": []
    },
    {
      "cell_type": "markdown",
      "metadata": {
        "id": "P6jdE--4z6ff",
        "colab_type": "text"
      },
      "source": [
        "```\n",
        "Notes: \n",
        "\n",
        "sigmoid for binary \n",
        "\n",
        "Softmax = non-binary \n",
        "\n",
        "```\n"
      ]
    },
    {
      "cell_type": "code",
      "metadata": {
        "id": "b_jUtItsravz",
        "colab_type": "code",
        "colab": {
          "base_uri": "https://localhost:8080/",
          "height": 35
        },
        "outputId": "ddcbc4ff-d065-4ccf-c80b-91f8c24d3c69"
      },
      "source": [
        "X = X_train_svd\n",
        "X_t = X_test_svd\n",
        "\n",
        "\n",
        "\n",
        "dim = X.shape[1]\n",
        "dim"
      ],
      "execution_count": 166,
      "outputs": [
        {
          "output_type": "execute_result",
          "data": {
            "text/plain": [
              "9"
            ]
          },
          "metadata": {
            "tags": []
          },
          "execution_count": 166
        }
      ]
    },
    {
      "cell_type": "code",
      "metadata": {
        "id": "UGzIrFJSBNV8",
        "colab_type": "code",
        "colab": {}
      },
      "source": [
        "X_v ,y_v = X_t[:X_t.shape[0]/5], y_test[:X_t.shape[0]/5]"
      ],
      "execution_count": 0,
      "outputs": []
    },
    {
      "cell_type": "code",
      "metadata": {
        "id": "04JL4rPm5xKc",
        "colab_type": "code",
        "colab": {}
      },
      "source": [
        "from sklearn.preprocessing import MinMaxScaler\n",
        "mms = MinMaxScaler()\n",
        "# X_train_svd = mms.fit_transform(X_train_svd)\n",
        "# X_test_svd = mms.transform(X_test_svd)"
      ],
      "execution_count": 0,
      "outputs": []
    },
    {
      "cell_type": "code",
      "metadata": {
        "id": "ux-s4sn0jRvY",
        "colab_type": "code",
        "colab": {}
      },
      "source": [
        "classifier = Sequential()\n",
        "#First Hidden Layer\n",
        "classifier.add(Dense(18, activation='relu', input_dim=dim))\n",
        "\n",
        "classifier.add(Dense(36, activation='relu'))\n",
        "classifier.add(Dropout(0.07))\n",
        "classifier.add(Dense(18, activation='relu' ))\n",
        "classifier.add(Dropout(0.07))\n",
        "classifier.add(Dense(9, activation='relu'))\n",
        "\n",
        "classifier.add(Dense(1, activation='sigmoid'))\n",
        "\n",
        "classifier.compile(optimizer ='adam',loss='binary_crossentropy', metrics =['accuracy'])"
      ],
      "execution_count": 0,
      "outputs": []
    },
    {
      "cell_type": "code",
      "metadata": {
        "id": "7bqvWXJjnPGn",
        "colab_type": "code",
        "colab": {
          "base_uri": "https://localhost:8080/",
          "height": 1000
        },
        "outputId": "e621b27e-4a39-4485-c4ce-b2ea1936968c"
      },
      "source": [
        "tensorboard = TensorBoard(histogram_freq=0,\n",
        "                          write_graph=True,\n",
        "                          write_images=True)\n",
        "\n",
        "history = classifier.fit(X,y_train, batch_size=16, epochs=30, validation_data=(X_t,y_test) , callbacks=[tensorboard]).history"
      ],
      "execution_count": 208,
      "outputs": [
        {
          "output_type": "stream",
          "text": [
            "Train on 25767 samples, validate on 231906 samples\n",
            "Epoch 1/30\n",
            "25767/25767 [==============================] - 18s 698us/step - loss: 0.3511 - acc: 0.8539 - val_loss: 0.2852 - val_acc: 0.8837\n",
            "Epoch 2/30\n",
            "25767/25767 [==============================] - 18s 680us/step - loss: 0.2745 - acc: 0.8868 - val_loss: 0.2606 - val_acc: 0.8891\n",
            "Epoch 3/30\n",
            "25767/25767 [==============================] - 18s 680us/step - loss: 0.2569 - acc: 0.8923 - val_loss: 0.2481 - val_acc: 0.8921\n",
            "Epoch 4/30\n",
            "25767/25767 [==============================] - 18s 691us/step - loss: 0.2471 - acc: 0.8965 - val_loss: 0.2392 - val_acc: 0.8974\n",
            "Epoch 5/30\n",
            "25767/25767 [==============================] - 17s 671us/step - loss: 0.2367 - acc: 0.8979 - val_loss: 0.2263 - val_acc: 0.8991\n",
            "Epoch 6/30\n",
            "25767/25767 [==============================] - 17s 669us/step - loss: 0.2249 - acc: 0.9013 - val_loss: 0.2136 - val_acc: 0.9011\n",
            "Epoch 7/30\n",
            "25767/25767 [==============================] - 17s 668us/step - loss: 0.2184 - acc: 0.9034 - val_loss: 0.2105 - val_acc: 0.9028\n",
            "Epoch 8/30\n",
            "25767/25767 [==============================] - 18s 694us/step - loss: 0.2124 - acc: 0.9059 - val_loss: 0.2164 - val_acc: 0.9026\n",
            "Epoch 9/30\n",
            "25767/25767 [==============================] - 17s 661us/step - loss: 0.2058 - acc: 0.9083 - val_loss: 0.2032 - val_acc: 0.9082\n",
            "Epoch 10/30\n",
            "25767/25767 [==============================] - 17s 665us/step - loss: 0.2047 - acc: 0.9090 - val_loss: 0.2025 - val_acc: 0.9089\n",
            "Epoch 11/30\n",
            "25767/25767 [==============================] - 17s 661us/step - loss: 0.2007 - acc: 0.9095 - val_loss: 0.2001 - val_acc: 0.9092\n",
            "Epoch 12/30\n",
            "25767/25767 [==============================] - 17s 662us/step - loss: 0.1989 - acc: 0.9105 - val_loss: 0.1938 - val_acc: 0.9109\n",
            "Epoch 13/30\n",
            "25767/25767 [==============================] - 17s 663us/step - loss: 0.1965 - acc: 0.9110 - val_loss: 0.1914 - val_acc: 0.9123\n",
            "Epoch 14/30\n",
            "25767/25767 [==============================] - 17s 672us/step - loss: 0.1938 - acc: 0.9124 - val_loss: 0.1918 - val_acc: 0.9114\n",
            "Epoch 15/30\n",
            "25767/25767 [==============================] - 17s 668us/step - loss: 0.1936 - acc: 0.9131 - val_loss: 0.1910 - val_acc: 0.9112\n",
            "Epoch 16/30\n",
            "25767/25767 [==============================] - 17s 670us/step - loss: 0.1914 - acc: 0.9135 - val_loss: 0.2011 - val_acc: 0.9071\n",
            "Epoch 17/30\n",
            "25767/25767 [==============================] - 17s 668us/step - loss: 0.1901 - acc: 0.9127 - val_loss: 0.1957 - val_acc: 0.9089\n",
            "Epoch 18/30\n",
            "25767/25767 [==============================] - 17s 678us/step - loss: 0.1885 - acc: 0.9137 - val_loss: 0.1864 - val_acc: 0.9123\n",
            "Epoch 19/30\n",
            "25767/25767 [==============================] - 18s 682us/step - loss: 0.1888 - acc: 0.9144 - val_loss: 0.1839 - val_acc: 0.9128\n",
            "Epoch 20/30\n",
            "25767/25767 [==============================] - 17s 672us/step - loss: 0.1880 - acc: 0.9135 - val_loss: 0.1948 - val_acc: 0.9066\n",
            "Epoch 21/30\n",
            "25767/25767 [==============================] - 17s 669us/step - loss: 0.1873 - acc: 0.9144 - val_loss: 0.1847 - val_acc: 0.9127\n",
            "Epoch 22/30\n",
            "25767/25767 [==============================] - 17s 677us/step - loss: 0.1859 - acc: 0.9145 - val_loss: 0.1845 - val_acc: 0.9143\n",
            "Epoch 23/30\n",
            "25767/25767 [==============================] - 17s 670us/step - loss: 0.1842 - acc: 0.9152 - val_loss: 0.1807 - val_acc: 0.9120\n",
            "Epoch 24/30\n",
            "25767/25767 [==============================] - 18s 682us/step - loss: 0.1832 - acc: 0.9167 - val_loss: 0.1819 - val_acc: 0.9148\n",
            "Epoch 25/30\n",
            "25767/25767 [==============================] - 17s 667us/step - loss: 0.1837 - acc: 0.9145 - val_loss: 0.1818 - val_acc: 0.9134\n",
            "Epoch 26/30\n",
            "25767/25767 [==============================] - 18s 712us/step - loss: 0.1839 - acc: 0.9149 - val_loss: 0.1810 - val_acc: 0.9137\n",
            "Epoch 27/30\n",
            "25767/25767 [==============================] - 18s 681us/step - loss: 0.1809 - acc: 0.9170 - val_loss: 0.1866 - val_acc: 0.9122\n",
            "Epoch 28/30\n",
            "25767/25767 [==============================] - 17s 677us/step - loss: 0.1806 - acc: 0.9171 - val_loss: 0.1876 - val_acc: 0.9145\n",
            "Epoch 29/30\n",
            "25767/25767 [==============================] - 18s 689us/step - loss: 0.1807 - acc: 0.9171 - val_loss: 0.1749 - val_acc: 0.9163\n",
            "Epoch 30/30\n",
            "25767/25767 [==============================] - 17s 668us/step - loss: 0.1799 - acc: 0.9171 - val_loss: 0.1844 - val_acc: 0.9135\n"
          ],
          "name": "stdout"
        }
      ]
    },
    {
      "cell_type": "code",
      "metadata": {
        "id": "7Blga8S1-DxE",
        "colab_type": "code",
        "colab": {
          "base_uri": "https://localhost:8080/",
          "height": 326
        },
        "outputId": "2ff857c5-d615-4fdc-9266-f491f4f49cce"
      },
      "source": [
        "#!pip install keras_sequential_ascii\n",
        "from keras_sequential_ascii import keras2ascii\n",
        "keras2ascii(classifier)"
      ],
      "execution_count": 214,
      "outputs": [
        {
          "output_type": "stream",
          "text": [
            "           OPERATION           DATA DIMENSIONS   WEIGHTS(N)   WEIGHTS(%)\n",
            "\n",
            "               Input   #####           9\n",
            "               Dense   XXXXX -------------------       180    10.5%\n",
            "                relu   #####          18\n",
            "               Dense   XXXXX -------------------       684    40.0%\n",
            "                relu   #####          36\n",
            "             Dropout    | || -------------------         0     0.0%\n",
            "                       #####          36\n",
            "               Dense   XXXXX -------------------       666    38.9%\n",
            "                relu   #####          18\n",
            "             Dropout    | || -------------------         0     0.0%\n",
            "                       #####          18\n",
            "               Dense   XXXXX -------------------       171    10.0%\n",
            "                relu   #####           9\n",
            "               Dense   XXXXX -------------------        10     0.6%\n",
            "             sigmoid   #####           1\n"
          ],
          "name": "stdout"
        }
      ]
    },
    {
      "cell_type": "code",
      "metadata": {
        "id": "STqFbIZOnPNn",
        "colab_type": "code",
        "colab": {
          "base_uri": "https://localhost:8080/",
          "height": 163
        },
        "outputId": "7d4f8cea-1847-4635-a389-4755255bae90"
      },
      "source": [
        "eval_model=classifier.evaluate(X, y_train)\n",
        "print(eval_model)\n",
        "\n",
        "eval_model=classifier.evaluate(X_t, y_test)\n",
        "print(eval_model)\n",
        "\n",
        "\n",
        "predictions=classifier.predict(X_t)\n",
        "predictions =(predictions>0.80)\n",
        "\n",
        "mse = np.mean(np.power(X_test_svd - predictions, 2), axis=1)\n",
        "error_df = pd.DataFrame({'reconstruction_error': mse,'true_class': y_test.values.reshape(1,-1)[0]})\n",
        "# error_df.describe()\n",
        "print()\n",
        "print(np.mean(mse))\n",
        "cm = confusion_matrix(y_test, y_pred)\n",
        "print(cm)"
      ],
      "execution_count": 215,
      "outputs": [
        {
          "output_type": "stream",
          "text": [
            "25767/25767 [==============================] - 1s 28us/step\n",
            "[0.17723634120703052, 0.9175301742538906]\n",
            "231906/231906 [==============================] - 6s 28us/step\n",
            "[0.1843634630111887, 0.9134994351159521]\n",
            "\n",
            "0.5227064082452187\n",
            "[[ 60296  23338]\n",
            " [  2941 145331]]\n"
          ],
          "name": "stdout"
        }
      ]
    },
    {
      "cell_type": "code",
      "metadata": {
        "id": "40tdgoNHnMfa",
        "colab_type": "code",
        "colab": {
          "base_uri": "https://localhost:8080/",
          "height": 295
        },
        "outputId": "4ca76d16-0465-4906-df27-7e390ff28fda"
      },
      "source": [
        "plt.plot(history['loss'])\n",
        "plt.plot(history['val_loss'])\n",
        "plt.title('model loss')\n",
        "plt.ylabel('loss')\n",
        "plt.xlabel('epoch')\n",
        "plt.legend(['train', 'test'], loc='upper right');"
      ],
      "execution_count": 216,
      "outputs": [
        {
          "output_type": "display_data",
          "data": {
            "image/png": "[encoded data removed]",
            "text/plain": [
              "<Figure size 432x288 with 1 Axes>"
            ]
          },
          "metadata": {
            "tags": []
          }
        }
      ]
    },
    {
      "cell_type": "code",
      "metadata": {
        "id": "w9Jq4HEQnMjK",
        "colab_type": "code",
        "colab": {
          "base_uri": "https://localhost:8080/",
          "height": 295
        },
        "outputId": "0a0ee1e8-fe07-453e-b366-ba6c5e0c152d"
      },
      "source": [
        "fpr, tpr, thresholds = roc_curve(error_df.true_class, error_df.reconstruction_error,pos_label=1)\n",
        "roc_auc = auc(fpr, tpr)\n",
        "\n",
        "\n",
        "plt.title('Receiver Operating Characteristic')\n",
        "plt.plot(fpr, tpr, label='AUC = %0.4f'% roc_auc)\n",
        "plt.legend(loc='lower right')\n",
        "plt.plot([0,1],[0,1],'r--')\n",
        "plt.xlim([-0.001, 1])\n",
        "plt.ylim([0, 1.001])\n",
        "plt.ylabel('True Positive Rate')\n",
        "plt.xlabel('False Positive Rate')\n",
        "plt.show();"
      ],
      "execution_count": 212,
      "outputs": [
        {
          "output_type": "display_data",
          "data": {
            "image/png": "[encoded data removed]",
            "text/plain": [
              "<Figure size 432x288 with 1 Axes>"
            ]
          },
          "metadata": {
            "tags": []
          }
        }
      ]
    },
    {
      "cell_type": "code",
      "metadata": {
        "id": "HWJk5_AlnMnM",
        "colab_type": "code",
        "colab": {
          "base_uri": "https://localhost:8080/",
          "height": 313
        },
        "outputId": "d5a16db9-6ad1-4f29-e138-d3f4174962cd"
      },
      "source": [
        "precision, recall, th = precision_recall_curve(error_df.true_class, error_df.reconstruction_error,pos_label=1)\n",
        "plt.plot(recall, precision, 'b', label='Precision-Recall curve')\n",
        "plt.title('Recall vs Precision')\n",
        "plt.xlabel('Recall')\n",
        "plt.ylabel('Precision')\n",
        "plt.show()"
      ],
      "execution_count": 213,
      "outputs": [
        {
          "output_type": "execute_result",
          "data": {
            "text/plain": [
              "[<matplotlib.lines.Line2D at 0x7f0dac903160>]"
            ]
          },
          "metadata": {
            "tags": []
          },
          "execution_count": 213
        },
        {
          "output_type": "execute_result",
          "data": {
            "text/plain": [
              "Text(0.5, 1.0, 'Recall vs Precision')"
            ]
          },
          "metadata": {
            "tags": []
          },
          "execution_count": 213
        },
        {
          "output_type": "execute_result",
          "data": {
            "text/plain": [
              "Text(0.5, 0, 'Recall')"
            ]
          },
          "metadata": {
            "tags": []
          },
          "execution_count": 213
        },
        {
          "output_type": "execute_result",
          "data": {
            "text/plain": [
              "Text(0, 0.5, 'Precision')"
            ]
          },
          "metadata": {
            "tags": []
          },
          "execution_count": 213
        },
        {
          "output_type": "display_data",
          "data": {
            "image/png": "[encoded data removed]",
            "text/plain": [
              "<Figure size 432x288 with 1 Axes>"
            ]
          },
          "metadata": {
            "tags": []
          }
        }
      ]
    },
    {
      "cell_type": "code",
      "metadata": {
        "id": "CjRc41fsnMr6",
        "colab_type": "code",
        "colab": {}
      },
      "source": [
        ""
      ],
      "execution_count": 0,
      "outputs": []
    },
    {
      "cell_type": "code",
      "metadata": {
        "id": "X05LsfcUjRyh",
        "colab_type": "code",
        "colab": {}
      },
      "source": [
        ""
      ],
      "execution_count": 0,
      "outputs": []
    },
    {
      "cell_type": "code",
      "metadata": {
        "id": "Po7VpfirjR2L",
        "colab_type": "code",
        "colab": {}
      },
      "source": [
        ""
      ],
      "execution_count": 0,
      "outputs": []
    },
    {
      "cell_type": "code",
      "metadata": {
        "id": "r5SPcmAFjR5l",
        "colab_type": "code",
        "colab": {}
      },
      "source": [
        ""
      ],
      "execution_count": 0,
      "outputs": []
    },
    {
      "cell_type": "code",
      "metadata": {
        "id": "XpSg_uGZjR9J",
        "colab_type": "code",
        "colab": {}
      },
      "source": [
        ""
      ],
      "execution_count": 0,
      "outputs": []
    },
    {
      "cell_type": "code",
      "metadata": {
        "id": "9HMfAuoOjSAq",
        "colab_type": "code",
        "colab": {}
      },
      "source": [
        ""
      ],
      "execution_count": 0,
      "outputs": []
    },
    {
      "cell_type": "code",
      "metadata": {
        "id": "o3yKHghIjSEV",
        "colab_type": "code",
        "colab": {}
      },
      "source": [
        ""
      ],
      "execution_count": 0,
      "outputs": []
    },
    {
      "cell_type": "code",
      "metadata": {
        "id": "ixQ7uR00jSIB",
        "colab_type": "code",
        "colab": {}
      },
      "source": [
        ""
      ],
      "execution_count": 0,
      "outputs": []
    },
    {
      "cell_type": "code",
      "metadata": {
        "id": "4OHfbx1qjSLS",
        "colab_type": "code",
        "colab": {}
      },
      "source": [
        ""
      ],
      "execution_count": 0,
      "outputs": []
    },
    {
      "cell_type": "code",
      "metadata": {
        "id": "twvrr6d5jSOq",
        "colab_type": "code",
        "colab": {}
      },
      "source": [
        ""
      ],
      "execution_count": 0,
      "outputs": []
    },
    {
      "cell_type": "code",
      "metadata": {
        "id": "I8gsbiYtjSRk",
        "colab_type": "code",
        "colab": {}
      },
      "source": [
        ""
      ],
      "execution_count": 0,
      "outputs": []
    },
    {
      "cell_type": "code",
      "metadata": {
        "id": "1T_uPrDSjRop",
        "colab_type": "code",
        "colab": {}
      },
      "source": [
        ""
      ],
      "execution_count": 0,
      "outputs": []
    },
    {
      "cell_type": "code",
      "metadata": {
        "id": "jmvwsp-KnNWi",
        "colab_type": "code",
        "colab": {}
      },
      "source": [
        ""
      ],
      "execution_count": 0,
      "outputs": []
    },
    {
      "cell_type": "code",
      "metadata": {
        "id": "gJY4PEQhnNb5",
        "colab_type": "code",
        "colab": {}
      },
      "source": [
        ""
      ],
      "execution_count": 0,
      "outputs": []
    },
    {
      "cell_type": "code",
      "metadata": {
        "id": "PkbExAc-nNfp",
        "colab_type": "code",
        "colab": {}
      },
      "source": [
        ""
      ],
      "execution_count": 0,
      "outputs": []
    },
    {
      "cell_type": "code",
      "metadata": {
        "id": "T2aaz0iLnNja",
        "colab_type": "code",
        "colab": {}
      },
      "source": [
        ""
      ],
      "execution_count": 0,
      "outputs": []
    },
    {
      "cell_type": "code",
      "metadata": {
        "id": "v30s7FidnNm-",
        "colab_type": "code",
        "colab": {}
      },
      "source": [
        ""
      ],
      "execution_count": 0,
      "outputs": []
    },
    {
      "cell_type": "code",
      "metadata": {
        "id": "ARG5tDbjnNqa",
        "colab_type": "code",
        "colab": {}
      },
      "source": [
        ""
      ],
      "execution_count": 0,
      "outputs": []
    },
    {
      "cell_type": "code",
      "metadata": {
        "id": "74QP1VY6nNth",
        "colab_type": "code",
        "colab": {}
      },
      "source": [
        ""
      ],
      "execution_count": 0,
      "outputs": []
    },
    {
      "cell_type": "code",
      "metadata": {
        "id": "mohA8IeSnNw7",
        "colab_type": "code",
        "colab": {}
      },
      "source": [
        ""
      ],
      "execution_count": 0,
      "outputs": []
    },
    {
      "cell_type": "code",
      "metadata": {
        "id": "a-Jf6wmTnN0B",
        "colab_type": "code",
        "colab": {}
      },
      "source": [
        ""
      ],
      "execution_count": 0,
      "outputs": []
    },
    {
      "cell_type": "code",
      "metadata": {
        "id": "LVGSOxgunN3S",
        "colab_type": "code",
        "colab": {}
      },
      "source": [
        ""
      ],
      "execution_count": 0,
      "outputs": []
    },
    {
      "cell_type": "code",
      "metadata": {
        "id": "tkcSDGFhnN6H",
        "colab_type": "code",
        "colab": {}
      },
      "source": [
        ""
      ],
      "execution_count": 0,
      "outputs": []
    },
    {
      "cell_type": "code",
      "metadata": {
        "id": "DMKSBLJknN8i",
        "colab_type": "code",
        "colab": {}
      },
      "source": [
        ""
      ],
      "execution_count": 0,
      "outputs": []
    }
  ]
}