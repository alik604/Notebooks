{
  "nbformat": 4,
  "nbformat_minor": 0,
  "metadata": {
    "colab": {
      "name": "UNSW-NB15",
      "provenance": [],
      "collapsed_sections": [
        "h2Kvca3apvAc",
        "JApW6PtyluMN"
      ]
    },
    "kernelspec": {
      "name": "python3",
      "display_name": "Python 3"
    },
    "accelerator": "TPU"
  },
  "cells": [
    {
      "cell_type": "markdown",
      "metadata": {
        "id": "Fl-cPhNxn6QU",
        "colab_type": "text"
      },
      "source": [
        " ## References \n",
        "\n",
        " * Data source: https://www.unsw.adfa.edu.au/unsw-canberra-cyber/cybersecurity/ADFA-NB15-Datasets/\n",
        " * Sample/starter code: https://github.com/Nir-J/ML-Projects/blob/master/UNSW-Network_Packet_Classification/unsw.py"
      ]
    },
    {
      "cell_type": "code",
      "metadata": {
        "id": "Lx1Zh6UUU-ov",
        "colab_type": "code",
        "colab": {}
      },
      "source": [
        "%config IPCompleter.greedy=True\n",
        "import pandas as pd\n",
        "import seaborn as sns\n",
        "import numpy as np\n",
        "\n",
        "import matplotlib as matplot\n",
        "import matplotlib.pyplot as plt\n",
        "%matplotlib inline\n",
        "\n",
        "from IPython.core.interactiveshell import InteractiveShell\n",
        "InteractiveShell.ast_node_interactivity = \"all\"\n",
        "\n",
        "import warnings\n",
        "warnings.filterwarnings(\"ignore\")\n",
        "\n",
        "from keras.models import Model, load_model\n",
        "from keras.layers import *\n",
        "from keras.callbacks import ModelCheckpoint, TensorBoard\n",
        "from keras import regularizers\n",
        "\n",
        "from sklearn.metrics import (confusion_matrix, precision_recall_curve, auc,\n",
        "                             roc_curve, recall_score, classification_report, f1_score,\n",
        "                             precision_recall_fscore_support)\n",
        "from sklearn.tree import DecisionTreeClassifier\n",
        "from sklearn.ensemble import RandomForestClassifier, ExtraTreesClassifier, VotingClassifier\n",
        "from sklearn.model_selection import train_test_split\n",
        "from sklearn.preprocessing import LabelEncoder,normalize"
      ],
      "execution_count": 0,
      "outputs": []
    },
    {
      "cell_type": "markdown",
      "metadata": {
        "id": "h2Kvca3apvAc",
        "colab_type": "text"
      },
      "source": [
        "# Preprocessing (transformation/scaling) "
      ]
    },
    {
      "cell_type": "code",
      "metadata": {
        "id": "vjw9JrARVJ23",
        "colab_type": "code",
        "colab": {}
      },
      "source": [
        "train = pd.read_csv('https://raw.githubusercontent.com/Nir-J/ML-Projects/master/UNSW-Network_Packet_Classification/UNSW_NB15_training-set.csv')\n",
        "test = pd.read_csv('https://raw.githubusercontent.com/Nir-J/ML-Projects/master/UNSW-Network_Packet_Classification/UNSW_NB15_testing-set.csv')\n",
        "combined_data = pd.concat([train, test]).drop(['id'],axis=1)"
      ],
      "execution_count": 0,
      "outputs": []
    },
    {
      "cell_type": "code",
      "metadata": {
        "id": "C5hh-CdxbjCZ",
        "colab_type": "code",
        "colab": {
          "base_uri": "https://localhost:8080/",
          "height": 0
        },
        "outputId": "2d79c3cc-edc7-4e43-823e-357ce7588b09"
      },
      "source": [
        "tmp = train.where(train['attack_cat'] == \"Normal\").dropna()\n",
        "len(tmp['attack_cat'])/len(train['attack_cat'])\n",
        "print ()\n",
        "tmp = test.where(test['attack_cat'] == \"Normal\").dropna()\n",
        "len(tmp['attack_cat'])/len(test['attack_cat'])"
      ],
      "execution_count": 125,
      "outputs": [
        {
          "output_type": "execute_result",
          "data": {
            "text/plain": [
              "0.3193776697977085"
            ]
          },
          "metadata": {
            "tags": []
          },
          "execution_count": 125
        },
        {
          "output_type": "stream",
          "text": [
            "\n"
          ],
          "name": "stdout"
        },
        {
          "output_type": "execute_result",
          "data": {
            "text/plain": [
              "0.44939999028324346"
            ]
          },
          "metadata": {
            "tags": []
          },
          "execution_count": 125
        }
      ]
    },
    {
      "cell_type": "code",
      "metadata": {
        "id": "_tfrFURcVJ6X",
        "colab_type": "code",
        "outputId": "1b8822ed-0a4e-45df-d144-e380b4dfe480",
        "colab": {
          "base_uri": "https://localhost:8080/",
          "height": 0
        }
      },
      "source": [
        "le1 = LabelEncoder()\n",
        "le = LabelEncoder()\n",
        "\n",
        "vector = combined_data['attack_cat']\n",
        "\n",
        "print(\"attack cat:\", set(list(vector))) # use print to make it print on single line \n",
        "\n",
        "combined_data['attack_cat'] = le1.fit_transform(vector)\n",
        "combined_data['proto'] = le.fit_transform(combined_data['proto'])\n",
        "combined_data['service'] = le.fit_transform(combined_data['service'])\n",
        "combined_data['state'] = le.fit_transform(combined_data['state'])\n",
        "\n",
        "vector = combined_data['attack_cat']\n",
        "print('\\nDescribing attack_type: ')\n",
        "print(\"min\", vector.min())\n",
        "print(\"max\", vector.max())\n",
        "print(\"mode\",vector.mode())\n",
        "print(\"mode\", len(np.where(vector.values==6)[0])/len(vector),\"%\")\n",
        "print(\"looks like 6 is 'normal', but its not that common\") "
      ],
      "execution_count": 126,
      "outputs": [
        {
          "output_type": "stream",
          "text": [
            "attack cat: {'Worms', 'Backdoor', 'DoS', 'Reconnaissance', 'Fuzzers', 'Normal', 'Generic', 'Shellcode', 'Analysis', 'Exploits'}\n",
            "\n",
            "Describing attack_type: \n",
            "min 0\n",
            "max 9\n",
            "mode 0    6\n",
            "dtype: int64\n",
            "mode 0.3609225646458884 %\n",
            "looks like 6 is 'normal', but its not that common\n"
          ],
          "name": "stdout"
        }
      ]
    },
    {
      "cell_type": "code",
      "metadata": {
        "id": "FdGigIypbQfd",
        "colab_type": "code",
        "colab": {
          "base_uri": "https://localhost:8080/",
          "height": 0
        },
        "outputId": "1c70687f-45dd-45ec-8335-c5d63c176921"
      },
      "source": [
        "le1.inverse_transform([0,1,2,3,4,5,6,7,8,9])"
      ],
      "execution_count": 127,
      "outputs": [
        {
          "output_type": "execute_result",
          "data": {
            "text/plain": [
              "array(['Analysis', 'Backdoor', 'DoS', 'Exploits', 'Fuzzers', 'Generic',\n",
              "       'Normal', 'Reconnaissance', 'Shellcode', 'Worms'], dtype=object)"
            ]
          },
          "metadata": {
            "tags": []
          },
          "execution_count": 127
        }
      ]
    },
    {
      "cell_type": "code",
      "metadata": {
        "id": "1bFqsTemVJ92",
        "colab_type": "code",
        "outputId": "cc25129e-cded-4c6d-f546-667ed7ea3bae",
        "colab": {
          "base_uri": "https://localhost:8080/",
          "height": 0
        }
      },
      "source": [
        "# lowSTD = list(combined_data.std().to_frame().nsmallest(6,columns=0).index)\n",
        "# lowCORR = list(combined_data.corr().abs().sort_values('attack_cat')['attack_cat'].nsmallest(3).index) # .where(lambda x: x < 0.005).dropna()\n",
        "# drop = set( lowCORR + lowSTD)\n",
        "drop = {'ackdat', 'ct_ftp_cmd', 'djit', 'is_ftp_login', 'is_sm_ips_ports', 'response_body_len', 'sjit', 'synack', 'tcprtt'}\n",
        "combined_data.shape\n",
        "combined_data_reduced=combined_data.drop(drop,axis=1)\n",
        "combined_data_reduced.shape"
      ],
      "execution_count": 128,
      "outputs": [
        {
          "output_type": "execute_result",
          "data": {
            "text/plain": [
              "(257673, 44)"
            ]
          },
          "metadata": {
            "tags": []
          },
          "execution_count": 128
        },
        {
          "output_type": "execute_result",
          "data": {
            "text/plain": [
              "(257673, 35)"
            ]
          },
          "metadata": {
            "tags": []
          },
          "execution_count": 128
        }
      ]
    },
    {
      "cell_type": "code",
      "metadata": {
        "id": "Pjuk4i-aVAx7",
        "colab_type": "code",
        "colab": {}
      },
      "source": [
        "transform = list(combined_data_reduced.columns.values[4:])\n",
        "transform.append('dur')\n",
        "transform.remove('attack_cat')\n",
        "# transform min-max norm \n",
        "combined_data_reduced[transform] = combined_data_reduced[transform].apply(lambda x: (x - x.min()) / (x.max() - x.min()))"
      ],
      "execution_count": 0,
      "outputs": []
    },
    {
      "cell_type": "code",
      "metadata": {
        "id": "uRDvu_a8VA1q",
        "colab_type": "code",
        "colab": {}
      },
      "source": [
        "data_x = combined_data_reduced.drop(['attack_cat','label'], axis=1) # droped label\n",
        "data_y = combined_data_reduced.loc[:,['label']]\n",
        "# del combined_data # free mem\n",
        "X_train, X_test, y_train, y_test = train_test_split(data_x, data_y, test_size=.90, random_state=42) # TODO"
      ],
      "execution_count": 0,
      "outputs": []
    },
    {
      "cell_type": "code",
      "metadata": {
        "id": "l53VPdZ0ZA95",
        "colab_type": "code",
        "colab": {}
      },
      "source": [
        "#combined_data_reduced.where(combined_data_reduced['label'] == 1.0).dropna().tail(20)"
      ],
      "execution_count": 0,
      "outputs": []
    },
    {
      "cell_type": "code",
      "metadata": {
        "id": "xjNm11s-fqvw",
        "colab_type": "code",
        "outputId": "1884c01a-a3d5-454b-d5f0-40c83a570465",
        "colab": {
          "base_uri": "https://localhost:8080/",
          "height": 0
        }
      },
      "source": [
        "X_train.shape\n",
        "y_train.shape\n",
        "X_test.shape # test is larger... good \n",
        "y_test.shape"
      ],
      "execution_count": 132,
      "outputs": [
        {
          "output_type": "execute_result",
          "data": {
            "text/plain": [
              "(25767, 33)"
            ]
          },
          "metadata": {
            "tags": []
          },
          "execution_count": 132
        },
        {
          "output_type": "execute_result",
          "data": {
            "text/plain": [
              "(25767, 1)"
            ]
          },
          "metadata": {
            "tags": []
          },
          "execution_count": 132
        },
        {
          "output_type": "execute_result",
          "data": {
            "text/plain": [
              "(231906, 33)"
            ]
          },
          "metadata": {
            "tags": []
          },
          "execution_count": 132
        },
        {
          "output_type": "execute_result",
          "data": {
            "text/plain": [
              "(231906, 1)"
            ]
          },
          "metadata": {
            "tags": []
          },
          "execution_count": 132
        }
      ]
    },
    {
      "cell_type": "markdown",
      "metadata": {
        "id": "gVO_4gmThrU-",
        "colab_type": "text"
      },
      "source": [
        "# Benchmark before additional feature removal"
      ]
    },
    {
      "cell_type": "code",
      "metadata": {
        "id": "YZYIJ9d_VA57",
        "colab_type": "code",
        "colab": {}
      },
      "source": [
        "# x = X_train\n",
        "# y = y_train['attack_cat'].ravel()\n",
        "\n",
        "DTC = DecisionTreeClassifier() \n",
        "RFC = RandomForestClassifier(n_estimators=25, random_state=1)\n",
        "ETC = ExtraTreesClassifier(n_estimators=10, criterion='gini', max_features='auto', bootstrap=False)\n",
        "\n",
        "# eclf = VotingClassifier(estimators=[('lr', DTC), ('rf', RFC),('et',ETC)], voting='hard') \n",
        "# for clf, label in zip([DTC, RFC,ETC, eclf], ['DecisionTreeClassifier', 'RandomForestClassifier', 'ExtraTreesClassifier', 'Ensemble']): \n",
        "#     _ = eclf.fit(X_train,y_train)\n",
        "#     pred = eclf.score(X_test,y_test)\n",
        "#     print(\"Acc: %0.10f [%s]\" % (pred,label))"
      ],
      "execution_count": 0,
      "outputs": []
    },
    {
      "cell_type": "markdown",
      "metadata": {
        "id": "ZKObsSh2f4tM",
        "colab_type": "text"
      },
      "source": [
        "0.82 will all data and on reduced data"
      ]
    },
    {
      "cell_type": "code",
      "metadata": {
        "id": "MU1Lvj7fVA9S",
        "colab_type": "code",
        "colab": {}
      },
      "source": [
        "from sklearn.feature_selection import RFE\n",
        "from sklearn.decomposition import PCA,TruncatedSVD,PCA\n",
        "from sklearn.svm import LinearSVC\n",
        "n = 10 "
      ],
      "execution_count": 0,
      "outputs": []
    },
    {
      "cell_type": "code",
      "metadata": {
        "id": "5UJPOp7yVBA9",
        "colab_type": "code",
        "colab": {}
      },
      "source": [
        "rfe = RFE(DecisionTreeClassifier(), n).fit(X_train,y_train)\n",
        "\n",
        "desiredIndices = np.where(rfe.support_==True)[0]\n",
        "whitelist = X_train.columns.values[desiredIndices]\n",
        "X_train_RFE,X_test_RFE = X_train[whitelist],X_test[whitelist]\n",
        "\n",
        "# eclf = VotingClassifier(estimators=[('DecisionTreeClassifier', DTC), ('RandomForestClassifier', RFC),('ExtraTreesClassifier',ETC)], voting='hard')\n",
        "# _ = eclf.fit(X_train_RFE,y_train)\n",
        "# pred = eclf.score(X_test_RFE,y_test)\n",
        "\n",
        "# print(\"Acc: %0.10f\" % (pred))\n",
        "# print(\"number of features\",X_train_RFE.shape[1])"
      ],
      "execution_count": 0,
      "outputs": []
    },
    {
      "cell_type": "code",
      "metadata": {
        "id": "DL6SblkRVBEs",
        "colab_type": "code",
        "colab": {}
      },
      "source": [
        "svd = TruncatedSVD(n_components=n-1).fit(X_train_RFE)   # -20 will give 0.778, in the below benchmark preditings catogories \n",
        "X_train_svd, X_test_svd = svd.transform(X_train_RFE), svd.transform(X_test_RFE)"
      ],
      "execution_count": 0,
      "outputs": []
    },
    {
      "cell_type": "markdown",
      "metadata": {
        "id": "AgKg-9lehlHl",
        "colab_type": "text"
      },
      "source": [
        "# Benchmark after additional feature removal"
      ]
    },
    {
      "cell_type": "code",
      "metadata": {
        "id": "vIekQooxVBHk",
        "colab_type": "code",
        "outputId": "01fa3284-2818-4a68-a440-92fba3a04406",
        "colab": {
          "base_uri": "https://localhost:8080/",
          "height": 35
        }
      },
      "source": [
        "print(X_train_svd.shape)\n",
        "\n",
        "DTC = DecisionTreeClassifier() \n",
        "RFC = RandomForestClassifier(n_estimators=25, random_state=1)\n",
        "ETC = ExtraTreesClassifier(n_estimators=10, criterion='gini', max_features='auto', bootstrap=False)\n",
        "\n",
        "# eclf = VotingClassifier(estimators=[('DecisionTreeClassifier', DTC), ('RandomForestClassifier', RFC),('ExtraTreesClassifier',ETC)], voting='hard')\n",
        "# for clf, label in zip([DTC, RFC,ETC, eclf], ['DecisionTreeClassifier', 'RandomForestClassifier', 'ExtraTreesClassifier', 'Ensemble']): \n",
        "#     _ = eclf.fit(X_train_svd,y_train)\n",
        "#     pred = eclf.score(X_test_svd,y_test)\n",
        "#     print(\"Acc: %0.10f [%s]\" % (pred,label))"
      ],
      "execution_count": 137,
      "outputs": [
        {
          "output_type": "stream",
          "text": [
            "(25767, 9)\n"
          ],
          "name": "stdout"
        }
      ]
    },
    {
      "cell_type": "markdown",
      "metadata": {
        "id": "4TKXI3uhe9Iz",
        "colab_type": "text"
      },
      "source": [
        " **predicting *label*:** \n",
        "```\n",
        "RFE only \n",
        "Acc: 0.9259010116 [DecisionTreeClassifier]\n",
        "Acc: 0.9258389175 [RandomForestClassifier]\n",
        "Acc: 0.9255957155 [ExtraTreesClassifier]\n",
        "Acc: 0.9259010116 [Ensemble]\n",
        "number of features 20\n",
        "---------------\n",
        "Acc: 0.9386820522\n",
        "number of features 10\n",
        "[ pipeing to SVD 9 dimentions yeilds:  Acc: 0.9221753642 [Ensemble] ; piping to PCA will yeild .921] \n",
        "```\n",
        "```\n",
        "(64418, 20)\n",
        "* Acc: 0.9283589040 [DecisionTreeClassifier]\n",
        "* Acc: 0.9278052314 [RandomForestClassifier]\n",
        "* Acc: 0.9286848982 [ExtraTreesClassifier]\n",
        "* Acc: 0.9278000569 [Ensemble]\n",
        "```\n",
        "```\n",
        "(64418, 10)\n",
        "Acc: 0.9141341751 [DecisionTreeClassifier]\n",
        "Acc: 0.9145119143 [RandomForestClassifier]\n",
        "Acc: 0.9141290005 [ExtraTreesClassifier]\n",
        "Acc: 0.9135028848 [Ensemble]\n",
        "```\n",
        "\n",
        "\n"
      ]
    },
    {
      "cell_type": "markdown",
      "metadata": {
        "id": "JApW6PtyluMN",
        "colab_type": "text"
      },
      "source": [
        "# Lets' try another way"
      ]
    },
    {
      "cell_type": "code",
      "metadata": {
        "id": "X40zFLvrjReM",
        "colab_type": "code",
        "colab": {}
      },
      "source": [
        "# from sklearn.model_selection import cross_val_score\n",
        "# from sklearn.ensemble import BaggingClassifier, ExtraTreesClassifier, RandomForestClassifier\n",
        "# from sklearn.neighbors import KNeighborsClassifier\n",
        "# from sklearn.linear_model import RidgeClassifier\n",
        "# from sklearn.svm import SVC\n",
        "# seed = 1075\n",
        "# np.random.seed(seed)\n",
        "# # Create classifiers\n",
        "# rf = RandomForestClassifier()\n",
        "# et = ExtraTreesClassifier()\n",
        "# knn = KNeighborsClassifier()\n",
        "# svc = SVC()\n",
        "# rg = RidgeClassifier()"
      ],
      "execution_count": 0,
      "outputs": []
    },
    {
      "cell_type": "code",
      "metadata": {
        "id": "Qe4Y-NL0jRhs",
        "colab_type": "code",
        "colab": {}
      },
      "source": [
        "# clf_array = [rf, et, knn, svc, rg]\n",
        "# for clf in clf_array:\n",
        "#     vanilla_scores = cross_val_score(clf, X_train_RFE, y_train, cv=3, n_jobs=-1)\n",
        "#     bagging_clf = BaggingClassifier(clf, \n",
        "#        max_samples=0.4, max_features=10, random_state=seed)\n",
        "#     bagging_scores = cross_val_score(bagging_clf, X_test, y_test, cv=3, \n",
        "#        n_jobs=-1)\n",
        "    \n",
        "#     print(\"Mean of: {1:.3f}, std: (+/-) {2:.3f} [{0}]\".format(clf.__class__.__name__,vanilla_scores.mean(), vanilla_scores.std()))\n",
        "#     print(\"Mean of: {1:.3f}, std: (+/-) {2:.3f} [Bagging {0}]\\n\".format(clf.__class__.__name__,bagging_scores.mean(), bagging_scores.std()))"
      ],
      "execution_count": 0,
      "outputs": []
    },
    {
      "cell_type": "markdown",
      "metadata": {
        "id": "h1pgtJb9jRk_",
        "colab_type": "text"
      },
      "source": [
        "# Onto Deep Learning \n",
        "> I ran SVD/PCA to remove variance since my goal to \"get the better deep learning result possible\" "
      ]
    },
    {
      "cell_type": "code",
      "metadata": {
        "id": "SM79Lsj2rD16",
        "colab_type": "code",
        "colab": {}
      },
      "source": [
        "from keras.models import Sequential\n"
      ],
      "execution_count": 0,
      "outputs": []
    },
    {
      "cell_type": "markdown",
      "metadata": {
        "id": "P6jdE--4z6ff",
        "colab_type": "text"
      },
      "source": [
        "```\n",
        "Notes: \n",
        "\n",
        "sigmoid for binary \n",
        "\n",
        "Softmax = non-binary \n",
        "\n",
        "```\n"
      ]
    },
    {
      "cell_type": "code",
      "metadata": {
        "id": "b_jUtItsravz",
        "colab_type": "code",
        "colab": {
          "base_uri": "https://localhost:8080/",
          "height": 35
        },
        "outputId": "ddcbc4ff-d065-4ccf-c80b-91f8c24d3c69"
      },
      "source": [
        "X = X_train_svd\n",
        "X_t = X_test_svd\n",
        "\n",
        "dim = X.shape[1]\n",
        "dim"
      ],
      "execution_count": 166,
      "outputs": [
        {
          "output_type": "execute_result",
          "data": {
            "text/plain": [
              "9"
            ]
          },
          "metadata": {
            "tags": []
          },
          "execution_count": 166
        }
      ]
    },
    {
      "cell_type": "code",
      "metadata": {
        "id": "04JL4rPm5xKc",
        "colab_type": "code",
        "colab": {}
      },
      "source": [
        "from sklearn.preprocessing import MinMaxScaler\n",
        "mms = MinMaxScaler()\n",
        "# X_train_svd = mms.fit_transform(X_train_svd)\n",
        "# X_test_svd = mms.transform(X_test_svd)"
      ],
      "execution_count": 0,
      "outputs": []
    },
    {
      "cell_type": "code",
      "metadata": {
        "id": "ux-s4sn0jRvY",
        "colab_type": "code",
        "colab": {}
      },
      "source": [
        "classifier = Sequential()\n",
        "#First Hidden Layer\n",
        "classifier.add(Dense(18, activation='relu', input_dim=dim))\n",
        "\n",
        "classifier.add(Dense(36, activation='relu'))\n",
        "\n",
        "classifier.add(Dense(18, activation='relu' ))\n",
        "\n",
        "classifier.add(Dense(9, activation='relu'))\n",
        "\n",
        "classifier.add(Dense(1, activation='sigmoid'))\n",
        "\n",
        "classifier.compile(optimizer ='adam',loss='binary_crossentropy', metrics =['accuracy'])"
      ],
      "execution_count": 0,
      "outputs": []
    },
    {
      "cell_type": "code",
      "metadata": {
        "id": "7bqvWXJjnPGn",
        "colab_type": "code",
        "colab": {
          "base_uri": "https://localhost:8080/",
          "height": 1000
        },
        "outputId": "72088fc8-9ff2-48ef-de75-2c5fc581005e"
      },
      "source": [
        "tensorboard = TensorBoard(histogram_freq=0,\n",
        "                          write_graph=True,\n",
        "                          write_images=True)\n",
        "\n",
        "history = classifier.fit(X,y_train, batch_size=16, epochs=100, validation_data=(X_t,y_test) , callbacks=[tensorboard]).history"
      ],
      "execution_count": 193,
      "outputs": [
        {
          "output_type": "stream",
          "text": [
            "Train on 25767 samples, validate on 231906 samples\n",
            "Epoch 1/100\n",
            "25767/25767 [==============================] - 16s 602us/step - loss: 0.1500 - acc: 0.9298 - val_loss: 0.1668 - val_acc: 0.9243\n",
            "Epoch 2/100\n",
            "25767/25767 [==============================] - 16s 611us/step - loss: 0.1504 - acc: 0.9288 - val_loss: 0.1641 - val_acc: 0.9238\n",
            "Epoch 3/100\n",
            "25767/25767 [==============================] - 16s 606us/step - loss: 0.1520 - acc: 0.9296 - val_loss: 0.1701 - val_acc: 0.9240\n",
            "Epoch 4/100\n",
            "25767/25767 [==============================] - 16s 615us/step - loss: 0.1496 - acc: 0.9306 - val_loss: 0.1678 - val_acc: 0.9207\n",
            "Epoch 5/100\n",
            "25767/25767 [==============================] - 16s 603us/step - loss: 0.1504 - acc: 0.9296 - val_loss: 0.1710 - val_acc: 0.9228\n",
            "Epoch 6/100\n",
            "25767/25767 [==============================] - 16s 604us/step - loss: 0.1510 - acc: 0.9301 - val_loss: 0.1846 - val_acc: 0.9181\n",
            "Epoch 7/100\n",
            "25767/25767 [==============================] - 16s 605us/step - loss: 0.1502 - acc: 0.9286 - val_loss: 0.1681 - val_acc: 0.9241\n",
            "Epoch 8/100\n",
            "25767/25767 [==============================] - 16s 623us/step - loss: 0.1494 - acc: 0.9298 - val_loss: 0.1665 - val_acc: 0.9221\n",
            "Epoch 9/100\n",
            "25767/25767 [==============================] - 15s 598us/step - loss: 0.1513 - acc: 0.9302 - val_loss: 0.1684 - val_acc: 0.9238\n",
            "Epoch 10/100\n",
            "25767/25767 [==============================] - 16s 619us/step - loss: 0.1504 - acc: 0.9291 - val_loss: 0.1637 - val_acc: 0.9248\n",
            "Epoch 11/100\n",
            "25767/25767 [==============================] - 15s 601us/step - loss: 0.1503 - acc: 0.9300 - val_loss: 0.1650 - val_acc: 0.9234\n",
            "Epoch 12/100\n",
            "25767/25767 [==============================] - 15s 601us/step - loss: 0.1495 - acc: 0.9303 - val_loss: 0.1636 - val_acc: 0.9238\n",
            "Epoch 13/100\n",
            "25767/25767 [==============================] - 16s 607us/step - loss: 0.1505 - acc: 0.9300 - val_loss: 0.1673 - val_acc: 0.9237\n",
            "Epoch 14/100\n",
            "25767/25767 [==============================] - 16s 602us/step - loss: 0.1484 - acc: 0.9313 - val_loss: 0.1646 - val_acc: 0.9241\n",
            "Epoch 15/100\n",
            "25767/25767 [==============================] - 16s 607us/step - loss: 0.1492 - acc: 0.9299 - val_loss: 0.1674 - val_acc: 0.9246\n",
            "Epoch 16/100\n",
            "25767/25767 [==============================] - 16s 605us/step - loss: 0.1487 - acc: 0.9303 - val_loss: 0.1669 - val_acc: 0.9234\n",
            "Epoch 17/100\n",
            "25767/25767 [==============================] - 16s 602us/step - loss: 0.1486 - acc: 0.9313 - val_loss: 0.1645 - val_acc: 0.9235\n",
            "Epoch 18/100\n",
            "25767/25767 [==============================] - 16s 603us/step - loss: 0.1501 - acc: 0.9293 - val_loss: 0.1647 - val_acc: 0.9237\n",
            "Epoch 19/100\n",
            "25767/25767 [==============================] - 16s 608us/step - loss: 0.1475 - acc: 0.9310 - val_loss: 0.1746 - val_acc: 0.9213\n",
            "Epoch 20/100\n",
            "25767/25767 [==============================] - 15s 601us/step - loss: 0.1499 - acc: 0.9313 - val_loss: 0.1661 - val_acc: 0.9245\n",
            "Epoch 21/100\n",
            "25767/25767 [==============================] - 16s 603us/step - loss: 0.1482 - acc: 0.9308 - val_loss: 0.1643 - val_acc: 0.9242\n",
            "Epoch 22/100\n",
            "25767/25767 [==============================] - 16s 609us/step - loss: 0.1489 - acc: 0.9304 - val_loss: 0.1644 - val_acc: 0.9252\n",
            "Epoch 23/100\n",
            "25767/25767 [==============================] - 16s 602us/step - loss: 0.1484 - acc: 0.9310 - val_loss: 0.1760 - val_acc: 0.9218\n",
            "Epoch 24/100\n",
            "25767/25767 [==============================] - 16s 605us/step - loss: 0.1484 - acc: 0.9307 - val_loss: 0.1662 - val_acc: 0.9241\n",
            "Epoch 25/100\n",
            "25767/25767 [==============================] - 16s 613us/step - loss: 0.1485 - acc: 0.9314 - val_loss: 0.1783 - val_acc: 0.9208\n",
            "Epoch 26/100\n",
            "25767/25767 [==============================] - 16s 610us/step - loss: 0.1483 - acc: 0.9302 - val_loss: 0.1710 - val_acc: 0.9231\n",
            "Epoch 27/100\n",
            "25767/25767 [==============================] - 16s 613us/step - loss: 0.1482 - acc: 0.9304 - val_loss: 0.1692 - val_acc: 0.9248\n",
            "Epoch 28/100\n",
            "25767/25767 [==============================] - 16s 628us/step - loss: 0.1492 - acc: 0.9302 - val_loss: 0.1673 - val_acc: 0.9232\n",
            "Epoch 29/100\n",
            "25767/25767 [==============================] - 16s 611us/step - loss: 0.1469 - acc: 0.9310 - val_loss: 0.1689 - val_acc: 0.9225\n",
            "Epoch 30/100\n",
            "25767/25767 [==============================] - 16s 605us/step - loss: 0.1479 - acc: 0.9306 - val_loss: 0.1663 - val_acc: 0.9245\n",
            "Epoch 31/100\n",
            "25767/25767 [==============================] - 16s 606us/step - loss: 0.1477 - acc: 0.9313 - val_loss: 0.1644 - val_acc: 0.9239\n",
            "Epoch 32/100\n",
            "25767/25767 [==============================] - 15s 599us/step - loss: 0.1482 - acc: 0.9302 - val_loss: 0.1664 - val_acc: 0.9249\n",
            "Epoch 33/100\n",
            "25767/25767 [==============================] - 16s 610us/step - loss: 0.1474 - acc: 0.9307 - val_loss: 0.1665 - val_acc: 0.9235\n",
            "Epoch 34/100\n",
            "25767/25767 [==============================] - 16s 609us/step - loss: 0.1488 - acc: 0.9304 - val_loss: 0.1689 - val_acc: 0.9241\n",
            "Epoch 35/100\n",
            "25767/25767 [==============================] - 16s 605us/step - loss: 0.1468 - acc: 0.9305 - val_loss: 0.1722 - val_acc: 0.9237\n",
            "Epoch 36/100\n",
            "25767/25767 [==============================] - 16s 608us/step - loss: 0.1472 - acc: 0.9308 - val_loss: 0.1757 - val_acc: 0.9225\n",
            "Epoch 37/100\n",
            "25767/25767 [==============================] - 16s 604us/step - loss: 0.1482 - acc: 0.9304 - val_loss: 0.1673 - val_acc: 0.9247\n",
            "Epoch 38/100\n",
            "25767/25767 [==============================] - 16s 603us/step - loss: 0.1478 - acc: 0.9310 - val_loss: 0.1646 - val_acc: 0.9241\n",
            "Epoch 39/100\n",
            "25767/25767 [==============================] - 15s 595us/step - loss: 0.1484 - acc: 0.9309 - val_loss: 0.1677 - val_acc: 0.9229\n",
            "Epoch 40/100\n",
            "25767/25767 [==============================] - 16s 603us/step - loss: 0.1470 - acc: 0.9305 - val_loss: 0.1655 - val_acc: 0.9250\n",
            "Epoch 41/100\n",
            "25767/25767 [==============================] - 15s 601us/step - loss: 0.1469 - acc: 0.9312 - val_loss: 0.1673 - val_acc: 0.9239\n",
            "Epoch 42/100\n",
            "25767/25767 [==============================] - 15s 600us/step - loss: 0.1471 - acc: 0.9305 - val_loss: 0.1677 - val_acc: 0.9236\n",
            "Epoch 43/100\n",
            "25767/25767 [==============================] - 16s 603us/step - loss: 0.1470 - acc: 0.9309 - val_loss: 0.1666 - val_acc: 0.9246\n",
            "Epoch 44/100\n",
            "25767/25767 [==============================] - 15s 600us/step - loss: 0.1478 - acc: 0.9311 - val_loss: 0.1648 - val_acc: 0.9241\n",
            "Epoch 45/100\n",
            "25767/25767 [==============================] - 15s 599us/step - loss: 0.1459 - acc: 0.9323 - val_loss: 0.1881 - val_acc: 0.9185\n",
            "Epoch 46/100\n",
            "25767/25767 [==============================] - 15s 596us/step - loss: 0.1465 - acc: 0.9305 - val_loss: 0.1678 - val_acc: 0.9248\n",
            "Epoch 47/100\n",
            "25767/25767 [==============================] - 15s 601us/step - loss: 0.1468 - acc: 0.9308 - val_loss: 0.1661 - val_acc: 0.9244\n",
            "Epoch 48/100\n",
            "25767/25767 [==============================] - 16s 631us/step - loss: 0.1471 - acc: 0.9310 - val_loss: 0.1787 - val_acc: 0.9216\n",
            "Epoch 49/100\n",
            "25767/25767 [==============================] - 16s 606us/step - loss: 0.1468 - acc: 0.9313 - val_loss: 0.1682 - val_acc: 0.9240\n",
            "Epoch 50/100\n",
            "25767/25767 [==============================] - 15s 597us/step - loss: 0.1449 - acc: 0.9322 - val_loss: 0.2020 - val_acc: 0.9158\n",
            "Epoch 51/100\n",
            "25767/25767 [==============================] - 16s 602us/step - loss: 0.1467 - acc: 0.9313 - val_loss: 0.1675 - val_acc: 0.9234\n",
            "Epoch 52/100\n",
            "25767/25767 [==============================] - 15s 599us/step - loss: 0.1471 - acc: 0.9313 - val_loss: 0.1666 - val_acc: 0.9226\n",
            "Epoch 53/100\n",
            "25767/25767 [==============================] - 15s 599us/step - loss: 0.1460 - acc: 0.9310 - val_loss: 0.1704 - val_acc: 0.9227\n",
            "Epoch 54/100\n",
            "25767/25767 [==============================] - 15s 601us/step - loss: 0.1452 - acc: 0.9321 - val_loss: 0.1672 - val_acc: 0.9228\n",
            "Epoch 55/100\n",
            "25767/25767 [==============================] - 15s 601us/step - loss: 0.1469 - acc: 0.9304 - val_loss: 0.1643 - val_acc: 0.9242\n",
            "Epoch 56/100\n",
            "25767/25767 [==============================] - 16s 606us/step - loss: 0.1457 - acc: 0.9319 - val_loss: 0.1667 - val_acc: 0.9244\n",
            "Epoch 57/100\n",
            "25767/25767 [==============================] - 15s 600us/step - loss: 0.1463 - acc: 0.9309 - val_loss: 0.1652 - val_acc: 0.9249\n",
            "Epoch 58/100\n",
            "25767/25767 [==============================] - 16s 608us/step - loss: 0.1460 - acc: 0.9324 - val_loss: 0.1662 - val_acc: 0.9251\n",
            "Epoch 59/100\n",
            "25767/25767 [==============================] - 15s 596us/step - loss: 0.1451 - acc: 0.9319 - val_loss: 0.1695 - val_acc: 0.9237\n",
            "Epoch 60/100\n",
            "25767/25767 [==============================] - 15s 600us/step - loss: 0.1463 - acc: 0.9317 - val_loss: 0.1703 - val_acc: 0.9215\n",
            "Epoch 61/100\n",
            "25767/25767 [==============================] - 15s 598us/step - loss: 0.1459 - acc: 0.9316 - val_loss: 0.1718 - val_acc: 0.9234\n",
            "Epoch 62/100\n",
            "25767/25767 [==============================] - 16s 602us/step - loss: 0.1462 - acc: 0.9311 - val_loss: 0.1677 - val_acc: 0.9244\n",
            "Epoch 63/100\n",
            "25767/25767 [==============================] - 15s 599us/step - loss: 0.1457 - acc: 0.9306 - val_loss: 0.1693 - val_acc: 0.9240\n",
            "Epoch 64/100\n",
            "25767/25767 [==============================] - 16s 603us/step - loss: 0.1457 - acc: 0.9317 - val_loss: 0.1663 - val_acc: 0.9241\n",
            "Epoch 65/100\n",
            "25767/25767 [==============================] - 16s 602us/step - loss: 0.1450 - acc: 0.9327 - val_loss: 0.1656 - val_acc: 0.9254\n",
            "Epoch 66/100\n",
            "25767/25767 [==============================] - 15s 598us/step - loss: 0.1451 - acc: 0.9313 - val_loss: 0.1715 - val_acc: 0.9221\n",
            "Epoch 67/100\n",
            "25767/25767 [==============================] - 15s 601us/step - loss: 0.1454 - acc: 0.9322 - val_loss: 0.1687 - val_acc: 0.9234\n",
            "Epoch 68/100\n",
            "25767/25767 [==============================] - 16s 628us/step - loss: 0.1449 - acc: 0.9319 - val_loss: 0.1701 - val_acc: 0.9243\n",
            "Epoch 69/100\n",
            "25767/25767 [==============================] - 16s 607us/step - loss: 0.1448 - acc: 0.9325 - val_loss: 0.1692 - val_acc: 0.9242\n",
            "Epoch 70/100\n",
            "25767/25767 [==============================] - 15s 599us/step - loss: 0.1457 - acc: 0.9317 - val_loss: 0.1686 - val_acc: 0.9236\n",
            "Epoch 71/100\n",
            "25767/25767 [==============================] - 15s 599us/step - loss: 0.1451 - acc: 0.9312 - val_loss: 0.1653 - val_acc: 0.9236\n",
            "Epoch 72/100\n",
            "25767/25767 [==============================] - 16s 602us/step - loss: 0.1456 - acc: 0.9313 - val_loss: 0.1663 - val_acc: 0.9243\n",
            "Epoch 73/100\n",
            "25767/25767 [==============================] - 15s 597us/step - loss: 0.1447 - acc: 0.9319 - val_loss: 0.1773 - val_acc: 0.9225\n",
            "Epoch 74/100\n",
            "25767/25767 [==============================] - 16s 603us/step - loss: 0.1458 - acc: 0.9317 - val_loss: 0.1658 - val_acc: 0.9246\n",
            "Epoch 75/100\n",
            "25767/25767 [==============================] - 15s 597us/step - loss: 0.1448 - acc: 0.9321 - val_loss: 0.1712 - val_acc: 0.9223\n",
            "Epoch 76/100\n",
            "25767/25767 [==============================] - 15s 599us/step - loss: 0.1448 - acc: 0.9317 - val_loss: 0.1670 - val_acc: 0.9237\n",
            "Epoch 77/100\n",
            "25767/25767 [==============================] - 15s 598us/step - loss: 0.1434 - acc: 0.9334 - val_loss: 0.1685 - val_acc: 0.9233\n",
            "Epoch 78/100\n",
            "25767/25767 [==============================] - 15s 595us/step - loss: 0.1451 - acc: 0.9338 - val_loss: 0.1674 - val_acc: 0.9242\n",
            "Epoch 79/100\n",
            "25767/25767 [==============================] - 15s 601us/step - loss: 0.1477 - acc: 0.9317 - val_loss: 0.1668 - val_acc: 0.9250\n",
            "Epoch 80/100\n",
            "25767/25767 [==============================] - 15s 601us/step - loss: 0.1446 - acc: 0.9322 - val_loss: 0.1682 - val_acc: 0.9247\n",
            "Epoch 81/100\n",
            "25767/25767 [==============================] - 15s 599us/step - loss: 0.1441 - acc: 0.9333 - val_loss: 0.1731 - val_acc: 0.9229\n",
            "Epoch 82/100\n",
            "25767/25767 [==============================] - 16s 603us/step - loss: 0.1446 - acc: 0.9330 - val_loss: 0.1701 - val_acc: 0.9243\n",
            "Epoch 83/100\n",
            "25767/25767 [==============================] - 16s 605us/step - loss: 0.1443 - acc: 0.9316 - val_loss: 0.1720 - val_acc: 0.9238\n",
            "Epoch 84/100\n",
            "25767/25767 [==============================] - 16s 605us/step - loss: 0.1447 - acc: 0.9328 - val_loss: 0.1683 - val_acc: 0.9246\n",
            "Epoch 85/100\n",
            "25767/25767 [==============================] - 15s 599us/step - loss: 0.1437 - acc: 0.9320 - val_loss: 0.1716 - val_acc: 0.9232\n",
            "Epoch 86/100\n",
            "25767/25767 [==============================] - 15s 596us/step - loss: 0.1451 - acc: 0.9310 - val_loss: 0.1664 - val_acc: 0.9236\n",
            "Epoch 87/100\n",
            "25767/25767 [==============================] - 15s 599us/step - loss: 0.1444 - acc: 0.9315 - val_loss: 0.1685 - val_acc: 0.9232\n",
            "Epoch 88/100\n",
            "25767/25767 [==============================] - 16s 639us/step - loss: 0.1445 - acc: 0.9323 - val_loss: 0.1712 - val_acc: 0.9224\n",
            "Epoch 89/100\n",
            "25767/25767 [==============================] - 15s 593us/step - loss: 0.1441 - acc: 0.9327 - val_loss: 0.1676 - val_acc: 0.9240\n",
            "Epoch 90/100\n",
            "25767/25767 [==============================] - 16s 603us/step - loss: 0.1444 - acc: 0.9314 - val_loss: 0.1727 - val_acc: 0.9232\n",
            "Epoch 91/100\n",
            "25767/25767 [==============================] - 15s 598us/step - loss: 0.1438 - acc: 0.9314 - val_loss: 0.1696 - val_acc: 0.9235\n",
            "Epoch 92/100\n",
            "25767/25767 [==============================] - 15s 597us/step - loss: 0.1450 - acc: 0.9322 - val_loss: 0.1662 - val_acc: 0.9247\n",
            "Epoch 93/100\n",
            "25767/25767 [==============================] - 15s 598us/step - loss: 0.1444 - acc: 0.9320 - val_loss: 0.1729 - val_acc: 0.9247\n",
            "Epoch 94/100\n",
            "25767/25767 [==============================] - 15s 601us/step - loss: 0.1444 - acc: 0.9319 - val_loss: 0.1661 - val_acc: 0.9246\n",
            "Epoch 95/100\n",
            "25767/25767 [==============================] - 15s 598us/step - loss: 0.1433 - acc: 0.9319 - val_loss: 0.1673 - val_acc: 0.9249\n",
            "Epoch 96/100\n",
            "25767/25767 [==============================] - 15s 599us/step - loss: 0.1435 - acc: 0.9326 - val_loss: 0.1740 - val_acc: 0.9245\n",
            "Epoch 97/100\n",
            "25767/25767 [==============================] - 15s 596us/step - loss: 0.1437 - acc: 0.9309 - val_loss: 0.1688 - val_acc: 0.9231\n",
            "Epoch 98/100\n",
            "25767/25767 [==============================] - 15s 597us/step - loss: 0.1433 - acc: 0.9324 - val_loss: 0.1759 - val_acc: 0.9236\n",
            "Epoch 99/100\n",
            "25767/25767 [==============================] - 15s 599us/step - loss: 0.1436 - acc: 0.9329 - val_loss: 0.1679 - val_acc: 0.9241\n",
            "Epoch 100/100\n",
            "25767/25767 [==============================] - 15s 597us/step - loss: 0.1450 - acc: 0.9321 - val_loss: 0.1674 - val_acc: 0.9242\n"
          ],
          "name": "stdout"
        }
      ]
    },
    {
      "cell_type": "code",
      "metadata": {
        "id": "7Blga8S1-DxE",
        "colab_type": "code",
        "colab": {
          "base_uri": "https://localhost:8080/",
          "height": 254
        },
        "outputId": "5f9397e2-d6ba-4e6f-90c0-b36a973bb58f"
      },
      "source": [
        "#!pip install keras_sequential_ascii\n",
        "from keras_sequential_ascii import keras2ascii\n",
        "keras2ascii(classifier)"
      ],
      "execution_count": 194,
      "outputs": [
        {
          "output_type": "stream",
          "text": [
            "           OPERATION           DATA DIMENSIONS   WEIGHTS(N)   WEIGHTS(%)\n",
            "\n",
            "               Input   #####           9\n",
            "               Dense   XXXXX -------------------       180    10.5%\n",
            "                relu   #####          18\n",
            "               Dense   XXXXX -------------------       684    40.0%\n",
            "                relu   #####          36\n",
            "               Dense   XXXXX -------------------       666    38.9%\n",
            "                relu   #####          18\n",
            "               Dense   XXXXX -------------------       171    10.0%\n",
            "                relu   #####           9\n",
            "               Dense   XXXXX -------------------        10     0.6%\n",
            "             sigmoid   #####           1\n"
          ],
          "name": "stdout"
        }
      ]
    },
    {
      "cell_type": "code",
      "metadata": {
        "id": "STqFbIZOnPNn",
        "colab_type": "code",
        "colab": {
          "base_uri": "https://localhost:8080/",
          "height": 163
        },
        "outputId": "fc08fb4c-584a-4840-ff7d-59df0f61eda3"
      },
      "source": [
        "eval_model=classifier.evaluate(X, y_train)\n",
        "print(eval_model)\n",
        "\n",
        "eval_model=classifier.evaluate(X_t, y_test)\n",
        "print(eval_model)\n",
        "\n",
        "\n",
        "predictions=classifier.predict(X_t)\n",
        "predictions =(predictions>0.80)\n",
        "\n",
        "mse = np.mean(np.power(X_test_svd - predictions, 2), axis=1)\n",
        "error_df = pd.DataFrame({'reconstruction_error': mse,'true_class': y_test.values.reshape(1,-1)[0]})\n",
        "# error_df.describe()\n",
        "print()\n",
        "print(np.mean(mse))\n",
        "cm = confusion_matrix(y_test, y_pred)\n",
        "print(cm)"
      ],
      "execution_count": 199,
      "outputs": [
        {
          "output_type": "stream",
          "text": [
            "25767/25767 [==============================] - 1s 25us/step\n",
            "[0.1386234540349611, 0.9340241394031125]\n",
            "231906/231906 [==============================] - 6s 25us/step\n",
            "[0.16736483896156854, 0.9242408562089812]\n",
            "\n",
            "0.568583993218773\n",
            "[[ 60296  23338]\n",
            " [  2941 145331]]\n"
          ],
          "name": "stdout"
        }
      ]
    },
    {
      "cell_type": "code",
      "metadata": {
        "id": "40tdgoNHnMfa",
        "colab_type": "code",
        "colab": {
          "base_uri": "https://localhost:8080/",
          "height": 295
        },
        "outputId": "6deab4d9-f7ad-448c-d57e-0b9b040fb404"
      },
      "source": [
        "plt.plot(history['loss'])\n",
        "plt.plot(history['val_loss'])\n",
        "plt.title('model loss')\n",
        "plt.ylabel('loss')\n",
        "plt.xlabel('epoch')\n",
        "plt.legend(['train', 'test'], loc='upper right');"
      ],
      "execution_count": 196,
      "outputs": [
        {
          "output_type": "display_data",
          "data": {
            "image/png": "[encoded data removed]",
            "text/plain": [
              "<Figure size 432x288 with 1 Axes>"
            ]
          },
          "metadata": {
            "tags": []
          }
        }
      ]
    },
    {
      "cell_type": "code",
      "metadata": {
        "id": "w9Jq4HEQnMjK",
        "colab_type": "code",
        "colab": {
          "base_uri": "https://localhost:8080/",
          "height": 295
        },
        "outputId": "3d44441f-d35b-4a74-e7c5-b46a18c366e6"
      },
      "source": [
        "fpr, tpr, thresholds = roc_curve(error_df.true_class, error_df.reconstruction_error,pos_label=1)\n",
        "roc_auc = auc(fpr, tpr)\n",
        "\n",
        "\n",
        "plt.title('Receiver Operating Characteristic')\n",
        "plt.plot(fpr, tpr, label='AUC = %0.4f'% roc_auc)\n",
        "plt.legend(loc='lower right')\n",
        "plt.plot([0,1],[0,1],'r--')\n",
        "plt.xlim([-0.001, 1])\n",
        "plt.ylim([0, 1.001])\n",
        "plt.ylabel('True Positive Rate')\n",
        "plt.xlabel('False Positive Rate')\n",
        "plt.show();"
      ],
      "execution_count": 197,
      "outputs": [
        {
          "output_type": "display_data",
          "data": {
            "image/png": "[encoded data removed]",
            "text/plain": [
              "<Figure size 432x288 with 1 Axes>"
            ]
          },
          "metadata": {
            "tags": []
          }
        }
      ]
    },
    {
      "cell_type": "code",
      "metadata": {
        "id": "HWJk5_AlnMnM",
        "colab_type": "code",
        "colab": {
          "base_uri": "https://localhost:8080/",
          "height": 313
        },
        "outputId": "cab9bbb9-5c0e-459c-d305-24ff74cbc893"
      },
      "source": [
        "precision, recall, th = precision_recall_curve(error_df.true_class, error_df.reconstruction_error,pos_label=1)\n",
        "plt.plot(recall, precision, 'b', label='Precision-Recall curve')\n",
        "plt.title('Recall vs Precision')\n",
        "plt.xlabel('Recall')\n",
        "plt.ylabel('Precision')\n",
        "plt.show()"
      ],
      "execution_count": 198,
      "outputs": [
        {
          "output_type": "execute_result",
          "data": {
            "text/plain": [
              "[<matplotlib.lines.Line2D at 0x7f0dacbaf358>]"
            ]
          },
          "metadata": {
            "tags": []
          },
          "execution_count": 198
        },
        {
          "output_type": "execute_result",
          "data": {
            "text/plain": [
              "Text(0.5, 1.0, 'Recall vs Precision')"
            ]
          },
          "metadata": {
            "tags": []
          },
          "execution_count": 198
        },
        {
          "output_type": "execute_result",
          "data": {
            "text/plain": [
              "Text(0.5, 0, 'Recall')"
            ]
          },
          "metadata": {
            "tags": []
          },
          "execution_count": 198
        },
        {
          "output_type": "execute_result",
          "data": {
            "text/plain": [
              "Text(0, 0.5, 'Precision')"
            ]
          },
          "metadata": {
            "tags": []
          },
          "execution_count": 198
        },
        {
          "output_type": "display_data",
          "data": {
            "image/png": "[encoded data removed]",
            "text/plain": [
              "<Figure size 432x288 with 1 Axes>"
            ]
          },
          "metadata": {
            "tags": []
          }
        }
      ]
    },
    {
      "cell_type": "code",
      "metadata": {
        "id": "CjRc41fsnMr6",
        "colab_type": "code",
        "colab": {}
      },
      "source": [
        ""
      ],
      "execution_count": 0,
      "outputs": []
    },
    {
      "cell_type": "code",
      "metadata": {
        "id": "X05LsfcUjRyh",
        "colab_type": "code",
        "colab": {}
      },
      "source": [
        ""
      ],
      "execution_count": 0,
      "outputs": []
    },
    {
      "cell_type": "code",
      "metadata": {
        "id": "Po7VpfirjR2L",
        "colab_type": "code",
        "colab": {}
      },
      "source": [
        ""
      ],
      "execution_count": 0,
      "outputs": []
    },
    {
      "cell_type": "code",
      "metadata": {
        "id": "r5SPcmAFjR5l",
        "colab_type": "code",
        "colab": {}
      },
      "source": [
        ""
      ],
      "execution_count": 0,
      "outputs": []
    },
    {
      "cell_type": "code",
      "metadata": {
        "id": "XpSg_uGZjR9J",
        "colab_type": "code",
        "colab": {}
      },
      "source": [
        ""
      ],
      "execution_count": 0,
      "outputs": []
    },
    {
      "cell_type": "code",
      "metadata": {
        "id": "9HMfAuoOjSAq",
        "colab_type": "code",
        "colab": {}
      },
      "source": [
        ""
      ],
      "execution_count": 0,
      "outputs": []
    },
    {
      "cell_type": "code",
      "metadata": {
        "id": "o3yKHghIjSEV",
        "colab_type": "code",
        "colab": {}
      },
      "source": [
        ""
      ],
      "execution_count": 0,
      "outputs": []
    },
    {
      "cell_type": "code",
      "metadata": {
        "id": "ixQ7uR00jSIB",
        "colab_type": "code",
        "colab": {}
      },
      "source": [
        ""
      ],
      "execution_count": 0,
      "outputs": []
    },
    {
      "cell_type": "code",
      "metadata": {
        "id": "4OHfbx1qjSLS",
        "colab_type": "code",
        "colab": {}
      },
      "source": [
        ""
      ],
      "execution_count": 0,
      "outputs": []
    },
    {
      "cell_type": "code",
      "metadata": {
        "id": "twvrr6d5jSOq",
        "colab_type": "code",
        "colab": {}
      },
      "source": [
        ""
      ],
      "execution_count": 0,
      "outputs": []
    },
    {
      "cell_type": "code",
      "metadata": {
        "id": "I8gsbiYtjSRk",
        "colab_type": "code",
        "colab": {}
      },
      "source": [
        ""
      ],
      "execution_count": 0,
      "outputs": []
    },
    {
      "cell_type": "code",
      "metadata": {
        "id": "1T_uPrDSjRop",
        "colab_type": "code",
        "colab": {}
      },
      "source": [
        ""
      ],
      "execution_count": 0,
      "outputs": []
    },
    {
      "cell_type": "code",
      "metadata": {
        "id": "jmvwsp-KnNWi",
        "colab_type": "code",
        "colab": {}
      },
      "source": [
        ""
      ],
      "execution_count": 0,
      "outputs": []
    },
    {
      "cell_type": "code",
      "metadata": {
        "id": "gJY4PEQhnNb5",
        "colab_type": "code",
        "colab": {}
      },
      "source": [
        ""
      ],
      "execution_count": 0,
      "outputs": []
    },
    {
      "cell_type": "code",
      "metadata": {
        "id": "PkbExAc-nNfp",
        "colab_type": "code",
        "colab": {}
      },
      "source": [
        ""
      ],
      "execution_count": 0,
      "outputs": []
    },
    {
      "cell_type": "code",
      "metadata": {
        "id": "T2aaz0iLnNja",
        "colab_type": "code",
        "colab": {}
      },
      "source": [
        ""
      ],
      "execution_count": 0,
      "outputs": []
    },
    {
      "cell_type": "code",
      "metadata": {
        "id": "v30s7FidnNm-",
        "colab_type": "code",
        "colab": {}
      },
      "source": [
        ""
      ],
      "execution_count": 0,
      "outputs": []
    },
    {
      "cell_type": "code",
      "metadata": {
        "id": "ARG5tDbjnNqa",
        "colab_type": "code",
        "colab": {}
      },
      "source": [
        ""
      ],
      "execution_count": 0,
      "outputs": []
    },
    {
      "cell_type": "code",
      "metadata": {
        "id": "74QP1VY6nNth",
        "colab_type": "code",
        "colab": {}
      },
      "source": [
        ""
      ],
      "execution_count": 0,
      "outputs": []
    },
    {
      "cell_type": "code",
      "metadata": {
        "id": "mohA8IeSnNw7",
        "colab_type": "code",
        "colab": {}
      },
      "source": [
        ""
      ],
      "execution_count": 0,
      "outputs": []
    },
    {
      "cell_type": "code",
      "metadata": {
        "id": "a-Jf6wmTnN0B",
        "colab_type": "code",
        "colab": {}
      },
      "source": [
        ""
      ],
      "execution_count": 0,
      "outputs": []
    },
    {
      "cell_type": "code",
      "metadata": {
        "id": "LVGSOxgunN3S",
        "colab_type": "code",
        "colab": {}
      },
      "source": [
        ""
      ],
      "execution_count": 0,
      "outputs": []
    },
    {
      "cell_type": "code",
      "metadata": {
        "id": "tkcSDGFhnN6H",
        "colab_type": "code",
        "colab": {}
      },
      "source": [
        ""
      ],
      "execution_count": 0,
      "outputs": []
    },
    {
      "cell_type": "code",
      "metadata": {
        "id": "DMKSBLJknN8i",
        "colab_type": "code",
        "colab": {}
      },
      "source": [
        ""
      ],
      "execution_count": 0,
      "outputs": []
    }
  ]
}