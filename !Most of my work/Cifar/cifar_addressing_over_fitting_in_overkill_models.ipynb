{
  "nbformat": 4,
  "nbformat_minor": 0,
  "metadata": {
    "colab": {
      "name": "cifar - addressing over fitting in overkill models",
      "provenance": [],
      "collapsed_sections": [],
      "authorship_tag": "ABX9TyPVhiSRn5GuRuc88SdB7dBO"
    },
    "kernelspec": {
      "name": "python3",
      "display_name": "Python 3"
    },
    "accelerator": "GPU"
  },
  "cells": [
    {
      "cell_type": "code",
      "metadata": {
        "id": "nJtM_blWeY_w",
        "colab_type": "code",
        "colab": {}
      },
      "source": [
        "import numpy as np\n",
        "import pandas as pd\n",
        "import tensorflow as tf\n",
        "from tensorflow.keras.layers import *\n",
        "from tensorflow.keras.regularizers import *\n",
        "from tensorflow.keras.models import Sequential\n",
        "\n",
        "\n",
        "import matplotlib.pyplot as plt\n",
        "%matplotlib inline"
      ],
      "execution_count": null,
      "outputs": []
    },
    {
      "cell_type": "code",
      "metadata": {
        "id": "qxNQg_LHgI9U",
        "colab_type": "code",
        "colab": {
          "base_uri": "https://localhost:8080/",
          "height": 212
        },
        "outputId": "9d0ae251-6425-4e26-9a8d-26b0afd491b9"
      },
      "source": [
        "classes = 100\n",
        "(train_images, train_labels), (test_images, test_labels) = tf.keras.datasets.cifar100.load_data()\n",
        "train_images, test_images = train_images / 255.0, test_images / 255.0\n",
        "plt.figure(figsize=(3,3))\n",
        "plt.imshow(train_images[42], cmap=plt.cm.binary);\n",
        "plt.show()"
      ],
      "execution_count": null,
      "outputs": [
        {
          "output_type": "display_data",
          "data": {
            "image/png": "[encoded data removed]",
            "text/plain": [
              "<Figure size 216x216 with 1 Axes>"
            ]
          },
          "metadata": {
            "tags": [],
            "needs_background": "light"
          }
        }
      ]
    },
    {
      "cell_type": "markdown",
      "metadata": {
        "id": "6mrGz1fO4Kaf",
        "colab_type": "text"
      },
      "source": [
        "## A simple model"
      ]
    },
    {
      "cell_type": "code",
      "metadata": {
        "id": "fPs_40NL1iL1",
        "colab_type": "code",
        "colab": {
          "base_uri": "https://localhost:8080/",
          "height": 985
        },
        "outputId": "cce21412-0faa-44f6-b5ef-d1bf29c42a8b"
      },
      "source": [
        "model = Sequential()\n",
        "model.add(Conv2D(32, (3, 3), activation='relu', input_shape=(32, 32, 3)))\n",
        "model.add(MaxPooling2D((2, 2)))\n",
        "model.add(Conv2D(64, (3, 3), activation='relu'))\n",
        "model.add(MaxPooling2D((2, 2)))\n",
        "model.add(Conv2D(64, (3, 3), activation='relu'))\n",
        "\n",
        "model.add(Flatten())\n",
        "model.add(Dense(64, activation='relu'))\n",
        "model.add(Dense(classes))\n",
        "\n",
        "model.compile(optimizer='adam',\n",
        "              loss=tf.keras.losses.SparseCategoricalCrossentropy(from_logits=True),\n",
        "              metrics=['accuracy']) # `from_logits=True` \n",
        "\n",
        "history = model.fit(train_images, train_labels,batch_size=16, epochs=20, \n",
        "                    validation_data=(test_images, test_labels))\n",
        "\n",
        "plt.figure(figsize=(12,4))\n",
        "plt.plot(history.history['loss'], label='loss');\n",
        "plt.plot(history.history['val_loss'], label = 'val_loss');\n",
        "plt.xlabel('Epoch')\n",
        "plt.ylabel('loss')\n",
        "plt.legend(loc='lower right')\n",
        "\n",
        "test_loss, test_acc = model.evaluate(test_images,  test_labels, verbose=2)\n",
        "print('test_acc:', round(test_acc,3))"
      ],
      "execution_count": null,
      "outputs": [
        {
          "output_type": "stream",
          "text": [
            "Epoch 1/20\n",
            "3125/3125 [==============================] - 9s 3ms/step - loss: 1.4940 - accuracy: 0.4559 - val_loss: 1.2236 - val_accuracy: 0.5617\n",
            "Epoch 2/20\n",
            "3125/3125 [==============================] - 9s 3ms/step - loss: 1.1428 - accuracy: 0.5974 - val_loss: 1.0487 - val_accuracy: 0.6250\n",
            "Epoch 3/20\n",
            "3125/3125 [==============================] - 9s 3ms/step - loss: 1.0043 - accuracy: 0.6450 - val_loss: 0.9875 - val_accuracy: 0.6548\n",
            "Epoch 4/20\n",
            "3125/3125 [==============================] - 9s 3ms/step - loss: 0.9077 - accuracy: 0.6801 - val_loss: 0.9519 - val_accuracy: 0.6691\n",
            "Epoch 5/20\n",
            "3125/3125 [==============================] - 9s 3ms/step - loss: 0.8358 - accuracy: 0.7069 - val_loss: 0.9121 - val_accuracy: 0.6831\n",
            "Epoch 6/20\n",
            "3125/3125 [==============================] - 9s 3ms/step - loss: 0.7776 - accuracy: 0.7258 - val_loss: 0.9436 - val_accuracy: 0.6801\n",
            "Epoch 7/20\n",
            "3125/3125 [==============================] - 9s 3ms/step - loss: 0.7320 - accuracy: 0.7413 - val_loss: 0.9193 - val_accuracy: 0.6841\n",
            "Epoch 8/20\n",
            "3125/3125 [==============================] - 9s 3ms/step - loss: 0.6900 - accuracy: 0.7559 - val_loss: 0.9186 - val_accuracy: 0.6957\n",
            "Epoch 9/20\n",
            "3125/3125 [==============================] - 9s 3ms/step - loss: 0.6485 - accuracy: 0.7704 - val_loss: 0.9850 - val_accuracy: 0.6874\n",
            "Epoch 10/20\n",
            "3125/3125 [==============================] - 9s 3ms/step - loss: 0.6130 - accuracy: 0.7842 - val_loss: 0.9883 - val_accuracy: 0.6856\n",
            "Epoch 11/20\n",
            "3125/3125 [==============================] - 9s 3ms/step - loss: 0.5780 - accuracy: 0.7934 - val_loss: 1.0490 - val_accuracy: 0.6808\n",
            "Epoch 12/20\n",
            "3125/3125 [==============================] - 9s 3ms/step - loss: 0.5441 - accuracy: 0.8070 - val_loss: 1.0000 - val_accuracy: 0.6892\n",
            "Epoch 13/20\n",
            "3125/3125 [==============================] - 9s 3ms/step - loss: 0.5183 - accuracy: 0.8128 - val_loss: 1.0360 - val_accuracy: 0.6864\n",
            "Epoch 14/20\n",
            "3125/3125 [==============================] - 9s 3ms/step - loss: 0.4863 - accuracy: 0.8252 - val_loss: 1.0769 - val_accuracy: 0.6894\n",
            "Epoch 15/20\n",
            "3125/3125 [==============================] - 9s 3ms/step - loss: 0.4597 - accuracy: 0.8338 - val_loss: 1.1207 - val_accuracy: 0.6837\n",
            "Epoch 16/20\n",
            "3125/3125 [==============================] - 9s 3ms/step - loss: 0.4361 - accuracy: 0.8417 - val_loss: 1.1161 - val_accuracy: 0.6908\n",
            "Epoch 17/20\n",
            "3125/3125 [==============================] - 9s 3ms/step - loss: 0.4153 - accuracy: 0.8495 - val_loss: 1.2348 - val_accuracy: 0.6819\n",
            "Epoch 18/20\n",
            "3125/3125 [==============================] - 9s 3ms/step - loss: 0.3868 - accuracy: 0.8596 - val_loss: 1.2214 - val_accuracy: 0.6883\n",
            "Epoch 19/20\n",
            "3125/3125 [==============================] - 9s 3ms/step - loss: 0.3674 - accuracy: 0.8667 - val_loss: 1.2543 - val_accuracy: 0.6794\n",
            "Epoch 20/20\n",
            "3125/3125 [==============================] - 9s 3ms/step - loss: 0.3468 - accuracy: 0.8727 - val_loss: 1.2709 - val_accuracy: 0.6808\n",
            "313/313 - 1s - loss: 1.2709 - accuracy: 0.6808\n",
            "test_acc: 0.681\n"
          ],
          "name": "stdout"
        },
        {
          "output_type": "display_data",
          "data": {
            "image/png": "[encoded data removed]",
            "text/plain": [
              "<Figure size 864x288 with 1 Axes>"
            ]
          },
          "metadata": {
            "tags": [],
            "needs_background": "light"
          }
        }
      ]
    },
    {
      "cell_type": "markdown",
      "metadata": {
        "id": "mdzVOEpr1nXe",
        "colab_type": "text"
      },
      "source": [
        "## 2x the `nodes` "
      ]
    },
    {
      "cell_type": "code",
      "metadata": {
        "id": "K4e_Hiamq2iM",
        "colab_type": "code",
        "colab": {
          "base_uri": "https://localhost:8080/",
          "height": 982
        },
        "outputId": "cea1f7f6-6bc4-421b-b344-9394679115ee"
      },
      "source": [
        "model = Sequential()\n",
        "model.add(Conv2D(64, (3, 3), activation='relu', input_shape=(32, 32, 3)))\n",
        "model.add(MaxPooling2D((2, 2)))\n",
        "model.add(Conv2D(128, (3, 3), activation='relu'))\n",
        "model.add(MaxPooling2D((2, 2)))\n",
        "model.add(Conv2D(128, (3, 3), activation='relu'))\n",
        "\n",
        "model.add(Flatten())\n",
        "model.add(Dense(128, activation='relu'))\n",
        "model.add(Dense(classes))\n",
        "\n",
        "model.compile(optimizer='adam',\n",
        "              loss=tf.keras.losses.SparseCategoricalCrossentropy(from_logits=True),\n",
        "              metrics=['accuracy'])\n",
        "\n",
        "history = model.fit(train_images, train_labels,batch_size=16, epochs=20, \n",
        "                    validation_data=(test_images, test_labels))\n",
        "\n",
        "plt.figure(figsize=(12,4))\n",
        "plt.plot(history.history['loss'], label='loss');\n",
        "plt.plot(history.history['val_loss'], label = 'val_loss');\n",
        "plt.xlabel('Epoch')\n",
        "plt.ylabel('loss')\n",
        "plt.legend(loc='lower right')\n",
        "\n",
        "test_loss, test_acc = model.evaluate(test_images,  test_labels, verbose=2)\n",
        "print('test_acc:', round(test_acc,3))"
      ],
      "execution_count": null,
      "outputs": [
        {
          "output_type": "stream",
          "text": [
            "Epoch 1/20\n",
            "3125/3125 [==============================] - 20s 6ms/step - loss: 3.9964 - accuracy: 0.0853 - val_loss: 3.5642 - val_accuracy: 0.1534\n",
            "Epoch 2/20\n",
            "3125/3125 [==============================] - 19s 6ms/step - loss: 3.3184 - accuracy: 0.1946 - val_loss: 3.1468 - val_accuracy: 0.2391\n",
            "Epoch 3/20\n",
            "3125/3125 [==============================] - 19s 6ms/step - loss: 2.9859 - accuracy: 0.2578 - val_loss: 3.0731 - val_accuracy: 0.2587\n",
            "Epoch 4/20\n",
            "3125/3125 [==============================] - 19s 6ms/step - loss: 2.7874 - accuracy: 0.2986 - val_loss: 2.8419 - val_accuracy: 0.2947\n",
            "Epoch 5/20\n",
            "3125/3125 [==============================] - 19s 6ms/step - loss: 2.6463 - accuracy: 0.3290 - val_loss: 2.7631 - val_accuracy: 0.3134\n",
            "Epoch 6/20\n",
            "3125/3125 [==============================] - 18s 6ms/step - loss: 2.5230 - accuracy: 0.3517 - val_loss: 2.8092 - val_accuracy: 0.3046\n",
            "Epoch 7/20\n",
            "3125/3125 [==============================] - 18s 6ms/step - loss: 2.4258 - accuracy: 0.3727 - val_loss: 2.7035 - val_accuracy: 0.3304\n",
            "Epoch 8/20\n",
            "3125/3125 [==============================] - 19s 6ms/step - loss: 2.3361 - accuracy: 0.3916 - val_loss: 2.6847 - val_accuracy: 0.3367\n",
            "Epoch 9/20\n",
            "3125/3125 [==============================] - 19s 6ms/step - loss: 2.2477 - accuracy: 0.4099 - val_loss: 2.7121 - val_accuracy: 0.3319\n",
            "Epoch 10/20\n",
            "3125/3125 [==============================] - 19s 6ms/step - loss: 2.1771 - accuracy: 0.4232 - val_loss: 2.6855 - val_accuracy: 0.3416\n",
            "Epoch 11/20\n",
            "3125/3125 [==============================] - 19s 6ms/step - loss: 2.1039 - accuracy: 0.4402 - val_loss: 2.7185 - val_accuracy: 0.3428\n",
            "Epoch 12/20\n",
            "3125/3125 [==============================] - 19s 6ms/step - loss: 2.0374 - accuracy: 0.4550 - val_loss: 2.7433 - val_accuracy: 0.3392\n",
            "Epoch 13/20\n",
            "3125/3125 [==============================] - 19s 6ms/step - loss: 1.9716 - accuracy: 0.4694 - val_loss: 2.8224 - val_accuracy: 0.3371\n",
            "Epoch 14/20\n",
            "3125/3125 [==============================] - 19s 6ms/step - loss: 1.9059 - accuracy: 0.4839 - val_loss: 2.8371 - val_accuracy: 0.3341\n",
            "Epoch 15/20\n",
            "3125/3125 [==============================] - 19s 6ms/step - loss: 1.8461 - accuracy: 0.4981 - val_loss: 2.9078 - val_accuracy: 0.3340\n",
            "Epoch 16/20\n",
            "3125/3125 [==============================] - 19s 6ms/step - loss: 1.7836 - accuracy: 0.5086 - val_loss: 3.0711 - val_accuracy: 0.3260\n",
            "Epoch 17/20\n",
            "3125/3125 [==============================] - 19s 6ms/step - loss: 1.7271 - accuracy: 0.5227 - val_loss: 3.0393 - val_accuracy: 0.3346\n",
            "Epoch 18/20\n",
            "3125/3125 [==============================] - 19s 6ms/step - loss: 1.6679 - accuracy: 0.5372 - val_loss: 3.2101 - val_accuracy: 0.3202\n",
            "Epoch 19/20\n",
            "3125/3125 [==============================] - 19s 6ms/step - loss: 1.6162 - accuracy: 0.5474 - val_loss: 3.1783 - val_accuracy: 0.3217\n",
            "Epoch 20/20\n",
            "3125/3125 [==============================] - 19s 6ms/step - loss: 1.5592 - accuracy: 0.5613 - val_loss: 3.2350 - val_accuracy: 0.3223\n",
            "313/313 - 1s - loss: 3.2350 - accuracy: 0.3223\n",
            "test_acc: 0.322\n"
          ],
          "name": "stdout"
        },
        {
          "output_type": "display_data",
          "data": {
            "image/png": "[encoded data removed]",
            "text/plain": [
              "<Figure size 864x288 with 1 Axes>"
            ]
          },
          "metadata": {
            "tags": [],
            "needs_background": "light"
          }
        }
      ]
    },
    {
      "cell_type": "markdown",
      "metadata": {
        "id": "9P3_YY9jsD-q",
        "colab_type": "text"
      },
      "source": [
        "## switch to `elu`"
      ]
    },
    {
      "cell_type": "code",
      "metadata": {
        "id": "kxBvBtP75-ON",
        "colab_type": "code",
        "colab": {
          "base_uri": "https://localhost:8080/",
          "height": 985
        },
        "outputId": "ffb573e8-254a-4ebc-dee4-7eb5e2712b31"
      },
      "source": [
        "model = Sequential()\n",
        "model.add(Conv2D(64, (3, 3), activation='elu', input_shape=(32, 32, 3)))\n",
        "model.add(MaxPooling2D((2, 2)))\n",
        "model.add(Conv2D(128, (3, 3), activation='elu'))\n",
        "model.add(MaxPooling2D((2, 2)))\n",
        "model.add(Conv2D(128, (3, 3), activation='elu'))\n",
        "\n",
        "model.add(Flatten())\n",
        "model.add(Dense(128, activation='elu'))\n",
        "model.add(Dense(classes))\n",
        "\n",
        "model.compile(optimizer='adam',\n",
        "              loss=tf.keras.losses.SparseCategoricalCrossentropy(from_logits=True),\n",
        "              metrics=['accuracy']) \n",
        "\n",
        "history = model.fit(train_images, train_labels,batch_size=16, epochs=20, \n",
        "                    validation_data=(test_images, test_labels))\n",
        "\n",
        "plt.figure(figsize=(12,4))\n",
        "plt.plot(history.history['loss'], label='loss');\n",
        "plt.plot(history.history['val_loss'], label = 'val_loss');\n",
        "plt.xlabel('Epoch')\n",
        "plt.ylabel('loss')\n",
        "plt.legend(loc='lower right')\n",
        "\n",
        "test_loss, test_acc = model.evaluate(test_images,  test_labels, verbose=2)\n",
        "print('test_acc:', round(test_acc,3))"
      ],
      "execution_count": null,
      "outputs": [
        {
          "output_type": "stream",
          "text": [
            "Epoch 1/20\n",
            "3125/3125 [==============================] - 9s 3ms/step - loss: 1.3980 - accuracy: 0.5085 - val_loss: 1.1658 - val_accuracy: 0.5946\n",
            "Epoch 2/20\n",
            "3125/3125 [==============================] - 9s 3ms/step - loss: 1.0499 - accuracy: 0.6353 - val_loss: 0.9931 - val_accuracy: 0.6547\n",
            "Epoch 3/20\n",
            "3125/3125 [==============================] - 9s 3ms/step - loss: 0.8895 - accuracy: 0.6900 - val_loss: 0.9062 - val_accuracy: 0.6886\n",
            "Epoch 4/20\n",
            "3125/3125 [==============================] - 9s 3ms/step - loss: 0.7716 - accuracy: 0.7313 - val_loss: 0.9164 - val_accuracy: 0.6952\n",
            "Epoch 5/20\n",
            "3125/3125 [==============================] - 9s 3ms/step - loss: 0.6667 - accuracy: 0.7719 - val_loss: 0.9811 - val_accuracy: 0.7028\n",
            "Epoch 6/20\n",
            "3125/3125 [==============================] - 9s 3ms/step - loss: 0.5662 - accuracy: 0.8035 - val_loss: 0.9532 - val_accuracy: 0.7137\n",
            "Epoch 7/20\n",
            "3125/3125 [==============================] - 9s 3ms/step - loss: 0.4757 - accuracy: 0.8363 - val_loss: 1.0775 - val_accuracy: 0.7102\n",
            "Epoch 8/20\n",
            "3125/3125 [==============================] - 10s 3ms/step - loss: 0.4099 - accuracy: 0.8582 - val_loss: 1.1268 - val_accuracy: 0.6899\n",
            "Epoch 9/20\n",
            "3125/3125 [==============================] - 10s 3ms/step - loss: 0.3494 - accuracy: 0.8815 - val_loss: 1.2138 - val_accuracy: 0.6813\n",
            "Epoch 10/20\n",
            "3125/3125 [==============================] - 9s 3ms/step - loss: 0.3086 - accuracy: 0.8953 - val_loss: 1.3855 - val_accuracy: 0.7032\n",
            "Epoch 11/20\n",
            "3125/3125 [==============================] - 9s 3ms/step - loss: 0.2881 - accuracy: 0.9047 - val_loss: 1.4392 - val_accuracy: 0.6971\n",
            "Epoch 12/20\n",
            "3125/3125 [==============================] - 9s 3ms/step - loss: 0.2669 - accuracy: 0.9132 - val_loss: 1.8192 - val_accuracy: 0.7001\n",
            "Epoch 13/20\n",
            "3125/3125 [==============================] - 9s 3ms/step - loss: 0.2586 - accuracy: 0.9166 - val_loss: 1.6282 - val_accuracy: 0.6980\n",
            "Epoch 14/20\n",
            "3125/3125 [==============================] - 9s 3ms/step - loss: 0.2315 - accuracy: 0.9268 - val_loss: 1.8735 - val_accuracy: 0.7078\n",
            "Epoch 15/20\n",
            "3125/3125 [==============================] - 10s 3ms/step - loss: 0.2275 - accuracy: 0.9285 - val_loss: 1.8846 - val_accuracy: 0.7011\n",
            "Epoch 16/20\n",
            "3125/3125 [==============================] - 10s 3ms/step - loss: 0.2270 - accuracy: 0.9298 - val_loss: 1.8789 - val_accuracy: 0.6996\n",
            "Epoch 17/20\n",
            "3125/3125 [==============================] - 9s 3ms/step - loss: 0.2194 - accuracy: 0.9351 - val_loss: 2.0241 - val_accuracy: 0.6870\n",
            "Epoch 18/20\n",
            "3125/3125 [==============================] - 10s 3ms/step - loss: 0.2212 - accuracy: 0.9354 - val_loss: 2.6754 - val_accuracy: 0.6945\n",
            "Epoch 19/20\n",
            "3125/3125 [==============================] - 9s 3ms/step - loss: 0.2151 - accuracy: 0.9386 - val_loss: 2.1641 - val_accuracy: 0.6781\n",
            "Epoch 20/20\n",
            "3125/3125 [==============================] - 9s 3ms/step - loss: 0.2103 - accuracy: 0.9409 - val_loss: 2.1723 - val_accuracy: 0.6904\n",
            "313/313 - 1s - loss: 2.1723 - accuracy: 0.6904\n",
            "test_acc: 0.69\n"
          ],
          "name": "stdout"
        },
        {
          "output_type": "display_data",
          "data": {
            "image/png": "[encoded data removed]",
            "text/plain": [
              "<Figure size 864x288 with 1 Axes>"
            ]
          },
          "metadata": {
            "tags": [],
            "needs_background": "light"
          }
        }
      ]
    },
    {
      "cell_type": "markdown",
      "metadata": {
        "id": "HdU0onNhwTsh",
        "colab_type": "text"
      },
      "source": [
        "## Add `BatchNormalization` (BN)\n",
        "\n",
        "some helpfull links \n",
        "\n",
        "\n",
        "*   [one](https://stackoverflow.com/a/61759744/5728614)\n",
        "*   [two](https://github.com/ducha-aiki/caffenet-benchmark/blob/master/batchnorm.md)\n",
        "*   [advanced- read the question and the first thread](https://www.reddit.com/r/MachineLearning/comments/67gonq/d_batch_normalization_before_or_after_relu/) \n",
        "> I can guarantee that recent code written by Christian *Szegedy, from the BN paper* applies relu before BN. It is still occasionally a topic of debate, though\n",
        "* [^ but less advanced & less concise](https://chatbotsmagazine.com/countering-internal-covariate-shift-with-batch-normalization-f79d132a7812) \n",
        "> Simply put, it is a way to counteract the internal covariate shift between two layers of a neural network\n",
        "\n",
        "* [Ordering of batch normalization and dropout?](https://stackoverflow.com/questions/39691902/ordering-of-batch-normalization-and-dropout) \n",
        "\n",
        "#### What is Dropout\n",
        "\n",
        "> The Dropout layer randomly sets input units to 0 with a frequency of rate at each step during training time, which helps prevent overfitting. Inputs not set to 0 are scaled up by 1/(1 - rate) such that the sum over all inputs is unchanged.\n",
        "\n",
        "#### What is SpatialDropout2D\n",
        "\n",
        "> This version performs the same function as Dropout, however it drops entire 2D feature maps instead of individual elements. If adjacent pixels within feature maps are strongly correlated (as is normally the case in early convolution layers) then regular dropout will not regularize the activations and will otherwise just result in an effective learning rate decrease. In this case, SpatialDropout2D will help promote independence between feature maps and should be used instead."
      ]
    },
    {
      "cell_type": "code",
      "metadata": {
        "id": "bcoPjwJ3x5OU",
        "colab_type": "code",
        "colab": {
          "base_uri": "https://localhost:8080/",
          "height": 982
        },
        "outputId": "c237b174-d695-4bed-be34-77ae32742a75"
      },
      "source": [
        "model = Sequential()\n",
        "model.add(Conv2D(64, (3, 3), activation='elu', input_shape=(32, 32, 3)))\n",
        "model.add(BatchNormalization())\n",
        "model.add(MaxPooling2D((2, 2)))\n",
        "model.add(Conv2D(128, (3, 3), activation='elu'))\n",
        "model.add(BatchNormalization())\n",
        "model.add(MaxPooling2D((2, 2)))\n",
        "model.add(Conv2D(128, (3, 3), activation='elu'))\n",
        "\n",
        "model.add(Flatten())\n",
        "model.add(Dense(128, activation='elu'))\n",
        "model.add(Dense(classes))\n",
        "\n",
        "\n",
        "model.compile(optimizer='adam',\n",
        "              loss=tf.keras.losses.SparseCategoricalCrossentropy(from_logits=True),\n",
        "              metrics=['accuracy'])\n",
        "\n",
        "history = model.fit(train_images, train_labels,batch_size=40, epochs=20, \n",
        "                    validation_data=(test_images, test_labels))\n",
        "\n",
        "plt.figure(figsize=(12,4))\n",
        "plt.plot(history.history['loss'], label='loss');\n",
        "plt.plot(history.history['val_loss'], label = 'val_loss');\n",
        "plt.xlabel('Epoch')\n",
        "plt.ylabel('loss')\n",
        "plt.legend(loc='lower right')\n",
        "\n",
        "test_loss, test_acc = model.evaluate(test_images,  test_labels, verbose=2)\n",
        "print('test_acc:', round(test_acc,3))"
      ],
      "execution_count": null,
      "outputs": [
        {
          "output_type": "stream",
          "text": [
            "Epoch 1/20\n",
            "1250/1250 [==============================] - 16s 13ms/step - loss: 3.5847 - accuracy: 0.1719 - val_loss: 3.3210 - val_accuracy: 0.2292\n",
            "Epoch 2/20\n",
            "1250/1250 [==============================] - 15s 12ms/step - loss: 2.7367 - accuracy: 0.3151 - val_loss: 2.8058 - val_accuracy: 0.3167\n",
            "Epoch 3/20\n",
            "1250/1250 [==============================] - 15s 12ms/step - loss: 2.3331 - accuracy: 0.3932 - val_loss: 2.6880 - val_accuracy: 0.3452\n",
            "Epoch 4/20\n",
            "1250/1250 [==============================] - 15s 12ms/step - loss: 2.0453 - accuracy: 0.4549 - val_loss: 2.7980 - val_accuracy: 0.3353\n",
            "Epoch 5/20\n",
            "1250/1250 [==============================] - 15s 12ms/step - loss: 1.8033 - accuracy: 0.5062 - val_loss: 2.6893 - val_accuracy: 0.3724\n",
            "Epoch 6/20\n",
            "1250/1250 [==============================] - 15s 12ms/step - loss: 1.5758 - accuracy: 0.5629 - val_loss: 2.7922 - val_accuracy: 0.3793\n",
            "Epoch 7/20\n",
            "1250/1250 [==============================] - 15s 12ms/step - loss: 1.3617 - accuracy: 0.6122 - val_loss: 2.8160 - val_accuracy: 0.3834\n",
            "Epoch 8/20\n",
            "1250/1250 [==============================] - 15s 12ms/step - loss: 1.1587 - accuracy: 0.6639 - val_loss: 3.0535 - val_accuracy: 0.3741\n",
            "Epoch 9/20\n",
            "1250/1250 [==============================] - 15s 12ms/step - loss: 0.9981 - accuracy: 0.7048 - val_loss: 3.1937 - val_accuracy: 0.3737\n",
            "Epoch 10/20\n",
            "1250/1250 [==============================] - 15s 12ms/step - loss: 0.8530 - accuracy: 0.7429 - val_loss: 3.9713 - val_accuracy: 0.3528\n",
            "Epoch 11/20\n",
            "1250/1250 [==============================] - 15s 12ms/step - loss: 0.7462 - accuracy: 0.7722 - val_loss: 3.9818 - val_accuracy: 0.3479\n",
            "Epoch 12/20\n",
            "1250/1250 [==============================] - 15s 12ms/step - loss: 0.6673 - accuracy: 0.7929 - val_loss: 4.0595 - val_accuracy: 0.3732\n",
            "Epoch 13/20\n",
            "1250/1250 [==============================] - 15s 12ms/step - loss: 0.5874 - accuracy: 0.8160 - val_loss: 4.3811 - val_accuracy: 0.3417\n",
            "Epoch 14/20\n",
            "1250/1250 [==============================] - 15s 12ms/step - loss: 0.5333 - accuracy: 0.8348 - val_loss: 4.6180 - val_accuracy: 0.3517\n",
            "Epoch 15/20\n",
            "1250/1250 [==============================] - 15s 12ms/step - loss: 0.4910 - accuracy: 0.8456 - val_loss: 4.8777 - val_accuracy: 0.3533\n",
            "Epoch 16/20\n",
            "1250/1250 [==============================] - 15s 12ms/step - loss: 0.4572 - accuracy: 0.8569 - val_loss: 5.2464 - val_accuracy: 0.3510\n",
            "Epoch 17/20\n",
            "1250/1250 [==============================] - 15s 12ms/step - loss: 0.4229 - accuracy: 0.8659 - val_loss: 5.2027 - val_accuracy: 0.3598\n",
            "Epoch 18/20\n",
            "1250/1250 [==============================] - 15s 12ms/step - loss: 0.3844 - accuracy: 0.8777 - val_loss: 6.1650 - val_accuracy: 0.3527\n",
            "Epoch 19/20\n",
            "1250/1250 [==============================] - 15s 12ms/step - loss: 0.3983 - accuracy: 0.8758 - val_loss: 5.6434 - val_accuracy: 0.3628\n",
            "Epoch 20/20\n",
            "1250/1250 [==============================] - 15s 12ms/step - loss: 0.3623 - accuracy: 0.8862 - val_loss: 5.8637 - val_accuracy: 0.3564\n",
            "313/313 - 1s - loss: 5.8637 - accuracy: 0.3564\n",
            "test_acc: 0.356\n"
          ],
          "name": "stdout"
        },
        {
          "output_type": "display_data",
          "data": {
            "image/png": "[encoded data removed]",
            "text/plain": [
              "<Figure size 864x288 with 1 Axes>"
            ]
          },
          "metadata": {
            "tags": [],
            "needs_background": "light"
          }
        }
      ]
    },
    {
      "cell_type": "markdown",
      "metadata": {
        "id": "sR_S0SdVx5VE",
        "colab_type": "text"
      },
      "source": [
        "### try out 'helpful link' 1, `Conv -> DropOut -> BatchNorm -> Activation -> Pool ` "
      ]
    },
    {
      "cell_type": "code",
      "metadata": {
        "id": "G-KZUVXpx5YP",
        "colab_type": "code",
        "colab": {
          "base_uri": "https://localhost:8080/",
          "height": 128
        },
        "outputId": "fa854179-ae5c-4c7c-96ef-914e74ccd892"
      },
      "source": [
        "# model = Sequential()\n",
        "# model.add(Conv2D(64, (3, 3), input_shape=(32, 32, 3)))\n",
        "# model.add(BatchNormalization())\n",
        "# model.add(Activation('elu'))\n",
        "# model.add(MaxPooling2D((2, 2)))\n",
        "\n",
        "\n",
        "# model.add(Conv2D(128, (3, 3)))\n",
        "# model.add(BatchNormalization())\n",
        "# model.add(Activation('elu'))\n",
        "# model.add(MaxPooling2D((2, 2)))\n",
        "\n",
        "# model.add(Conv2D(128, (3, 3), activation='elu'))\n",
        "\n",
        "# model.add(Flatten())\n",
        "# model.add(Dense(128, activation='elu'))\n",
        "# model.add(Dense(classes))\n",
        "\n",
        "# model.compile(optimizer='adam',\n",
        "#               loss=tf.keras.losses.SparseCategoricalCrossentropy(from_logits=True),\n",
        "#               metrics=['accuracy'])\n",
        "# history = model.fit(train_images, train_labels,batch_size=16, epochs=20, \n",
        "#                     validation_data=(test_images, test_labels))\n",
        "\n",
        "# plt.figure(figsize=(12,4))\n",
        "# plt.plot(history.history['loss'], label='loss');\n",
        "# plt.plot(history.history['val_loss'], label = 'val_loss');\n",
        "# plt.xlabel('Epoch')\n",
        "# plt.ylabel('loss')\n",
        "# plt.legend(loc='lower right')\n",
        "\n",
        "# test_loss, test_acc = model.evaluate(test_images,  test_labels, verbose=2)\n",
        "# print('test_acc:', round(test_acc,3))"
      ],
      "execution_count": null,
      "outputs": [
        {
          "output_type": "error",
          "ename": "SyntaxError",
          "evalue": "ignored",
          "traceback": [
            "\u001b[0;36m  File \u001b[0;32m\"<ipython-input-49-3d2a140b6225>\"\u001b[0;36m, line \u001b[0;32m36\u001b[0m\n\u001b[0;31m    \"\u001b[0m\n\u001b[0m     ^\u001b[0m\n\u001b[0;31mSyntaxError\u001b[0m\u001b[0;31m:\u001b[0m EOL while scanning string literal\n"
          ]
        }
      ]
    },
    {
      "cell_type": "markdown",
      "metadata": {
        "id": "MqZbO04yCKK6",
        "colab_type": "text"
      },
      "source": [
        "```\n",
        "Epoch 20/20\n",
        "3125/3125 [==============================] - 10s 3ms/step - loss: 1.4334 - accuracy: 0.5793 - val_loss: 3.6459 - val_accuracy: 0.3058\n",
        "313/313 - 1s - loss: 3.6459 - accuracy: 0.3058\n",
        "test_acc: 0.306\n",
        "```"
      ]
    },
    {
      "cell_type": "markdown",
      "metadata": {
        "id": "CsPgVQ_Ex5cE",
        "colab_type": "text"
      },
      "source": [
        "## Take the best model and address outfitting, and train to convergence\n",
        "> if you have time, train the above models to 25 or 30 epoches, rather than 20"
      ]
    },
    {
      "cell_type": "code",
      "metadata": {
        "id": "Kl7xz1oHx5R9",
        "colab_type": "code",
        "colab": {
          "base_uri": "https://localhost:8080/",
          "height": 1000
        },
        "outputId": "f7e21a80-d0fc-4f4e-d554-4b66bfba5f6f"
      },
      "source": [
        "## Conv -> Activation -> DropOut -> BatchNorm -> Pool\n",
        "model = Sequential()\n",
        "model.add(Conv2D(32, (3, 3), activation='elu', input_shape=(32, 32, 3)))\n",
        "model.add(Dropout(0.2))\n",
        "model.add(BatchNormalization())\n",
        "model.add(MaxPooling2D((2, 2)))\n",
        "\n",
        "model.add(Conv2D(64, (3, 3), activation='elu'))\n",
        "model.add(Dropout(0.15))\n",
        "model.add(BatchNormalization())\n",
        "model.add(MaxPooling2D((2, 2)))\n",
        "# model.add(Conv2D(128, (3, 3), activation='elu'))\n",
        "\n",
        "model.add(Flatten())\n",
        "model.add(Dense(128, activation='elu'))\n",
        "model.add(Dense(classes))\n",
        "\n",
        "\n",
        "model.compile(optimizer='adam',\n",
        "              loss=tf.keras.losses.SparseCategoricalCrossentropy(from_logits=True),\n",
        "              metrics=['accuracy'])\n",
        "\n",
        "history = model.fit(train_images, train_labels,batch_size=16, epochs=60, \n",
        "                    validation_data=(test_images, test_labels))"
      ],
      "execution_count": null,
      "outputs": [
        {
          "output_type": "stream",
          "text": [
            "Epoch 1/60\n",
            "3125/3125 [==============================] - 10s 3ms/step - loss: 3.6782 - accuracy: 0.1503 - val_loss: 4.4519 - val_accuracy: 0.1184\n",
            "Epoch 2/60\n",
            "3125/3125 [==============================] - 9s 3ms/step - loss: 2.9085 - accuracy: 0.2789 - val_loss: 3.0706 - val_accuracy: 0.2632\n",
            "Epoch 3/60\n",
            "3125/3125 [==============================] - 9s 3ms/step - loss: 2.5458 - accuracy: 0.3536 - val_loss: 3.3148 - val_accuracy: 0.2503\n",
            "Epoch 4/60\n",
            "3125/3125 [==============================] - 10s 3ms/step - loss: 2.2854 - accuracy: 0.4067 - val_loss: 2.9698 - val_accuracy: 0.3143\n",
            "Epoch 5/60\n",
            "3125/3125 [==============================] - 9s 3ms/step - loss: 2.0769 - accuracy: 0.4551 - val_loss: 2.7989 - val_accuracy: 0.3183\n",
            "Epoch 6/60\n",
            "3125/3125 [==============================] - 9s 3ms/step - loss: 1.8965 - accuracy: 0.4930 - val_loss: 2.9966 - val_accuracy: 0.2942\n",
            "Epoch 7/60\n",
            "3125/3125 [==============================] - 9s 3ms/step - loss: 1.7574 - accuracy: 0.5243 - val_loss: 2.6748 - val_accuracy: 0.3693\n",
            "Epoch 8/60\n",
            "3125/3125 [==============================] - 9s 3ms/step - loss: 1.6210 - accuracy: 0.5563 - val_loss: 2.8955 - val_accuracy: 0.3484\n",
            "Epoch 9/60\n",
            "3125/3125 [==============================] - 9s 3ms/step - loss: 1.5010 - accuracy: 0.5833 - val_loss: 2.8408 - val_accuracy: 0.3438\n",
            "Epoch 10/60\n",
            "3125/3125 [==============================] - 9s 3ms/step - loss: 1.4035 - accuracy: 0.6057 - val_loss: 2.8511 - val_accuracy: 0.3602\n",
            "Epoch 11/60\n",
            "3125/3125 [==============================] - 9s 3ms/step - loss: 1.3143 - accuracy: 0.6250 - val_loss: 2.9773 - val_accuracy: 0.3457\n",
            "Epoch 12/60\n",
            "3125/3125 [==============================] - 10s 3ms/step - loss: 1.2339 - accuracy: 0.6461 - val_loss: 3.0217 - val_accuracy: 0.3467\n",
            "Epoch 13/60\n",
            "3125/3125 [==============================] - 10s 3ms/step - loss: 1.1666 - accuracy: 0.6609 - val_loss: 3.2361 - val_accuracy: 0.3466\n",
            "Epoch 14/60\n",
            "3125/3125 [==============================] - 9s 3ms/step - loss: 1.0950 - accuracy: 0.6780 - val_loss: 3.3140 - val_accuracy: 0.3322\n",
            "Epoch 15/60\n",
            "3125/3125 [==============================] - 9s 3ms/step - loss: 1.0359 - accuracy: 0.6942 - val_loss: 3.1553 - val_accuracy: 0.3560\n",
            "Epoch 16/60\n",
            "3125/3125 [==============================] - 10s 3ms/step - loss: 0.9960 - accuracy: 0.7028 - val_loss: 3.4830 - val_accuracy: 0.3177\n",
            "Epoch 17/60\n",
            "3125/3125 [==============================] - 9s 3ms/step - loss: 0.9472 - accuracy: 0.7172 - val_loss: 3.7564 - val_accuracy: 0.2919\n",
            "Epoch 18/60\n",
            "3125/3125 [==============================] - 9s 3ms/step - loss: 0.9008 - accuracy: 0.7298 - val_loss: 3.3952 - val_accuracy: 0.3514\n",
            "Epoch 19/60\n",
            "3125/3125 [==============================] - 9s 3ms/step - loss: 0.8612 - accuracy: 0.7404 - val_loss: 3.5321 - val_accuracy: 0.3394\n",
            "Epoch 20/60\n",
            "3125/3125 [==============================] - 9s 3ms/step - loss: 0.8348 - accuracy: 0.7455 - val_loss: 3.5695 - val_accuracy: 0.3367\n",
            "Epoch 21/60\n",
            "3125/3125 [==============================] - 9s 3ms/step - loss: 0.8126 - accuracy: 0.7514 - val_loss: 3.8040 - val_accuracy: 0.3209\n",
            "Epoch 22/60\n",
            "3125/3125 [==============================] - 9s 3ms/step - loss: 0.7758 - accuracy: 0.7607 - val_loss: 3.6477 - val_accuracy: 0.3269\n",
            "Epoch 23/60\n",
            "3125/3125 [==============================] - 9s 3ms/step - loss: 0.7512 - accuracy: 0.7680 - val_loss: 3.7956 - val_accuracy: 0.3127\n",
            "Epoch 24/60\n",
            "3125/3125 [==============================] - 9s 3ms/step - loss: 0.7274 - accuracy: 0.7743 - val_loss: 4.1474 - val_accuracy: 0.3174\n",
            "Epoch 25/60\n",
            "3125/3125 [==============================] - 9s 3ms/step - loss: 0.7102 - accuracy: 0.7772 - val_loss: 3.7255 - val_accuracy: 0.3500\n",
            "Epoch 26/60\n",
            "3125/3125 [==============================] - 9s 3ms/step - loss: 0.6804 - accuracy: 0.7885 - val_loss: 4.2419 - val_accuracy: 0.3082\n",
            "Epoch 27/60\n",
            "3125/3125 [==============================] - 9s 3ms/step - loss: 0.6638 - accuracy: 0.7919 - val_loss: 4.1509 - val_accuracy: 0.3113\n",
            "Epoch 28/60\n",
            "3125/3125 [==============================] - 9s 3ms/step - loss: 0.6604 - accuracy: 0.7907 - val_loss: 4.0258 - val_accuracy: 0.3157\n",
            "Epoch 29/60\n",
            "3125/3125 [==============================] - 9s 3ms/step - loss: 0.6327 - accuracy: 0.7980 - val_loss: 4.5371 - val_accuracy: 0.3043\n",
            "Epoch 30/60\n",
            "3125/3125 [==============================] - 9s 3ms/step - loss: 0.6185 - accuracy: 0.8027 - val_loss: 4.0123 - val_accuracy: 0.3510\n",
            "Epoch 31/60\n",
            "3125/3125 [==============================] - 9s 3ms/step - loss: 0.6044 - accuracy: 0.8085 - val_loss: 4.0670 - val_accuracy: 0.3568\n",
            "Epoch 32/60\n",
            "3125/3125 [==============================] - 9s 3ms/step - loss: 0.5992 - accuracy: 0.8088 - val_loss: 4.1642 - val_accuracy: 0.3415\n",
            "Epoch 33/60\n",
            "3110/3125 [============================>.] - ETA: 0s - loss: 0.5754 - accuracy: 0.8168"
          ],
          "name": "stdout"
        },
        {
          "output_type": "error",
          "ename": "KeyboardInterrupt",
          "evalue": "ignored",
          "traceback": [
            "\u001b[0;31m---------------------------------------------------------------------------\u001b[0m",
            "\u001b[0;31mKeyboardInterrupt\u001b[0m                         Traceback (most recent call last)",
            "\u001b[0;32m<ipython-input-51-67ecf03a4a62>\u001b[0m in \u001b[0;36m<module>\u001b[0;34m()\u001b[0m\n\u001b[1;32m     22\u001b[0m \u001b[0;34m\u001b[0m\u001b[0m\n\u001b[1;32m     23\u001b[0m history = model.fit(train_images, train_labels,batch_size=16, epochs=60, \n\u001b[0;32m---> 24\u001b[0;31m                     validation_data=(test_images, test_labels))\n\u001b[0m",
            "\u001b[0;32m/usr/local/lib/python3.6/dist-packages/tensorflow/python/keras/engine/training.py\u001b[0m in \u001b[0;36m_method_wrapper\u001b[0;34m(self, *args, **kwargs)\u001b[0m\n\u001b[1;32m     64\u001b[0m   \u001b[0;32mdef\u001b[0m \u001b[0m_method_wrapper\u001b[0m\u001b[0;34m(\u001b[0m\u001b[0mself\u001b[0m\u001b[0;34m,\u001b[0m \u001b[0;34m*\u001b[0m\u001b[0margs\u001b[0m\u001b[0;34m,\u001b[0m \u001b[0;34m**\u001b[0m\u001b[0mkwargs\u001b[0m\u001b[0;34m)\u001b[0m\u001b[0;34m:\u001b[0m\u001b[0;34m\u001b[0m\u001b[0;34m\u001b[0m\u001b[0m\n\u001b[1;32m     65\u001b[0m     \u001b[0;32mif\u001b[0m \u001b[0;32mnot\u001b[0m \u001b[0mself\u001b[0m\u001b[0;34m.\u001b[0m\u001b[0m_in_multi_worker_mode\u001b[0m\u001b[0;34m(\u001b[0m\u001b[0;34m)\u001b[0m\u001b[0;34m:\u001b[0m  \u001b[0;31m# pylint: disable=protected-access\u001b[0m\u001b[0;34m\u001b[0m\u001b[0;34m\u001b[0m\u001b[0m\n\u001b[0;32m---> 66\u001b[0;31m       \u001b[0;32mreturn\u001b[0m \u001b[0mmethod\u001b[0m\u001b[0;34m(\u001b[0m\u001b[0mself\u001b[0m\u001b[0;34m,\u001b[0m \u001b[0;34m*\u001b[0m\u001b[0margs\u001b[0m\u001b[0;34m,\u001b[0m \u001b[0;34m**\u001b[0m\u001b[0mkwargs\u001b[0m\u001b[0;34m)\u001b[0m\u001b[0;34m\u001b[0m\u001b[0;34m\u001b[0m\u001b[0m\n\u001b[0m\u001b[1;32m     67\u001b[0m \u001b[0;34m\u001b[0m\u001b[0m\n\u001b[1;32m     68\u001b[0m     \u001b[0;31m# Running inside `run_distribute_coordinator` already.\u001b[0m\u001b[0;34m\u001b[0m\u001b[0;34m\u001b[0m\u001b[0;34m\u001b[0m\u001b[0m\n",
            "\u001b[0;32m/usr/local/lib/python3.6/dist-packages/tensorflow/python/keras/engine/training.py\u001b[0m in \u001b[0;36mfit\u001b[0;34m(self, x, y, batch_size, epochs, verbose, callbacks, validation_split, validation_data, shuffle, class_weight, sample_weight, initial_epoch, steps_per_epoch, validation_steps, validation_batch_size, validation_freq, max_queue_size, workers, use_multiprocessing)\u001b[0m\n\u001b[1;32m    870\u001b[0m               \u001b[0mworkers\u001b[0m\u001b[0;34m=\u001b[0m\u001b[0mworkers\u001b[0m\u001b[0;34m,\u001b[0m\u001b[0;34m\u001b[0m\u001b[0;34m\u001b[0m\u001b[0m\n\u001b[1;32m    871\u001b[0m               \u001b[0muse_multiprocessing\u001b[0m\u001b[0;34m=\u001b[0m\u001b[0muse_multiprocessing\u001b[0m\u001b[0;34m,\u001b[0m\u001b[0;34m\u001b[0m\u001b[0;34m\u001b[0m\u001b[0m\n\u001b[0;32m--> 872\u001b[0;31m               return_dict=True)\n\u001b[0m\u001b[1;32m    873\u001b[0m           \u001b[0mval_logs\u001b[0m \u001b[0;34m=\u001b[0m \u001b[0;34m{\u001b[0m\u001b[0;34m'val_'\u001b[0m \u001b[0;34m+\u001b[0m \u001b[0mname\u001b[0m\u001b[0;34m:\u001b[0m \u001b[0mval\u001b[0m \u001b[0;32mfor\u001b[0m \u001b[0mname\u001b[0m\u001b[0;34m,\u001b[0m \u001b[0mval\u001b[0m \u001b[0;32min\u001b[0m \u001b[0mval_logs\u001b[0m\u001b[0;34m.\u001b[0m\u001b[0mitems\u001b[0m\u001b[0;34m(\u001b[0m\u001b[0;34m)\u001b[0m\u001b[0;34m}\u001b[0m\u001b[0;34m\u001b[0m\u001b[0;34m\u001b[0m\u001b[0m\n\u001b[1;32m    874\u001b[0m           \u001b[0mepoch_logs\u001b[0m\u001b[0;34m.\u001b[0m\u001b[0mupdate\u001b[0m\u001b[0;34m(\u001b[0m\u001b[0mval_logs\u001b[0m\u001b[0;34m)\u001b[0m\u001b[0;34m\u001b[0m\u001b[0;34m\u001b[0m\u001b[0m\n",
            "\u001b[0;32m/usr/local/lib/python3.6/dist-packages/tensorflow/python/keras/engine/training.py\u001b[0m in \u001b[0;36m_method_wrapper\u001b[0;34m(self, *args, **kwargs)\u001b[0m\n\u001b[1;32m     64\u001b[0m   \u001b[0;32mdef\u001b[0m \u001b[0m_method_wrapper\u001b[0m\u001b[0;34m(\u001b[0m\u001b[0mself\u001b[0m\u001b[0;34m,\u001b[0m \u001b[0;34m*\u001b[0m\u001b[0margs\u001b[0m\u001b[0;34m,\u001b[0m \u001b[0;34m**\u001b[0m\u001b[0mkwargs\u001b[0m\u001b[0;34m)\u001b[0m\u001b[0;34m:\u001b[0m\u001b[0;34m\u001b[0m\u001b[0;34m\u001b[0m\u001b[0m\n\u001b[1;32m     65\u001b[0m     \u001b[0;32mif\u001b[0m \u001b[0;32mnot\u001b[0m \u001b[0mself\u001b[0m\u001b[0;34m.\u001b[0m\u001b[0m_in_multi_worker_mode\u001b[0m\u001b[0;34m(\u001b[0m\u001b[0;34m)\u001b[0m\u001b[0;34m:\u001b[0m  \u001b[0;31m# pylint: disable=protected-access\u001b[0m\u001b[0;34m\u001b[0m\u001b[0;34m\u001b[0m\u001b[0m\n\u001b[0;32m---> 66\u001b[0;31m       \u001b[0;32mreturn\u001b[0m \u001b[0mmethod\u001b[0m\u001b[0;34m(\u001b[0m\u001b[0mself\u001b[0m\u001b[0;34m,\u001b[0m \u001b[0;34m*\u001b[0m\u001b[0margs\u001b[0m\u001b[0;34m,\u001b[0m \u001b[0;34m**\u001b[0m\u001b[0mkwargs\u001b[0m\u001b[0;34m)\u001b[0m\u001b[0;34m\u001b[0m\u001b[0;34m\u001b[0m\u001b[0m\n\u001b[0m\u001b[1;32m     67\u001b[0m \u001b[0;34m\u001b[0m\u001b[0m\n\u001b[1;32m     68\u001b[0m     \u001b[0;31m# Running inside `run_distribute_coordinator` already.\u001b[0m\u001b[0;34m\u001b[0m\u001b[0;34m\u001b[0m\u001b[0;34m\u001b[0m\u001b[0m\n",
            "\u001b[0;32m/usr/local/lib/python3.6/dist-packages/tensorflow/python/keras/engine/training.py\u001b[0m in \u001b[0;36mevaluate\u001b[0;34m(self, x, y, batch_size, verbose, sample_weight, steps, callbacks, max_queue_size, workers, use_multiprocessing, return_dict)\u001b[0m\n\u001b[1;32m   1086\u001b[0m                 \u001b[0mcontext\u001b[0m\u001b[0;34m.\u001b[0m\u001b[0masync_wait\u001b[0m\u001b[0;34m(\u001b[0m\u001b[0;34m)\u001b[0m\u001b[0;34m\u001b[0m\u001b[0;34m\u001b[0m\u001b[0m\n\u001b[1;32m   1087\u001b[0m               \u001b[0mlogs\u001b[0m \u001b[0;34m=\u001b[0m \u001b[0mtmp_logs\u001b[0m  \u001b[0;31m# No error, now safe to assign to logs.\u001b[0m\u001b[0;34m\u001b[0m\u001b[0;34m\u001b[0m\u001b[0m\n\u001b[0;32m-> 1088\u001b[0;31m               \u001b[0mcallbacks\u001b[0m\u001b[0;34m.\u001b[0m\u001b[0mon_test_batch_end\u001b[0m\u001b[0;34m(\u001b[0m\u001b[0mstep\u001b[0m\u001b[0;34m,\u001b[0m \u001b[0mlogs\u001b[0m\u001b[0;34m)\u001b[0m\u001b[0;34m\u001b[0m\u001b[0;34m\u001b[0m\u001b[0m\n\u001b[0m\u001b[1;32m   1089\u001b[0m       \u001b[0mcallbacks\u001b[0m\u001b[0;34m.\u001b[0m\u001b[0mon_test_end\u001b[0m\u001b[0;34m(\u001b[0m\u001b[0;34m)\u001b[0m\u001b[0;34m\u001b[0m\u001b[0;34m\u001b[0m\u001b[0m\n\u001b[1;32m   1090\u001b[0m \u001b[0;34m\u001b[0m\u001b[0m\n",
            "\u001b[0;32m/usr/local/lib/python3.6/dist-packages/tensorflow/python/keras/callbacks.py\u001b[0m in \u001b[0;36mon_test_batch_end\u001b[0;34m(self, batch, logs)\u001b[0m\n\u001b[1;32m    410\u001b[0m     \"\"\"\n\u001b[1;32m    411\u001b[0m     \u001b[0;32mif\u001b[0m \u001b[0mself\u001b[0m\u001b[0;34m.\u001b[0m\u001b[0m_should_call_test_batch_hooks\u001b[0m\u001b[0;34m:\u001b[0m\u001b[0;34m\u001b[0m\u001b[0;34m\u001b[0m\u001b[0m\n\u001b[0;32m--> 412\u001b[0;31m       \u001b[0mlogs\u001b[0m \u001b[0;34m=\u001b[0m \u001b[0mself\u001b[0m\u001b[0;34m.\u001b[0m\u001b[0m_process_logs\u001b[0m\u001b[0;34m(\u001b[0m\u001b[0mlogs\u001b[0m\u001b[0;34m)\u001b[0m\u001b[0;34m\u001b[0m\u001b[0;34m\u001b[0m\u001b[0m\n\u001b[0m\u001b[1;32m    413\u001b[0m       \u001b[0mself\u001b[0m\u001b[0;34m.\u001b[0m\u001b[0m_call_batch_hook\u001b[0m\u001b[0;34m(\u001b[0m\u001b[0mModeKeys\u001b[0m\u001b[0;34m.\u001b[0m\u001b[0mTEST\u001b[0m\u001b[0;34m,\u001b[0m \u001b[0;34m'end'\u001b[0m\u001b[0;34m,\u001b[0m \u001b[0mbatch\u001b[0m\u001b[0;34m,\u001b[0m \u001b[0mlogs\u001b[0m\u001b[0;34m=\u001b[0m\u001b[0mlogs\u001b[0m\u001b[0;34m)\u001b[0m\u001b[0;34m\u001b[0m\u001b[0;34m\u001b[0m\u001b[0m\n\u001b[1;32m    414\u001b[0m \u001b[0;34m\u001b[0m\u001b[0m\n",
            "\u001b[0;32m/usr/local/lib/python3.6/dist-packages/tensorflow/python/keras/callbacks.py\u001b[0m in \u001b[0;36m_process_logs\u001b[0;34m(self, logs)\u001b[0m\n\u001b[1;32m    263\u001b[0m     \u001b[0;34m\"\"\"Turns tensors into numpy arrays or Python scalars.\"\"\"\u001b[0m\u001b[0;34m\u001b[0m\u001b[0;34m\u001b[0m\u001b[0m\n\u001b[1;32m    264\u001b[0m     \u001b[0;32mif\u001b[0m \u001b[0mlogs\u001b[0m\u001b[0;34m:\u001b[0m\u001b[0;34m\u001b[0m\u001b[0;34m\u001b[0m\u001b[0m\n\u001b[0;32m--> 265\u001b[0;31m       \u001b[0;32mreturn\u001b[0m \u001b[0mtf_utils\u001b[0m\u001b[0;34m.\u001b[0m\u001b[0mto_numpy_or_python_type\u001b[0m\u001b[0;34m(\u001b[0m\u001b[0mlogs\u001b[0m\u001b[0;34m)\u001b[0m\u001b[0;34m\u001b[0m\u001b[0;34m\u001b[0m\u001b[0m\n\u001b[0m\u001b[1;32m    266\u001b[0m     \u001b[0;32mreturn\u001b[0m \u001b[0;34m{\u001b[0m\u001b[0;34m}\u001b[0m\u001b[0;34m\u001b[0m\u001b[0;34m\u001b[0m\u001b[0m\n\u001b[1;32m    267\u001b[0m \u001b[0;34m\u001b[0m\u001b[0m\n",
            "\u001b[0;32m/usr/local/lib/python3.6/dist-packages/tensorflow/python/keras/utils/tf_utils.py\u001b[0m in \u001b[0;36mto_numpy_or_python_type\u001b[0;34m(tensors)\u001b[0m\n\u001b[1;32m    521\u001b[0m     \u001b[0;32mreturn\u001b[0m \u001b[0mt\u001b[0m  \u001b[0;31m# Don't turn ragged or sparse tensors to NumPy.\u001b[0m\u001b[0;34m\u001b[0m\u001b[0;34m\u001b[0m\u001b[0m\n\u001b[1;32m    522\u001b[0m \u001b[0;34m\u001b[0m\u001b[0m\n\u001b[0;32m--> 523\u001b[0;31m   \u001b[0;32mreturn\u001b[0m \u001b[0mnest\u001b[0m\u001b[0;34m.\u001b[0m\u001b[0mmap_structure\u001b[0m\u001b[0;34m(\u001b[0m\u001b[0m_to_single_numpy_or_python_type\u001b[0m\u001b[0;34m,\u001b[0m \u001b[0mtensors\u001b[0m\u001b[0;34m)\u001b[0m\u001b[0;34m\u001b[0m\u001b[0;34m\u001b[0m\u001b[0m\n\u001b[0m\u001b[1;32m    524\u001b[0m \u001b[0;34m\u001b[0m\u001b[0m\n",
            "\u001b[0;32m/usr/local/lib/python3.6/dist-packages/tensorflow/python/util/nest.py\u001b[0m in \u001b[0;36mmap_structure\u001b[0;34m(func, *structure, **kwargs)\u001b[0m\n\u001b[1;32m    615\u001b[0m \u001b[0;34m\u001b[0m\u001b[0m\n\u001b[1;32m    616\u001b[0m   return pack_sequence_as(\n\u001b[0;32m--> 617\u001b[0;31m       \u001b[0mstructure\u001b[0m\u001b[0;34m[\u001b[0m\u001b[0;36m0\u001b[0m\u001b[0;34m]\u001b[0m\u001b[0;34m,\u001b[0m \u001b[0;34m[\u001b[0m\u001b[0mfunc\u001b[0m\u001b[0;34m(\u001b[0m\u001b[0;34m*\u001b[0m\u001b[0mx\u001b[0m\u001b[0;34m)\u001b[0m \u001b[0;32mfor\u001b[0m \u001b[0mx\u001b[0m \u001b[0;32min\u001b[0m \u001b[0mentries\u001b[0m\u001b[0;34m]\u001b[0m\u001b[0;34m,\u001b[0m\u001b[0;34m\u001b[0m\u001b[0;34m\u001b[0m\u001b[0m\n\u001b[0m\u001b[1;32m    618\u001b[0m       expand_composites=expand_composites)\n\u001b[1;32m    619\u001b[0m \u001b[0;34m\u001b[0m\u001b[0m\n",
            "\u001b[0;32m/usr/local/lib/python3.6/dist-packages/tensorflow/python/util/nest.py\u001b[0m in \u001b[0;36m<listcomp>\u001b[0;34m(.0)\u001b[0m\n\u001b[1;32m    615\u001b[0m \u001b[0;34m\u001b[0m\u001b[0m\n\u001b[1;32m    616\u001b[0m   return pack_sequence_as(\n\u001b[0;32m--> 617\u001b[0;31m       \u001b[0mstructure\u001b[0m\u001b[0;34m[\u001b[0m\u001b[0;36m0\u001b[0m\u001b[0;34m]\u001b[0m\u001b[0;34m,\u001b[0m \u001b[0;34m[\u001b[0m\u001b[0mfunc\u001b[0m\u001b[0;34m(\u001b[0m\u001b[0;34m*\u001b[0m\u001b[0mx\u001b[0m\u001b[0;34m)\u001b[0m \u001b[0;32mfor\u001b[0m \u001b[0mx\u001b[0m \u001b[0;32min\u001b[0m \u001b[0mentries\u001b[0m\u001b[0;34m]\u001b[0m\u001b[0;34m,\u001b[0m\u001b[0;34m\u001b[0m\u001b[0;34m\u001b[0m\u001b[0m\n\u001b[0m\u001b[1;32m    618\u001b[0m       expand_composites=expand_composites)\n\u001b[1;32m    619\u001b[0m \u001b[0;34m\u001b[0m\u001b[0m\n",
            "\u001b[0;32m/usr/local/lib/python3.6/dist-packages/tensorflow/python/keras/utils/tf_utils.py\u001b[0m in \u001b[0;36m_to_single_numpy_or_python_type\u001b[0;34m(t)\u001b[0m\n\u001b[1;32m    517\u001b[0m   \u001b[0;32mdef\u001b[0m \u001b[0m_to_single_numpy_or_python_type\u001b[0m\u001b[0;34m(\u001b[0m\u001b[0mt\u001b[0m\u001b[0;34m)\u001b[0m\u001b[0;34m:\u001b[0m\u001b[0;34m\u001b[0m\u001b[0;34m\u001b[0m\u001b[0m\n\u001b[1;32m    518\u001b[0m     \u001b[0;32mif\u001b[0m \u001b[0misinstance\u001b[0m\u001b[0;34m(\u001b[0m\u001b[0mt\u001b[0m\u001b[0;34m,\u001b[0m \u001b[0mops\u001b[0m\u001b[0;34m.\u001b[0m\u001b[0mTensor\u001b[0m\u001b[0;34m)\u001b[0m\u001b[0;34m:\u001b[0m\u001b[0;34m\u001b[0m\u001b[0;34m\u001b[0m\u001b[0m\n\u001b[0;32m--> 519\u001b[0;31m       \u001b[0mx\u001b[0m \u001b[0;34m=\u001b[0m \u001b[0mt\u001b[0m\u001b[0;34m.\u001b[0m\u001b[0mnumpy\u001b[0m\u001b[0;34m(\u001b[0m\u001b[0;34m)\u001b[0m\u001b[0;34m\u001b[0m\u001b[0;34m\u001b[0m\u001b[0m\n\u001b[0m\u001b[1;32m    520\u001b[0m       \u001b[0;32mreturn\u001b[0m \u001b[0mx\u001b[0m\u001b[0;34m.\u001b[0m\u001b[0mitem\u001b[0m\u001b[0;34m(\u001b[0m\u001b[0;34m)\u001b[0m \u001b[0;32mif\u001b[0m \u001b[0mnp\u001b[0m\u001b[0;34m.\u001b[0m\u001b[0mndim\u001b[0m\u001b[0;34m(\u001b[0m\u001b[0mx\u001b[0m\u001b[0;34m)\u001b[0m \u001b[0;34m==\u001b[0m \u001b[0;36m0\u001b[0m \u001b[0;32melse\u001b[0m \u001b[0mx\u001b[0m\u001b[0;34m\u001b[0m\u001b[0;34m\u001b[0m\u001b[0m\n\u001b[1;32m    521\u001b[0m     \u001b[0;32mreturn\u001b[0m \u001b[0mt\u001b[0m  \u001b[0;31m# Don't turn ragged or sparse tensors to NumPy.\u001b[0m\u001b[0;34m\u001b[0m\u001b[0;34m\u001b[0m\u001b[0m\n",
            "\u001b[0;32m/usr/local/lib/python3.6/dist-packages/tensorflow/python/framework/ops.py\u001b[0m in \u001b[0;36mnumpy\u001b[0;34m(self)\u001b[0m\n\u001b[1;32m    959\u001b[0m     \"\"\"\n\u001b[1;32m    960\u001b[0m     \u001b[0;31m# TODO(slebedev): Consider avoiding a copy for non-CPU or remote tensors.\u001b[0m\u001b[0;34m\u001b[0m\u001b[0;34m\u001b[0m\u001b[0;34m\u001b[0m\u001b[0m\n\u001b[0;32m--> 961\u001b[0;31m     \u001b[0mmaybe_arr\u001b[0m \u001b[0;34m=\u001b[0m \u001b[0mself\u001b[0m\u001b[0;34m.\u001b[0m\u001b[0m_numpy\u001b[0m\u001b[0;34m(\u001b[0m\u001b[0;34m)\u001b[0m  \u001b[0;31m# pylint: disable=protected-access\u001b[0m\u001b[0;34m\u001b[0m\u001b[0;34m\u001b[0m\u001b[0m\n\u001b[0m\u001b[1;32m    962\u001b[0m     \u001b[0;32mreturn\u001b[0m \u001b[0mmaybe_arr\u001b[0m\u001b[0;34m.\u001b[0m\u001b[0mcopy\u001b[0m\u001b[0;34m(\u001b[0m\u001b[0;34m)\u001b[0m \u001b[0;32mif\u001b[0m \u001b[0misinstance\u001b[0m\u001b[0;34m(\u001b[0m\u001b[0mmaybe_arr\u001b[0m\u001b[0;34m,\u001b[0m \u001b[0mnp\u001b[0m\u001b[0;34m.\u001b[0m\u001b[0mndarray\u001b[0m\u001b[0;34m)\u001b[0m \u001b[0;32melse\u001b[0m \u001b[0mmaybe_arr\u001b[0m\u001b[0;34m\u001b[0m\u001b[0;34m\u001b[0m\u001b[0m\n\u001b[1;32m    963\u001b[0m \u001b[0;34m\u001b[0m\u001b[0m\n",
            "\u001b[0;32m/usr/local/lib/python3.6/dist-packages/tensorflow/python/framework/ops.py\u001b[0m in \u001b[0;36m_numpy\u001b[0;34m(self)\u001b[0m\n\u001b[1;32m    925\u001b[0m     \u001b[0;31m# pylint: disable=protected-access\u001b[0m\u001b[0;34m\u001b[0m\u001b[0;34m\u001b[0m\u001b[0;34m\u001b[0m\u001b[0m\n\u001b[1;32m    926\u001b[0m     \u001b[0;32mtry\u001b[0m\u001b[0;34m:\u001b[0m\u001b[0;34m\u001b[0m\u001b[0;34m\u001b[0m\u001b[0m\n\u001b[0;32m--> 927\u001b[0;31m       \u001b[0;32mreturn\u001b[0m \u001b[0mself\u001b[0m\u001b[0;34m.\u001b[0m\u001b[0m_numpy_internal\u001b[0m\u001b[0;34m(\u001b[0m\u001b[0;34m)\u001b[0m\u001b[0;34m\u001b[0m\u001b[0;34m\u001b[0m\u001b[0m\n\u001b[0m\u001b[1;32m    928\u001b[0m     \u001b[0;32mexcept\u001b[0m \u001b[0mcore\u001b[0m\u001b[0;34m.\u001b[0m\u001b[0m_NotOkStatusException\u001b[0m \u001b[0;32mas\u001b[0m \u001b[0me\u001b[0m\u001b[0;34m:\u001b[0m\u001b[0;34m\u001b[0m\u001b[0;34m\u001b[0m\u001b[0m\n\u001b[1;32m    929\u001b[0m       \u001b[0msix\u001b[0m\u001b[0;34m.\u001b[0m\u001b[0mraise_from\u001b[0m\u001b[0;34m(\u001b[0m\u001b[0mcore\u001b[0m\u001b[0;34m.\u001b[0m\u001b[0m_status_to_exception\u001b[0m\u001b[0;34m(\u001b[0m\u001b[0me\u001b[0m\u001b[0;34m.\u001b[0m\u001b[0mcode\u001b[0m\u001b[0;34m,\u001b[0m \u001b[0me\u001b[0m\u001b[0;34m.\u001b[0m\u001b[0mmessage\u001b[0m\u001b[0;34m)\u001b[0m\u001b[0;34m,\u001b[0m \u001b[0;32mNone\u001b[0m\u001b[0;34m)\u001b[0m\u001b[0;34m\u001b[0m\u001b[0;34m\u001b[0m\u001b[0m\n",
            "\u001b[0;31mKeyboardInterrupt\u001b[0m: "
          ]
        }
      ]
    },
    {
      "cell_type": "code",
      "metadata": {
        "id": "Xh865ClL3n8u",
        "colab_type": "code",
        "colab": {
          "base_uri": "https://localhost:8080/",
          "height": 313
        },
        "outputId": "b7b1d03d-55de-4fbb-c62c-a89992295a5e"
      },
      "source": [
        "plt.figure(figsize=(12,4))\n",
        "plt.plot(history.history['loss'], label='loss');\n",
        "plt.plot(history.history['val_loss'], label = 'val_loss');\n",
        "plt.xlabel('Epoch')\n",
        "plt.ylabel('loss')\n",
        "plt.legend(loc='lower right')\n",
        "\n",
        "test_loss, test_acc = model.evaluate(test_images,  test_labels, verbose=2)\n",
        "print('test_acc:', round(test_acc,3))"
      ],
      "execution_count": null,
      "outputs": [
        {
          "output_type": "stream",
          "text": [
            "313/313 - 1s - loss: 4.6287 - accuracy: 0.3180\n",
            "test_acc: 0.318\n"
          ],
          "name": "stdout"
        },
        {
          "output_type": "display_data",
          "data": {
            "image/png": "[encoded data removed]",
            "text/plain": [
              "<Figure size 864x288 with 1 Axes>"
            ]
          },
          "metadata": {
            "tags": [],
            "needs_background": "light"
          }
        }
      ]
    },
    {
      "cell_type": "code",
      "metadata": {
        "id": "wanxW8303n6a",
        "colab_type": "code",
        "colab": {}
      },
      "source": [
        ""
      ],
      "execution_count": null,
      "outputs": []
    },
    {
      "cell_type": "code",
      "metadata": {
        "id": "nzlruO7Y3n3A",
        "colab_type": "code",
        "colab": {
          "base_uri": "https://localhost:8080/",
          "height": 1000
        },
        "outputId": "54496c1f-37c8-497e-aa49-590228f99638"
      },
      "source": [
        "## Conv -> Activation -> SpatialDropout2D -> BatchNorm -> Pool\n",
        "model = Sequential()\n",
        "model.add(Conv2D(32, (3, 3), activation='elu', input_shape=(32, 32, 3)))\n",
        "model.add(SpatialDropout2D(0.2))\n",
        "model.add(BatchNormalization())\n",
        "model.add(MaxPooling2D((2, 2)))\n",
        "\n",
        "model.add(Conv2D(64, (3, 3), activation='elu'))\n",
        "model.add(SpatialDropout2D(0.15))\n",
        "model.add(BatchNormalization())\n",
        "model.add(MaxPooling2D((2, 2)))\n",
        "# model.add(Conv2D(128, (3, 3), activation='elu'))\n",
        "\n",
        "model.add(Flatten())\n",
        "model.add(Dense(128, activation='elu'))\n",
        "model.add(Dense(classes))\n",
        "\n",
        "\n",
        "model.compile(optimizer='adam',\n",
        "              loss=tf.keras.losses.SparseCategoricalCrossentropy(from_logits=True),\n",
        "              metrics=['accuracy'])\n",
        "\n",
        "history = model.fit(train_images, train_labels,batch_size=16, epochs=60, \n",
        "                    validation_data=(test_images, test_labels))"
      ],
      "execution_count": null,
      "outputs": [
        {
          "output_type": "stream",
          "text": [
            "Epoch 1/60\n",
            "3125/3125 [==============================] - 9s 3ms/step - loss: 3.7962 - accuracy: 0.1361 - val_loss: 3.2271 - val_accuracy: 0.2263\n",
            "Epoch 2/60\n",
            "3125/3125 [==============================] - 9s 3ms/step - loss: 3.1017 - accuracy: 0.2463 - val_loss: 2.8711 - val_accuracy: 0.2881\n",
            "Epoch 3/60\n",
            "3125/3125 [==============================] - 9s 3ms/step - loss: 2.8067 - accuracy: 0.3050 - val_loss: 2.6681 - val_accuracy: 0.3364\n",
            "Epoch 4/60\n",
            "3125/3125 [==============================] - 9s 3ms/step - loss: 2.5968 - accuracy: 0.3463 - val_loss: 2.5963 - val_accuracy: 0.3482\n",
            "Epoch 5/60\n",
            "3125/3125 [==============================] - 9s 3ms/step - loss: 2.4231 - accuracy: 0.3817 - val_loss: 2.5023 - val_accuracy: 0.3703\n",
            "Epoch 6/60\n",
            "3125/3125 [==============================] - 9s 3ms/step - loss: 2.2874 - accuracy: 0.4113 - val_loss: 2.5107 - val_accuracy: 0.3683\n",
            "Epoch 7/60\n",
            "3125/3125 [==============================] - 9s 3ms/step - loss: 2.1732 - accuracy: 0.4338 - val_loss: 2.4883 - val_accuracy: 0.3765\n",
            "Epoch 8/60\n",
            "3125/3125 [==============================] - 10s 3ms/step - loss: 2.0741 - accuracy: 0.4537 - val_loss: 2.6168 - val_accuracy: 0.3600\n",
            "Epoch 9/60\n",
            "3125/3125 [==============================] - 9s 3ms/step - loss: 1.9750 - accuracy: 0.4786 - val_loss: 2.4751 - val_accuracy: 0.3938\n",
            "Epoch 10/60\n",
            "3125/3125 [==============================] - 9s 3ms/step - loss: 1.8880 - accuracy: 0.4966 - val_loss: 2.5806 - val_accuracy: 0.3755\n",
            "Epoch 11/60\n",
            "3125/3125 [==============================] - 9s 3ms/step - loss: 1.8145 - accuracy: 0.5128 - val_loss: 2.5366 - val_accuracy: 0.3870\n",
            "Epoch 12/60\n",
            "3125/3125 [==============================] - 9s 3ms/step - loss: 1.7513 - accuracy: 0.5262 - val_loss: 2.5722 - val_accuracy: 0.3839\n",
            "Epoch 13/60\n",
            "3125/3125 [==============================] - 9s 3ms/step - loss: 1.6940 - accuracy: 0.5402 - val_loss: 2.5483 - val_accuracy: 0.3920\n",
            "Epoch 14/60\n",
            "3125/3125 [==============================] - 9s 3ms/step - loss: 1.6392 - accuracy: 0.5498 - val_loss: 2.7600 - val_accuracy: 0.3610\n",
            "Epoch 15/60\n",
            "3125/3125 [==============================] - 9s 3ms/step - loss: 1.5935 - accuracy: 0.5604 - val_loss: 2.6244 - val_accuracy: 0.3886\n",
            "Epoch 16/60\n",
            "3125/3125 [==============================] - 9s 3ms/step - loss: 1.5438 - accuracy: 0.5726 - val_loss: 2.6715 - val_accuracy: 0.3822\n",
            "Epoch 17/60\n",
            "3125/3125 [==============================] - 9s 3ms/step - loss: 1.5048 - accuracy: 0.5807 - val_loss: 2.6597 - val_accuracy: 0.3889\n",
            "Epoch 18/60\n",
            "3125/3125 [==============================] - 9s 3ms/step - loss: 1.4624 - accuracy: 0.5909 - val_loss: 2.7466 - val_accuracy: 0.3797\n",
            "Epoch 19/60\n",
            "3125/3125 [==============================] - 9s 3ms/step - loss: 1.4324 - accuracy: 0.5962 - val_loss: 2.7158 - val_accuracy: 0.3817\n",
            "Epoch 20/60\n",
            "3125/3125 [==============================] - 9s 3ms/step - loss: 1.3937 - accuracy: 0.6039 - val_loss: 2.7976 - val_accuracy: 0.3746\n",
            "Epoch 21/60\n",
            "3125/3125 [==============================] - 9s 3ms/step - loss: 1.3535 - accuracy: 0.6148 - val_loss: 2.8448 - val_accuracy: 0.3777\n",
            "Epoch 22/60\n",
            "3125/3125 [==============================] - 9s 3ms/step - loss: 1.3370 - accuracy: 0.6192 - val_loss: 2.8749 - val_accuracy: 0.3792\n",
            "Epoch 23/60\n",
            "3125/3125 [==============================] - 9s 3ms/step - loss: 1.2998 - accuracy: 0.6274 - val_loss: 2.9194 - val_accuracy: 0.3784\n",
            "Epoch 24/60\n",
            "3125/3125 [==============================] - 9s 3ms/step - loss: 1.2761 - accuracy: 0.6344 - val_loss: 2.9307 - val_accuracy: 0.3732\n",
            "Epoch 25/60\n",
            "3125/3125 [==============================] - 9s 3ms/step - loss: 1.2466 - accuracy: 0.6386 - val_loss: 2.9134 - val_accuracy: 0.3728\n",
            "Epoch 26/60\n",
            "3125/3125 [==============================] - 9s 3ms/step - loss: 1.2299 - accuracy: 0.6438 - val_loss: 2.9732 - val_accuracy: 0.3766\n",
            "Epoch 27/60\n",
            "3125/3125 [==============================] - 9s 3ms/step - loss: 1.2071 - accuracy: 0.6504 - val_loss: 3.0356 - val_accuracy: 0.3698\n",
            "Epoch 28/60\n",
            "3125/3125 [==============================] - 9s 3ms/step - loss: 1.1857 - accuracy: 0.6541 - val_loss: 3.0081 - val_accuracy: 0.3755\n",
            "Epoch 29/60\n",
            "3125/3125 [==============================] - 9s 3ms/step - loss: 1.1613 - accuracy: 0.6611 - val_loss: 3.1371 - val_accuracy: 0.3730\n",
            "Epoch 30/60\n",
            "3125/3125 [==============================] - 9s 3ms/step - loss: 1.1396 - accuracy: 0.6653 - val_loss: 3.1753 - val_accuracy: 0.3551\n",
            "Epoch 31/60\n",
            "3125/3125 [==============================] - 9s 3ms/step - loss: 1.1335 - accuracy: 0.6666 - val_loss: 3.0865 - val_accuracy: 0.3691\n",
            "Epoch 32/60\n",
            "3125/3125 [==============================] - 10s 3ms/step - loss: 1.1181 - accuracy: 0.6697 - val_loss: 3.1781 - val_accuracy: 0.3691\n",
            "Epoch 33/60\n",
            "3125/3125 [==============================] - 9s 3ms/step - loss: 1.1023 - accuracy: 0.6724 - val_loss: 3.1780 - val_accuracy: 0.3708\n",
            "Epoch 34/60\n",
            "3125/3125 [==============================] - 9s 3ms/step - loss: 1.0803 - accuracy: 0.6792 - val_loss: 3.1842 - val_accuracy: 0.3692\n",
            "Epoch 35/60\n",
            "3125/3125 [==============================] - 9s 3ms/step - loss: 1.0706 - accuracy: 0.6831 - val_loss: 3.2161 - val_accuracy: 0.3605\n",
            "Epoch 36/60\n",
            "3125/3125 [==============================] - 9s 3ms/step - loss: 1.0565 - accuracy: 0.6854 - val_loss: 3.2638 - val_accuracy: 0.3652\n",
            "Epoch 37/60\n",
            "3125/3125 [==============================] - 9s 3ms/step - loss: 1.0508 - accuracy: 0.6875 - val_loss: 3.2334 - val_accuracy: 0.3674\n",
            "Epoch 38/60\n",
            "3125/3125 [==============================] - 9s 3ms/step - loss: 1.0372 - accuracy: 0.6908 - val_loss: 3.3984 - val_accuracy: 0.3661\n",
            "Epoch 39/60\n",
            "3125/3125 [==============================] - 9s 3ms/step - loss: 1.0214 - accuracy: 0.6960 - val_loss: 3.3131 - val_accuracy: 0.3684\n",
            "Epoch 40/60\n",
            "3125/3125 [==============================] - 9s 3ms/step - loss: 1.0133 - accuracy: 0.6979 - val_loss: 3.3399 - val_accuracy: 0.3646\n",
            "Epoch 41/60\n",
            "3125/3125 [==============================] - 10s 3ms/step - loss: 0.9985 - accuracy: 0.7022 - val_loss: 3.4332 - val_accuracy: 0.3646\n",
            "Epoch 42/60\n",
            "3125/3125 [==============================] - 10s 3ms/step - loss: 0.9831 - accuracy: 0.7053 - val_loss: 3.3658 - val_accuracy: 0.3599\n",
            "Epoch 43/60\n",
            "3125/3125 [==============================] - 9s 3ms/step - loss: 0.9822 - accuracy: 0.7062 - val_loss: 3.4199 - val_accuracy: 0.3640\n",
            "Epoch 44/60\n",
            "3125/3125 [==============================] - 9s 3ms/step - loss: 0.9731 - accuracy: 0.7078 - val_loss: 3.4648 - val_accuracy: 0.3645\n",
            "Epoch 45/60\n",
            "3125/3125 [==============================] - 9s 3ms/step - loss: 0.9533 - accuracy: 0.7147 - val_loss: 3.4184 - val_accuracy: 0.3611\n",
            "Epoch 46/60\n",
            "3125/3125 [==============================] - 9s 3ms/step - loss: 0.9447 - accuracy: 0.7161 - val_loss: 3.3771 - val_accuracy: 0.3611\n",
            "Epoch 47/60\n",
            "3125/3125 [==============================] - 9s 3ms/step - loss: 0.9410 - accuracy: 0.7145 - val_loss: 3.5627 - val_accuracy: 0.3523\n",
            "Epoch 48/60\n",
            "3125/3125 [==============================] - 9s 3ms/step - loss: 0.9366 - accuracy: 0.7163 - val_loss: 3.3401 - val_accuracy: 0.3586\n",
            "Epoch 49/60\n",
            "3125/3125 [==============================] - 9s 3ms/step - loss: 0.9362 - accuracy: 0.7188 - val_loss: 3.4679 - val_accuracy: 0.3634\n",
            "Epoch 50/60\n",
            "3125/3125 [==============================] - 9s 3ms/step - loss: 0.9280 - accuracy: 0.7202 - val_loss: 3.4763 - val_accuracy: 0.3625\n",
            "Epoch 51/60\n",
            "3125/3125 [==============================] - 9s 3ms/step - loss: 0.9187 - accuracy: 0.7239 - val_loss: 3.5538 - val_accuracy: 0.3579\n",
            "Epoch 52/60\n",
            "3125/3125 [==============================] - 9s 3ms/step - loss: 0.9058 - accuracy: 0.7277 - val_loss: 3.6435 - val_accuracy: 0.3556\n",
            "Epoch 53/60\n",
            "3125/3125 [==============================] - 9s 3ms/step - loss: 0.9003 - accuracy: 0.7283 - val_loss: 3.4328 - val_accuracy: 0.3605\n",
            "Epoch 54/60\n",
            "3125/3125 [==============================] - 9s 3ms/step - loss: 0.8917 - accuracy: 0.7309 - val_loss: 3.4500 - val_accuracy: 0.3555\n",
            "Epoch 55/60\n",
            "3125/3125 [==============================] - 9s 3ms/step - loss: 0.8764 - accuracy: 0.7351 - val_loss: 3.5799 - val_accuracy: 0.3545\n",
            "Epoch 56/60\n",
            "3125/3125 [==============================] - 9s 3ms/step - loss: 0.8836 - accuracy: 0.7314 - val_loss: 3.5734 - val_accuracy: 0.3585\n",
            "Epoch 57/60\n",
            "3125/3125 [==============================] - 9s 3ms/step - loss: 0.8611 - accuracy: 0.7372 - val_loss: 3.6019 - val_accuracy: 0.3579\n",
            "Epoch 58/60\n",
            "3125/3125 [==============================] - 9s 3ms/step - loss: 0.8580 - accuracy: 0.7380 - val_loss: 3.5360 - val_accuracy: 0.3585\n",
            "Epoch 59/60\n",
            "3125/3125 [==============================] - 9s 3ms/step - loss: 0.8581 - accuracy: 0.7388 - val_loss: 3.6666 - val_accuracy: 0.3628\n",
            "Epoch 60/60\n",
            "3125/3125 [==============================] - 9s 3ms/step - loss: 0.8559 - accuracy: 0.7387 - val_loss: 3.6636 - val_accuracy: 0.3593\n"
          ],
          "name": "stdout"
        }
      ]
    },
    {
      "cell_type": "code",
      "metadata": {
        "id": "z1ib1KNV3nzi",
        "colab_type": "code",
        "colab": {
          "base_uri": "https://localhost:8080/",
          "height": 313
        },
        "outputId": "08c7839f-c81d-41a0-cb3e-e06548ca4559"
      },
      "source": [
        "plt.figure(figsize=(12,4))\n",
        "plt.plot(history.history['loss'], label='loss');\n",
        "plt.plot(history.history['val_loss'], label = 'val_loss');\n",
        "plt.xlabel('Epoch')\n",
        "plt.ylabel('loss')\n",
        "plt.legend(loc='lower right')\n",
        "\n",
        "test_loss, test_acc = model.evaluate(test_images,  test_labels, verbose=2)\n",
        "print('test_acc:', round(test_acc,3))"
      ],
      "execution_count": null,
      "outputs": [
        {
          "output_type": "stream",
          "text": [
            "313/313 - 1s - loss: 3.6636 - accuracy: 0.3593\n",
            "test_acc: 0.359\n"
          ],
          "name": "stdout"
        },
        {
          "output_type": "display_data",
          "data": {
            "image/png": "[encoded data removed]",
            "text/plain": [
              "<Figure size 864x288 with 1 Axes>"
            ]
          },
          "metadata": {
            "tags": [],
            "needs_background": "light"
          }
        }
      ]
    },
    {
      "cell_type": "markdown",
      "metadata": {
        "id": "5hu_qSTfERcL",
        "colab_type": "text"
      },
      "source": [
        "[5 Techniques to Prevent Overfitting in Neural Networks](https://www.kdnuggets.com/2019/12/5-techniques-prevent-overfitting-neural-networks.html)\n",
        "\n",
        "what is `kernel_regularizer=l2(0.01)`\n",
        "> l2(0.01) means that every coefficient in the weight matrix of the layer will add 0.01 * weight_coefficient_value**2 to the total loss of the network."
      ]
    },
    {
      "cell_type": "code",
      "metadata": {
        "id": "qseZxTuFERfb",
        "colab_type": "code",
        "colab": {
          "base_uri": "https://localhost:8080/",
          "height": 1000
        },
        "outputId": "9f18e3d0-3b56-4e19-c8c5-c955adb3e790"
      },
      "source": [
        "## Conv -> Activation -> SpatialDropout2D -> BatchNorm -> Pool\n",
        "model = Sequential()\n",
        "model.add(Conv2D(32, (3, 3), activation='elu', kernel_regularizer=l2(0.02), input_shape=(32, 32, 3)))\n",
        "model.add(SpatialDropout2D(0.4))\n",
        "model.add(BatchNormalization()) # norm(across the batch.....(..))\n",
        "model.add(MaxPooling2D((2, 2)))\n",
        "\n",
        "model.add(Conv2D(64, (3, 3), activation='elu', kernel_regularizer=l2(0.02))) # changed filter size \n",
        "model.add(SpatialDropout2D(0.3))\n",
        "model.add(BatchNormalization())\n",
        "model.add(MaxPooling2D((2, 2)))\n",
        "\n",
        "model.add(Flatten())\n",
        "model.add(Dense(128, activation='elu'))\n",
        "model.add(Dense(classes))\n",
        "\n",
        "opt = tf.keras.optimizers.Adam(0.002) #  default 0.001\n",
        "myCallbacks = [tf.keras.callbacks.EarlyStopping(monitor='val_loss', patience=15),\n",
        "               tf.keras.callbacks.ReduceLROnPlateau(monitor='val_loss', factor=0.5, patience= 5)] # there is also a call back to save the best model\n",
        "\n",
        "model.compile(optimizer=opt,\n",
        "              loss=tf.keras.losses.SparseCategoricalCrossentropy(from_logits=True),\n",
        "              metrics=['accuracy'])\n",
        "\n",
        "\n",
        "history = model.fit(train_images, train_labels, batch_size=60, epochs=32, # changed batch_size\n",
        "                    validation_data=(test_images, test_labels),\n",
        "                    callbacks = myCallbacks)"
      ],
      "execution_count": null,
      "outputs": [
        {
          "output_type": "stream",
          "text": [
            "Epoch 1/32\n",
            "834/834 [==============================] - 8s 9ms/step - loss: 4.3473 - accuracy: 0.0935 - val_loss: 3.6607 - val_accuracy: 0.1734 - lr: 0.0020\n",
            "Epoch 2/32\n",
            "834/834 [==============================] - 8s 9ms/step - loss: 3.7004 - accuracy: 0.1701 - val_loss: 3.4736 - val_accuracy: 0.2083 - lr: 0.0020\n",
            "Epoch 3/32\n",
            "834/834 [==============================] - 7s 9ms/step - loss: 3.4707 - accuracy: 0.2102 - val_loss: 3.2883 - val_accuracy: 0.2527 - lr: 0.0020\n",
            "Epoch 4/32\n",
            "834/834 [==============================] - 7s 9ms/step - loss: 3.3347 - accuracy: 0.2405 - val_loss: 3.1651 - val_accuracy: 0.2751 - lr: 0.0020\n",
            "Epoch 5/32\n",
            "834/834 [==============================] - 7s 9ms/step - loss: 3.2231 - accuracy: 0.2621 - val_loss: 3.1727 - val_accuracy: 0.2672 - lr: 0.0020\n",
            "Epoch 6/32\n",
            "834/834 [==============================] - 8s 9ms/step - loss: 3.1476 - accuracy: 0.2768 - val_loss: 3.0638 - val_accuracy: 0.2946 - lr: 0.0020\n",
            "Epoch 7/32\n",
            "834/834 [==============================] - 8s 9ms/step - loss: 3.0840 - accuracy: 0.2918 - val_loss: 3.0273 - val_accuracy: 0.3075 - lr: 0.0020\n",
            "Epoch 8/32\n",
            "834/834 [==============================] - 7s 9ms/step - loss: 3.0253 - accuracy: 0.3016 - val_loss: 3.0406 - val_accuracy: 0.3100 - lr: 0.0020\n",
            "Epoch 9/32\n",
            "834/834 [==============================] - 7s 9ms/step - loss: 2.9812 - accuracy: 0.3150 - val_loss: 2.9643 - val_accuracy: 0.3168 - lr: 0.0020\n",
            "Epoch 10/32\n",
            "834/834 [==============================] - 7s 9ms/step - loss: 2.9405 - accuracy: 0.3224 - val_loss: 2.9369 - val_accuracy: 0.3322 - lr: 0.0020\n",
            "Epoch 11/32\n",
            "834/834 [==============================] - 8s 9ms/step - loss: 2.9138 - accuracy: 0.3259 - val_loss: 2.9626 - val_accuracy: 0.3269 - lr: 0.0020\n",
            "Epoch 12/32\n",
            "834/834 [==============================] - 8s 9ms/step - loss: 2.8810 - accuracy: 0.3319 - val_loss: 2.9698 - val_accuracy: 0.3225 - lr: 0.0020\n",
            "Epoch 13/32\n",
            "834/834 [==============================] - 8s 9ms/step - loss: 2.8493 - accuracy: 0.3383 - val_loss: 3.0455 - val_accuracy: 0.3110 - lr: 0.0020\n",
            "Epoch 14/32\n",
            "834/834 [==============================] - 8s 9ms/step - loss: 2.8262 - accuracy: 0.3442 - val_loss: 2.9632 - val_accuracy: 0.3248 - lr: 0.0020\n",
            "Epoch 15/32\n",
            "834/834 [==============================] - 8s 9ms/step - loss: 2.7965 - accuracy: 0.3522 - val_loss: 2.9922 - val_accuracy: 0.3234 - lr: 0.0020\n",
            "Epoch 16/32\n",
            "834/834 [==============================] - 8s 9ms/step - loss: 2.5817 - accuracy: 0.3886 - val_loss: 2.8320 - val_accuracy: 0.3502 - lr: 0.0010\n",
            "Epoch 17/32\n",
            "834/834 [==============================] - 8s 9ms/step - loss: 2.5390 - accuracy: 0.3954 - val_loss: 2.8282 - val_accuracy: 0.3469 - lr: 0.0010\n",
            "Epoch 18/32\n",
            "834/834 [==============================] - 8s 9ms/step - loss: 2.5127 - accuracy: 0.3977 - val_loss: 2.8070 - val_accuracy: 0.3509 - lr: 0.0010\n",
            "Epoch 19/32\n",
            "834/834 [==============================] - 8s 9ms/step - loss: 2.4867 - accuracy: 0.4031 - val_loss: 2.7942 - val_accuracy: 0.3583 - lr: 0.0010\n",
            "Epoch 20/32\n",
            "834/834 [==============================] - 8s 9ms/step - loss: 2.4706 - accuracy: 0.4038 - val_loss: 2.7818 - val_accuracy: 0.3550 - lr: 0.0010\n",
            "Epoch 21/32\n",
            "834/834 [==============================] - 8s 9ms/step - loss: 2.4558 - accuracy: 0.4082 - val_loss: 2.8096 - val_accuracy: 0.3574 - lr: 0.0010\n",
            "Epoch 22/32\n",
            "834/834 [==============================] - 8s 9ms/step - loss: 2.4398 - accuracy: 0.4127 - val_loss: 2.8236 - val_accuracy: 0.3535 - lr: 0.0010\n",
            "Epoch 23/32\n",
            "834/834 [==============================] - 8s 9ms/step - loss: 2.4282 - accuracy: 0.4143 - val_loss: 2.8099 - val_accuracy: 0.3526 - lr: 0.0010\n",
            "Epoch 24/32\n",
            "834/834 [==============================] - 8s 9ms/step - loss: 2.4095 - accuracy: 0.4191 - val_loss: 2.8552 - val_accuracy: 0.3510 - lr: 0.0010\n",
            "Epoch 25/32\n",
            "834/834 [==============================] - 7s 9ms/step - loss: 2.4153 - accuracy: 0.4186 - val_loss: 2.8396 - val_accuracy: 0.3560 - lr: 0.0010\n",
            "Epoch 26/32\n",
            "834/834 [==============================] - 8s 9ms/step - loss: 2.2751 - accuracy: 0.4464 - val_loss: 2.8108 - val_accuracy: 0.3542 - lr: 5.0000e-04\n",
            "Epoch 27/32\n",
            "834/834 [==============================] - 7s 9ms/step - loss: 2.2464 - accuracy: 0.4472 - val_loss: 2.7749 - val_accuracy: 0.3636 - lr: 5.0000e-04\n",
            "Epoch 28/32\n",
            "834/834 [==============================] - 7s 9ms/step - loss: 2.2280 - accuracy: 0.4511 - val_loss: 2.7786 - val_accuracy: 0.3611 - lr: 5.0000e-04\n",
            "Epoch 29/32\n",
            "834/834 [==============================] - 8s 9ms/step - loss: 2.2111 - accuracy: 0.4541 - val_loss: 2.8131 - val_accuracy: 0.3571 - lr: 5.0000e-04\n",
            "Epoch 30/32\n",
            "834/834 [==============================] - 7s 9ms/step - loss: 2.2121 - accuracy: 0.4557 - val_loss: 2.7583 - val_accuracy: 0.3633 - lr: 5.0000e-04\n",
            "Epoch 31/32\n",
            "834/834 [==============================] - 7s 9ms/step - loss: 2.2047 - accuracy: 0.4534 - val_loss: 2.7721 - val_accuracy: 0.3641 - lr: 5.0000e-04\n",
            "Epoch 32/32\n",
            "834/834 [==============================] - 8s 9ms/step - loss: 2.1951 - accuracy: 0.4555 - val_loss: 2.7562 - val_accuracy: 0.3666 - lr: 5.0000e-04\n"
          ],
          "name": "stdout"
        }
      ]
    },
    {
      "cell_type": "code",
      "metadata": {
        "id": "iibMK8AJERjA",
        "colab_type": "code",
        "colab": {
          "base_uri": "https://localhost:8080/",
          "height": 313
        },
        "outputId": "9a50a07f-bc09-483e-abaa-2e49fecd5efb"
      },
      "source": [
        "plt.figure(figsize=(12,4))\n",
        "plt.plot(history.history['loss'], label='loss');\n",
        "plt.plot(history.history['val_loss'], label = 'val_loss');\n",
        "plt.xlabel('Epoch')\n",
        "plt.ylabel('loss')\n",
        "plt.legend(loc='lower right')\n",
        "\n",
        "test_loss, test_acc = model.evaluate(test_images,  test_labels, verbose=2)\n",
        "print('test_acc:', round(test_acc,3))"
      ],
      "execution_count": null,
      "outputs": [
        {
          "output_type": "stream",
          "text": [
            "313/313 - 1s - loss: 2.8650 - accuracy: 0.3625\n",
            "test_acc: 0.363\n"
          ],
          "name": "stdout"
        },
        {
          "output_type": "display_data",
          "data": {
            "image/png": "[encoded data removed]",
            "text/plain": [
              "<Figure size 864x288 with 1 Axes>"
            ]
          },
          "metadata": {
            "tags": [],
            "needs_background": "light"
          }
        }
      ]
    },
    {
      "cell_type": "code",
      "metadata": {
        "id": "HGkp_WuIERmp",
        "colab_type": "code",
        "colab": {}
      },
      "source": [
        ""
      ],
      "execution_count": null,
      "outputs": []
    },
    {
      "cell_type": "code",
      "metadata": {
        "id": "f4g41z217pxa",
        "colab_type": "code",
        "colab": {}
      },
      "source": [
        ""
      ],
      "execution_count": null,
      "outputs": []
    }
  ]
}