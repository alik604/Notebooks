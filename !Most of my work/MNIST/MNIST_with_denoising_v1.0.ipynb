{
  "nbformat": 4,
  "nbformat_minor": 0,
  "metadata": {
    "colab": {
      "name": "MNIST with denoising ",
      "provenance": [],
      "collapsed_sections": [],
      "include_colab_link": true
    },
    "kernelspec": {
      "name": "python3",
      "display_name": "Python 3"
    },
    "accelerator": "GPU"
  },
  "cells": [
    {
      "cell_type": "markdown",
      "metadata": {
        "id": "view-in-github",
        "colab_type": "text"
      },
      "source": [
        "<a href=\"https://colab.research.google.com/github/alik604/Notebooks/blob/master/Data%20Science-Datasets/MNIST/MNIST_with_denoising_v1.0.ipynb\" target=\"_parent\"><img src=\"https://colab.research.google.com/assets/colab-badge.svg\" alt=\"Open In Colab\"/></a>"
      ]
    },
    {
      "cell_type": "markdown",
      "metadata": {
        "id": "8I5yu_RjticP",
        "colab_type": "text"
      },
      "source": [
        "# MNIST with denoising "
      ]
    },
    {
      "cell_type": "markdown",
      "metadata": {
        "id": "dChfoq7ntNR5",
        "colab_type": "text"
      },
      "source": [
        "References: \n",
        "* the whole damn internet...\n",
        "* reduce noise: https://blog.keras.io/building-autoencoders-in-keras.html\n",
        "* reduce noise: https://medium.com/activating-robotic-minds/how-to-reduce-image-noises-by-autoencoder-65d5e6de543\n",
        "* CNN: https://towardsdatascience.com/image-classification-in-10-minutes-with-mnist-dataset-54c35b77a38d\n",
        "* predict without ANNs: https://github.com/edyoda/data-science-complete-tutorial/blob/master/Case%20Study%20Handwriting%20Detection.ipynb\n"
      ]
    },
    {
      "cell_type": "code",
      "metadata": {
        "id": "-CtRgdDA-uX2",
        "colab_type": "code",
        "colab": {
          "base_uri": "https://localhost:8080/",
          "height": 80
        },
        "outputId": "46d694fc-efc6-4ca6-dc91-83f13eca026b"
      },
      "source": [
        "import numpy as np\n",
        "import pandas as pd \n",
        "import matplotlib.pyplot as plt\n",
        "\n",
        "import keras\n",
        "from keras.datasets import *\n",
        "from keras.models import Sequential,Model\n",
        "from keras.layers import Dense, Dropout, Flatten,Input\n",
        "from keras.layers import Conv2D, MaxPooling2D,UpSampling2D\n",
        "\n",
        "from keras import backend as K\n",
        "import tensorflow as tf\n",
        "\n",
        "from sklearn.model_selection import train_test_split\n",
        "\n",
        "from IPython.core.interactiveshell import InteractiveShell\n",
        "InteractiveShell.ast_node_interactivity = \"all\"\n",
        "\n",
        "# the data, split between train and test sets\n",
        "(train_images, train_lables), (test_images, test_lables) = mnist.load_data()\n",
        "train_images = train_images /255.0\n",
        "train_lables = train_lables / 255.0\n",
        "\n",
        "\n",
        "# classnames = [\"top\", \"trouser\", \"pullover\", \"dress\", \"coat\",\n",
        "# \"sandal\", \"shirt\", \"sneaker\", \"bag\", \"ankle boot\"]\n",
        "classnames = [\"0\", \"1\", \"2\", \"3\", \"4\", \"5\", \"6\", \"7\", \"8\", \"9\"]"
      ],
      "execution_count": 1,
      "outputs": [
        {
          "output_type": "stream",
          "text": [
            "Using TensorFlow backend.\n"
          ],
          "name": "stderr"
        },
        {
          "output_type": "display_data",
          "data": {
            "text/html": [
              "<p style=\"color: red;\">\n",
              "The default version of TensorFlow in Colab will soon switch to TensorFlow 2.x.<br>\n",
              "We recommend you <a href=\"https://www.tensorflow.org/guide/migrate\" target=\"_blank\">upgrade</a> now \n",
              "or ensure your notebook will continue to use TensorFlow 1.x via the <code>%tensorflow_version 1.x</code> magic:\n",
              "<a href=\"https://colab.research.google.com/notebooks/tensorflow_version.ipynb\" target=\"_blank\">more info</a>.</p>\n"
            ],
            "text/plain": [
              "<IPython.core.display.HTML object>"
            ]
          },
          "metadata": {
            "tags": []
          }
        }
      ]
    },
    {
      "cell_type": "markdown",
      "metadata": {
        "id": "Cgd47mDojhte",
        "colab_type": "text"
      },
      "source": [
        "# Clean Data "
      ]
    },
    {
      "cell_type": "code",
      "metadata": {
        "id": "c2dPIXPGet8k",
        "colab_type": "code",
        "colab": {}
      },
      "source": [
        "(X_train, y_train), (X_test, y_test) = keras.datasets.mnist.load_data() # when you have to much ram and are too lazy for references...\n",
        "\n",
        "def preprocess(x):\n",
        "    x = x.astype('float32') / 255.\n",
        "    return x.reshape(-1, np.prod(x.shape[1:])) # flatten\n",
        "X_train = preprocess(X_train)\n",
        "X_test  = preprocess(X_test)\n",
        "\n",
        "X_train,X_valid,y_train, y_valid = train_test_split(X_train, y_train,test_size=500)"
      ],
      "execution_count": 0,
      "outputs": []
    },
    {
      "cell_type": "code",
      "metadata": {
        "id": "JkcNr6thjWRD",
        "colab_type": "code",
        "colab": {}
      },
      "source": [
        "def make_convolutional_autoencoder():\n",
        "    # encoding\n",
        "    inputs = keras.Input(shape=(28, 28, 1))\n",
        "    x = Conv2D(16, 3, activation='relu', padding='same')(inputs)\n",
        "    x = MaxPooling2D(padding='same')(x)\n",
        "    x = Conv2D( 8, 3, activation='relu', padding='same')(x)\n",
        "    x = MaxPooling2D(padding='same')(x)\n",
        "    x = Conv2D( 8, 3, activation='relu', padding='same')(x)\n",
        "    encoded = MaxPooling2D(padding='same')(x)    \n",
        "    \n",
        "    # decoding\n",
        "    x = Conv2D( 8, 3, activation='relu', padding='same')(encoded)\n",
        "    x = UpSampling2D()(x)\n",
        "    x = Conv2D( 8, 3, activation='relu', padding='same')(x)\n",
        "    x = UpSampling2D()(x)\n",
        "    x = Conv2D(16, 3, activation='relu')(x) # <= padding='valid'!\n",
        "    x = UpSampling2D()(x)\n",
        "    decoded = Conv2D(1, 3, activation='sigmoid', padding='same')(x)\n",
        "    \n",
        "    # autoencoder\n",
        "    autoencoder = Model(inputs, decoded)\n",
        "    autoencoder.compile(optimizer='adam', \n",
        "                        loss='binary_crossentropy')\n",
        "    return autoencoder\n",
        "# create a convolutional autoencoder\n",
        "autoencoder = make_convolutional_autoencoder()"
      ],
      "execution_count": 0,
      "outputs": []
    },
    {
      "cell_type": "code",
      "metadata": {
        "id": "0BNlD0WxjWOG",
        "colab_type": "code",
        "colab": {}
      },
      "source": [
        "# reshape the flattened images to 28x28 with 1 channel\n",
        "X_train = X_train.reshape(-1, 28, 28, 1)\n",
        "X_valid = X_valid.reshape(-1, 28, 28, 1)\n",
        "X_test  = X_test.reshape(-1, 28, 28, 1)\n",
        "autoencoder.fit(X_train, X_train, \n",
        "                epochs=20, \n",
        "                batch_size=128\n",
        "                #,validation_data=(X_valid, X_valid)\n",
        "                )"
      ],
      "execution_count": 0,
      "outputs": []
    },
    {
      "cell_type": "code",
      "metadata": {
        "id": "KbfpYuSFjWLF",
        "colab_type": "code",
        "colab": {
          "base_uri": "https://localhost:8080/",
          "height": 579
        },
        "outputId": "eab60c26-1aee-4500-f153-87de0e6dc8ab"
      },
      "source": [
        "test_base = np.array([X_test[0],X_test[1]])\n",
        "X_test_decoded = autoencoder.predict(test_base) \n",
        "\n",
        "test_input  = test_base.reshape(-1, 28, 28)\n",
        "test_decoded  = X_test_decoded.reshape(-1, 28, 28)\n",
        "\n",
        "# # utility to display a row of digits with their predictions\n",
        "# def display_digits(digits, predictions, labels, title, n):\n",
        "#   fig = plt.figure(figsize=(13,3))\n",
        "#   digits = np.reshape(digits, [n, 28, 28])\n",
        "#   digits = np.swapaxes(digits, 0, 1)\n",
        "#   digits = np.reshape(digits, [28, 28*n])\n",
        "#   plt.yticks([])\n",
        "#   plt.xticks([28*x+14 for x in range(n)], predictions)\n",
        "#   plt.grid(b=None)\n",
        "#   for i,t in enumerate(plt.gca().xaxis.get_ticklabels()):\n",
        "#     if predictions[i] != labels[i]: t.set_color('red') # bad predictions in red\n",
        "#   plt.imshow(digits)\n",
        "#   plt.grid(None)\n",
        "#   plt.title(title)\n",
        "#   display.display(fig)\n",
        "\n",
        "# display_digits(test,None,None,\"\",len(X_test))\n",
        "\n",
        "\n",
        "plt.grid(False)\n",
        "plt.title(\"original\")\n",
        "plt.imshow(test_input[0],cmap=plt.cm.binary)\n",
        "plt.show()\n",
        "\n",
        "plt.title(\"decoded\")\n",
        "plt.imshow(test_decoded[0],cmap=plt.cm.binary)\n",
        "plt.show()\n",
        "\n"
      ],
      "execution_count": 5,
      "outputs": [
        {
          "output_type": "execute_result",
          "data": {
            "text/plain": [
              "Text(0.5, 1.0, 'original')"
            ]
          },
          "metadata": {
            "tags": []
          },
          "execution_count": 5
        },
        {
          "output_type": "execute_result",
          "data": {
            "text/plain": [
              "<matplotlib.image.AxesImage at 0x7fcac039ad30>"
            ]
          },
          "metadata": {
            "tags": []
          },
          "execution_count": 5
        },
        {
          "output_type": "display_data",
          "data": {
            "image/png": "[encoded data removed]",
            "text/plain": [
              "<Figure size 432x288 with 1 Axes>"
            ]
          },
          "metadata": {
            "tags": []
          }
        },
        {
          "output_type": "execute_result",
          "data": {
            "text/plain": [
              "Text(0.5, 1.0, 'decoded')"
            ]
          },
          "metadata": {
            "tags": []
          },
          "execution_count": 5
        },
        {
          "output_type": "execute_result",
          "data": {
            "text/plain": [
              "<matplotlib.image.AxesImage at 0x7fcac011d9b0>"
            ]
          },
          "metadata": {
            "tags": []
          },
          "execution_count": 5
        },
        {
          "output_type": "display_data",
          "data": {
            "image/png": "[encoded data removed]",
            "text/plain": [
              "<Figure size 432x288 with 1 Axes>"
            ]
          },
          "metadata": {
            "tags": []
          }
        }
      ]
    },
    {
      "cell_type": "markdown",
      "metadata": {
        "id": "TTlJ9OS7tqUE",
        "colab_type": "text"
      },
      "source": [
        "## With added noise"
      ]
    },
    {
      "cell_type": "code",
      "metadata": {
        "id": "ITWbQjfxjWIF",
        "colab_type": "code",
        "colab": {}
      },
      "source": [
        "def add_noise(x, noise_factor=0.2):\n",
        "    x = x + np.random.randn(*x.shape) * noise_factor\n",
        "    x = x.clip(0., 1.)\n",
        "    return x\n",
        "    \n",
        "X_train_noisy = add_noise(X_train)\n",
        "X_valid_noisy = add_noise(X_valid)\n",
        "X_test_noisy  = add_noise(X_test)"
      ],
      "execution_count": 0,
      "outputs": []
    },
    {
      "cell_type": "code",
      "metadata": {
        "id": "xS5VZRBktETu",
        "colab_type": "code",
        "colab": {}
      },
      "source": [
        "autoencoder = make_convolutional_autoencoder()\n",
        "autoencoder.fit(X_train_noisy, X_train, \n",
        "                epochs=10, \n",
        "                batch_size=128, \n",
        "                validation_data=(X_valid_noisy, X_valid))"
      ],
      "execution_count": 0,
      "outputs": []
    },
    {
      "cell_type": "code",
      "metadata": {
        "id": "Qt1y-g4stEZp",
        "colab_type": "code",
        "colab": {}
      },
      "source": [
        "X_test_decoded = autoencoder.predict(X_test_noisy)"
      ],
      "execution_count": 0,
      "outputs": []
    },
    {
      "cell_type": "code",
      "metadata": {
        "id": "HuiTF6fptEiE",
        "colab_type": "code",
        "colab": {
          "base_uri": "https://localhost:8080/",
          "height": 547
        },
        "outputId": "e01258cd-67b0-4905-92ef-0aa11ab06ed8"
      },
      "source": [
        "test  = X_test_decoded.reshape(-1, 28, 28)\n",
        "test_n  = X_test_noisy.reshape(-1, 28, 28)\n",
        "\n",
        "\n",
        "plt.imshow(test_n[1],cmap=plt.cm.binary)\n",
        "plt.show()\n",
        "\n",
        "plt.imshow(test[1],cmap=plt.cm.binary)\n",
        "plt.show()"
      ],
      "execution_count": 9,
      "outputs": [
        {
          "output_type": "execute_result",
          "data": {
            "text/plain": [
              "<matplotlib.image.AxesImage at 0x7fca7bdcbef0>"
            ]
          },
          "metadata": {
            "tags": []
          },
          "execution_count": 9
        },
        {
          "output_type": "display_data",
          "data": {
            "image/png": "[encoded data removed]",
            "text/plain": [
              "<Figure size 432x288 with 1 Axes>"
            ]
          },
          "metadata": {
            "tags": []
          }
        },
        {
          "output_type": "execute_result",
          "data": {
            "text/plain": [
              "<matplotlib.image.AxesImage at 0x7fca7bda96d8>"
            ]
          },
          "metadata": {
            "tags": []
          },
          "execution_count": 9
        },
        {
          "output_type": "display_data",
          "data": {
            "image/png": "[encoded data removed]",
            "text/plain": [
              "<Figure size 432x288 with 1 Axes>"
            ]
          },
          "metadata": {
            "tags": []
          }
        }
      ]
    },
    {
      "cell_type": "markdown",
      "metadata": {
        "id": "tI2S2IeJtEfq",
        "colab_type": "text"
      },
      "source": [
        ""
      ]
    },
    {
      "cell_type": "code",
      "metadata": {
        "id": "Q5n2gOz9tEdh",
        "colab_type": "code",
        "colab": {}
      },
      "source": [
        ""
      ],
      "execution_count": 0,
      "outputs": []
    },
    {
      "cell_type": "code",
      "metadata": {
        "id": "2v244Gf1tEXN",
        "colab_type": "code",
        "colab": {}
      },
      "source": [
        ""
      ],
      "execution_count": 0,
      "outputs": []
    },
    {
      "cell_type": "code",
      "metadata": {
        "id": "wt8havtZtEQl",
        "colab_type": "code",
        "colab": {}
      },
      "source": [
        ""
      ],
      "execution_count": 0,
      "outputs": []
    },
    {
      "cell_type": "code",
      "metadata": {
        "id": "pzUQSZYdjWFG",
        "colab_type": "code",
        "colab": {}
      },
      "source": [
        ""
      ],
      "execution_count": 0,
      "outputs": []
    },
    {
      "cell_type": "markdown",
      "metadata": {
        "id": "5slGuM_LjWB7",
        "colab_type": "text"
      },
      "source": [
        "# Prediction "
      ]
    },
    {
      "cell_type": "code",
      "metadata": {
        "id": "uRip823S_Bhl",
        "colab_type": "code",
        "colab": {}
      },
      "source": [
        "#(X_train, y_train), (X_test, y_test) = keras.datasets.mnist.load_data() # when you have to much ram and are too lazy for references...\n",
        "\n",
        "# def preprocess(x):\n",
        "#     x = x.astype('float32') / 255.\n",
        "#     return x.reshape(-1, np.prod(x.shape[1:])) # flatten\n",
        "# X_train = preprocess(X_train)\n",
        "# X_test  = preprocess(X_test)\n",
        "\n",
        "\n",
        "# X_test  = X_test.reshape(-1, 28, 28, 1)\n",
        "\n",
        "X_train_decoded = autoencoder.predict(X_train)\n",
        "X_test_decoded = autoencoder.predict(X_test) \n",
        "X_valid_decoded = autoencoder.predict(X_valid)"
      ],
      "execution_count": 0,
      "outputs": []
    },
    {
      "cell_type": "code",
      "metadata": {
        "id": "Z-kBQToFU8HO",
        "colab_type": "code",
        "colab": {}
      },
      "source": [
        "X_train = X_train.reshape(-1, 28, 28, 1)"
      ],
      "execution_count": 0,
      "outputs": []
    },
    {
      "cell_type": "code",
      "metadata": {
        "id": "AcgLowRB_JFY",
        "colab_type": "code",
        "colab": {
          "base_uri": "https://localhost:8080/",
          "height": 204
        },
        "outputId": "aa2e6428-6c2d-4dcd-ecda-c39f55976bfa"
      },
      "source": [
        "# model = keras.Sequential([\n",
        "#   keras.layers.Flatten(input_shape=(28,28)),\n",
        "#   keras.layers.Dense(128,activation=\"relu\"), \n",
        "#   keras.layers.Dense(256,activation=\"relu\"),\n",
        "#   keras.layers.Dense(10,activation=\"softmax\") # adds upto 1             \n",
        "# ])\n",
        "# model.compile(optimizer=\"adam\",loss=\"binary_crossentropy\", metrics=[\"accuracy\"])#sparse_categorical_crossentropy\n",
        "# model.fit(train_images,train_lables,epochs=5)\n",
        "\n",
        "input_shape = (28, 28, 1)\n",
        "\n",
        "model = Sequential()\n",
        "model.add(Conv2D(28, kernel_size=(3,3), input_shape=input_shape))\n",
        "model.add(MaxPooling2D(pool_size=(2, 2)))\n",
        "model.add(Conv2D(28, kernel_size=(3,3), input_shape=input_shape))\n",
        "model.add(MaxPooling2D(pool_size=(2, 2)))\n",
        "model.add(Flatten()) # Flattening the 2D arrays for fully connected layers\n",
        "model.add(Dense(128, activation=tf.nn.relu))\n",
        "model.add(Dropout(0.2))\n",
        "model.add(Dense(32, activation=tf.nn.relu))\n",
        "model.add(Dense(10,activation=tf.nn.softmax))\n",
        "\n",
        "model.compile(optimizer=\"adam\",loss=\"sparse_categorical_crossentropy\", metrics=[\"accuracy\"])#sparse_categorical_crossentropy\n",
        "model.fit(X_test_decoded,y_test,epochs=5)\n"
      ],
      "execution_count": 71,
      "outputs": [
        {
          "output_type": "stream",
          "text": [
            "Epoch 1/5\n",
            "10000/10000 [==============================] - 4s 370us/step - loss: 0.6279 - acc: 0.8048\n",
            "Epoch 2/5\n",
            "10000/10000 [==============================] - 2s 236us/step - loss: 0.2791 - acc: 0.9144\n",
            "Epoch 3/5\n",
            "10000/10000 [==============================] - 2s 240us/step - loss: 0.2270 - acc: 0.9273\n",
            "Epoch 4/5\n",
            "10000/10000 [==============================] - 2s 234us/step - loss: 0.1864 - acc: 0.9384\n",
            "Epoch 5/5\n",
            "10000/10000 [==============================] - 2s 219us/step - loss: 0.1525 - acc: 0.9476\n"
          ],
          "name": "stdout"
        },
        {
          "output_type": "execute_result",
          "data": {
            "text/plain": [
              "<keras.callbacks.History at 0x7fca75840cc0>"
            ]
          },
          "metadata": {
            "tags": []
          },
          "execution_count": 71
        }
      ]
    },
    {
      "cell_type": "code",
      "metadata": {
        "id": "IsINxex7_JIT",
        "colab_type": "code",
        "colab": {
          "base_uri": "https://localhost:8080/",
          "height": 51
        },
        "outputId": "f97624d3-e5af-453b-980f-576fe229eb86"
      },
      "source": [
        "test_loss,test_acc = model.evaluate(X_valid_noisy,y_valid[:len(X_valid_noisy)]) # TODO need other test set \n",
        "print(\"tested Acc: \", test_acc) # 0.9803; two conv2d = .9891; two conv2d  + Dense 128 + drop 0.2 + Dense 32 = .9896\n",
        "\n"
      ],
      "execution_count": 92,
      "outputs": [
        {
          "output_type": "stream",
          "text": [
            "500/500 [==============================] - 0s 146us/step\n",
            "tested Acc:  0.9439999995231628\n"
          ],
          "name": "stdout"
        }
      ]
    },
    {
      "cell_type": "markdown",
      "metadata": {
        "id": "4uNC0q6BXHD8",
        "colab_type": "text"
      },
      "source": [
        "* X_test_decoded on X_valid = .94\n",
        "* X_test_decoded on X_valid_noisy = .933\n",
        "* X_test_decoded on X_test_noisy = .956\n",
        "* X_test_decoded on X_test_decoded = .9676\n",
        "* X_test_noisy = 0.968\n",
        "* X_valid on X_test = .84\n",
        "* X_valid on X_test_decoded = .83\n",
        "* X_valid on X_test_noisy = .80"
      ]
    },
    {
      "cell_type": "code",
      "metadata": {
        "id": "P0jCpl1O_JLq",
        "colab_type": "code",
        "colab": {}
      },
      "source": [
        "prediction = model.predict(X_valid_noisy)\n",
        "#prediction\n",
        "for i in range(2):\n",
        "  plt.grid(False)\n",
        "  plt.imshow(X_valid_noisy[i].reshape(28,28),cmap=plt.cm.binary)\n",
        "  plt.xlabel(\"Actual: \" + classnames[y_valid[i]])\n",
        "  plt.title(\"Prediction: \" + classnames[np.argmax(prediction[i])])\n",
        "  plt.show()"
      ],
      "execution_count": 0,
      "outputs": []
    },
    {
      "cell_type": "code",
      "metadata": {
        "id": "imaLKb9L_JSj",
        "colab_type": "code",
        "colab": {
          "base_uri": "https://localhost:8080/",
          "height": 51
        },
        "outputId": "2b8a6ec4-5e7f-4f60-cd79-515a612ca903"
      },
      "source": [
        "test_loss,test_acc = model.evaluate(X_test,y_test[:len(X_test_decoded)])\n",
        "print(\"tested Acc: \", test_acc) # 0.9803; two conv2d = .9891; two conv2d  + Dense 128 + drop 0.2 + Dense 32 = .9896"
      ],
      "execution_count": 77,
      "outputs": [
        {
          "output_type": "stream",
          "text": [
            "10000/10000 [==============================] - 1s 97us/step\n",
            "tested Acc:  0.9619\n"
          ],
          "name": "stdout"
        }
      ]
    },
    {
      "cell_type": "code",
      "metadata": {
        "id": "v13UCyra_JV4",
        "colab_type": "code",
        "colab": {
          "base_uri": "https://localhost:8080/",
          "height": 51
        },
        "outputId": "ec8f0f89-3bc0-49ae-b9f9-fd1a8fa82e00"
      },
      "source": [
        "test_loss,test_acc = model.evaluate(X_test_noisy,y_test[:len(X_test_noisy)])\n",
        "print(\"tested Acc: \", test_acc) # 0.9803; two conv2d = .9891; two conv2d  + Dense 128 + drop 0.2 + Dense 32 = .9896"
      ],
      "execution_count": 78,
      "outputs": [
        {
          "output_type": "stream",
          "text": [
            "10000/10000 [==============================] - 1s 90us/step\n",
            "tested Acc:  0.9519\n"
          ],
          "name": "stdout"
        }
      ]
    },
    {
      "cell_type": "code",
      "metadata": {
        "id": "po3fL6Aq_JPB",
        "colab_type": "code",
        "colab": {
          "base_uri": "https://localhost:8080/",
          "height": 51
        },
        "outputId": "da4d27db-3ee7-4932-f322-23355aed2e05"
      },
      "source": [
        "test_loss,test_acc = model.evaluate(X_test_decoded,y_test[:len(X_test_decoded)])\n",
        "print(\"tested Acc: \", test_acc) # 0.9803; two conv2d = .9891; two conv2d  + Dense 128 + drop 0.2 + Dense 32 = .9896"
      ],
      "execution_count": 79,
      "outputs": [
        {
          "output_type": "stream",
          "text": [
            "10000/10000 [==============================] - 1s 88us/step\n",
            "tested Acc:  0.9676\n"
          ],
          "name": "stdout"
        }
      ]
    },
    {
      "cell_type": "markdown",
      "metadata": {
        "id": "fbvAz_NPRhRD",
        "colab_type": "text"
      },
      "source": [
        "* train\n",
        "* train noisy\n",
        "* train decoded "
      ]
    },
    {
      "cell_type": "code",
      "metadata": {
        "id": "qa1jlhKZ_JZY",
        "colab_type": "code",
        "colab": {
          "base_uri": "https://localhost:8080/",
          "height": 51
        },
        "outputId": "1544732e-0d95-479d-cf91-5b52ac76ff17"
      },
      "source": [
        "test_loss,test_acc = model.evaluate(X_train,y_train[:len(X_train)]) #X_train = X_train.reshape(-1, 28, 28, 1)\n",
        "print(\"tested Acc: \", test_acc) "
      ],
      "execution_count": 80,
      "outputs": [
        {
          "output_type": "stream",
          "text": [
            "60000/60000 [==============================] - 5s 89us/step\n",
            "tested Acc:  0.9420166666666666\n"
          ],
          "name": "stdout"
        }
      ]
    },
    {
      "cell_type": "code",
      "metadata": {
        "id": "jDgukqjJ_Jcx",
        "colab_type": "code",
        "colab": {
          "base_uri": "https://localhost:8080/",
          "height": 323
        },
        "outputId": "efee6708-0605-4f4f-cfb5-1768f83f81fa"
      },
      "source": [
        "test_loss,test_acc = model.evaluate(X_train_noisy,y_train)\n",
        "print(\"tested Acc: \", test_acc) "
      ],
      "execution_count": 81,
      "outputs": [
        {
          "output_type": "error",
          "ename": "ValueError",
          "evalue": "ignored",
          "traceback": [
            "\u001b[0;31m---------------------------------------------------------------------------\u001b[0m",
            "\u001b[0;31mValueError\u001b[0m                                Traceback (most recent call last)",
            "\u001b[0;32m<ipython-input-81-bba3f43aaa53>\u001b[0m in \u001b[0;36m<module>\u001b[0;34m()\u001b[0m\n\u001b[0;32m----> 1\u001b[0;31m \u001b[0mtest_loss\u001b[0m\u001b[0;34m,\u001b[0m\u001b[0mtest_acc\u001b[0m \u001b[0;34m=\u001b[0m \u001b[0mmodel\u001b[0m\u001b[0;34m.\u001b[0m\u001b[0mevaluate\u001b[0m\u001b[0;34m(\u001b[0m\u001b[0mX_train_noisy\u001b[0m\u001b[0;34m,\u001b[0m\u001b[0my_train\u001b[0m\u001b[0;34m)\u001b[0m\u001b[0;34m\u001b[0m\u001b[0;34m\u001b[0m\u001b[0m\n\u001b[0m\u001b[1;32m      2\u001b[0m \u001b[0mprint\u001b[0m\u001b[0;34m(\u001b[0m\u001b[0;34m\"tested Acc: \"\u001b[0m\u001b[0;34m,\u001b[0m \u001b[0mtest_acc\u001b[0m\u001b[0;34m)\u001b[0m\u001b[0;34m\u001b[0m\u001b[0;34m\u001b[0m\u001b[0m\n",
            "\u001b[0;32m/usr/local/lib/python3.6/dist-packages/keras/engine/training.py\u001b[0m in \u001b[0;36mevaluate\u001b[0;34m(self, x, y, batch_size, verbose, sample_weight, steps, callbacks, max_queue_size, workers, use_multiprocessing)\u001b[0m\n\u001b[1;32m   1286\u001b[0m             \u001b[0mx\u001b[0m\u001b[0;34m,\u001b[0m \u001b[0my\u001b[0m\u001b[0;34m,\u001b[0m\u001b[0;34m\u001b[0m\u001b[0;34m\u001b[0m\u001b[0m\n\u001b[1;32m   1287\u001b[0m             \u001b[0msample_weight\u001b[0m\u001b[0;34m=\u001b[0m\u001b[0msample_weight\u001b[0m\u001b[0;34m,\u001b[0m\u001b[0;34m\u001b[0m\u001b[0;34m\u001b[0m\u001b[0m\n\u001b[0;32m-> 1288\u001b[0;31m             batch_size=batch_size)\n\u001b[0m\u001b[1;32m   1289\u001b[0m         \u001b[0;31m# Prepare inputs, delegate logic to `test_loop`.\u001b[0m\u001b[0;34m\u001b[0m\u001b[0;34m\u001b[0m\u001b[0;34m\u001b[0m\u001b[0m\n\u001b[1;32m   1290\u001b[0m         \u001b[0;32mif\u001b[0m \u001b[0mself\u001b[0m\u001b[0;34m.\u001b[0m\u001b[0m_uses_dynamic_learning_phase\u001b[0m\u001b[0;34m(\u001b[0m\u001b[0;34m)\u001b[0m\u001b[0;34m:\u001b[0m\u001b[0;34m\u001b[0m\u001b[0;34m\u001b[0m\u001b[0m\n",
            "\u001b[0;32m/usr/local/lib/python3.6/dist-packages/keras/engine/training.py\u001b[0m in \u001b[0;36m_standardize_user_data\u001b[0;34m(self, x, y, sample_weight, class_weight, check_array_lengths, batch_size)\u001b[0m\n\u001b[1;32m    809\u001b[0m             \u001b[0;31m# Check that all arrays have the same length.\u001b[0m\u001b[0;34m\u001b[0m\u001b[0;34m\u001b[0m\u001b[0;34m\u001b[0m\u001b[0m\n\u001b[1;32m    810\u001b[0m             \u001b[0;32mif\u001b[0m \u001b[0mcheck_array_lengths\u001b[0m\u001b[0;34m:\u001b[0m\u001b[0;34m\u001b[0m\u001b[0;34m\u001b[0m\u001b[0m\n\u001b[0;32m--> 811\u001b[0;31m                 \u001b[0mcheck_array_length_consistency\u001b[0m\u001b[0;34m(\u001b[0m\u001b[0mx\u001b[0m\u001b[0;34m,\u001b[0m \u001b[0my\u001b[0m\u001b[0;34m,\u001b[0m \u001b[0msample_weights\u001b[0m\u001b[0;34m)\u001b[0m\u001b[0;34m\u001b[0m\u001b[0;34m\u001b[0m\u001b[0m\n\u001b[0m\u001b[1;32m    812\u001b[0m             \u001b[0;32mif\u001b[0m \u001b[0mself\u001b[0m\u001b[0;34m.\u001b[0m\u001b[0m_is_graph_network\u001b[0m\u001b[0;34m:\u001b[0m\u001b[0;34m\u001b[0m\u001b[0;34m\u001b[0m\u001b[0m\n\u001b[1;32m    813\u001b[0m                 \u001b[0;31m# Additional checks to avoid users mistakenly\u001b[0m\u001b[0;34m\u001b[0m\u001b[0;34m\u001b[0m\u001b[0;34m\u001b[0m\u001b[0m\n",
            "\u001b[0;32m/usr/local/lib/python3.6/dist-packages/keras/engine/training_utils.py\u001b[0m in \u001b[0;36mcheck_array_length_consistency\u001b[0;34m(inputs, targets, weights)\u001b[0m\n\u001b[1;32m    238\u001b[0m                          \u001b[0;34m'the same number of samples as target arrays. '\u001b[0m\u001b[0;34m\u001b[0m\u001b[0;34m\u001b[0m\u001b[0m\n\u001b[1;32m    239\u001b[0m                          \u001b[0;34m'Found '\u001b[0m \u001b[0;34m+\u001b[0m \u001b[0mstr\u001b[0m\u001b[0;34m(\u001b[0m\u001b[0mlist\u001b[0m\u001b[0;34m(\u001b[0m\u001b[0mset_x\u001b[0m\u001b[0;34m)\u001b[0m\u001b[0;34m[\u001b[0m\u001b[0;36m0\u001b[0m\u001b[0;34m]\u001b[0m\u001b[0;34m)\u001b[0m \u001b[0;34m+\u001b[0m \u001b[0;34m' input samples '\u001b[0m\u001b[0;34m\u001b[0m\u001b[0;34m\u001b[0m\u001b[0m\n\u001b[0;32m--> 240\u001b[0;31m                          'and ' + str(list(set_y)[0]) + ' target samples.')\n\u001b[0m\u001b[1;32m    241\u001b[0m     \u001b[0;32mif\u001b[0m \u001b[0mlen\u001b[0m\u001b[0;34m(\u001b[0m\u001b[0mset_w\u001b[0m\u001b[0;34m)\u001b[0m \u001b[0;34m>\u001b[0m \u001b[0;36m1\u001b[0m\u001b[0;34m:\u001b[0m\u001b[0;34m\u001b[0m\u001b[0;34m\u001b[0m\u001b[0m\n\u001b[1;32m    242\u001b[0m         raise ValueError('All sample_weight arrays should have '\n",
            "\u001b[0;31mValueError\u001b[0m: Input arrays should have the same number of samples as target arrays. Found 59500 input samples and 60000 target samples."
          ]
        }
      ]
    },
    {
      "cell_type": "code",
      "metadata": {
        "id": "2C4Us79D_JgM",
        "colab_type": "code",
        "colab": {
          "base_uri": "https://localhost:8080/",
          "height": 51
        },
        "outputId": "f52d1e63-69ef-4808-c0f7-0cc7ab0ad607"
      },
      "source": [
        "test_loss,test_acc = model.evaluate(X_train_decoded,y_train[:len(X_train_decoded)])\n",
        "print(\"tested Acc: \", test_acc) "
      ],
      "execution_count": 82,
      "outputs": [
        {
          "output_type": "stream",
          "text": [
            "59500/59500 [==============================] - 6s 93us/step\n",
            "tested Acc:  0.10107563025260172\n"
          ],
          "name": "stdout"
        }
      ]
    },
    {
      "cell_type": "markdown",
      "metadata": {
        "id": "PU0qjhmB_Jjz",
        "colab_type": "text"
      },
      "source": [
        "* valid\n",
        "* valid noisy\n",
        "* valid decoded"
      ]
    },
    {
      "cell_type": "code",
      "metadata": {
        "id": "A_vRuzWaRWDt",
        "colab_type": "code",
        "colab": {
          "base_uri": "https://localhost:8080/",
          "height": 51
        },
        "outputId": "a503171a-e574-49e3-f272-f252f2893c4a"
      },
      "source": [
        "test_loss,test_acc = model.evaluate(X_valid,y_valid[:len(X_valid)])\n",
        "print(\"tested Acc: \", test_acc) "
      ],
      "execution_count": 83,
      "outputs": [
        {
          "output_type": "stream",
          "text": [
            "500/500 [==============================] - 0s 106us/step\n",
            "tested Acc:  0.9439999995231628\n"
          ],
          "name": "stdout"
        }
      ]
    },
    {
      "cell_type": "code",
      "metadata": {
        "id": "MOFvD6brSO7d",
        "colab_type": "code",
        "colab": {
          "base_uri": "https://localhost:8080/",
          "height": 51
        },
        "outputId": "7fd53ead-35f2-49ab-889d-a3ff992c10a1"
      },
      "source": [
        "test_loss,test_acc = model.evaluate(X_valid_noisy,y_valid)\n",
        "print(\"tested Acc: \", test_acc)"
      ],
      "execution_count": 93,
      "outputs": [
        {
          "output_type": "stream",
          "text": [
            "500/500 [==============================] - 0s 148us/step\n",
            "tested Acc:  0.9439999995231628\n"
          ],
          "name": "stdout"
        }
      ]
    },
    {
      "cell_type": "code",
      "metadata": {
        "id": "nX5si7VbRWII",
        "colab_type": "code",
        "colab": {
          "base_uri": "https://localhost:8080/",
          "height": 51
        },
        "outputId": "fe8f1359-ab2a-4e3f-eafb-bda65b5f348a"
      },
      "source": [
        "test_loss,test_acc = model.evaluate(X_valid_decoded,y_valid)\n",
        "print(\"tested Acc: \", test_acc) "
      ],
      "execution_count": 94,
      "outputs": [
        {
          "output_type": "stream",
          "text": [
            "500/500 [==============================] - 0s 110us/step\n",
            "tested Acc:  0.9319999995231628\n"
          ],
          "name": "stdout"
        }
      ]
    },
    {
      "cell_type": "code",
      "metadata": {
        "id": "_QzW1rGh_Jrt",
        "colab_type": "code",
        "colab": {}
      },
      "source": [
        ""
      ],
      "execution_count": 0,
      "outputs": []
    },
    {
      "cell_type": "code",
      "metadata": {
        "id": "LREoZJsOUPFO",
        "colab_type": "code",
        "colab": {}
      },
      "source": [
        ""
      ],
      "execution_count": 0,
      "outputs": []
    },
    {
      "cell_type": "code",
      "metadata": {
        "id": "n5Gd74wIUPT_",
        "colab_type": "code",
        "colab": {}
      },
      "source": [
        ""
      ],
      "execution_count": 0,
      "outputs": []
    },
    {
      "cell_type": "code",
      "metadata": {
        "id": "4r0ULVuAUPYY",
        "colab_type": "code",
        "colab": {}
      },
      "source": [
        ""
      ],
      "execution_count": 0,
      "outputs": []
    },
    {
      "cell_type": "code",
      "metadata": {
        "id": "iGO2NC-4UPRi",
        "colab_type": "code",
        "colab": {}
      },
      "source": [
        ""
      ],
      "execution_count": 0,
      "outputs": []
    },
    {
      "cell_type": "code",
      "metadata": {
        "id": "0vs9CSSeUPOZ",
        "colab_type": "code",
        "colab": {}
      },
      "source": [
        ""
      ],
      "execution_count": 0,
      "outputs": []
    },
    {
      "cell_type": "code",
      "metadata": {
        "id": "RX75L28eUPLu",
        "colab_type": "code",
        "colab": {}
      },
      "source": [
        ""
      ],
      "execution_count": 0,
      "outputs": []
    },
    {
      "cell_type": "code",
      "metadata": {
        "id": "5_mO-rjcUPJQ",
        "colab_type": "code",
        "colab": {}
      },
      "source": [
        ""
      ],
      "execution_count": 0,
      "outputs": []
    },
    {
      "cell_type": "markdown",
      "metadata": {
        "id": "OAl9BXDZ_JvB",
        "colab_type": "text"
      },
      "source": [
        "# Control Test "
      ]
    },
    {
      "cell_type": "code",
      "metadata": {
        "id": "5ogAXT9__Jnd",
        "colab_type": "code",
        "colab": {
          "base_uri": "https://localhost:8080/",
          "height": 221
        },
        "cellView": "both",
        "outputId": "ef2d75e8-df17-4e09-883c-847e73c59d4c"
      },
      "source": [
        "#@ model_control\n",
        "\n",
        "(x_train, y_train), (x_test, y_test) = keras.datasets.mnist.load_data() # when you have to much ram and are too lazy for references...\n",
        "\n",
        "x_train = x_train.reshape(x_train.shape[0], 28, 28, 1)\n",
        "x_test = x_test.reshape(x_test.shape[0], 28, 28, 1)\n",
        "input_shape = (28, 28, 1)\n",
        "# Making sure that the values are float so that we can get decimal points after division\n",
        "x_train = x_train.astype('float32')\n",
        "x_test = x_test.astype('float32')\n",
        "# Normalizing the RGB codes by dividing it to the max RGB value.\n",
        "x_train /= 255\n",
        "x_test /= 255\n",
        "\n",
        "\n",
        "# model = keras.Sequential([\n",
        "#   keras.layers.Flatten(input_shape=(28,28)),\n",
        "#   keras.layers.Dense(128,activation=\"relu\"), \n",
        "#   keras.layers.Dense(256,activation=\"relu\"),\n",
        "#   keras.layers.Dense(10,activation=\"softmax\") # adds upto 1             \n",
        "# ])\n",
        "# model.compile(optimizer=\"adam\",loss=\"binary_crossentropy\", metrics=[\"accuracy\"])#sparse_categorical_crossentropy\n",
        "# model.fit(train_images,train_lables,epochs=5)\n",
        "\n",
        "input_shape = (28, 28, 1)\n",
        "\n",
        "model_control = Sequential()\n",
        "model_control.add(Conv2D(28, kernel_size=(3,3), input_shape=input_shape))\n",
        "model_control.add(MaxPooling2D(pool_size=(2, 2)))\n",
        "model_control.add(Conv2D(28, kernel_size=(3,3), input_shape=input_shape))\n",
        "model_control.add(MaxPooling2D(pool_size=(2, 2)))\n",
        "model_control.add(Flatten()) # Flattening the 2D arrays for fully connected layers\n",
        "model_control.add(Dense(128, activation=tf.nn.relu))\n",
        "model_control.add(Dropout(0.2))\n",
        "model_control.add(Dense(32, activation=tf.nn.relu))\n",
        "model_control.add(Dense(10,activation=tf.nn.softmax))\n",
        "\n",
        "model_control.compile(optimizer=\"adam\",loss=\"sparse_categorical_crossentropy\", metrics=[\"accuracy\"])#sparse_categorical_crossentropy\n",
        "model_control.fit(x_train,y_train,epochs=5)\n",
        "\n",
        "\n",
        "test_loss,test_acc = model_control.evaluate(x_test,y_test)\n",
        "print(\"tested Acc: \", test_acc) # 0.9803; two conv2d = .9891; two conv2d  + Dense 128 + drop 0.2 + Dense 32 = .9896"
      ],
      "execution_count": 86,
      "outputs": [
        {
          "output_type": "stream",
          "text": [
            "Epoch 1/5\n",
            "60000/60000 [==============================] - 15s 250us/step - loss: 0.1924 - acc: 0.9409\n",
            "Epoch 2/5\n",
            "60000/60000 [==============================] - 13s 225us/step - loss: 0.0653 - acc: 0.9797\n",
            "Epoch 3/5\n",
            "60000/60000 [==============================] - 14s 236us/step - loss: 0.0498 - acc: 0.9842\n",
            "Epoch 4/5\n",
            "60000/60000 [==============================] - 14s 234us/step - loss: 0.0405 - acc: 0.9874\n",
            "Epoch 5/5\n",
            "60000/60000 [==============================] - 14s 226us/step - loss: 0.0341 - acc: 0.9888\n"
          ],
          "name": "stdout"
        },
        {
          "output_type": "execute_result",
          "data": {
            "text/plain": [
              "<keras.callbacks.History at 0x7fca75636198>"
            ]
          },
          "metadata": {
            "tags": []
          },
          "execution_count": 86
        },
        {
          "output_type": "stream",
          "text": [
            "10000/10000 [==============================] - 1s 139us/step\n",
            "tested Acc:  0.9884\n"
          ],
          "name": "stdout"
        }
      ]
    },
    {
      "cell_type": "code",
      "metadata": {
        "id": "CWFfnhDn_Jxo",
        "colab_type": "code",
        "colab": {}
      },
      "source": [
        ""
      ],
      "execution_count": 0,
      "outputs": []
    },
    {
      "cell_type": "code",
      "metadata": {
        "id": "z-d0fpaZ_J1C",
        "colab_type": "code",
        "colab": {}
      },
      "source": [
        ""
      ],
      "execution_count": 0,
      "outputs": []
    },
    {
      "cell_type": "code",
      "metadata": {
        "id": "iSZCqkfZ_J4e",
        "colab_type": "code",
        "colab": {
          "base_uri": "https://localhost:8080/",
          "height": 51
        },
        "outputId": "7405b7e4-4fd7-4b41-95c1-28b66ee19084"
      },
      "source": [
        "test_loss,test_acc = model_control.evaluate(X_valid_noisy,y_valid)\n",
        "print(\"tested Acc: \", test_acc) "
      ],
      "execution_count": 97,
      "outputs": [
        {
          "output_type": "stream",
          "text": [
            "10000/10000 [==============================] - 1s 96us/step\n",
            "tested Acc:  0.9671\n"
          ],
          "name": "stdout"
        }
      ]
    },
    {
      "cell_type": "markdown",
      "metadata": {
        "id": "HLeBdXCyEWjN",
        "colab_type": "text"
      },
      "source": [
        "model_control.evaluate(X_valid_noisy,y_valid) has test acc\n",
        ".982\n",
        "\n",
        "while, \n",
        "\n",
        "0.9339999990463257"
      ]
    },
    {
      "cell_type": "code",
      "metadata": {
        "id": "mzvTPD3HEWuz",
        "colab_type": "code",
        "colab": {}
      },
      "source": [
        ""
      ],
      "execution_count": 0,
      "outputs": []
    },
    {
      "cell_type": "code",
      "metadata": {
        "id": "qHAmLsfM_J7m",
        "colab_type": "code",
        "colab": {
          "base_uri": "https://localhost:8080/",
          "height": 1000
        },
        "outputId": "990905c7-d39f-47c9-93fb-6015311476c0"
      },
      "source": [
        "prediction = model_control.predict(x_test)\n",
        "#prediction\n",
        "for i in range(5):\n",
        "  plt.grid(False)\n",
        "  plt.imshow(x_test[i].reshape(28,28),cmap=plt.cm.binary)\n",
        "  plt.xlabel(\"Actual: \" + classnames[y_test[i]])\n",
        "  plt.title(\"Prediction: \" + classnames[np.argmax(prediction[i])])\n",
        "  plt.show()"
      ],
      "execution_count": 96,
      "outputs": [
        {
          "output_type": "execute_result",
          "data": {
            "text/plain": [
              "<matplotlib.image.AxesImage at 0x7fca74f75780>"
            ]
          },
          "metadata": {
            "tags": []
          },
          "execution_count": 96
        },
        {
          "output_type": "execute_result",
          "data": {
            "text/plain": [
              "Text(0.5, 0, 'Actual: 7')"
            ]
          },
          "metadata": {
            "tags": []
          },
          "execution_count": 96
        },
        {
          "output_type": "execute_result",
          "data": {
            "text/plain": [
              "Text(0.5, 1.0, 'Prediction: 7')"
            ]
          },
          "metadata": {
            "tags": []
          },
          "execution_count": 96
        },
        {
          "output_type": "display_data",
          "data": {
            "image/png": "[encoded data removed]",
            "text/plain": [
              "<Figure size 432x288 with 1 Axes>"
            ]
          },
          "metadata": {
            "tags": []
          }
        },
        {
          "output_type": "execute_result",
          "data": {
            "text/plain": [
              "<matplotlib.image.AxesImage at 0x7fca74ed15f8>"
            ]
          },
          "metadata": {
            "tags": []
          },
          "execution_count": 96
        },
        {
          "output_type": "execute_result",
          "data": {
            "text/plain": [
              "Text(0.5, 0, 'Actual: 2')"
            ]
          },
          "metadata": {
            "tags": []
          },
          "execution_count": 96
        },
        {
          "output_type": "execute_result",
          "data": {
            "text/plain": [
              "Text(0.5, 1.0, 'Prediction: 2')"
            ]
          },
          "metadata": {
            "tags": []
          },
          "execution_count": 96
        },
        {
          "output_type": "display_data",
          "data": {
            "image/png": "[encoded data removed]",
            "text/plain": [
              "<Figure size 432x288 with 1 Axes>"
            ]
          },
          "metadata": {
            "tags": []
          }
        },
        {
          "output_type": "execute_result",
          "data": {
            "text/plain": [
              "<matplotlib.image.AxesImage at 0x7fca74eac6a0>"
            ]
          },
          "metadata": {
            "tags": []
          },
          "execution_count": 96
        },
        {
          "output_type": "execute_result",
          "data": {
            "text/plain": [
              "Text(0.5, 0, 'Actual: 1')"
            ]
          },
          "metadata": {
            "tags": []
          },
          "execution_count": 96
        },
        {
          "output_type": "execute_result",
          "data": {
            "text/plain": [
              "Text(0.5, 1.0, 'Prediction: 1')"
            ]
          },
          "metadata": {
            "tags": []
          },
          "execution_count": 96
        },
        {
          "output_type": "display_data",
          "data": {
            "image/png": "[encoded data removed]",
            "text/plain": [
              "<Figure size 432x288 with 1 Axes>"
            ]
          },
          "metadata": {
            "tags": []
          }
        },
        {
          "output_type": "execute_result",
          "data": {
            "text/plain": [
              "<matplotlib.image.AxesImage at 0x7fca74e0b748>"
            ]
          },
          "metadata": {
            "tags": []
          },
          "execution_count": 96
        },
        {
          "output_type": "execute_result",
          "data": {
            "text/plain": [
              "Text(0.5, 0, 'Actual: 0')"
            ]
          },
          "metadata": {
            "tags": []
          },
          "execution_count": 96
        },
        {
          "output_type": "execute_result",
          "data": {
            "text/plain": [
              "Text(0.5, 1.0, 'Prediction: 0')"
            ]
          },
          "metadata": {
            "tags": []
          },
          "execution_count": 96
        },
        {
          "output_type": "display_data",
          "data": {
            "image/png": "[encoded data removed]",
            "text/plain": [
              "<Figure size 432x288 with 1 Axes>"
            ]
          },
          "metadata": {
            "tags": []
          }
        },
        {
          "output_type": "execute_result",
          "data": {
            "text/plain": [
              "<matplotlib.image.AxesImage at 0x7fca74ec3940>"
            ]
          },
          "metadata": {
            "tags": []
          },
          "execution_count": 96
        },
        {
          "output_type": "execute_result",
          "data": {
            "text/plain": [
              "Text(0.5, 0, 'Actual: 4')"
            ]
          },
          "metadata": {
            "tags": []
          },
          "execution_count": 96
        },
        {
          "output_type": "execute_result",
          "data": {
            "text/plain": [
              "Text(0.5, 1.0, 'Prediction: 4')"
            ]
          },
          "metadata": {
            "tags": []
          },
          "execution_count": 96
        },
        {
          "output_type": "display_data",
          "data": {
            "image/png": "[encoded data removed]",
            "text/plain": [
              "<Figure size 432x288 with 1 Axes>"
            ]
          },
          "metadata": {
            "tags": []
          }
        }
      ]
    },
    {
      "cell_type": "code",
      "metadata": {
        "id": "B9ncdBeu_J-v",
        "colab_type": "code",
        "colab": {}
      },
      "source": [
        ""
      ],
      "execution_count": 0,
      "outputs": []
    }
  ]
}