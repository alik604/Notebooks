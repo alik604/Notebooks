{
  "nbformat": 4,
  "nbformat_minor": 0,
  "metadata": {
    "colab": {
      "name": "Where to add GaussianNoise - MNIST .ipynb",
      "provenance": [],
      "collapsed_sections": [],
      "include_colab_link": true
    },
    "kernelspec": {
      "name": "python3",
      "display_name": "Python 3"
    },
    "accelerator": "GPU"
  },
  "cells": [
    {
      "cell_type": "markdown",
      "metadata": {
        "id": "view-in-github",
        "colab_type": "text"
      },
      "source": [
        "<a href=\"https://colab.research.google.com/github/alik604/Notebooks/blob/master/Data%20Science-Datasets/MNIST/Where_to_add_GaussianNoise_MNIST_.ipynb\" target=\"_parent\"><img src=\"https://colab.research.google.com/assets/colab-badge.svg\" alt=\"Open In Colab\"/></a>"
      ]
    },
    {
      "cell_type": "code",
      "metadata": {
        "id": "8134ctvW5ev7",
        "colab_type": "code",
        "colab": {}
      },
      "source": [
        "from __future__ import print_function\n",
        "from tensorflow.keras.datasets import mnist\n",
        "from tensorflow.keras.models import Sequential\n",
        "from tensorflow.keras.layers import Dense, Dropout, Flatten\n",
        "from tensorflow.keras.layers import Conv2D, MaxPooling2D\n",
        "from tensorflow.keras.layers import *\n",
        "\n",
        "from tensorflow.keras import backend as K\n",
        "import tensorflow as tf\n",
        "\n",
        "import pandas as pd\n",
        "import numpy as np"
      ],
      "execution_count": 0,
      "outputs": []
    },
    {
      "cell_type": "code",
      "metadata": {
        "id": "wVNpwLK05l4P",
        "colab_type": "code",
        "outputId": "bc1d5117-9b04-4e0c-b4c7-0d54c02337fa",
        "colab": {
          "base_uri": "https://localhost:8080/",
          "height": 67
        }
      },
      "source": [
        "batch_size = 64\n",
        "num_classes = 10\n",
        "epochs = 12\n",
        "\n",
        "# input image dimensions\n",
        "img_rows, img_cols = 28, 28\n",
        "\n",
        "# the data, split between train and test sets\n",
        "(x_train, y_train), (x_test, y_test) = mnist.load_data()\n",
        "x_train = x_train.reshape(x_train.shape[0],28,28,1)\n",
        "x_test = x_test.reshape(x_test.shape[0],28,28,1)\n",
        "x_train = x_train.astype('float32')\n",
        "x_test = x_test.astype('float32')\n",
        "x_train /= 255\n",
        "x_test /= 255\n",
        "\n",
        "print('x_train shape:', x_train.shape)\n",
        "print(x_train.shape[0], 'train samples')\n",
        "print(x_test.shape[0], 'test samples')\n",
        "\n",
        "# convert class vectors to binary class matrices\n",
        "y_train = tf.keras.utils.to_categorical(y_train, num_classes)\n",
        "y_test = tf.keras.utils.to_categorical(y_test, num_classes)"
      ],
      "execution_count": 2,
      "outputs": [
        {
          "output_type": "stream",
          "text": [
            "x_train shape: (60000, 28, 28, 1)\n",
            "60000 train samples\n",
            "10000 test samples\n"
          ],
          "name": "stdout"
        }
      ]
    },
    {
      "cell_type": "code",
      "metadata": {
        "id": "F7f2X22xARl3",
        "colab_type": "code",
        "colab": {
          "base_uri": "https://localhost:8080/",
          "height": 84
        },
        "outputId": "bf8d0514-95cc-4bcf-8c84-a74cbf29b174"
      },
      "source": [
        "print(x_train.shape)\n",
        "print(x_test.shape)\n",
        "x = np.concatenate([x_train,x_test])\n",
        "y = np.concatenate([y_train,y_test])\n",
        "\n",
        "from sklearn.model_selection import train_test_split\n",
        "x_train, x_test, y_train, y_test = train_test_split(x, y, test_size=0.98, random_state=42)\n",
        "\n",
        "print(x_train.shape)\n",
        "print(x_test.shape)"
      ],
      "execution_count": 3,
      "outputs": [
        {
          "output_type": "stream",
          "text": [
            "(60000, 28, 28, 1)\n",
            "(10000, 28, 28, 1)\n",
            "(1400, 28, 28, 1)\n",
            "(68600, 28, 28, 1)\n"
          ],
          "name": "stdout"
        }
      ]
    },
    {
      "cell_type": "code",
      "metadata": {
        "id": "5uLPMBqH9_xv",
        "colab_type": "code",
        "colab": {
          "base_uri": "https://localhost:8080/",
          "height": 282
        },
        "outputId": "f65d401d-660f-41eb-bec9-316206d3ab4e"
      },
      "source": [
        "import matplotlib.pyplot as plt\n",
        "tmp = x_train[0].reshape((28, 28))\n",
        "plt.imshow(tmp, cmap='gray')"
      ],
      "execution_count": 4,
      "outputs": [
        {
          "output_type": "execute_result",
          "data": {
            "text/plain": [
              "<matplotlib.image.AxesImage at 0x7fa55a45a160>"
            ]
          },
          "metadata": {
            "tags": []
          },
          "execution_count": 4
        },
        {
          "output_type": "display_data",
          "data": {
            "image/png": "[encoded data removed]",
            "text/plain": [
              "<Figure size 432x288 with 1 Axes>"
            ]
          },
          "metadata": {
            "tags": [],
            "needs_background": "light"
          }
        }
      ]
    },
    {
      "cell_type": "markdown",
      "metadata": {
        "id": "nM4fe2I4O2Qa",
        "colab_type": "text"
      },
      "source": [
        " [layers order](http://cs231n.github.io/convolutional-networks/#layerpat)\n",
        "\n"
      ]
    },
    {
      "cell_type": "markdown",
      "metadata": {
        "id": "ZNSJ2oNca5xi",
        "colab_type": "text"
      },
      "source": [
        " 100; 4, yeilds 98%. \n",
        " \n",
        " \n",
        " 50; 3, yeilds 98%. \n",
        " \n",
        " \n",
        " 100; 3, with final layer(Dense(num_classes, activation='relu')), yeilds 34.65%\n",
        " \n",
        "100; 3, with final layer: Dense(num_classes, activation='sigmoid') , yeilds 9.8%"
      ]
    },
    {
      "cell_type": "code",
      "metadata": {
        "id": "yNvOFcO0Y9GF",
        "colab_type": "code",
        "colab": {
          "base_uri": "https://localhost:8080/",
          "height": 1000
        },
        "outputId": "627d4c64-85db-46d0-dcdd-454955386471"
      },
      "source": [
        "# Adam\n",
        "model = Sequential()\n",
        "model.add(Conv2D(filters=100, kernel_size=3, activation='relu'))\n",
        "model.add(MaxPooling2D(pool_size=(2, 2)))\n",
        "model.add(BatchNormalization())\n",
        "\n",
        "model.add(Conv2D(filters=100, kernel_size=3, activation='relu'))\n",
        "model.add(MaxPooling2D(pool_size=(2, 2)))\n",
        "\n",
        "model.add(Flatten())\n",
        "model.add(Dense(num_classes, activation='softmax'))\n",
        " \n",
        "opt = tf.keras.optimizers.Adam()\n",
        "\n",
        "model.compile(loss='categorical_crossentropy',\n",
        "              optimizer=opt,\n",
        "              metrics=['accuracy'])\n",
        "\n",
        "\n",
        "model.fit(x_train, y_train,\n",
        "          batch_size=batch_size,\n",
        "          epochs=30,\n",
        "          verbose=1,\n",
        "          validation_data=(x_test, y_test))\n",
        "\n",
        "\n",
        "score = model.evaluate(x_test, y_test, verbose=0)\n",
        "print('Test loss:', score[0])\n",
        "print('Test accuracy:', score[1]) # Test accuracy: 0.9916999936103821"
      ],
      "execution_count": 5,
      "outputs": [
        {
          "output_type": "stream",
          "text": [
            "Epoch 1/30\n",
            "22/22 [==============================] - 4s 163ms/step - loss: 0.9612 - accuracy: 0.6986 - val_loss: 1.9340 - val_accuracy: 0.7279\n",
            "Epoch 2/30\n",
            "22/22 [==============================] - 3s 153ms/step - loss: 0.2024 - accuracy: 0.9336 - val_loss: 1.7771 - val_accuracy: 0.8533\n",
            "Epoch 3/30\n",
            "22/22 [==============================] - 3s 155ms/step - loss: 0.1094 - accuracy: 0.9679 - val_loss: 1.6932 - val_accuracy: 0.8315\n",
            "Epoch 4/30\n",
            "22/22 [==============================] - 3s 154ms/step - loss: 0.0530 - accuracy: 0.9900 - val_loss: 1.5853 - val_accuracy: 0.8731\n",
            "Epoch 5/30\n",
            "22/22 [==============================] - 3s 152ms/step - loss: 0.0318 - accuracy: 0.9921 - val_loss: 1.4529 - val_accuracy: 0.9168\n",
            "Epoch 6/30\n",
            "22/22 [==============================] - 3s 149ms/step - loss: 0.0173 - accuracy: 0.9993 - val_loss: 1.3307 - val_accuracy: 0.9367\n",
            "Epoch 7/30\n",
            "22/22 [==============================] - 3s 148ms/step - loss: 0.0109 - accuracy: 1.0000 - val_loss: 1.1893 - val_accuracy: 0.9370\n",
            "Epoch 8/30\n",
            "22/22 [==============================] - 3s 149ms/step - loss: 0.0054 - accuracy: 1.0000 - val_loss: 1.0467 - val_accuracy: 0.9474\n",
            "Epoch 9/30\n",
            "22/22 [==============================] - 3s 147ms/step - loss: 0.0036 - accuracy: 1.0000 - val_loss: 0.9247 - val_accuracy: 0.9474\n",
            "Epoch 10/30\n",
            "22/22 [==============================] - 3s 147ms/step - loss: 0.0029 - accuracy: 1.0000 - val_loss: 0.8029 - val_accuracy: 0.9487\n",
            "Epoch 11/30\n",
            "22/22 [==============================] - 3s 152ms/step - loss: 0.0024 - accuracy: 1.0000 - val_loss: 0.6875 - val_accuracy: 0.9493\n",
            "Epoch 12/30\n",
            "22/22 [==============================] - 3s 151ms/step - loss: 0.0020 - accuracy: 1.0000 - val_loss: 0.5863 - val_accuracy: 0.9493\n",
            "Epoch 13/30\n",
            "22/22 [==============================] - 3s 158ms/step - loss: 0.0017 - accuracy: 1.0000 - val_loss: 0.4951 - val_accuracy: 0.9504\n",
            "Epoch 14/30\n",
            "22/22 [==============================] - 4s 161ms/step - loss: 0.0016 - accuracy: 1.0000 - val_loss: 0.4173 - val_accuracy: 0.9505\n",
            "Epoch 15/30\n",
            "22/22 [==============================] - 4s 162ms/step - loss: 0.0014 - accuracy: 1.0000 - val_loss: 0.3496 - val_accuracy: 0.9501\n",
            "Epoch 16/30\n",
            "22/22 [==============================] - 3s 149ms/step - loss: 0.0012 - accuracy: 1.0000 - val_loss: 0.2989 - val_accuracy: 0.9512\n",
            "Epoch 17/30\n",
            "22/22 [==============================] - 3s 149ms/step - loss: 0.0011 - accuracy: 1.0000 - val_loss: 0.2572 - val_accuracy: 0.9510\n",
            "Epoch 18/30\n",
            "22/22 [==============================] - 3s 147ms/step - loss: 0.0010 - accuracy: 1.0000 - val_loss: 0.2254 - val_accuracy: 0.9512\n",
            "Epoch 19/30\n",
            "22/22 [==============================] - 3s 147ms/step - loss: 9.2811e-04 - accuracy: 1.0000 - val_loss: 0.2011 - val_accuracy: 0.9518\n",
            "Epoch 20/30\n",
            "22/22 [==============================] - 3s 147ms/step - loss: 8.4507e-04 - accuracy: 1.0000 - val_loss: 0.1852 - val_accuracy: 0.9519\n",
            "Epoch 21/30\n",
            "22/22 [==============================] - 3s 148ms/step - loss: 7.8832e-04 - accuracy: 1.0000 - val_loss: 0.1733 - val_accuracy: 0.9522\n",
            "Epoch 22/30\n",
            "22/22 [==============================] - 3s 147ms/step - loss: 7.1825e-04 - accuracy: 1.0000 - val_loss: 0.1662 - val_accuracy: 0.9524\n",
            "Epoch 23/30\n",
            "22/22 [==============================] - 3s 148ms/step - loss: 6.6998e-04 - accuracy: 1.0000 - val_loss: 0.1626 - val_accuracy: 0.9525\n",
            "Epoch 24/30\n",
            "22/22 [==============================] - 3s 147ms/step - loss: 6.1628e-04 - accuracy: 1.0000 - val_loss: 0.1607 - val_accuracy: 0.9531\n",
            "Epoch 25/30\n",
            "22/22 [==============================] - 3s 147ms/step - loss: 5.7649e-04 - accuracy: 1.0000 - val_loss: 0.1603 - val_accuracy: 0.9537\n",
            "Epoch 26/30\n",
            "22/22 [==============================] - 3s 147ms/step - loss: 5.3891e-04 - accuracy: 1.0000 - val_loss: 0.1630 - val_accuracy: 0.9534\n",
            "Epoch 27/30\n",
            "22/22 [==============================] - 3s 150ms/step - loss: 5.0470e-04 - accuracy: 1.0000 - val_loss: 0.1645 - val_accuracy: 0.9540\n",
            "Epoch 28/30\n",
            "22/22 [==============================] - 3s 149ms/step - loss: 4.7240e-04 - accuracy: 1.0000 - val_loss: 0.1671 - val_accuracy: 0.9543\n",
            "Epoch 29/30\n",
            "22/22 [==============================] - 3s 148ms/step - loss: 4.3828e-04 - accuracy: 1.0000 - val_loss: 0.1712 - val_accuracy: 0.9543\n",
            "Epoch 30/30\n",
            "22/22 [==============================] - 3s 147ms/step - loss: 4.1443e-04 - accuracy: 1.0000 - val_loss: 0.1747 - val_accuracy: 0.9542\n",
            "Test loss: 0.17469213902950287\n",
            "Test accuracy: 0.9541544914245605\n"
          ],
          "name": "stdout"
        }
      ]
    },
    {
      "cell_type": "code",
      "metadata": {
        "id": "-60lZlsBLSES",
        "colab_type": "code",
        "colab": {
          "base_uri": "https://localhost:8080/",
          "height": 1000
        },
        "outputId": "77d7dabc-adc0-43e5-e345-23ad6b7b1990"
      },
      "source": [
        "# Adam\n",
        "model = Sequential()\n",
        "model.add(Conv2D(filters=100, kernel_size=3)) # remove relu\n",
        "# model.add(GaussianNoise(0.5)) # sandwich between\n",
        "# GaussianNoise(0.5) here - accuracy: 0.9829 - val_loss: 0.4050 - val_accuracy: 0.9024\n",
        "model.add(Activation('relu')) # add relu \n",
        "# GaussianNoise(0.5) here - accuracy: 0.9900 - val_loss: 1.4703 - val_accuracy: 0.8073\n",
        "model.add(MaxPooling2D(pool_size=(2, 2)))\n",
        "# GaussianNoise(0.5) here - accuracy: 0.9721 - val_loss: 0.3031 - val_accuracy: 0.9356\n",
        "model.add(BatchNormalization())\n",
        "# GaussianNoise(0.5) here - accuracy: 1.0000 - val_loss: 0.1905 - val_accuracy: 0.9538 \n",
        "\n",
        "model.add(Conv2D(filters=100, kernel_size=3, activation='relu'))\n",
        "model.add(MaxPooling2D(pool_size=(2, 2)))\n",
        "\n",
        "model.add(Flatten())\n",
        "model.add(Dense(num_classes, activation='softmax'))\n",
        " \n",
        "opt = tf.keras.optimizers.Adam()\n",
        "\n",
        "model.compile(loss='categorical_crossentropy',\n",
        "              optimizer=opt,\n",
        "              metrics=['accuracy'])\n",
        "\n",
        "\n",
        "model.fit(x_train, y_train,\n",
        "          batch_size=batch_size,\n",
        "          epochs=30,\n",
        "          verbose=1,\n",
        "          validation_data=(x_test, y_test))\n",
        "\n",
        "\n",
        "score = model.evaluate(x_test, y_test, verbose=0)\n",
        "print('Test loss:', score[0])\n",
        "print('Test accuracy:', score[1]) # Test accuracy: 0.9916999936103821"
      ],
      "execution_count": 6,
      "outputs": [
        {
          "output_type": "stream",
          "text": [
            "Epoch 1/30\n",
            "22/22 [==============================] - 3s 156ms/step - loss: 0.8544 - accuracy: 0.7186 - val_loss: 1.9185 - val_accuracy: 0.7208\n",
            "Epoch 2/30\n",
            "22/22 [==============================] - 3s 149ms/step - loss: 0.1900 - accuracy: 0.9379 - val_loss: 1.7817 - val_accuracy: 0.8643\n",
            "Epoch 3/30\n",
            "22/22 [==============================] - 3s 148ms/step - loss: 0.0830 - accuracy: 0.9743 - val_loss: 1.6730 - val_accuracy: 0.9039\n",
            "Epoch 4/30\n",
            "22/22 [==============================] - 3s 146ms/step - loss: 0.0386 - accuracy: 0.9936 - val_loss: 1.5484 - val_accuracy: 0.9235\n",
            "Epoch 5/30\n",
            "22/22 [==============================] - 3s 146ms/step - loss: 0.0144 - accuracy: 1.0000 - val_loss: 1.4193 - val_accuracy: 0.9342\n",
            "Epoch 6/30\n",
            "22/22 [==============================] - 3s 146ms/step - loss: 0.0091 - accuracy: 1.0000 - val_loss: 1.2866 - val_accuracy: 0.9431\n",
            "Epoch 7/30\n",
            "22/22 [==============================] - 3s 145ms/step - loss: 0.0054 - accuracy: 1.0000 - val_loss: 1.1532 - val_accuracy: 0.9478\n",
            "Epoch 8/30\n",
            "22/22 [==============================] - 3s 146ms/step - loss: 0.0038 - accuracy: 1.0000 - val_loss: 1.0275 - val_accuracy: 0.9464\n",
            "Epoch 9/30\n",
            "22/22 [==============================] - 3s 146ms/step - loss: 0.0031 - accuracy: 1.0000 - val_loss: 0.9011 - val_accuracy: 0.9488\n",
            "Epoch 10/30\n",
            "22/22 [==============================] - 3s 154ms/step - loss: 0.0027 - accuracy: 1.0000 - val_loss: 0.7845 - val_accuracy: 0.9488\n",
            "Epoch 11/30\n",
            "22/22 [==============================] - 3s 150ms/step - loss: 0.0020 - accuracy: 1.0000 - val_loss: 0.6752 - val_accuracy: 0.9492\n",
            "Epoch 12/30\n",
            "22/22 [==============================] - 3s 147ms/step - loss: 0.0017 - accuracy: 1.0000 - val_loss: 0.5710 - val_accuracy: 0.9497\n",
            "Epoch 13/30\n",
            "22/22 [==============================] - 3s 147ms/step - loss: 0.0015 - accuracy: 1.0000 - val_loss: 0.4817 - val_accuracy: 0.9506\n",
            "Epoch 14/30\n",
            "22/22 [==============================] - 3s 146ms/step - loss: 0.0013 - accuracy: 1.0000 - val_loss: 0.4036 - val_accuracy: 0.9505\n",
            "Epoch 15/30\n",
            "22/22 [==============================] - 3s 146ms/step - loss: 0.0011 - accuracy: 1.0000 - val_loss: 0.3402 - val_accuracy: 0.9512\n",
            "Epoch 16/30\n",
            "22/22 [==============================] - 3s 144ms/step - loss: 0.0010 - accuracy: 1.0000 - val_loss: 0.2883 - val_accuracy: 0.9516\n",
            "Epoch 17/30\n",
            "22/22 [==============================] - 3s 146ms/step - loss: 8.8178e-04 - accuracy: 1.0000 - val_loss: 0.2477 - val_accuracy: 0.9519\n",
            "Epoch 18/30\n",
            "22/22 [==============================] - 3s 145ms/step - loss: 8.0211e-04 - accuracy: 1.0000 - val_loss: 0.2168 - val_accuracy: 0.9528\n",
            "Epoch 19/30\n",
            "22/22 [==============================] - 3s 145ms/step - loss: 7.2520e-04 - accuracy: 1.0000 - val_loss: 0.1944 - val_accuracy: 0.9525\n",
            "Epoch 20/30\n",
            "22/22 [==============================] - 3s 146ms/step - loss: 6.5370e-04 - accuracy: 1.0000 - val_loss: 0.1772 - val_accuracy: 0.9535\n",
            "Epoch 21/30\n",
            "22/22 [==============================] - 3s 146ms/step - loss: 6.0699e-04 - accuracy: 1.0000 - val_loss: 0.1667 - val_accuracy: 0.9537\n",
            "Epoch 22/30\n",
            "22/22 [==============================] - 3s 147ms/step - loss: 5.4681e-04 - accuracy: 1.0000 - val_loss: 0.1594 - val_accuracy: 0.9542\n",
            "Epoch 23/30\n",
            "22/22 [==============================] - 3s 147ms/step - loss: 5.0074e-04 - accuracy: 1.0000 - val_loss: 0.1546 - val_accuracy: 0.9547\n",
            "Epoch 24/30\n",
            "22/22 [==============================] - 3s 144ms/step - loss: 4.5562e-04 - accuracy: 1.0000 - val_loss: 0.1533 - val_accuracy: 0.9550\n",
            "Epoch 25/30\n",
            "22/22 [==============================] - 3s 143ms/step - loss: 4.2256e-04 - accuracy: 1.0000 - val_loss: 0.1526 - val_accuracy: 0.9552\n",
            "Epoch 26/30\n",
            "22/22 [==============================] - 3s 145ms/step - loss: 3.8787e-04 - accuracy: 1.0000 - val_loss: 0.1537 - val_accuracy: 0.9556\n",
            "Epoch 27/30\n",
            "22/22 [==============================] - 3s 145ms/step - loss: 3.6314e-04 - accuracy: 1.0000 - val_loss: 0.1554 - val_accuracy: 0.9559\n",
            "Epoch 28/30\n",
            "22/22 [==============================] - 3s 147ms/step - loss: 3.3108e-04 - accuracy: 1.0000 - val_loss: 0.1581 - val_accuracy: 0.9562\n",
            "Epoch 29/30\n",
            "22/22 [==============================] - 3s 146ms/step - loss: 3.1823e-04 - accuracy: 1.0000 - val_loss: 0.1607 - val_accuracy: 0.9564\n",
            "Epoch 30/30\n",
            "22/22 [==============================] - 3s 147ms/step - loss: 2.8933e-04 - accuracy: 1.0000 - val_loss: 0.1639 - val_accuracy: 0.9566\n",
            "Test loss: 0.16390004754066467\n",
            "Test accuracy: 0.9566472172737122\n"
          ],
          "name": "stdout"
        }
      ]
    },
    {
      "cell_type": "code",
      "metadata": {
        "id": "WHC8v0ncKD9Q",
        "colab_type": "code",
        "colab": {
          "base_uri": "https://localhost:8080/",
          "height": 1000
        },
        "outputId": "df9f95da-a317-4d7f-88f7-cf76553928a4"
      },
      "source": [
        "# Adadelta default\n",
        "model = Sequential()\n",
        "model.add(Conv2D(filters=100, kernel_size=3, activation='relu'))\n",
        "model.add(MaxPooling2D(pool_size=(2, 2)))\n",
        "model.add(BatchNormalization())\n",
        "\n",
        "model.add(Conv2D(filters=100, kernel_size=3, activation='relu'))\n",
        "model.add(MaxPooling2D(pool_size=(2, 2)))\n",
        "\n",
        "model.add(Flatten())\n",
        "model.add(Dense(num_classes, activation='softmax'))\n",
        "\n",
        "opt = tf.keras.optimizers.Adadelta()\n",
        "\n",
        "model.compile(loss='categorical_crossentropy',\n",
        "              optimizer=opt,\n",
        "              metrics=['accuracy'])\n",
        "\n",
        "model.fit(x_train, y_train,\n",
        "          batch_size=batch_size,\n",
        "          epochs=30,\n",
        "          verbose=1,\n",
        "          validation_data=(x_test, y_test))\n",
        "\n",
        "score = model.evaluate(x_test, y_test, verbose=0)\n",
        "print('Test loss:', score[0])\n",
        "print('Test accuracy:', score[1]) # Test accuracy: 0.9916999936103821"
      ],
      "execution_count": 7,
      "outputs": [
        {
          "output_type": "stream",
          "text": [
            "Epoch 1/30\n",
            "22/22 [==============================] - 3s 157ms/step - loss: 2.8185 - accuracy: 0.0486 - val_loss: 2.3156 - val_accuracy: 0.0418\n",
            "Epoch 2/30\n",
            "22/22 [==============================] - 3s 149ms/step - loss: 2.7763 - accuracy: 0.0529 - val_loss: 2.3158 - val_accuracy: 0.0441\n",
            "Epoch 3/30\n",
            "22/22 [==============================] - 3s 147ms/step - loss: 2.7342 - accuracy: 0.0579 - val_loss: 2.3158 - val_accuracy: 0.0472\n",
            "Epoch 4/30\n",
            "22/22 [==============================] - 3s 146ms/step - loss: 2.6971 - accuracy: 0.0579 - val_loss: 2.3157 - val_accuracy: 0.0506\n",
            "Epoch 5/30\n",
            "22/22 [==============================] - 3s 148ms/step - loss: 2.6580 - accuracy: 0.0636 - val_loss: 2.3154 - val_accuracy: 0.0548\n",
            "Epoch 6/30\n",
            "22/22 [==============================] - 3s 147ms/step - loss: 2.6233 - accuracy: 0.0671 - val_loss: 2.3149 - val_accuracy: 0.0592\n",
            "Epoch 7/30\n",
            "22/22 [==============================] - 3s 147ms/step - loss: 2.5889 - accuracy: 0.0793 - val_loss: 2.3142 - val_accuracy: 0.0644\n",
            "Epoch 8/30\n",
            "22/22 [==============================] - 3s 148ms/step - loss: 2.5551 - accuracy: 0.0850 - val_loss: 2.3132 - val_accuracy: 0.0700\n",
            "Epoch 9/30\n",
            "22/22 [==============================] - 3s 145ms/step - loss: 2.5251 - accuracy: 0.0879 - val_loss: 2.3119 - val_accuracy: 0.0747\n",
            "Epoch 10/30\n",
            "22/22 [==============================] - 3s 148ms/step - loss: 2.4946 - accuracy: 0.0957 - val_loss: 2.3103 - val_accuracy: 0.0801\n",
            "Epoch 11/30\n",
            "22/22 [==============================] - 3s 147ms/step - loss: 2.4656 - accuracy: 0.1007 - val_loss: 2.3082 - val_accuracy: 0.0860\n",
            "Epoch 12/30\n",
            "22/22 [==============================] - 3s 148ms/step - loss: 2.4367 - accuracy: 0.1150 - val_loss: 2.3056 - val_accuracy: 0.0922\n",
            "Epoch 13/30\n",
            "22/22 [==============================] - 3s 146ms/step - loss: 2.4098 - accuracy: 0.1221 - val_loss: 2.3024 - val_accuracy: 0.0989\n",
            "Epoch 14/30\n",
            "22/22 [==============================] - 3s 150ms/step - loss: 2.3816 - accuracy: 0.1271 - val_loss: 2.2986 - val_accuracy: 0.1064\n",
            "Epoch 15/30\n",
            "22/22 [==============================] - 3s 147ms/step - loss: 2.3558 - accuracy: 0.1386 - val_loss: 2.2939 - val_accuracy: 0.1143\n",
            "Epoch 16/30\n",
            "22/22 [==============================] - 3s 148ms/step - loss: 2.3297 - accuracy: 0.1500 - val_loss: 2.2884 - val_accuracy: 0.1222\n",
            "Epoch 17/30\n",
            "22/22 [==============================] - 3s 147ms/step - loss: 2.3049 - accuracy: 0.1593 - val_loss: 2.2818 - val_accuracy: 0.1299\n",
            "Epoch 18/30\n",
            "22/22 [==============================] - 3s 147ms/step - loss: 2.2802 - accuracy: 0.1714 - val_loss: 2.2742 - val_accuracy: 0.1382\n",
            "Epoch 19/30\n",
            "22/22 [==============================] - 3s 147ms/step - loss: 2.2556 - accuracy: 0.1836 - val_loss: 2.2653 - val_accuracy: 0.1469\n",
            "Epoch 20/30\n",
            "22/22 [==============================] - 3s 147ms/step - loss: 2.2330 - accuracy: 0.1929 - val_loss: 2.2551 - val_accuracy: 0.1558\n",
            "Epoch 21/30\n",
            "22/22 [==============================] - 3s 145ms/step - loss: 2.2084 - accuracy: 0.2064 - val_loss: 2.2435 - val_accuracy: 0.1648\n",
            "Epoch 22/30\n",
            "22/22 [==============================] - 3s 144ms/step - loss: 2.1855 - accuracy: 0.2129 - val_loss: 2.2305 - val_accuracy: 0.1747\n",
            "Epoch 23/30\n",
            "22/22 [==============================] - 3s 147ms/step - loss: 2.1635 - accuracy: 0.2200 - val_loss: 2.2160 - val_accuracy: 0.1852\n",
            "Epoch 24/30\n",
            "22/22 [==============================] - 3s 148ms/step - loss: 2.1418 - accuracy: 0.2279 - val_loss: 2.2001 - val_accuracy: 0.1955\n",
            "Epoch 25/30\n",
            "22/22 [==============================] - 3s 146ms/step - loss: 2.1203 - accuracy: 0.2400 - val_loss: 2.1830 - val_accuracy: 0.2057\n",
            "Epoch 26/30\n",
            "22/22 [==============================] - 3s 147ms/step - loss: 2.0990 - accuracy: 0.2507 - val_loss: 2.1646 - val_accuracy: 0.2174\n",
            "Epoch 27/30\n",
            "22/22 [==============================] - 3s 147ms/step - loss: 2.0776 - accuracy: 0.2550 - val_loss: 2.1453 - val_accuracy: 0.2288\n",
            "Epoch 28/30\n",
            "22/22 [==============================] - 3s 148ms/step - loss: 2.0572 - accuracy: 0.2650 - val_loss: 2.1251 - val_accuracy: 0.2400\n",
            "Epoch 29/30\n",
            "22/22 [==============================] - 3s 148ms/step - loss: 2.0369 - accuracy: 0.2814 - val_loss: 2.1045 - val_accuracy: 0.2515\n",
            "Epoch 30/30\n",
            "22/22 [==============================] - 3s 145ms/step - loss: 2.0164 - accuracy: 0.2864 - val_loss: 2.0835 - val_accuracy: 0.2628\n",
            "Test loss: 2.083486795425415\n",
            "Test accuracy: 0.26282799243927\n"
          ],
          "name": "stdout"
        }
      ]
    },
    {
      "cell_type": "code",
      "metadata": {
        "id": "4RTcyo-MI4St",
        "colab_type": "code",
        "colab": {
          "base_uri": "https://localhost:8080/",
          "height": 1000
        },
        "outputId": "3056d3fa-b31e-4584-be85-800e1f8e717e"
      },
      "source": [
        "# Adadelta 10x\n",
        "model = Sequential()\n",
        "model.add(Conv2D(filters=100, kernel_size=3, activation='relu'))\n",
        "model.add(MaxPooling2D(pool_size=(2, 2)))\n",
        "model.add(BatchNormalization())\n",
        "\n",
        "model.add(Conv2D(filters=100, kernel_size=3, activation='relu'))\n",
        "model.add(MaxPooling2D(pool_size=(2, 2)))\n",
        "\n",
        "model.add(Flatten())\n",
        "model.add(Dense(num_classes, activation='softmax'))\n",
        "\n",
        "opt = tf.keras.optimizers.Adadelta(0.01)\n",
        "\n",
        "model.compile(loss='categorical_crossentropy',\n",
        "              optimizer=opt,\n",
        "              metrics=['accuracy'])\n",
        "\n",
        "model.fit(x_train, y_train,\n",
        "          batch_size=batch_size,\n",
        "          epochs=30,\n",
        "          verbose=1,\n",
        "          validation_data=(x_test, y_test))\n",
        "\n",
        "score = model.evaluate(x_test, y_test, verbose=0)\n",
        "print('Test loss:', score[0])\n",
        "print('Test accuracy:', score[1]) # Test accuracy: 0.9916999936103821"
      ],
      "execution_count": 8,
      "outputs": [
        {
          "output_type": "stream",
          "text": [
            "Epoch 1/30\n",
            "22/22 [==============================] - 3s 154ms/step - loss: 2.4041 - accuracy: 0.1400 - val_loss: 2.2928 - val_accuracy: 0.2092\n",
            "Epoch 2/30\n",
            "22/22 [==============================] - 3s 149ms/step - loss: 2.1710 - accuracy: 0.2471 - val_loss: 2.2793 - val_accuracy: 0.2503\n",
            "Epoch 3/30\n",
            "22/22 [==============================] - 3s 146ms/step - loss: 1.9841 - accuracy: 0.3671 - val_loss: 2.2633 - val_accuracy: 0.3123\n",
            "Epoch 4/30\n",
            "22/22 [==============================] - 3s 145ms/step - loss: 1.8178 - accuracy: 0.4650 - val_loss: 2.2441 - val_accuracy: 0.3889\n",
            "Epoch 5/30\n",
            "22/22 [==============================] - 3s 145ms/step - loss: 1.6689 - accuracy: 0.5429 - val_loss: 2.2218 - val_accuracy: 0.4700\n",
            "Epoch 6/30\n",
            "22/22 [==============================] - 3s 145ms/step - loss: 1.5364 - accuracy: 0.6093 - val_loss: 2.1957 - val_accuracy: 0.5438\n",
            "Epoch 7/30\n",
            "22/22 [==============================] - 3s 147ms/step - loss: 1.4148 - accuracy: 0.6729 - val_loss: 2.1655 - val_accuracy: 0.6050\n",
            "Epoch 8/30\n",
            "22/22 [==============================] - 3s 149ms/step - loss: 1.3058 - accuracy: 0.7221 - val_loss: 2.1306 - val_accuracy: 0.6538\n",
            "Epoch 9/30\n",
            "22/22 [==============================] - 3s 148ms/step - loss: 1.2072 - accuracy: 0.7600 - val_loss: 2.0907 - val_accuracy: 0.6918\n",
            "Epoch 10/30\n",
            "22/22 [==============================] - 3s 147ms/step - loss: 1.1198 - accuracy: 0.7907 - val_loss: 2.0451 - val_accuracy: 0.7210\n",
            "Epoch 11/30\n",
            "22/22 [==============================] - 3s 146ms/step - loss: 1.0389 - accuracy: 0.7971 - val_loss: 1.9935 - val_accuracy: 0.7417\n",
            "Epoch 12/30\n",
            "22/22 [==============================] - 3s 145ms/step - loss: 0.9691 - accuracy: 0.8107 - val_loss: 1.9363 - val_accuracy: 0.7619\n",
            "Epoch 13/30\n",
            "22/22 [==============================] - 3s 145ms/step - loss: 0.9044 - accuracy: 0.8264 - val_loss: 1.8724 - val_accuracy: 0.7744\n",
            "Epoch 14/30\n",
            "22/22 [==============================] - 3s 153ms/step - loss: 0.8474 - accuracy: 0.8371 - val_loss: 1.8021 - val_accuracy: 0.7859\n",
            "Epoch 15/30\n",
            "22/22 [==============================] - 3s 158ms/step - loss: 0.7941 - accuracy: 0.8500 - val_loss: 1.7254 - val_accuracy: 0.7976\n",
            "Epoch 16/30\n",
            "22/22 [==============================] - 3s 155ms/step - loss: 0.7471 - accuracy: 0.8571 - val_loss: 1.6432 - val_accuracy: 0.8088\n",
            "Epoch 17/30\n",
            "22/22 [==============================] - 3s 151ms/step - loss: 0.7071 - accuracy: 0.8607 - val_loss: 1.5560 - val_accuracy: 0.8167\n",
            "Epoch 18/30\n",
            "22/22 [==============================] - 3s 145ms/step - loss: 0.6670 - accuracy: 0.8671 - val_loss: 1.4642 - val_accuracy: 0.8245\n",
            "Epoch 19/30\n",
            "22/22 [==============================] - 3s 146ms/step - loss: 0.6320 - accuracy: 0.8714 - val_loss: 1.3699 - val_accuracy: 0.8310\n",
            "Epoch 20/30\n",
            "22/22 [==============================] - 3s 147ms/step - loss: 0.5995 - accuracy: 0.8814 - val_loss: 1.2746 - val_accuracy: 0.8375\n",
            "Epoch 21/30\n",
            "22/22 [==============================] - 3s 147ms/step - loss: 0.5699 - accuracy: 0.8857 - val_loss: 1.1798 - val_accuracy: 0.8437\n",
            "Epoch 22/30\n",
            "22/22 [==============================] - 3s 143ms/step - loss: 0.5428 - accuracy: 0.8907 - val_loss: 1.0877 - val_accuracy: 0.8474\n",
            "Epoch 23/30\n",
            "22/22 [==============================] - 3s 145ms/step - loss: 0.5177 - accuracy: 0.8943 - val_loss: 0.9999 - val_accuracy: 0.8531\n",
            "Epoch 24/30\n",
            "22/22 [==============================] - 3s 154ms/step - loss: 0.4956 - accuracy: 0.8979 - val_loss: 0.9183 - val_accuracy: 0.8570\n",
            "Epoch 25/30\n",
            "22/22 [==============================] - 3s 145ms/step - loss: 0.4742 - accuracy: 0.9021 - val_loss: 0.8436 - val_accuracy: 0.8622\n",
            "Epoch 26/30\n",
            "22/22 [==============================] - 3s 147ms/step - loss: 0.4546 - accuracy: 0.9071 - val_loss: 0.7764 - val_accuracy: 0.8665\n",
            "Epoch 27/30\n",
            "22/22 [==============================] - 3s 146ms/step - loss: 0.4356 - accuracy: 0.9114 - val_loss: 0.7168 - val_accuracy: 0.8703\n",
            "Epoch 28/30\n",
            "22/22 [==============================] - 3s 146ms/step - loss: 0.4190 - accuracy: 0.9150 - val_loss: 0.6652 - val_accuracy: 0.8740\n",
            "Epoch 29/30\n",
            "22/22 [==============================] - 3s 146ms/step - loss: 0.4035 - accuracy: 0.9164 - val_loss: 0.6202 - val_accuracy: 0.8768\n",
            "Epoch 30/30\n",
            "22/22 [==============================] - 3s 144ms/step - loss: 0.3877 - accuracy: 0.9171 - val_loss: 0.5814 - val_accuracy: 0.8800\n",
            "Test loss: 0.5813623666763306\n",
            "Test accuracy: 0.8800145983695984\n"
          ],
          "name": "stdout"
        }
      ]
    }
  ]
}