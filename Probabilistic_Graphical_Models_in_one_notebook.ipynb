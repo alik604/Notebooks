{
  "nbformat": 4,
  "nbformat_minor": 0,
  "metadata": {
    "colab": {
      "name": "Probabilistic Graphical Models in one notebook",
      "provenance": [],
      "collapsed_sections": []
    },
    "kernelspec": {
      "name": "python3",
      "display_name": "Python 3"
    },
    "accelerator": "GPU"
  },
  "cells": [
    {
      "cell_type": "markdown",
      "metadata": {
        "id": "y3aMFbIMafwg"
      },
      "source": [
        "# Probabilistic Graphical Models in one notebook\n",
        "> A quick and to the point walk through \n",
        "\n",
        "\n",
        "## Theoretical\n",
        "[Wiki](https://en.wikipedia.org/wiki/Graphical_model#:~:text=A%20graphical%20model%20or%20probabilistic,Bayesian%20statistics%E2%80%94and%20machine%20learning.)\n",
        "\n",
        "[Blog post](https://medium.com/@jonathan_hui/machine-learning-graphical-model-b68b0c27a749)\n",
        "\n",
        "Bert Huang's videos are amazing \n",
        " - [Undirected Graphical Models](https://www.youtube.com/watch?v=iBQkZdPHlCs)\n",
        " - [Probabilistic Graphical Models and Bayesian Networks](https://www.youtube.com/watch?v=zCWRTKnOYYg)\n",
        "\n",
        "\n",
        "## Practical \n",
        "[Video - Probabilistic Graphical Models in Python](https://www.youtube.com/watch?v=DEHqIxX1Kq4), code starts @ 16:00 | [Github Repo](https://github.com/AileenNielsen/PyGotham_2016_Probabilistic_Graphical_Models)\n",
        "\n",
        "\n",
        "\n"
      ]
    },
    {
      "cell_type": "code",
      "metadata": {
        "id": "0q35dAGraf_x",
        "outputId": "6762fede-4aef-4b1d-ae44-4abb15e01884",
        "colab": {
          "base_uri": "https://localhost:8080/",
          "height": 71
        }
      },
      "source": [
        "import numpy as np\n",
        "import pandas as pd\n",
        "import matplotlib.pyplot as plt\n",
        "import seaborn as sns\n",
        "from sklearn.model_selection import train_test_split\n",
        "from sklearn.metrics import confusion_matrix, accuracy_score, auc, roc_curve, roc_auc_score\n",
        "\n",
        "from IPython.core.interactiveshell import InteractiveShell # multiline output, so `x` does `print(x)`\n",
        "InteractiveShell.ast_node_interactivity = \"all\""
      ],
      "execution_count": null,
      "outputs": [
        {
          "output_type": "stream",
          "text": [
            "/usr/local/lib/python3.6/dist-packages/statsmodels/tools/_testing.py:19: FutureWarning: pandas.util.testing is deprecated. Use the functions in the public API at pandas.testing instead.\n",
            "  import pandas.util.testing as tm\n"
          ],
          "name": "stderr"
        }
      ]
    },
    {
      "cell_type": "markdown",
      "metadata": {
        "id": "ddmajdSvagQe"
      },
      "source": [
        "[pomegranate Docs](https://pomegranate.readthedocs.io/en/latest/faq.html)\n",
        "\n",
        "[pgmpy Docs](https://github.com/pgmpy/pgmpy#installation) | [Notebooks](https://github.com/pgmpy/pgmpy_notebook/tree/master/notebooks)\n"
      ]
    },
    {
      "cell_type": "code",
      "metadata": {
        "id": "3fgSB8zIagW8"
      },
      "source": [
        "# ! pip install pgmpy"
      ],
      "execution_count": null,
      "outputs": []
    },
    {
      "cell_type": "code",
      "metadata": {
        "id": "Asr_qcjqagaP",
        "outputId": "90f573e9-37ed-4dbd-e7a0-dfd85a9b9b73",
        "colab": {
          "base_uri": "https://localhost:8080/",
          "height": 224
        }
      },
      "source": [
        "# sample code https://github.com/IBM/predict-fraud-using-auto-ai/blob/master/notebook/Fraud_Detect.ipynb\n",
        "df = pd.read_csv(\"https://raw.githubusercontent.com/IBM/predict-fraud-using-auto-ai/master/data/fraud_dataset.csv\")\n",
        "df.head()"
      ],
      "execution_count": null,
      "outputs": [
        {
          "output_type": "execute_result",
          "data": {
            "text/html": [
              "<div>\n",
              "<style scoped>\n",
              "    .dataframe tbody tr th:only-of-type {\n",
              "        vertical-align: middle;\n",
              "    }\n",
              "\n",
              "    .dataframe tbody tr th {\n",
              "        vertical-align: top;\n",
              "    }\n",
              "\n",
              "    .dataframe thead th {\n",
              "        text-align: right;\n",
              "    }\n",
              "</style>\n",
              "<table border=\"1\" class=\"dataframe\">\n",
              "  <thead>\n",
              "    <tr style=\"text-align: right;\">\n",
              "      <th></th>\n",
              "      <th>Gender</th>\n",
              "      <th>Married</th>\n",
              "      <th>Dependents</th>\n",
              "      <th>Education</th>\n",
              "      <th>Self_Employed</th>\n",
              "      <th>ApplicantIncome</th>\n",
              "      <th>CoapplicantIncome</th>\n",
              "      <th>LoanAmount</th>\n",
              "      <th>Loan_Term</th>\n",
              "      <th>Credit_History_Available</th>\n",
              "      <th>Housing</th>\n",
              "      <th>Locality</th>\n",
              "      <th>Fraud_Risk</th>\n",
              "    </tr>\n",
              "  </thead>\n",
              "  <tbody>\n",
              "    <tr>\n",
              "      <th>0</th>\n",
              "      <td>1</td>\n",
              "      <td>0</td>\n",
              "      <td>0</td>\n",
              "      <td>1</td>\n",
              "      <td>0</td>\n",
              "      <td>5849</td>\n",
              "      <td>0</td>\n",
              "      <td>146</td>\n",
              "      <td>360</td>\n",
              "      <td>1</td>\n",
              "      <td>1</td>\n",
              "      <td>1</td>\n",
              "      <td>0</td>\n",
              "    </tr>\n",
              "    <tr>\n",
              "      <th>1</th>\n",
              "      <td>1</td>\n",
              "      <td>1</td>\n",
              "      <td>1</td>\n",
              "      <td>1</td>\n",
              "      <td>1</td>\n",
              "      <td>4583</td>\n",
              "      <td>1508</td>\n",
              "      <td>128</td>\n",
              "      <td>360</td>\n",
              "      <td>1</td>\n",
              "      <td>1</td>\n",
              "      <td>3</td>\n",
              "      <td>1</td>\n",
              "    </tr>\n",
              "    <tr>\n",
              "      <th>2</th>\n",
              "      <td>1</td>\n",
              "      <td>1</td>\n",
              "      <td>0</td>\n",
              "      <td>1</td>\n",
              "      <td>1</td>\n",
              "      <td>3000</td>\n",
              "      <td>0</td>\n",
              "      <td>66</td>\n",
              "      <td>360</td>\n",
              "      <td>1</td>\n",
              "      <td>1</td>\n",
              "      <td>1</td>\n",
              "      <td>1</td>\n",
              "    </tr>\n",
              "    <tr>\n",
              "      <th>3</th>\n",
              "      <td>1</td>\n",
              "      <td>1</td>\n",
              "      <td>0</td>\n",
              "      <td>0</td>\n",
              "      <td>1</td>\n",
              "      <td>2583</td>\n",
              "      <td>2358</td>\n",
              "      <td>120</td>\n",
              "      <td>360</td>\n",
              "      <td>1</td>\n",
              "      <td>1</td>\n",
              "      <td>1</td>\n",
              "      <td>1</td>\n",
              "    </tr>\n",
              "    <tr>\n",
              "      <th>4</th>\n",
              "      <td>1</td>\n",
              "      <td>0</td>\n",
              "      <td>0</td>\n",
              "      <td>1</td>\n",
              "      <td>0</td>\n",
              "      <td>6000</td>\n",
              "      <td>0</td>\n",
              "      <td>141</td>\n",
              "      <td>360</td>\n",
              "      <td>1</td>\n",
              "      <td>1</td>\n",
              "      <td>1</td>\n",
              "      <td>0</td>\n",
              "    </tr>\n",
              "  </tbody>\n",
              "</table>\n",
              "</div>"
            ],
            "text/plain": [
              "   Gender  Married  Dependents  ...  Housing  Locality  Fraud_Risk\n",
              "0       1        0           0  ...        1         1           0\n",
              "1       1        1           1  ...        1         3           1\n",
              "2       1        1           0  ...        1         1           1\n",
              "3       1        1           0  ...        1         1           1\n",
              "4       1        0           0  ...        1         1           0\n",
              "\n",
              "[5 rows x 13 columns]"
            ]
          },
          "metadata": {
            "tags": []
          },
          "execution_count": 3
        }
      ]
    },
    {
      "cell_type": "code",
      "metadata": {
        "id": "FSM67nMJ9dQm"
      },
      "source": [
        "count_fraud = len(df[df['Fraud_Risk']==0])\n",
        "count_non_fraud = len(df[df['Fraud_Risk']==1])\n",
        "pct_of_non_fraud = count_non_fraud/(count_non_fraud +count_fraud)"
      ],
      "execution_count": null,
      "outputs": []
    },
    {
      "cell_type": "code",
      "metadata": {
        "id": "WBQkk9hXkWh9",
        "outputId": "d998a85a-8ef4-44ab-eca9-2dd00b63aaff",
        "colab": {
          "base_uri": "https://localhost:8080/",
          "height": 372
        }
      },
      "source": [
        "print(list(df.columns))\n",
        "\n",
        "print(\"percentage of non Fraud Risk is\", round(pct_of_non_fraud*100,2))\n",
        "print(\"percentage of Fraud Risk is\", round((1-pct_of_non_fraud)*100,2))\n",
        "\n",
        "sns.countplot(x='Fraud_Risk',data=df, palette='hls')\n",
        "plt.show()"
      ],
      "execution_count": null,
      "outputs": [
        {
          "output_type": "stream",
          "text": [
            "['Gender', 'Married', 'Dependents', 'Education', 'Self_Employed', 'ApplicantIncome', 'CoapplicantIncome', 'LoanAmount', 'Loan_Term', 'Credit_History_Available', 'Housing', 'Locality', 'Fraud_Risk']\n",
            "percentage of non Fraud Risk is 57.68\n",
            "percentage of Fraud Risk is 42.32\n"
          ],
          "name": "stdout"
        },
        {
          "output_type": "execute_result",
          "data": {
            "text/plain": [
              "<matplotlib.axes._subplots.AxesSubplot at 0x7f7e7605d240>"
            ]
          },
          "metadata": {
            "tags": []
          },
          "execution_count": 5
        },
        {
          "output_type": "display_data",
          "data": {
            "image/png": "[encoded data removed]",
            "text/plain": [
              "<Figure size 432x288 with 1 Axes>"
            ]
          },
          "metadata": {
            "tags": [],
            "needs_background": "light"
          }
        }
      ]
    },
    {
      "cell_type": "code",
      "metadata": {
        "id": "RDPZQyz1kWrY",
        "outputId": "5c904cfd-0584-41cd-8298-9ae0b715a2e0",
        "colab": {
          "base_uri": "https://localhost:8080/",
          "height": 400
        }
      },
      "source": [
        "df.groupby('Fraud_Risk').mean()\n",
        "\n",
        "df.corr()['Fraud_Risk'] # Matrix to Series"
      ],
      "execution_count": null,
      "outputs": [
        {
          "output_type": "execute_result",
          "data": {
            "text/html": [
              "<div>\n",
              "<style scoped>\n",
              "    .dataframe tbody tr th:only-of-type {\n",
              "        vertical-align: middle;\n",
              "    }\n",
              "\n",
              "    .dataframe tbody tr th {\n",
              "        vertical-align: top;\n",
              "    }\n",
              "\n",
              "    .dataframe thead th {\n",
              "        text-align: right;\n",
              "    }\n",
              "</style>\n",
              "<table border=\"1\" class=\"dataframe\">\n",
              "  <thead>\n",
              "    <tr style=\"text-align: right;\">\n",
              "      <th></th>\n",
              "      <th>Gender</th>\n",
              "      <th>Married</th>\n",
              "      <th>Dependents</th>\n",
              "      <th>Education</th>\n",
              "      <th>Self_Employed</th>\n",
              "      <th>ApplicantIncome</th>\n",
              "      <th>CoapplicantIncome</th>\n",
              "      <th>LoanAmount</th>\n",
              "      <th>Loan_Term</th>\n",
              "      <th>Credit_History_Available</th>\n",
              "      <th>Housing</th>\n",
              "      <th>Locality</th>\n",
              "    </tr>\n",
              "    <tr>\n",
              "      <th>Fraud_Risk</th>\n",
              "      <th></th>\n",
              "      <th></th>\n",
              "      <th></th>\n",
              "      <th></th>\n",
              "      <th></th>\n",
              "      <th></th>\n",
              "      <th></th>\n",
              "      <th></th>\n",
              "      <th></th>\n",
              "      <th></th>\n",
              "      <th></th>\n",
              "      <th></th>\n",
              "    </tr>\n",
              "  </thead>\n",
              "  <tbody>\n",
              "    <tr>\n",
              "      <th>0</th>\n",
              "      <td>0.574286</td>\n",
              "      <td>0.000000</td>\n",
              "      <td>0.308571</td>\n",
              "      <td>0.808571</td>\n",
              "      <td>0.177143</td>\n",
              "      <td>4779.974286</td>\n",
              "      <td>1092.642857</td>\n",
              "      <td>125.611429</td>\n",
              "      <td>346.685714</td>\n",
              "      <td>0.974286</td>\n",
              "      <td>0.700000</td>\n",
              "      <td>2.005714</td>\n",
              "    </tr>\n",
              "    <tr>\n",
              "      <th>1</th>\n",
              "      <td>0.851153</td>\n",
              "      <td>0.834382</td>\n",
              "      <td>0.905660</td>\n",
              "      <td>0.777778</td>\n",
              "      <td>0.865828</td>\n",
              "      <td>5530.683438</td>\n",
              "      <td>1774.714885</td>\n",
              "      <td>152.104822</td>\n",
              "      <td>331.849057</td>\n",
              "      <td>0.819706</td>\n",
              "      <td>0.620545</td>\n",
              "      <td>1.958071</td>\n",
              "    </tr>\n",
              "  </tbody>\n",
              "</table>\n",
              "</div>"
            ],
            "text/plain": [
              "              Gender   Married  ...   Housing  Locality\n",
              "Fraud_Risk                      ...                    \n",
              "0           0.574286  0.000000  ...  0.700000  2.005714\n",
              "1           0.851153  0.834382  ...  0.620545  1.958071\n",
              "\n",
              "[2 rows x 12 columns]"
            ]
          },
          "metadata": {
            "tags": []
          },
          "execution_count": 6
        },
        {
          "output_type": "execute_result",
          "data": {
            "text/plain": [
              "Gender                      0.309570\n",
              "Married                     0.825064\n",
              "Dependents                  0.315421\n",
              "Education                  -0.037406\n",
              "Self_Employed               0.688170\n",
              "ApplicantIncome             0.066347\n",
              "CoapplicantIncome           0.120304\n",
              "LoanAmount                  0.164087\n",
              "Loan_Term                  -0.097339\n",
              "Credit_History_Available   -0.239512\n",
              "Housing                    -0.082534\n",
              "Locality                   -0.030530\n",
              "Fraud_Risk                  1.000000\n",
              "Name: Fraud_Risk, dtype: float64"
            ]
          },
          "metadata": {
            "tags": []
          },
          "execution_count": 6
        }
      ]
    },
    {
      "cell_type": "code",
      "metadata": {
        "id": "Ej_QpxeZkW0U"
      },
      "source": [
        "X = df[df.columns[0:12]]\n",
        "y = df[df.columns[12:]]\n",
        "\n",
        "X_train, X_test, y_train, y_test = train_test_split(X, y.values.ravel(), test_size=0.3, random_state=0)"
      ],
      "execution_count": null,
      "outputs": []
    },
    {
      "cell_type": "code",
      "metadata": {
        "id": "AoYtUBZ5kWxQ",
        "outputId": "f18cdc9f-f463-4dee-dcf2-0a072aca85fc",
        "colab": {
          "base_uri": "https://localhost:8080/",
          "height": 51
        }
      },
      "source": [
        "from lightgbm import LGBMClassifier\n",
        "\n",
        "model = LGBMClassifier(metric='binary_logloss', objective='binary', n_estimators=5000,learning_rate=0.0001, min_child_weight=0.0005)\n",
        "_ = model.fit(X_train, y_train)\n",
        "print(model.score(X_test,y_test))\n",
        "y_hat = model.predict(X_test)\n",
        "\n",
        "model = LGBMClassifier(metric='binary_logloss', objective='binary', n_estimators=50,learning_rate=0.01, min_child_weight=0.9)\n",
        "_ = model.fit(X_train, y_train)\n",
        "print(model.score(X_test,y_test))\n",
        "y_hat = model.predict(X_test)"
      ],
      "execution_count": null,
      "outputs": [
        {
          "output_type": "stream",
          "text": [
            "0.9317269076305221\n",
            "0.9317269076305221\n"
          ],
          "name": "stdout"
        }
      ]
    },
    {
      "cell_type": "code",
      "metadata": {
        "id": "R9MbRT5JkWu8",
        "outputId": "dc811ac9-a1fb-466d-d835-1ce3c4838b8c",
        "colab": {
          "base_uri": "https://localhost:8080/",
          "height": 391
        }
      },
      "source": [
        "struct = pd.Series(model.feature_importances_, index=X.columns).nlargest(len(X.columns))\n",
        "struct.plot(kind='barh', figsize=(18, 6))"
      ],
      "execution_count": null,
      "outputs": [
        {
          "output_type": "execute_result",
          "data": {
            "text/plain": [
              "<matplotlib.axes._subplots.AxesSubplot at 0x7f7e74bb03c8>"
            ]
          },
          "metadata": {
            "tags": []
          },
          "execution_count": 9
        },
        {
          "output_type": "display_data",
          "data": {
            "image/png": "[encoded data removed]",
            "text/plain": [
              "<Figure size 1296x432 with 1 Axes>"
            ]
          },
          "metadata": {
            "tags": [],
            "needs_background": "light"
          }
        }
      ]
    },
    {
      "cell_type": "code",
      "metadata": {
        "id": "aXJrw_kPkWo3",
        "outputId": "5d2e1c7b-c787-4cc4-d66d-5f28c9575b55",
        "colab": {
          "base_uri": "https://localhost:8080/",
          "height": 34
        }
      },
      "source": [
        "# for the next part, 2**(n*(n-1)) graphs need to be searched. choose N to be <= 5. 6 if you have a new threadripper :) \n",
        "whitelist = np.argsort(model.feature_importances_)[-4:] # last N of the argsort, which is the index\n",
        "whitelist"
      ],
      "execution_count": null,
      "outputs": [
        {
          "output_type": "execute_result",
          "data": {
            "text/plain": [
              "array([1, 9, 7, 5])"
            ]
          },
          "metadata": {
            "tags": []
          },
          "execution_count": 10
        }
      ]
    },
    {
      "cell_type": "code",
      "metadata": {
        "id": "dmmKL8OFkWmp",
        "outputId": "14407de2-31de-4b3e-9adf-42c0f02daca3",
        "colab": {
          "base_uri": "https://localhost:8080/",
          "height": 54
        }
      },
      "source": [
        "print(list(df.columns))"
      ],
      "execution_count": null,
      "outputs": [
        {
          "output_type": "stream",
          "text": [
            "['Gender', 'Married', 'Dependents', 'Education', 'Self_Employed', 'ApplicantIncome', 'CoapplicantIncome', 'LoanAmount', 'Loan_Term', 'Credit_History_Available', 'Housing', 'Locality', 'Fraud_Risk']\n"
          ],
          "name": "stdout"
        }
      ]
    },
    {
      "cell_type": "code",
      "metadata": {
        "id": "3O2vOxn-agUY"
      },
      "source": [
        "df_top = df.iloc[:, whitelist]"
      ],
      "execution_count": null,
      "outputs": []
    },
    {
      "cell_type": "code",
      "metadata": {
        "id": "1ffkzP3J-Rv4"
      },
      "source": [
        "# from pgmpy.factors.discrete import TabularCPD\n",
        "# from pgmpy.models import BayesianModel\n",
        "# from pgmpy.estimators import ExhaustiveSearch, MaximumLikelihoodEstimator, BayesianEstimator\n",
        "\n",
        "# bm = BayesianModel()\n",
        "# # help(ExhaustiveSearch)\n",
        "\n",
        "# s = ExhaustiveSearch(pd.DataFrame(df_top))\n",
        "# all_edges = [dag.edges() for dag in s.all_dags()]\n",
        "# all_edges[-1]\n",
        "\n",
        "# # help(MaximumLikelihoodEstimator)\n",
        "\n",
        "# bm = BayesianModel(all_edges[-1])\n",
        "# MaximumLikelihoodEstimator(bm,df_top).estimate_cpd('ApplicantIncome')\n",
        "\n",
        "\n",
        "# https://pgmpy.org/_modules/pgmpy/models/BayesianModel.html#BayesianModel\n",
        "# https://github.com/pgmpy/pgmpy_notebook/blob/master/notebooks/9.%20Learning%20Bayesian%20Networks%20from%20Data.ipynb\n",
        "# https://www.kaggle.com/surendrakarna/customer-fraud"
      ],
      "execution_count": null,
      "outputs": []
    },
    {
      "cell_type": "code",
      "metadata": {
        "id": "X8Bq8KuhEJfL"
      },
      "source": [
        "# X_train, X_test, y_train, y_test = train_test_split(X, y.values.ravel(), test_size=0.3, random_state=0)\n",
        "# _ = model.fit(X_train, y_train)\n",
        "# print(model.score(X_test,y_test))"
      ],
      "execution_count": null,
      "outputs": []
    },
    {
      "cell_type": "markdown",
      "metadata": {
        "id": "FQUk7ds2jGoj"
      },
      "source": [
        "```\n",
        "class BayesClassifier(pomegranate.bayes.BayesModel)\n",
        " |  A Bayes classifier, a more general form of a naive Bayes classifier.\n",
        " |  \n",
        " |  A Bayes classifier, like a naive Bayes classifier, uses Bayes' rule in\n",
        " |  order to calculate the posterior probability of the classes, which are\n",
        " |  used for the predictions. However, a naive Bayes classifier assumes that\n",
        " |  each of the features are independent of each other and so can be modelled\n",
        " |  as independent distributions. A generalization of that, the Bayes\n",
        " |  classifier, allows for an arbitrary covariance between the features. This\n",
        " |  allows for more complicated components to be used, up to and including\n",
        " |  even HMMs to form a classifier over sequences, or mixtures to form a\n",
        " |  classifier with complex emissions.\n",
        "```\n",
        "\n",
        "\n",
        "        from_samples(...) from builtins.type \n",
        "                Create a Bayes classifier directly from the given dataset.\n",
        "\n",
        "               This will initialize the distributions using maximum likelihood estimates\n",
        "               derived by partitioning the dataset using the label vector. If any labels\n",
        "               are missing, the model will be trained using EM in a semi-supervised\n",
        "               setting.\n",
        "       \n",
        "               A homogeneous model can be defined by passing in a single distribution\n",
        "               callable as the first parameter and specifying the number of components,\n",
        "               while a heterogeneous model can be defined by passing in a list of\n",
        "               callables of the appropriate type.\n",
        "       \n",
        "               A Bayes classifier is a superset of the naive Bayes classifier in that\n",
        "               the math is identical, but the distributions used do not have to be\n",
        "               independent for each feature. Simply put, one can create a multivariate\n",
        "               Gaussian Bayes classifier with a full covariance matrix, but a Gaussian\n",
        "               naive Bayes would require a diagonal covariance matrix.\n",
        "       \n",
        "               Parameters\n",
        "               ----------\n",
        "               distributions : array-like, shape (n_components,) or callable\n",
        "                       The components of the model. This should either be a single callable\n",
        "                       if all components will be the same distribution, or an array of\n",
        "                       callables, one for each feature.\n",
        "       \n",
        "               X : array-like, shape (n_samples, n_dimensions)\n",
        "                       This is the data to train on. Each row is a sample, and each column\n",
        "                       is a dimension to train on.\n",
        "       \n",
        "               y : array-like, shape (n_samples,)\n",
        "                       The labels for each sample. The labels should be integers between\n",
        "                       0 and k-1 for a problem with k classes, or -1 if the label is not\n",
        "                       known for that sample.\n",
        "       \n",
        "               "
      ]
    },
    {
      "cell_type": "code",
      "metadata": {
        "id": "bPQ_w7t5-R_o",
        "outputId": "d872271f-4694-4873-de1c-08dbdffe539f",
        "colab": {
          "base_uri": "https://localhost:8080/",
          "height": 136
        }
      },
      "source": [
        "!pip install pomegranate\n",
        "from pomegranate import *\n",
        "\n",
        "y = y.values.ravel()"
      ],
      "execution_count": null,
      "outputs": [
        {
          "output_type": "stream",
          "text": [
            "Requirement already satisfied: pomegranate in /usr/local/lib/python3.6/dist-packages (0.13.3)\n",
            "Requirement already satisfied: scipy>=0.17.0 in /usr/local/lib/python3.6/dist-packages (from pomegranate) (1.4.1)\n",
            "Requirement already satisfied: joblib>=0.9.0b4 in /usr/local/lib/python3.6/dist-packages (from pomegranate) (0.15.1)\n",
            "Requirement already satisfied: networkx>=2.0 in /usr/local/lib/python3.6/dist-packages (from pomegranate) (2.4)\n",
            "Requirement already satisfied: numpy>=1.8.0 in /usr/local/lib/python3.6/dist-packages (from pomegranate) (1.18.5)\n",
            "Requirement already satisfied: pyyaml in /usr/local/lib/python3.6/dist-packages (from pomegranate) (3.13)\n",
            "Requirement already satisfied: decorator>=4.3.0 in /usr/local/lib/python3.6/dist-packages (from networkx>=2.0->pomegranate) (4.4.2)\n"
          ],
          "name": "stdout"
        }
      ]
    },
    {
      "cell_type": "code",
      "metadata": {
        "id": "KX3wAAfWlNIS"
      },
      "source": [
        "# docs - NaiveBayes: https://pomegranate.readthedocs.io/en/latest/NaiveBayes.html#pomegranate.NaiveBayes.NaiveBayes.from_samples\n",
        "# docs - distributions: https://pomegranate.readthedocs.io/en/latest/Distributions.html\n",
        "# help(NaiveBayes)\n",
        "# help(BayesClassifier)"
      ],
      "execution_count": null,
      "outputs": []
    },
    {
      "cell_type": "code",
      "metadata": {
        "id": "lxUnbC3cDqQy",
        "outputId": "92cfed0f-c1f5-4a01-894b-e1e913cc67ec",
        "colab": {
          "base_uri": "https://localhost:8080/",
          "height": 85
        }
      },
      "source": [
        "model = NaiveBayes.from_samples(NormalDistribution, X, y)\n",
        "pred = model.predict(X_test)\n",
        "print(model.score(X_test,y_test))\n",
        "print(accuracy_score(y_test,pred)) # np.sum(pred == y_test)/ (len(y_test))\n",
        "confusion_matrix(y_test,pred)"
      ],
      "execution_count": null,
      "outputs": [
        {
          "output_type": "stream",
          "text": [
            "0.44176706827309237\n",
            "0.44176706827309237\n"
          ],
          "name": "stdout"
        },
        {
          "output_type": "execute_result",
          "data": {
            "text/plain": [
              "array([[110,   0],\n",
              "       [139,   0]])"
            ]
          },
          "metadata": {
            "tags": []
          },
          "execution_count": 17
        }
      ]
    },
    {
      "cell_type": "code",
      "metadata": {
        "id": "j93ZLB0MheEh",
        "outputId": "04b9a298-cd41-4c3b-c08f-1881f7d70ead",
        "colab": {
          "base_uri": "https://localhost:8080/",
          "height": 51
        }
      },
      "source": [
        "model = BayesClassifier.from_samples(DirichletDistribution, X, y)\n",
        "pred = model.predict(X_test)\n",
        "print(model.score(X_test,y_test))\n",
        "print(accuracy_score(y_test,pred)) "
      ],
      "execution_count": null,
      "outputs": [
        {
          "output_type": "stream",
          "text": [
            "0.5060240963855421\n",
            "0.5060240963855421\n"
          ],
          "name": "stdout"
        }
      ]
    },
    {
      "cell_type": "code",
      "metadata": {
        "id": "jELL1UhN-R5O",
        "outputId": "6cb989d3-760b-41ad-9ef1-59ea150ee3fc",
        "colab": {
          "base_uri": "https://localhost:8080/",
          "height": 51
        }
      },
      "source": [
        "model = BayesClassifier.from_samples(MultivariateGaussianDistribution, X, y)\n",
        "pred = model.predict(X_test)\n",
        "print(model.score(X_test,y_test))\n",
        "print(accuracy_score(y_test,pred)) "
      ],
      "execution_count": null,
      "outputs": [
        {
          "output_type": "stream",
          "text": [
            "0.9196787148594378\n",
            "0.9196787148594378\n"
          ],
          "name": "stdout"
        }
      ]
    },
    {
      "cell_type": "code",
      "metadata": {
        "id": "BMXGg4VthSN7",
        "outputId": "25f378de-5d86-4546-9554-673481c88dfd",
        "colab": {
          "base_uri": "https://localhost:8080/",
          "height": 51
        }
      },
      "source": [
        "model = BayesClassifier.from_samples(MultivariateGaussianDistribution, X, y)\n",
        "pred = model.predict(X_test)\n",
        "print(model.score(X_test,y_test))\n",
        "print(accuracy_score(y_test,pred)) "
      ],
      "execution_count": null,
      "outputs": [
        {
          "output_type": "stream",
          "text": [
            "0.9196787148594378\n",
            "0.9196787148594378\n"
          ],
          "name": "stdout"
        }
      ]
    },
    {
      "cell_type": "code",
      "metadata": {
        "id": "OGXmg-YMhSRW"
      },
      "source": [
        "# docs - HMM: https://pomegranate.readthedocs.io/en/latest/MarkovNetwork.html\n",
        "# help(MarkovNetwork)\n",
        "# model = MarkovNetwork.from_samples(X, y, n_jobs=-1)"
      ],
      "execution_count": null,
      "outputs": []
    },
    {
      "cell_type": "code",
      "metadata": {
        "id": "QdijcL3CrPye"
      },
      "source": [
        "# pred = model.predict(X_test)\n",
        "# print(model.score(X_test,y_test))\n",
        "# print(accuracy_score(y_test,pred)) "
      ],
      "execution_count": null,
      "outputs": []
    },
    {
      "cell_type": "code",
      "metadata": {
        "id": "BEP3S-d4rPvH"
      },
      "source": [
        ""
      ],
      "execution_count": null,
      "outputs": []
    },
    {
      "cell_type": "code",
      "metadata": {
        "id": "a4PAnqx7-R3E"
      },
      "source": [
        "# auc, roc_curve, roc_auc_score"
      ],
      "execution_count": null,
      "outputs": []
    },
    {
      "cell_type": "code",
      "metadata": {
        "id": "LqmeisPr-RuO"
      },
      "source": [
        "# model = BayesClassifier.from_samples(BayesianNetwork, X, y)"
      ],
      "execution_count": null,
      "outputs": []
    },
    {
      "cell_type": "code",
      "metadata": {
        "id": "4hpm97Av-RqH"
      },
      "source": [
        "# https://pomegranate.readthedocs.io/en/latest/BayesianNetwork.html\n",
        "model = BayesianNetwork.from_samples(X, y, n_jobs=-1)"
      ],
      "execution_count": null,
      "outputs": []
    },
    {
      "cell_type": "code",
      "metadata": {
        "id": "cyLy6yBDbITr"
      },
      "source": [
        ""
      ],
      "execution_count": null,
      "outputs": []
    },
    {
      "cell_type": "code",
      "metadata": {
        "id": "9SVwr336uOyP"
      },
      "source": [
        ""
      ],
      "execution_count": null,
      "outputs": []
    },
    {
      "cell_type": "code",
      "metadata": {
        "id": "XOTY7GnouO2H"
      },
      "source": [
        ""
      ],
      "execution_count": null,
      "outputs": []
    },
    {
      "cell_type": "code",
      "metadata": {
        "id": "z7Ixw3hSuO5b"
      },
      "source": [
        ""
      ],
      "execution_count": null,
      "outputs": []
    },
    {
      "cell_type": "code",
      "metadata": {
        "id": "2dy80vZ6uO8p"
      },
      "source": [
        ""
      ],
      "execution_count": null,
      "outputs": []
    }
  ]
}
