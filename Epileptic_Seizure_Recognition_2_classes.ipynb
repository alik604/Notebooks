{
  "nbformat": 4,
  "nbformat_minor": 0,
  "metadata": {
    "colab": {
      "name": "Epileptic Seizure Recognition - 2 classes",
      "provenance": [],
      "collapsed_sections": [
        "CFKO2Q10ggF-",
        "3bWe1NMkISJW",
        "vDRnWUHIWzIc",
        "rNk7ATuWISxk"
      ],
      "include_colab_link": true
    },
    "kernelspec": {
      "name": "python3",
      "display_name": "Python 3"
    },
    "accelerator": "GPU"
  },
  "cells": [
    {
      "cell_type": "markdown",
      "metadata": {
        "id": "view-in-github",
        "colab_type": "text"
      },
      "source": [
        "<a href=\"https://colab.research.google.com/github/alik604/Notebooks/blob/master/Epileptic_Seizure_Recognition_2_classes.ipynb\" target=\"_parent\"><img src=\"https://colab.research.google.com/assets/colab-badge.svg\" alt=\"Open In Colab\"/></a>"
      ]
    },
    {
      "cell_type": "markdown",
      "metadata": {
        "id": "YrapXDwG_ujP",
        "colab_type": "text"
      },
      "source": [
        "# Epileptic Seizure Recognition - 2 classes\n",
        "\n",
        "### - by Khizr Ali Pardhan [alik604](https://github.com/alik604/ReadMe)\n"
      ]
    },
    {
      "cell_type": "code",
      "metadata": {
        "id": "afMXefyR_xHN",
        "colab_type": "code",
        "colab": {}
      },
      "source": [
        "import pandas as pd \n",
        "import numpy as np \n",
        "\n",
        "from sklearn.preprocessing import MinMaxScaler, OneHotEncoder\n",
        "from sklearn.model_selection import train_test_split\n",
        "from sklearn.feature_extraction.text import CountVectorizer\n",
        "from sklearn.tree import DecisionTreeClassifier\n",
        "from sklearn.ensemble import RandomForestClassifier, ExtraTreesClassifier, VotingClassifier\n",
        "from sklearn.neural_network import MLPClassifier\n",
        "from sklearn.metrics import * \n",
        "\n",
        "import matplotlib.pyplot as plt\n",
        "%matplotlib inline\n",
        "\n",
        "import tensorflow as tf\n",
        "\n",
        "import keras\n",
        "from keras import regularizers\n",
        "from keras.models import Model, load_model, Sequential\n",
        "from keras.layers import *\n",
        "from keras.callbacks import ModelCheckpoint, TensorBoard\n",
        "from keras.constraints import max_norm\n",
        "from keras.preprocessing import sequence\n",
        "from keras.utils import to_categorical\n",
        "\n",
        "from IPython.core.interactiveshell import InteractiveShell\n",
        "InteractiveShell.ast_node_interactivity = \"all\"\n",
        "\n",
        "import os\n",
        "os.environ['TF_CPP_MIN_LOG_LEVEL'] = '3' "
      ],
      "execution_count": 0,
      "outputs": []
    },
    {
      "cell_type": "code",
      "metadata": {
        "id": "6sj6jkqg_xKE",
        "colab_type": "code",
        "colab": {}
      },
      "source": [
        "url = 'https://github.com/alik604/MNIST_Brain/blob/master/Data/Epileptic%20Seizure%20Recognition.csv?raw=true'\n",
        "hddr = ['username','X1','X2','X3','X4','X5','X6','X7','X8','X9','X10','X11','X12','X13','X14','X15','X16','X17','X18','X19','X20','X21','X22','X23','X24','X25','X26','X27','X28','X29','X30','X31','X32','X33','X34','X35','X36','X37','X38','X39','X40','X41','X42','X43','X44','X45','X46','X47','X48','X49','X50','X51','X52','X53','X54','X55','X56','X57','X58','X59','X60','X61','X62','X63','X64','X65','X66','X67','X68','X69','X70','X71','X72','X73','X74','X75','X76','X77','X78','X79','X80','X81','X82','X83','X84','X85','X86','X87','X88','X89','X90','X91','X92','X93','X94','X95','X96','X97','X98','X99','X100','X101','X102','X103','X104','X105','X106','X107','X108','X109','X110','X111','X112','X113','X114','X115','X116','X117','X118','X119','X120','X121','X122','X123','X124','X125','X126','X127','X128','X129','X130','X131','X132','X133','X134','X135','X136','X137','X138','X139','X140','X141','X142','X143','X144','X145','X146','X147','X148','X149','X150','X151','X152','X153','X154','X155','X156','X157','X158','X159','X160','X161','X162','X163','X164','X165','X166','X167','X168','X169','X170','X171','X172','X173','X174','X175','X176','X177','X178','y']\n",
        "\n",
        "raw = pd.read_csv(url,low_memory=False)\n",
        "raw.columns = hddr"
      ],
      "execution_count": 0,
      "outputs": []
    },
    {
      "cell_type": "code",
      "metadata": {
        "id": "49OAhDrR_xNK",
        "colab_type": "code",
        "outputId": "0e823384-d35c-491e-d536-362fd33387e7",
        "colab": {
          "base_uri": "https://localhost:8080/",
          "height": 253
        }
      },
      "source": [
        "raw.head()"
      ],
      "execution_count": 34,
      "outputs": [
        {
          "output_type": "execute_result",
          "data": {
            "text/html": [
              "<div>\n",
              "<style scoped>\n",
              "    .dataframe tbody tr th:only-of-type {\n",
              "        vertical-align: middle;\n",
              "    }\n",
              "\n",
              "    .dataframe tbody tr th {\n",
              "        vertical-align: top;\n",
              "    }\n",
              "\n",
              "    .dataframe thead th {\n",
              "        text-align: right;\n",
              "    }\n",
              "</style>\n",
              "<table border=\"1\" class=\"dataframe\">\n",
              "  <thead>\n",
              "    <tr style=\"text-align: right;\">\n",
              "      <th></th>\n",
              "      <th>username</th>\n",
              "      <th>X1</th>\n",
              "      <th>X2</th>\n",
              "      <th>X3</th>\n",
              "      <th>X4</th>\n",
              "      <th>X5</th>\n",
              "      <th>X6</th>\n",
              "      <th>X7</th>\n",
              "      <th>X8</th>\n",
              "      <th>X9</th>\n",
              "      <th>X10</th>\n",
              "      <th>X11</th>\n",
              "      <th>X12</th>\n",
              "      <th>X13</th>\n",
              "      <th>X14</th>\n",
              "      <th>X15</th>\n",
              "      <th>X16</th>\n",
              "      <th>X17</th>\n",
              "      <th>X18</th>\n",
              "      <th>X19</th>\n",
              "      <th>X20</th>\n",
              "      <th>X21</th>\n",
              "      <th>X22</th>\n",
              "      <th>X23</th>\n",
              "      <th>X24</th>\n",
              "      <th>X25</th>\n",
              "      <th>X26</th>\n",
              "      <th>X27</th>\n",
              "      <th>X28</th>\n",
              "      <th>X29</th>\n",
              "      <th>X30</th>\n",
              "      <th>X31</th>\n",
              "      <th>X32</th>\n",
              "      <th>X33</th>\n",
              "      <th>X34</th>\n",
              "      <th>X35</th>\n",
              "      <th>X36</th>\n",
              "      <th>X37</th>\n",
              "      <th>X38</th>\n",
              "      <th>X39</th>\n",
              "      <th>...</th>\n",
              "      <th>X140</th>\n",
              "      <th>X141</th>\n",
              "      <th>X142</th>\n",
              "      <th>X143</th>\n",
              "      <th>X144</th>\n",
              "      <th>X145</th>\n",
              "      <th>X146</th>\n",
              "      <th>X147</th>\n",
              "      <th>X148</th>\n",
              "      <th>X149</th>\n",
              "      <th>X150</th>\n",
              "      <th>X151</th>\n",
              "      <th>X152</th>\n",
              "      <th>X153</th>\n",
              "      <th>X154</th>\n",
              "      <th>X155</th>\n",
              "      <th>X156</th>\n",
              "      <th>X157</th>\n",
              "      <th>X158</th>\n",
              "      <th>X159</th>\n",
              "      <th>X160</th>\n",
              "      <th>X161</th>\n",
              "      <th>X162</th>\n",
              "      <th>X163</th>\n",
              "      <th>X164</th>\n",
              "      <th>X165</th>\n",
              "      <th>X166</th>\n",
              "      <th>X167</th>\n",
              "      <th>X168</th>\n",
              "      <th>X169</th>\n",
              "      <th>X170</th>\n",
              "      <th>X171</th>\n",
              "      <th>X172</th>\n",
              "      <th>X173</th>\n",
              "      <th>X174</th>\n",
              "      <th>X175</th>\n",
              "      <th>X176</th>\n",
              "      <th>X177</th>\n",
              "      <th>X178</th>\n",
              "      <th>y</th>\n",
              "    </tr>\n",
              "  </thead>\n",
              "  <tbody>\n",
              "    <tr>\n",
              "      <th>0</th>\n",
              "      <td>X21.V1.791</td>\n",
              "      <td>135</td>\n",
              "      <td>190</td>\n",
              "      <td>229</td>\n",
              "      <td>223</td>\n",
              "      <td>192</td>\n",
              "      <td>125</td>\n",
              "      <td>55</td>\n",
              "      <td>-9</td>\n",
              "      <td>-33</td>\n",
              "      <td>-38</td>\n",
              "      <td>-10</td>\n",
              "      <td>35</td>\n",
              "      <td>64</td>\n",
              "      <td>113</td>\n",
              "      <td>152</td>\n",
              "      <td>164</td>\n",
              "      <td>127</td>\n",
              "      <td>50</td>\n",
              "      <td>-47</td>\n",
              "      <td>-121</td>\n",
              "      <td>-138</td>\n",
              "      <td>-125</td>\n",
              "      <td>-101</td>\n",
              "      <td>-50</td>\n",
              "      <td>11</td>\n",
              "      <td>39</td>\n",
              "      <td>24</td>\n",
              "      <td>48</td>\n",
              "      <td>64</td>\n",
              "      <td>46</td>\n",
              "      <td>13</td>\n",
              "      <td>-19</td>\n",
              "      <td>-61</td>\n",
              "      <td>-96</td>\n",
              "      <td>-130</td>\n",
              "      <td>-132</td>\n",
              "      <td>-116</td>\n",
              "      <td>-115</td>\n",
              "      <td>-71</td>\n",
              "      <td>...</td>\n",
              "      <td>54</td>\n",
              "      <td>90</td>\n",
              "      <td>111</td>\n",
              "      <td>107</td>\n",
              "      <td>64</td>\n",
              "      <td>32</td>\n",
              "      <td>18</td>\n",
              "      <td>-25</td>\n",
              "      <td>-69</td>\n",
              "      <td>-65</td>\n",
              "      <td>-44</td>\n",
              "      <td>-33</td>\n",
              "      <td>-57</td>\n",
              "      <td>-88</td>\n",
              "      <td>-114</td>\n",
              "      <td>-130</td>\n",
              "      <td>-114</td>\n",
              "      <td>-83</td>\n",
              "      <td>-53</td>\n",
              "      <td>-79</td>\n",
              "      <td>-72</td>\n",
              "      <td>-85</td>\n",
              "      <td>-109</td>\n",
              "      <td>-98</td>\n",
              "      <td>-72</td>\n",
              "      <td>-65</td>\n",
              "      <td>-63</td>\n",
              "      <td>-11</td>\n",
              "      <td>10</td>\n",
              "      <td>8</td>\n",
              "      <td>-17</td>\n",
              "      <td>-15</td>\n",
              "      <td>-31</td>\n",
              "      <td>-77</td>\n",
              "      <td>-103</td>\n",
              "      <td>-127</td>\n",
              "      <td>-116</td>\n",
              "      <td>-83</td>\n",
              "      <td>-51</td>\n",
              "      <td>4</td>\n",
              "    </tr>\n",
              "    <tr>\n",
              "      <th>1</th>\n",
              "      <td>X15.V1.924</td>\n",
              "      <td>386</td>\n",
              "      <td>382</td>\n",
              "      <td>356</td>\n",
              "      <td>331</td>\n",
              "      <td>320</td>\n",
              "      <td>315</td>\n",
              "      <td>307</td>\n",
              "      <td>272</td>\n",
              "      <td>244</td>\n",
              "      <td>232</td>\n",
              "      <td>237</td>\n",
              "      <td>258</td>\n",
              "      <td>212</td>\n",
              "      <td>2</td>\n",
              "      <td>-267</td>\n",
              "      <td>-605</td>\n",
              "      <td>-850</td>\n",
              "      <td>-1001</td>\n",
              "      <td>-1109</td>\n",
              "      <td>-1090</td>\n",
              "      <td>-967</td>\n",
              "      <td>-746</td>\n",
              "      <td>-464</td>\n",
              "      <td>-152</td>\n",
              "      <td>118</td>\n",
              "      <td>318</td>\n",
              "      <td>427</td>\n",
              "      <td>473</td>\n",
              "      <td>485</td>\n",
              "      <td>447</td>\n",
              "      <td>397</td>\n",
              "      <td>339</td>\n",
              "      <td>312</td>\n",
              "      <td>314</td>\n",
              "      <td>326</td>\n",
              "      <td>335</td>\n",
              "      <td>332</td>\n",
              "      <td>324</td>\n",
              "      <td>310</td>\n",
              "      <td>...</td>\n",
              "      <td>27</td>\n",
              "      <td>146</td>\n",
              "      <td>229</td>\n",
              "      <td>269</td>\n",
              "      <td>297</td>\n",
              "      <td>307</td>\n",
              "      <td>303</td>\n",
              "      <td>305</td>\n",
              "      <td>306</td>\n",
              "      <td>307</td>\n",
              "      <td>280</td>\n",
              "      <td>231</td>\n",
              "      <td>159</td>\n",
              "      <td>85</td>\n",
              "      <td>51</td>\n",
              "      <td>43</td>\n",
              "      <td>62</td>\n",
              "      <td>63</td>\n",
              "      <td>63</td>\n",
              "      <td>69</td>\n",
              "      <td>89</td>\n",
              "      <td>123</td>\n",
              "      <td>136</td>\n",
              "      <td>127</td>\n",
              "      <td>102</td>\n",
              "      <td>95</td>\n",
              "      <td>105</td>\n",
              "      <td>131</td>\n",
              "      <td>163</td>\n",
              "      <td>168</td>\n",
              "      <td>164</td>\n",
              "      <td>150</td>\n",
              "      <td>146</td>\n",
              "      <td>152</td>\n",
              "      <td>157</td>\n",
              "      <td>156</td>\n",
              "      <td>154</td>\n",
              "      <td>143</td>\n",
              "      <td>129</td>\n",
              "      <td>1</td>\n",
              "    </tr>\n",
              "    <tr>\n",
              "      <th>2</th>\n",
              "      <td>X8.V1.1</td>\n",
              "      <td>-32</td>\n",
              "      <td>-39</td>\n",
              "      <td>-47</td>\n",
              "      <td>-37</td>\n",
              "      <td>-32</td>\n",
              "      <td>-36</td>\n",
              "      <td>-57</td>\n",
              "      <td>-73</td>\n",
              "      <td>-85</td>\n",
              "      <td>-94</td>\n",
              "      <td>-99</td>\n",
              "      <td>-94</td>\n",
              "      <td>-96</td>\n",
              "      <td>-104</td>\n",
              "      <td>-103</td>\n",
              "      <td>-92</td>\n",
              "      <td>-75</td>\n",
              "      <td>-69</td>\n",
              "      <td>-69</td>\n",
              "      <td>-53</td>\n",
              "      <td>-37</td>\n",
              "      <td>-14</td>\n",
              "      <td>-10</td>\n",
              "      <td>-39</td>\n",
              "      <td>-78</td>\n",
              "      <td>-102</td>\n",
              "      <td>-98</td>\n",
              "      <td>-80</td>\n",
              "      <td>-54</td>\n",
              "      <td>-40</td>\n",
              "      <td>-35</td>\n",
              "      <td>-39</td>\n",
              "      <td>-32</td>\n",
              "      <td>-13</td>\n",
              "      <td>7</td>\n",
              "      <td>34</td>\n",
              "      <td>41</td>\n",
              "      <td>33</td>\n",
              "      <td>6</td>\n",
              "      <td>...</td>\n",
              "      <td>-82</td>\n",
              "      <td>-107</td>\n",
              "      <td>-126</td>\n",
              "      <td>-124</td>\n",
              "      <td>-108</td>\n",
              "      <td>-84</td>\n",
              "      <td>-68</td>\n",
              "      <td>-61</td>\n",
              "      <td>-56</td>\n",
              "      <td>-63</td>\n",
              "      <td>-62</td>\n",
              "      <td>-33</td>\n",
              "      <td>1</td>\n",
              "      <td>28</td>\n",
              "      <td>45</td>\n",
              "      <td>37</td>\n",
              "      <td>48</td>\n",
              "      <td>62</td>\n",
              "      <td>80</td>\n",
              "      <td>66</td>\n",
              "      <td>23</td>\n",
              "      <td>-11</td>\n",
              "      <td>-39</td>\n",
              "      <td>-44</td>\n",
              "      <td>-42</td>\n",
              "      <td>-45</td>\n",
              "      <td>-48</td>\n",
              "      <td>-42</td>\n",
              "      <td>-6</td>\n",
              "      <td>29</td>\n",
              "      <td>57</td>\n",
              "      <td>64</td>\n",
              "      <td>48</td>\n",
              "      <td>19</td>\n",
              "      <td>-12</td>\n",
              "      <td>-30</td>\n",
              "      <td>-35</td>\n",
              "      <td>-35</td>\n",
              "      <td>-36</td>\n",
              "      <td>5</td>\n",
              "    </tr>\n",
              "    <tr>\n",
              "      <th>3</th>\n",
              "      <td>X16.V1.60</td>\n",
              "      <td>-105</td>\n",
              "      <td>-101</td>\n",
              "      <td>-96</td>\n",
              "      <td>-92</td>\n",
              "      <td>-89</td>\n",
              "      <td>-95</td>\n",
              "      <td>-102</td>\n",
              "      <td>-100</td>\n",
              "      <td>-87</td>\n",
              "      <td>-79</td>\n",
              "      <td>-72</td>\n",
              "      <td>-68</td>\n",
              "      <td>-74</td>\n",
              "      <td>-80</td>\n",
              "      <td>-83</td>\n",
              "      <td>-73</td>\n",
              "      <td>-68</td>\n",
              "      <td>-61</td>\n",
              "      <td>-58</td>\n",
              "      <td>-59</td>\n",
              "      <td>-64</td>\n",
              "      <td>-79</td>\n",
              "      <td>-84</td>\n",
              "      <td>-97</td>\n",
              "      <td>-94</td>\n",
              "      <td>-84</td>\n",
              "      <td>-77</td>\n",
              "      <td>-75</td>\n",
              "      <td>-72</td>\n",
              "      <td>-68</td>\n",
              "      <td>-76</td>\n",
              "      <td>-76</td>\n",
              "      <td>-72</td>\n",
              "      <td>-67</td>\n",
              "      <td>-69</td>\n",
              "      <td>-69</td>\n",
              "      <td>-69</td>\n",
              "      <td>-67</td>\n",
              "      <td>-68</td>\n",
              "      <td>...</td>\n",
              "      <td>-69</td>\n",
              "      <td>-66</td>\n",
              "      <td>-74</td>\n",
              "      <td>-69</td>\n",
              "      <td>-61</td>\n",
              "      <td>-51</td>\n",
              "      <td>-45</td>\n",
              "      <td>-45</td>\n",
              "      <td>-49</td>\n",
              "      <td>-58</td>\n",
              "      <td>-64</td>\n",
              "      <td>-78</td>\n",
              "      <td>-80</td>\n",
              "      <td>-90</td>\n",
              "      <td>-87</td>\n",
              "      <td>-83</td>\n",
              "      <td>-78</td>\n",
              "      <td>-64</td>\n",
              "      <td>-38</td>\n",
              "      <td>-22</td>\n",
              "      <td>-29</td>\n",
              "      <td>-42</td>\n",
              "      <td>-51</td>\n",
              "      <td>-68</td>\n",
              "      <td>-71</td>\n",
              "      <td>-69</td>\n",
              "      <td>-69</td>\n",
              "      <td>-74</td>\n",
              "      <td>-74</td>\n",
              "      <td>-80</td>\n",
              "      <td>-82</td>\n",
              "      <td>-81</td>\n",
              "      <td>-80</td>\n",
              "      <td>-77</td>\n",
              "      <td>-85</td>\n",
              "      <td>-77</td>\n",
              "      <td>-72</td>\n",
              "      <td>-69</td>\n",
              "      <td>-65</td>\n",
              "      <td>5</td>\n",
              "    </tr>\n",
              "    <tr>\n",
              "      <th>4</th>\n",
              "      <td>X20.V1.54</td>\n",
              "      <td>-9</td>\n",
              "      <td>-65</td>\n",
              "      <td>-98</td>\n",
              "      <td>-102</td>\n",
              "      <td>-78</td>\n",
              "      <td>-48</td>\n",
              "      <td>-16</td>\n",
              "      <td>0</td>\n",
              "      <td>-21</td>\n",
              "      <td>-59</td>\n",
              "      <td>-90</td>\n",
              "      <td>-103</td>\n",
              "      <td>-84</td>\n",
              "      <td>-43</td>\n",
              "      <td>-9</td>\n",
              "      <td>3</td>\n",
              "      <td>-21</td>\n",
              "      <td>-60</td>\n",
              "      <td>-96</td>\n",
              "      <td>-103</td>\n",
              "      <td>-75</td>\n",
              "      <td>-29</td>\n",
              "      <td>14</td>\n",
              "      <td>55</td>\n",
              "      <td>78</td>\n",
              "      <td>73</td>\n",
              "      <td>28</td>\n",
              "      <td>-13</td>\n",
              "      <td>-43</td>\n",
              "      <td>-68</td>\n",
              "      <td>-78</td>\n",
              "      <td>-75</td>\n",
              "      <td>-55</td>\n",
              "      <td>-41</td>\n",
              "      <td>-19</td>\n",
              "      <td>-20</td>\n",
              "      <td>-29</td>\n",
              "      <td>-36</td>\n",
              "      <td>-20</td>\n",
              "      <td>...</td>\n",
              "      <td>38</td>\n",
              "      <td>26</td>\n",
              "      <td>10</td>\n",
              "      <td>-4</td>\n",
              "      <td>-13</td>\n",
              "      <td>-8</td>\n",
              "      <td>0</td>\n",
              "      <td>10</td>\n",
              "      <td>19</td>\n",
              "      <td>29</td>\n",
              "      <td>57</td>\n",
              "      <td>63</td>\n",
              "      <td>45</td>\n",
              "      <td>7</td>\n",
              "      <td>-13</td>\n",
              "      <td>-23</td>\n",
              "      <td>-9</td>\n",
              "      <td>9</td>\n",
              "      <td>11</td>\n",
              "      <td>3</td>\n",
              "      <td>-1</td>\n",
              "      <td>-2</td>\n",
              "      <td>4</td>\n",
              "      <td>18</td>\n",
              "      <td>27</td>\n",
              "      <td>27</td>\n",
              "      <td>14</td>\n",
              "      <td>15</td>\n",
              "      <td>11</td>\n",
              "      <td>10</td>\n",
              "      <td>4</td>\n",
              "      <td>2</td>\n",
              "      <td>-12</td>\n",
              "      <td>-32</td>\n",
              "      <td>-41</td>\n",
              "      <td>-65</td>\n",
              "      <td>-83</td>\n",
              "      <td>-89</td>\n",
              "      <td>-73</td>\n",
              "      <td>5</td>\n",
              "    </tr>\n",
              "  </tbody>\n",
              "</table>\n",
              "<p>5 rows × 180 columns</p>\n",
              "</div>"
            ],
            "text/plain": [
              "     username   X1   X2   X3   X4   X5  ...  X174  X175  X176  X177  X178  y\n",
              "0  X21.V1.791  135  190  229  223  192  ...  -103  -127  -116   -83   -51  4\n",
              "1  X15.V1.924  386  382  356  331  320  ...   157   156   154   143   129  1\n",
              "2     X8.V1.1  -32  -39  -47  -37  -32  ...   -12   -30   -35   -35   -36  5\n",
              "3   X16.V1.60 -105 -101  -96  -92  -89  ...   -85   -77   -72   -69   -65  5\n",
              "4   X20.V1.54   -9  -65  -98 -102  -78  ...   -41   -65   -83   -89   -73  5\n",
              "\n",
              "[5 rows x 180 columns]"
            ]
          },
          "metadata": {
            "tags": []
          },
          "execution_count": 34
        }
      ]
    },
    {
      "cell_type": "markdown",
      "metadata": {
        "id": "ceYeTGSI_xQJ",
        "colab_type": "text"
      },
      "source": [
        "[Data source - kaggle](https://www.kaggle.com/harunshimanto/epileptic-seizure-recognition)\n",
        "* [Data creator - university](https://archive.ics.uci.edu/ml/datasets/Epileptic+Seizure+Recognition)  \n",
        "* [Full Data](http://epileptologie-bonn.de/cms/front_content.php?idcat=193&lang=3&changelang=3) \n",
        "\n",
        "```\n",
        "y contains the category of the 178-dimensional input vector. Specifically y in {1, 2, 3, 4, 5}:\n",
        "  5 - eyes open, means when they were recording the EEG signal of the brain the patient had their eyes open\n",
        "  4 - eyes closed, means when they were recording the EEG signal the patient had their eyes closed\n",
        "  3 - Yes they identify where the region of the tumor was in the brain and recording the EEG activity from the healthy brain area\n",
        "  2 - They recorder the EEG from the area where the tumor was located\n",
        "  1 - Recording of seizure activity\n",
        "```\n",
        "I aussume first column is 'username' not 'Unnamed', sample cell `X8.V1.322\t`"
      ]
    },
    {
      "cell_type": "markdown",
      "metadata": {
        "id": "CFKO2Q10ggF-",
        "colab_type": "text"
      },
      "source": [
        "## Preprocessing"
      ]
    },
    {
      "cell_type": "code",
      "metadata": {
        "id": "4cAI8UhG_xcZ",
        "colab_type": "code",
        "colab": {}
      },
      "source": [
        "## found out username is hashed, not anonymized\n",
        "# s = raw['username'].str.split('.')\n",
        "# people = [i[0] for i in s.values]\n",
        "# raw['username'] = [i.argmax() for i in CountVectorizer().fit_transform(people).toarray()]\n"
      ],
      "execution_count": 0,
      "outputs": []
    },
    {
      "cell_type": "code",
      "metadata": {
        "id": "1rLnkmo7_xfb",
        "colab_type": "code",
        "colab": {
          "base_uri": "https://localhost:8080/",
          "height": 34
        },
        "outputId": "44ddedcd-1dc7-443e-ff27-7ec19005727c"
      },
      "source": [
        "X = raw.drop(['y' , 'username'], axis = 1) # would be nice to keep 'username', but i need a sequence \n",
        "raw['y'] = raw['y'] = (raw['y'] == 1).astype(int) \n",
        "y = raw['y']\n",
        "X_train, X_test, y_train, y_test = train_test_split(X, y, test_size=0.25, random_state=42)\n",
        "y_train , y_test = y_train.to_numpy(), y_test.to_numpy()\n",
        "\n",
        "t = np.sum(y_train == 1 )\n",
        "f = np.sum(y_train == 0 )\n",
        "print(\"{:.3f}% for Seizures, of the {} samples\".format(t/(t+f) , t+f))"
      ],
      "execution_count": 45,
      "outputs": [
        {
          "output_type": "stream",
          "text": [
            "0.198% for Seizures, of the 8625 samples\n"
          ],
          "name": "stdout"
        }
      ]
    },
    {
      "cell_type": "code",
      "metadata": {
        "id": "1MObv06NISGb",
        "colab_type": "code",
        "colab": {}
      },
      "source": [
        "mms = MinMaxScaler()\n",
        "X_train_trans = mms.fit_transform(X_train)\n",
        "X_test_trans = mms.transform(X_test)\n",
        "\n",
        "maxlen = 150#100#240\n",
        "seqTrain=sequence.pad_sequences(sequences= X_train_trans, maxlen=maxlen, padding='post', dtype='float32', truncating='post')\n",
        "seqTest=sequence.pad_sequences(sequences= X_test_trans, maxlen=maxlen, padding='post', dtype='float32', truncating='post')\n",
        "\n",
        "seqTrain = seqTrain.reshape((-1, maxlen, 1))\n",
        "seqTest = seqTest.reshape((-1, maxlen, 1))\n",
        "\n",
        "enc = OneHotEncoder(handle_unknown='ignore')\n",
        "y_train_oneHot, y_test_oneHot = enc.fit_transform(y_train.reshape(-1, 1)), enc.transform(y_test.reshape(-1, 1))\n",
        "\n",
        "# y_train_c, y_test_c= to_categorical(y_train), to_categorical(y_test)"
      ],
      "execution_count": 0,
      "outputs": []
    },
    {
      "cell_type": "markdown",
      "metadata": {
        "id": "3bWe1NMkISJW",
        "colab_type": "text"
      },
      "source": [
        "## ML - Basic & vanilla_ANN"
      ]
    },
    {
      "cell_type": "code",
      "metadata": {
        "id": "QLIGaezJISQX",
        "colab_type": "code",
        "colab": {}
      },
      "source": [
        "# !pip3 install xgboost\n",
        "# from sklearn.tree import DecisionTreeClassifier\n",
        "# from sklearn.ensemble import RandomForestClassifier, ExtraTreesClassifier, VotingClassifier\n",
        "# from sklearn.naive_bayes import GaussianNB\n",
        "# from xgboost import XGBClassifier\n",
        "\n",
        "# def benchmark(pred=pred, y_test = y_test):\n",
        "#   print( \"hamming_loss: \\t\\t\"    ,round(hamming_loss(y_test,pred),3))\n",
        "#   print( \"precision_score: \\t\"   ,round(precision_score(y_test,pred,average='micro'),3))\n",
        "#   print( \"recall_score: \\t\\t\"    ,round(recall_score(y_test,pred ,average='micro'),3))\n",
        "#   print(\"------------------------------\")\n",
        "#   print( \"accuracy_score: \\t\"    ,round(accuracy_score(y_test,pred),3))\n",
        "\n",
        "# gb = XGBClassifier(tree_method='gpu_hist', n_jobs =12, max_depth=50,learning_rate=0.01,verbosity=0,n_estimators=1000)\n",
        "# RFC = RandomForestClassifier(n_estimators=200,max_depth=50, random_state=1)\n",
        "# ETC = ExtraTreesClassifier(n_estimators=30, criterion='gini', max_features='auto', bootstrap=False , n_jobs=8,max_depth=9999999999)# no point to the 9s \n",
        "# gnd = GaussianNB()\n",
        "\n",
        "# eclf = VotingClassifier(estimators=[('XGBClassifier', gb), ('RandomForestClassifier', RFC),('ExtraTreesClassifier',ETC),('GaussianNB',gnd)], voting='hard')\n",
        "# for clf, label in zip([gb, RFC,ETC, gnd], ['XGBClassifier', 'RandomForestClassifier', 'ExtraTreesClassifier', 'GaussianNB']): \n",
        "#     _ = clf.fit(X_train_trans,y_train)\n",
        "#     pred = clf.score(X_test_trans,y_test)\n",
        "#     print(\"Acc: %0.10f [%s]\" % (pred,label))\n",
        "\n",
        "# _ = eclf.fit(X_train_trans,y_train)\n",
        "# pred = eclf.predict(X_test_trans)\n",
        "# benchmark(pred)"
      ],
      "execution_count": 0,
      "outputs": []
    },
    {
      "cell_type": "markdown",
      "metadata": {
        "id": "eVI4Q5p1N5od",
        "colab_type": "text"
      },
      "source": [
        "```\n",
        "Acc: 0.9419130435 [DecisionTreeClassifier]\n",
        "Acc: 0.9756521739 [RandomForestClassifier]\n",
        "Acc: 0.9666086957 [ExtraTreesClassifier]\n",
        "Acc: 0.9725217391 [Ensemble]\n",
        "------ Mark II\n",
        "Acc: 0.9732173913 [XGBClassifier]\n",
        "Acc: 0.9756521739 [RandomForestClassifier]\n",
        "Acc: 0.9676521739 [ExtraTreesClassifier]\n",
        "Acc: 0.9586086957 [GaussianNB]\n",
        "\n",
        "Ensemble\n",
        "*** accuracy_score: \t 0.961 *** \n",
        "```\n",
        "better than if we did not use `MinMaxScaler`\n"
      ]
    },
    {
      "cell_type": "code",
      "metadata": {
        "id": "by0AASG9ISTq",
        "colab_type": "code",
        "colab": {}
      },
      "source": [
        ""
      ],
      "execution_count": 0,
      "outputs": []
    },
    {
      "cell_type": "code",
      "metadata": {
        "id": "6ER2u0iapicq",
        "colab_type": "code",
        "colab": {}
      },
      "source": [
        ""
      ],
      "execution_count": 0,
      "outputs": []
    },
    {
      "cell_type": "code",
      "metadata": {
        "id": "VCVBo7wEPg-H",
        "colab_type": "code",
        "colab": {}
      },
      "source": [
        "dim = X_train_trans.shape[1]\n",
        "epochs = 25\n",
        "outputVectorSize = 2\n",
        "RMSprop_low_LR = keras.optimizers.RMSprop(lr=0.0001)\n",
        "\n"
      ],
      "execution_count": 0,
      "outputs": []
    },
    {
      "cell_type": "code",
      "metadata": {
        "id": "aPK3_ZYcISaS",
        "colab_type": "code",
        "colab": {}
      },
      "source": [
        "classifier = Sequential()\n",
        "\n",
        "classifier.add(Dense(175, activation='relu', input_dim=dim))\n",
        "classifier.add(Dense(80, activation='relu'))\n",
        "classifier.add(Dense(40, activation='relu'))\n",
        "classifier.add(Dense(2, activation='sigmoid'))\n",
        "\n",
        "classifier.compile(optimizer ='adam',loss='categorical_crossentropy', metrics =['accuracy'])\n",
        "\n",
        "# c = classifier.fit(X_train_trans,y_train_oneHot, batch_size=16, epochs=30, validation_data=(X_test_trans,y_test_oneHot))# .history\n",
        "# epoch = 30\n",
        "# loss: 0.1930 - acc: 0.9367 - val_loss: 0.2166 - val_acc: 0.9308\n"
      ],
      "execution_count": 0,
      "outputs": []
    },
    {
      "cell_type": "markdown",
      "metadata": {
        "id": "kFk4Vm7qISdn",
        "colab_type": "text"
      },
      "source": [
        "## ML - Fancy architextures"
      ]
    },
    {
      "cell_type": "markdown",
      "metadata": {
        "id": "mHpn3XPmVRdD",
        "colab_type": "text"
      },
      "source": [
        "### eegnet"
      ]
    },
    {
      "cell_type": "code",
      "metadata": {
        "id": "EQ2MkXkaISht",
        "colab_type": "code",
        "outputId": "11a1619c-10b7-46b8-f3c3-128aff058949",
        "colab": {
          "base_uri": "https://localhost:8080/",
          "height": 54
        }
      },
      "source": [
        "# idea from https://github.com/Cerebrock/BCI/blob/9e670f2b30cbe1e74579637bfeff1b232aa8642a/mnist.ipynb\n",
        "\n",
        "\n",
        "\"\"\" Keras Implementation of EEGNet\n",
        "http://iopscience.iop.org/article/10.1088/1741-2552/aace8c/meta\n",
        "\n",
        "Inputs:\n",
        "    \n",
        "  nb_classes      : int, number of classes to classify\n",
        "  Chans, Samples  : number of channels and time points in the EEG data\n",
        "  dropoutRate     : dropout fraction\n",
        "  kernLength      : length of temporal convolution in first layer. We found\n",
        "                    that setting this to be half the sampling rate worked\n",
        "                    well in practice. For the SMR dataset in particular\n",
        "                    since the data was high-passed at 4Hz we used a kernel\n",
        "                    length of 32.     \n",
        "  F1, F2          : number of temporal filters (F1) and number of pointwise\n",
        "                    filters (F2) to learn. Default: F1 = 8, F2 = F1 * D. \n",
        "  D               : number of spatial filters to learn within each temporal\n",
        "                    convolution. Default: D = 2\n",
        "  dropoutType     : Either SpatialDropout2D or Dropout, passed as a string.\n",
        "\"\"\"\n",
        "maxlen = 150\n",
        "\n",
        "nb_classes = outputVectorSize\n",
        "Chans = 1 #64\n",
        "Samples = maxlen # was 128\n",
        "dropoutRate = 0.5\n",
        "kernLength = 100\n",
        "F1 = 128\n",
        "D = 2\n",
        "F2 = 200\n",
        "norm_rate = 0.25\n",
        "dropoutType = Dropout\n",
        "\n",
        "model = Sequential()\n",
        "model.add(Conv2D(F1, (1,kernLength) , padding = 'same', input_shape =  (1,Samples,1), use_bias= False)) # (1,Chans,Samples), use_bias= False))\n",
        "model.add(BatchNormalization(axis = 1))\n",
        "\n",
        "model.add(Conv2D(F1, (1,kernLength) , padding = 'same', use_bias= False)) # (1,Chans,Samples), use_bias= False))\n",
        "model.add(BatchNormalization(axis = 1))\n",
        "model.add(Activation('elu'))\n",
        "model.add(AveragePooling2D((1, 2))) # (1,4)\n",
        "\n",
        "\n",
        "model.add(Dropout(0.2))\n",
        "\n",
        "model.add(SeparableConv2D(F2, (1, 16), use_bias = False, padding = 'same'))\n",
        "model.add(BatchNormalization(axis = 1))\n",
        "model.add(Activation('elu'))\n",
        "model.add(AveragePooling2D((1, 8)))\n",
        "\n",
        "model.add(Dropout(0.2))\n",
        "model.add(Flatten(name = 'flatten'))\n",
        "\n",
        "model.add(Dense(round(F2/4),activation='elu'))\n",
        "model.add(Dense(nb_classes, name = 'dense',kernel_constraint = max_norm(norm_rate)))\n",
        "model.add(Activation('sigmoid')) \n",
        "# eegnet = Model(outputs=Activation('softmax', name = 'softmax'))\n",
        "\n",
        "# model.summary()"
      ],
      "execution_count": 85,
      "outputs": [
        {
          "output_type": "execute_result",
          "data": {
            "text/plain": [
              "' Keras Implementation of EEGNet\\nhttp://iopscience.iop.org/article/10.1088/1741-2552/aace8c/meta\\n\\nInputs:\\n    \\n  nb_classes      : int, number of classes to classify\\n  Chans, Samples  : number of channels and time points in the EEG data\\n  dropoutRate     : dropout fraction\\n  kernLength      : length of temporal convolution in first layer. We found\\n                    that setting this to be half the sampling rate worked\\n                    well in practice. For the SMR dataset in particular\\n                    since the data was high-passed at 4Hz we used a kernel\\n                    length of 32.     \\n  F1, F2          : number of temporal filters (F1) and number of pointwise\\n                    filters (F2) to learn. Default: F1 = 8, F2 = F1 * D. \\n  D               : number of spatial filters to learn within each temporal\\n                    convolution. Default: D = 2\\n  dropoutType     : Either SpatialDropout2D or Dropout, passed as a string.\\n'"
            ]
          },
          "metadata": {
            "tags": []
          },
          "execution_count": 85
        }
      ]
    },
    {
      "cell_type": "code",
      "metadata": {
        "id": "48-gHO1jISkY",
        "colab_type": "code",
        "outputId": "5da0a4e5-05a0-40a5-f613-4321b29b4e9e",
        "colab": {
          "base_uri": "https://localhost:8080/",
          "height": 1000
        }
      },
      "source": [
        "model.compile(loss=\"categorical_crossentropy\", optimizer = RMSprop_low_LR, metrics=[\"accuracy\"])\n",
        "seqTrain=sequence.pad_sequences(sequences= X_train_trans, maxlen=maxlen, padding='post', dtype='float', truncating='post').reshape((-1, 1, maxlen, 1))\n",
        "seqTest=sequence.pad_sequences(sequences= X_test_trans, maxlen=maxlen, padding='post', dtype='float', truncating='post').reshape((-1, 1, maxlen, 1))\n",
        "\n",
        "es_callback = keras.callbacks.EarlyStopping(monitor='val_loss', patience=6)\n",
        "history  = model.fit(seqTrain, y_train_oneHot, epochs=320, batch_size=90,callbacks=[es_callback], validation_data=(seqTest,y_test_oneHot))\n",
        "\n",
        "##  notes\n",
        "# batch_size 128 is fucking shit compared to 90 \n",
        "\n",
        "# [train] .12 loss & 96% for sequence of 50 \n",
        "# [train] loss: 0.0790 - acc: 0.9708 for sequence of 100 \n",
        "# [train] loss: 0.0647 - acc: 0.975  for sequence of 130 \n",
        "# loss: 0.0591 - acc: 0.9791 - val_loss: 0.0606 - val_acc: 0.9760 for sequence of 150\n",
        "\n"
      ],
      "execution_count": 86,
      "outputs": [
        {
          "output_type": "stream",
          "text": [
            "Train on 8625 samples, validate on 2875 samples\n",
            "Epoch 1/320\n",
            "8625/8625 [==============================] - 7s 800us/step - loss: 0.5013 - acc: 0.8016 - val_loss: 0.5186 - val_acc: 0.7948\n",
            "Epoch 2/320\n",
            "8625/8625 [==============================] - 3s 352us/step - loss: 0.4994 - acc: 0.8017 - val_loss: 0.5218 - val_acc: 0.7948\n",
            "Epoch 3/320\n",
            "8625/8625 [==============================] - 3s 355us/step - loss: 0.5001 - acc: 0.8017 - val_loss: 0.5139 - val_acc: 0.7948\n",
            "Epoch 4/320\n",
            "8625/8625 [==============================] - 3s 353us/step - loss: 0.4997 - acc: 0.8017 - val_loss: 0.5078 - val_acc: 0.7948\n",
            "Epoch 5/320\n",
            "8625/8625 [==============================] - 3s 353us/step - loss: 0.4988 - acc: 0.8017 - val_loss: 0.5086 - val_acc: 0.7948\n",
            "Epoch 6/320\n",
            "8625/8625 [==============================] - 3s 355us/step - loss: 0.4995 - acc: 0.8017 - val_loss: 0.5232 - val_acc: 0.7948\n",
            "Epoch 7/320\n",
            "8625/8625 [==============================] - 3s 352us/step - loss: 0.3852 - acc: 0.8406 - val_loss: 0.4694 - val_acc: 0.8216\n",
            "Epoch 8/320\n",
            "8625/8625 [==============================] - 3s 357us/step - loss: 0.1764 - acc: 0.9405 - val_loss: 0.2695 - val_acc: 0.9002\n",
            "Epoch 9/320\n",
            "8625/8625 [==============================] - 3s 357us/step - loss: 0.1330 - acc: 0.9547 - val_loss: 0.1603 - val_acc: 0.9447\n",
            "Epoch 10/320\n",
            "8625/8625 [==============================] - 3s 355us/step - loss: 0.1171 - acc: 0.9607 - val_loss: 0.1206 - val_acc: 0.9555\n",
            "Epoch 11/320\n",
            "8625/8625 [==============================] - 3s 356us/step - loss: 0.1075 - acc: 0.9634 - val_loss: 0.1358 - val_acc: 0.9520\n",
            "Epoch 12/320\n",
            "8625/8625 [==============================] - 3s 352us/step - loss: 0.1018 - acc: 0.9661 - val_loss: 0.1082 - val_acc: 0.9614\n",
            "Epoch 13/320\n",
            "8625/8625 [==============================] - 3s 353us/step - loss: 0.0961 - acc: 0.9668 - val_loss: 0.1622 - val_acc: 0.9517\n",
            "Epoch 14/320\n",
            "8625/8625 [==============================] - 3s 351us/step - loss: 0.0943 - acc: 0.9667 - val_loss: 0.1658 - val_acc: 0.9503\n",
            "Epoch 15/320\n",
            "8625/8625 [==============================] - 3s 354us/step - loss: 0.0898 - acc: 0.9695 - val_loss: 0.1882 - val_acc: 0.9423\n",
            "Epoch 16/320\n",
            "8625/8625 [==============================] - 3s 352us/step - loss: 0.0898 - acc: 0.9678 - val_loss: 0.1040 - val_acc: 0.9610\n",
            "Epoch 17/320\n",
            "8625/8625 [==============================] - 3s 353us/step - loss: 0.0863 - acc: 0.9703 - val_loss: 0.1047 - val_acc: 0.9610\n",
            "Epoch 18/320\n",
            "8625/8625 [==============================] - 3s 354us/step - loss: 0.0853 - acc: 0.9702 - val_loss: 0.1137 - val_acc: 0.9593\n",
            "Epoch 19/320\n",
            "8625/8625 [==============================] - 3s 354us/step - loss: 0.0828 - acc: 0.9689 - val_loss: 0.0998 - val_acc: 0.9645\n",
            "Epoch 20/320\n",
            "8625/8625 [==============================] - 3s 354us/step - loss: 0.0814 - acc: 0.9707 - val_loss: 0.0979 - val_acc: 0.9645\n",
            "Epoch 21/320\n",
            "8625/8625 [==============================] - 3s 353us/step - loss: 0.0799 - acc: 0.9708 - val_loss: 0.1146 - val_acc: 0.9576\n",
            "Epoch 22/320\n",
            "8625/8625 [==============================] - 3s 354us/step - loss: 0.0781 - acc: 0.9724 - val_loss: 0.1414 - val_acc: 0.9565\n",
            "Epoch 23/320\n",
            "8625/8625 [==============================] - 3s 354us/step - loss: 0.0779 - acc: 0.9724 - val_loss: 0.0975 - val_acc: 0.9642\n",
            "Epoch 24/320\n",
            "8625/8625 [==============================] - 3s 354us/step - loss: 0.0747 - acc: 0.9723 - val_loss: 0.0958 - val_acc: 0.9663\n",
            "Epoch 25/320\n",
            "8625/8625 [==============================] - 3s 351us/step - loss: 0.0732 - acc: 0.9723 - val_loss: 0.1087 - val_acc: 0.9603\n",
            "Epoch 26/320\n",
            "8625/8625 [==============================] - 3s 351us/step - loss: 0.0728 - acc: 0.9732 - val_loss: 0.0838 - val_acc: 0.9683\n",
            "Epoch 27/320\n",
            "8625/8625 [==============================] - 3s 353us/step - loss: 0.0701 - acc: 0.9733 - val_loss: 0.0800 - val_acc: 0.9722\n",
            "Epoch 28/320\n",
            "8625/8625 [==============================] - 3s 351us/step - loss: 0.0704 - acc: 0.9734 - val_loss: 0.0781 - val_acc: 0.9694\n",
            "Epoch 29/320\n",
            "8625/8625 [==============================] - 3s 352us/step - loss: 0.0700 - acc: 0.9732 - val_loss: 0.0668 - val_acc: 0.9757\n",
            "Epoch 30/320\n",
            "8625/8625 [==============================] - 3s 357us/step - loss: 0.0682 - acc: 0.9731 - val_loss: 0.0698 - val_acc: 0.9743\n",
            "Epoch 31/320\n",
            "8625/8625 [==============================] - 3s 354us/step - loss: 0.0679 - acc: 0.9744 - val_loss: 0.0730 - val_acc: 0.9701\n",
            "Epoch 32/320\n",
            "8625/8625 [==============================] - 3s 354us/step - loss: 0.0669 - acc: 0.9731 - val_loss: 0.0785 - val_acc: 0.9690\n",
            "Epoch 33/320\n",
            "8625/8625 [==============================] - 3s 352us/step - loss: 0.0660 - acc: 0.9751 - val_loss: 0.0761 - val_acc: 0.9704\n",
            "Epoch 34/320\n",
            "8625/8625 [==============================] - 3s 353us/step - loss: 0.0644 - acc: 0.9757 - val_loss: 0.0630 - val_acc: 0.9767\n",
            "Epoch 35/320\n",
            "8625/8625 [==============================] - 3s 352us/step - loss: 0.0644 - acc: 0.9750 - val_loss: 0.0810 - val_acc: 0.9683\n",
            "Epoch 36/320\n",
            "8625/8625 [==============================] - 3s 352us/step - loss: 0.0645 - acc: 0.9757 - val_loss: 0.0621 - val_acc: 0.9753\n",
            "Epoch 37/320\n",
            "8625/8625 [==============================] - 3s 356us/step - loss: 0.0610 - acc: 0.9763 - val_loss: 0.0845 - val_acc: 0.9687\n",
            "Epoch 38/320\n",
            "8625/8625 [==============================] - 3s 355us/step - loss: 0.0616 - acc: 0.9767 - val_loss: 0.0603 - val_acc: 0.9770\n",
            "Epoch 39/320\n",
            "8625/8625 [==============================] - 3s 353us/step - loss: 0.0620 - acc: 0.9757 - val_loss: 0.0614 - val_acc: 0.9753\n",
            "Epoch 40/320\n",
            "8625/8625 [==============================] - 3s 357us/step - loss: 0.0598 - acc: 0.9768 - val_loss: 0.0849 - val_acc: 0.9680\n",
            "Epoch 41/320\n",
            "8625/8625 [==============================] - 3s 352us/step - loss: 0.0605 - acc: 0.9765 - val_loss: 0.0657 - val_acc: 0.9750\n",
            "Epoch 42/320\n",
            "8625/8625 [==============================] - 3s 356us/step - loss: 0.0606 - acc: 0.9767 - val_loss: 0.0607 - val_acc: 0.9777\n",
            "Epoch 43/320\n",
            "8625/8625 [==============================] - 3s 356us/step - loss: 0.0591 - acc: 0.9775 - val_loss: 0.0836 - val_acc: 0.9663\n",
            "Epoch 44/320\n",
            "8625/8625 [==============================] - 3s 356us/step - loss: 0.0582 - acc: 0.9769 - val_loss: 0.0707 - val_acc: 0.9725\n",
            "Epoch 45/320\n",
            "8625/8625 [==============================] - 3s 354us/step - loss: 0.0569 - acc: 0.9792 - val_loss: 0.0674 - val_acc: 0.9739\n",
            "Epoch 46/320\n",
            "8625/8625 [==============================] - 3s 354us/step - loss: 0.0571 - acc: 0.9784 - val_loss: 0.0678 - val_acc: 0.9736\n",
            "Epoch 47/320\n",
            "8625/8625 [==============================] - 3s 357us/step - loss: 0.0562 - acc: 0.9787 - val_loss: 0.0542 - val_acc: 0.9795\n",
            "Epoch 48/320\n",
            "8625/8625 [==============================] - 3s 354us/step - loss: 0.0560 - acc: 0.9798 - val_loss: 0.0673 - val_acc: 0.9746\n",
            "Epoch 49/320\n",
            "8625/8625 [==============================] - 3s 356us/step - loss: 0.0563 - acc: 0.9790 - val_loss: 0.0566 - val_acc: 0.9784\n",
            "Epoch 50/320\n",
            "8625/8625 [==============================] - 3s 355us/step - loss: 0.0544 - acc: 0.9788 - val_loss: 0.0573 - val_acc: 0.9798\n",
            "Epoch 51/320\n",
            "8625/8625 [==============================] - 3s 352us/step - loss: 0.0550 - acc: 0.9797 - val_loss: 0.0553 - val_acc: 0.9795\n",
            "Epoch 52/320\n",
            "8625/8625 [==============================] - 3s 352us/step - loss: 0.0535 - acc: 0.9803 - val_loss: 0.0780 - val_acc: 0.9715\n",
            "Epoch 53/320\n",
            "8625/8625 [==============================] - 3s 352us/step - loss: 0.0524 - acc: 0.9811 - val_loss: 0.0604 - val_acc: 0.9763\n",
            "Epoch 54/320\n",
            "8625/8625 [==============================] - 3s 351us/step - loss: 0.0534 - acc: 0.9805 - val_loss: 0.0578 - val_acc: 0.9750\n",
            "Epoch 55/320\n",
            "8625/8625 [==============================] - 3s 350us/step - loss: 0.0513 - acc: 0.9810 - val_loss: 0.0671 - val_acc: 0.9746\n",
            "Epoch 56/320\n",
            "8625/8625 [==============================] - 3s 358us/step - loss: 0.0538 - acc: 0.9809 - val_loss: 0.0882 - val_acc: 0.9673\n",
            "Epoch 57/320\n",
            "8625/8625 [==============================] - 3s 356us/step - loss: 0.0506 - acc: 0.9820 - val_loss: 0.0645 - val_acc: 0.9746\n"
          ],
          "name": "stdout"
        }
      ]
    },
    {
      "cell_type": "code",
      "metadata": {
        "id": "ssBarNyWcuOA",
        "colab_type": "code",
        "colab": {
          "base_uri": "https://localhost:8080/",
          "height": 573
        },
        "outputId": "6a34fbab-91d0-4580-9a61-d93e956b3536"
      },
      "source": [
        "# list all data in history\n",
        "# print(history.history.keys())\n",
        "# summarize history for accuracy\n",
        "plt.plot(history.history['acc'])\n",
        "plt.plot(history.history['val_acc'])\n",
        "plt.title('model accuracy')\n",
        "plt.ylabel('accuracy')\n",
        "plt.xlabel('epoch')\n",
        "plt.legend(['train', 'test'], loc='upper left')\n",
        "plt.show();\n",
        "# summarize history for loss\n",
        "plt.plot(history.history['loss'])\n",
        "plt.plot(history.history['val_loss'])\n",
        "plt.title('model loss')\n",
        "plt.ylabel('loss')\n",
        "plt.xlabel('epoch')\n",
        "plt.legend(['train', 'test'], loc='upper left')\n",
        "plt.show();"
      ],
      "execution_count": 88,
      "outputs": [
        {
          "output_type": "display_data",
          "data": {
            "image/png": "[encoded data removed]",
            "text/plain": [
              "<Figure size 432x288 with 1 Axes>"
            ]
          },
          "metadata": {
            "tags": []
          }
        },
        {
          "output_type": "display_data",
          "data": {
            "image/png": "[encoded data removed]",
            "text/plain": [
              "<Figure size 432x288 with 1 Axes>"
            ]
          },
          "metadata": {
            "tags": []
          }
        }
      ]
    },
    {
      "cell_type": "code",
      "metadata": {
        "id": "QSXfZXsdJkbd",
        "colab_type": "code",
        "colab": {}
      },
      "source": [
        ""
      ],
      "execution_count": 0,
      "outputs": []
    },
    {
      "cell_type": "markdown",
      "metadata": {
        "id": "vDRnWUHIWzIc",
        "colab_type": "text"
      },
      "source": [
        "### Stateful LSTM"
      ]
    },
    {
      "cell_type": "code",
      "metadata": {
        "id": "zQnv1xCFISrS",
        "colab_type": "code",
        "colab": {}
      },
      "source": [
        "seqTrain=sequence.pad_sequences(sequences= X_train_trans, maxlen=maxlen, padding='post', dtype='float32', truncating='post')\n",
        "seqTest=sequence.pad_sequences(sequences= X_test_trans, maxlen=maxlen, padding='post', dtype='float32', truncating='post')\n",
        "\n",
        "seqTrain = seqTrain.reshape((-1, maxlen, 1))\n",
        "seqTest = seqTest.reshape((-1, maxlen, 1))\n",
        "\n",
        "# https://www.analyticsvidhya.com/blog/2019/01/introduction-time-series-classification/\n",
        "# stateful-ness reference https://keras.io/getting-started/sequential-model-guide/\n",
        "## 29; len/29 is a whole number, it is needed... IDK why, but thats what the error message said \n",
        "n = 23\n",
        "\n",
        "\n",
        "model = Sequential()\n",
        "model.add(CuDNNLSTM(160,batch_input_shape=(n, maxlen, 1),stateful=True, return_sequences=True)) # ,return_sequences=True is need for deep (\"stacked\")\n",
        "model.add(BatchNormalization())\n",
        "model.add(CuDNNLSTM(80, stateful=True, return_sequences=True)) # ,return_sequences=True is need for deep (\"stacked\")\n",
        "model.add(CuDNNLSTM(40,  stateful=True, return_sequences=False)) # ,return_sequences=True is need for deep (\"stacked\")\n",
        "model.add(BatchNormalization())\n",
        "model.add(Dense(40))\n",
        "model.add(ReLU())\n",
        "model.add(Dense(outputVectorSize, activation='softmax'))\n",
        "\n",
        "model.summary()"
      ],
      "execution_count": 0,
      "outputs": []
    },
    {
      "cell_type": "code",
      "metadata": {
        "id": "rVUvAVDMISus",
        "colab_type": "code",
        "colab": {}
      },
      "source": [
        "# opt = keras.optimizers.RMSprop(lr=0.0001)\n",
        "\n",
        "# model.compile(loss='categorical_crossentropy', optimizer=opt, metrics=['accuracy'])\n",
        "# model.fit(seqTrain, y_train_oneHot, epochs=40, batch_size=n, validation_data=(seqTest,y_test_oneHot))\n",
        "## not working well"
      ],
      "execution_count": 0,
      "outputs": []
    },
    {
      "cell_type": "markdown",
      "metadata": {
        "id": "rNk7ATuWISxk",
        "colab_type": "text"
      },
      "source": [
        "###  Stacked GRU with Embedding\n",
        "\n",
        "* (Reference for Embedding](https://machinelearningmastery.com/sequence-classification-lstm-recurrent-neural-networks-python-keras/)"
      ]
    },
    {
      "cell_type": "code",
      "metadata": {
        "id": "d-bcxRKjIS3_",
        "colab_type": "code",
        "outputId": "ce8a22f3-65f6-44a9-b117-131ec222d8a4",
        "colab": {
          "base_uri": "https://localhost:8080/",
          "height": 1000
        }
      },
      "source": [
        "seqTrain=sequence.pad_sequences(sequences= X_train_trans, maxlen=maxlen, padding='post', dtype='float32', truncating='post')\n",
        "seqTest=sequence.pad_sequences(sequences= X_test_trans, maxlen=maxlen, padding='post', dtype='float32', truncating='post')\n",
        "\n",
        "# seqTrain = seqTrain.reshape((-1, maxlen))\n",
        "# seqTest = seqTest.reshape((-1, maxlen))\n",
        "\n",
        "\n",
        "model = Sequential()\n",
        "model.add(Embedding(seqTrain.shape[0], maxlen, input_length=maxlen))\n",
        "# input_length should be > maxLen? https://github.com/LuisPB7/fnc-msc/blob/master/fnc-model.py#L219\n",
        "\n",
        "model.add(CuDNNGRU(160,return_sequences=True)) # ,return_sequences=True is need for deep \n",
        "model.add(CuDNNGRU(80))\n",
        "\n",
        "model.add(Dense(50,activation='elu'))\n",
        "model.add(Dropout(0.2))\n",
        "model.add(BatchNormalization())\n",
        "\n",
        "model.add(Dense(20,activation='elu'))\n",
        "model.add(Dropout(0.2))\n",
        "model.add(Dense(outputVectorSize, activation='softmax'))\n",
        "\n",
        "model.compile(loss='categorical_crossentropy', optimizer=\"adam\", metrics=['categorical_accuracy'])\n",
        "# model.fit(seqTrain, y_train_oneHot, epochs=10, batch_size=50, validation_data=(seqTest,y_test_oneHot)) # 0.5 ; 80 on train\n",
        "es_callback = keras.callbacks.EarlyStopping(monitor='val_loss', patience=10)\n",
        "history  = model.fit(seqTrain, y_train_oneHot, epochs=320, batch_size=90,callbacks=[es_callback], validation_data=(seqTest,y_test_oneHot))"
      ],
      "execution_count": 77,
      "outputs": [
        {
          "output_type": "stream",
          "text": [
            "Train on 8625 samples, validate on 2875 samples\n",
            "Epoch 1/320\n",
            "8625/8625 [==============================] - 6s 696us/step - loss: 0.5948 - categorical_accuracy: 0.7157 - val_loss: 0.5276 - val_categorical_accuracy: 0.7948\n",
            "Epoch 2/320\n",
            "8625/8625 [==============================] - 2s 270us/step - loss: 0.5167 - categorical_accuracy: 0.8009 - val_loss: 0.5639 - val_categorical_accuracy: 0.7948\n",
            "Epoch 3/320\n",
            "8625/8625 [==============================] - 2s 275us/step - loss: 0.5095 - categorical_accuracy: 0.8013 - val_loss: 0.5281 - val_categorical_accuracy: 0.7948\n",
            "Epoch 4/320\n",
            "8625/8625 [==============================] - 2s 272us/step - loss: 0.5095 - categorical_accuracy: 0.8010 - val_loss: 0.5162 - val_categorical_accuracy: 0.7948\n",
            "Epoch 5/320\n",
            "8625/8625 [==============================] - 2s 269us/step - loss: 0.5060 - categorical_accuracy: 0.8017 - val_loss: 0.5146 - val_categorical_accuracy: 0.7948\n",
            "Epoch 6/320\n",
            "8625/8625 [==============================] - 2s 268us/step - loss: 0.5068 - categorical_accuracy: 0.8017 - val_loss: 0.5173 - val_categorical_accuracy: 0.7948\n",
            "Epoch 7/320\n",
            "8625/8625 [==============================] - 2s 273us/step - loss: 0.5043 - categorical_accuracy: 0.8016 - val_loss: 0.5076 - val_categorical_accuracy: 0.7948\n",
            "Epoch 8/320\n",
            "8625/8625 [==============================] - 2s 270us/step - loss: 0.5028 - categorical_accuracy: 0.8017 - val_loss: 0.5094 - val_categorical_accuracy: 0.7948\n",
            "Epoch 9/320\n",
            "8625/8625 [==============================] - 2s 272us/step - loss: 0.5022 - categorical_accuracy: 0.8017 - val_loss: 0.5077 - val_categorical_accuracy: 0.7948\n",
            "Epoch 10/320\n",
            "8625/8625 [==============================] - 2s 271us/step - loss: 0.5034 - categorical_accuracy: 0.8017 - val_loss: 0.5076 - val_categorical_accuracy: 0.7948\n",
            "Epoch 11/320\n",
            "8625/8625 [==============================] - 2s 276us/step - loss: 0.5014 - categorical_accuracy: 0.8017 - val_loss: 0.5461 - val_categorical_accuracy: 0.7948\n",
            "Epoch 12/320\n",
            "8625/8625 [==============================] - 2s 272us/step - loss: 0.5022 - categorical_accuracy: 0.8017 - val_loss: 0.5085 - val_categorical_accuracy: 0.7948\n",
            "Epoch 13/320\n",
            "8625/8625 [==============================] - 2s 270us/step - loss: 0.5029 - categorical_accuracy: 0.8017 - val_loss: 0.5077 - val_categorical_accuracy: 0.7948\n",
            "Epoch 14/320\n",
            "8625/8625 [==============================] - 2s 271us/step - loss: 0.5015 - categorical_accuracy: 0.8017 - val_loss: 0.5077 - val_categorical_accuracy: 0.7948\n",
            "Epoch 15/320\n",
            "8625/8625 [==============================] - 2s 269us/step - loss: 0.5009 - categorical_accuracy: 0.8017 - val_loss: 0.5092 - val_categorical_accuracy: 0.7948\n",
            "Epoch 16/320\n",
            "8625/8625 [==============================] - 2s 272us/step - loss: 0.5015 - categorical_accuracy: 0.8017 - val_loss: 0.5092 - val_categorical_accuracy: 0.7948\n",
            "Epoch 17/320\n",
            "8625/8625 [==============================] - 2s 268us/step - loss: 0.5022 - categorical_accuracy: 0.8017 - val_loss: 0.5076 - val_categorical_accuracy: 0.7948\n",
            "Epoch 18/320\n",
            "8625/8625 [==============================] - 2s 269us/step - loss: 0.5006 - categorical_accuracy: 0.8017 - val_loss: 0.5082 - val_categorical_accuracy: 0.7948\n",
            "Epoch 19/320\n",
            "8625/8625 [==============================] - 2s 269us/step - loss: 0.5007 - categorical_accuracy: 0.8017 - val_loss: 0.5076 - val_categorical_accuracy: 0.7948\n",
            "Epoch 20/320\n",
            "8625/8625 [==============================] - 2s 271us/step - loss: 0.5018 - categorical_accuracy: 0.8017 - val_loss: 0.5076 - val_categorical_accuracy: 0.7948\n",
            "Epoch 21/320\n",
            "8625/8625 [==============================] - 2s 269us/step - loss: 0.5003 - categorical_accuracy: 0.8017 - val_loss: 0.5077 - val_categorical_accuracy: 0.7948\n",
            "Epoch 22/320\n",
            "8625/8625 [==============================] - 2s 269us/step - loss: 0.5002 - categorical_accuracy: 0.8017 - val_loss: 0.5091 - val_categorical_accuracy: 0.7948\n",
            "Epoch 23/320\n",
            "8625/8625 [==============================] - 2s 269us/step - loss: 0.5009 - categorical_accuracy: 0.8017 - val_loss: 0.5096 - val_categorical_accuracy: 0.7948\n",
            "Epoch 24/320\n",
            "8625/8625 [==============================] - 2s 269us/step - loss: 0.5003 - categorical_accuracy: 0.8017 - val_loss: 0.5076 - val_categorical_accuracy: 0.7948\n",
            "Epoch 25/320\n",
            "8625/8625 [==============================] - 2s 271us/step - loss: 0.5004 - categorical_accuracy: 0.8017 - val_loss: 0.5097 - val_categorical_accuracy: 0.7948\n",
            "Epoch 26/320\n",
            "8625/8625 [==============================] - 2s 272us/step - loss: 0.5003 - categorical_accuracy: 0.8017 - val_loss: 0.5086 - val_categorical_accuracy: 0.7948\n",
            "Epoch 27/320\n",
            "8625/8625 [==============================] - 2s 272us/step - loss: 0.5007 - categorical_accuracy: 0.8017 - val_loss: 0.5076 - val_categorical_accuracy: 0.7948\n",
            "Epoch 28/320\n",
            "8625/8625 [==============================] - 2s 274us/step - loss: 0.5000 - categorical_accuracy: 0.8017 - val_loss: 0.5075 - val_categorical_accuracy: 0.7948\n",
            "Epoch 29/320\n",
            "8625/8625 [==============================] - 2s 274us/step - loss: 0.4996 - categorical_accuracy: 0.8017 - val_loss: 0.5081 - val_categorical_accuracy: 0.7948\n",
            "Epoch 30/320\n",
            "8625/8625 [==============================] - 2s 270us/step - loss: 0.5000 - categorical_accuracy: 0.8017 - val_loss: 0.5076 - val_categorical_accuracy: 0.7948\n",
            "Epoch 31/320\n",
            "8625/8625 [==============================] - 2s 270us/step - loss: 0.4997 - categorical_accuracy: 0.8017 - val_loss: 0.5084 - val_categorical_accuracy: 0.7948\n",
            "Epoch 32/320\n",
            "8625/8625 [==============================] - 2s 271us/step - loss: 0.4995 - categorical_accuracy: 0.8017 - val_loss: 0.5086 - val_categorical_accuracy: 0.7948\n",
            "Epoch 33/320\n",
            "8625/8625 [==============================] - 2s 271us/step - loss: 0.4998 - categorical_accuracy: 0.8017 - val_loss: 0.5076 - val_categorical_accuracy: 0.7948\n",
            "Epoch 34/320\n",
            "8625/8625 [==============================] - 2s 270us/step - loss: 0.5002 - categorical_accuracy: 0.8017 - val_loss: 0.5086 - val_categorical_accuracy: 0.7948\n",
            "Epoch 35/320\n",
            "8625/8625 [==============================] - 2s 271us/step - loss: 0.4993 - categorical_accuracy: 0.8017 - val_loss: 0.5094 - val_categorical_accuracy: 0.7948\n",
            "Epoch 36/320\n",
            "8625/8625 [==============================] - 2s 271us/step - loss: 0.5004 - categorical_accuracy: 0.8017 - val_loss: 0.5079 - val_categorical_accuracy: 0.7948\n",
            "Epoch 37/320\n",
            "8625/8625 [==============================] - 2s 270us/step - loss: 0.4999 - categorical_accuracy: 0.8017 - val_loss: 0.5079 - val_categorical_accuracy: 0.7948\n",
            "Epoch 38/320\n",
            "8625/8625 [==============================] - 2s 271us/step - loss: 0.4999 - categorical_accuracy: 0.8017 - val_loss: 0.5080 - val_categorical_accuracy: 0.7948\n"
          ],
          "name": "stdout"
        }
      ]
    },
    {
      "cell_type": "code",
      "metadata": {
        "id": "I55chDykg0h6",
        "colab_type": "code",
        "colab": {
          "base_uri": "https://localhost:8080/",
          "height": 590
        },
        "outputId": "ea5ad72e-c152-4820-a6c5-aae021125e3b"
      },
      "source": [
        "# list all data in history\n",
        "print(history.history.keys())\n",
        "# summarize history for accuracy\n",
        "plt.plot(history.history['categorical_accuracy'])\n",
        "plt.plot(history.history['val_categorical_accuracy'])\n",
        "plt.title('model accuracy')\n",
        "plt.ylabel('accuracy')\n",
        "plt.xlabel('epoch')\n",
        "plt.legend(['train', 'test'], loc='upper left')\n",
        "plt.show();\n",
        "# summarize history for loss\n",
        "plt.plot(history.history['loss'])\n",
        "plt.plot(history.history['val_loss'])\n",
        "plt.title('model loss')\n",
        "plt.ylabel('loss')\n",
        "plt.xlabel('epoch')\n",
        "plt.legend(['train', 'test'], loc='upper left')\n",
        "plt.show();"
      ],
      "execution_count": 80,
      "outputs": [
        {
          "output_type": "stream",
          "text": [
            "dict_keys(['val_loss', 'val_categorical_accuracy', 'loss', 'categorical_accuracy'])\n"
          ],
          "name": "stdout"
        },
        {
          "output_type": "display_data",
          "data": {
            "image/png": "[encoded data removed]",
            "text/plain": [
              "<Figure size 432x288 with 1 Axes>"
            ]
          },
          "metadata": {
            "tags": []
          }
        },
        {
          "output_type": "display_data",
          "data": {
            "image/png": "[encoded data removed]",
            "text/plain": [
              "<Figure size 432x288 with 1 Axes>"
            ]
          },
          "metadata": {
            "tags": []
          }
        }
      ]
    },
    {
      "cell_type": "markdown",
      "metadata": {
        "id": "uRPoBJcAIS67",
        "colab_type": "text"
      },
      "source": [
        "## Stacked LSTM"
      ]
    },
    {
      "cell_type": "code",
      "metadata": {
        "id": "d0t9CNPwISCf",
        "colab_type": "code",
        "outputId": "ba2e5f88-aff6-4477-95f8-55aaa439b30d",
        "colab": {
          "base_uri": "https://localhost:8080/",
          "height": 306
        }
      },
      "source": [
        "seqTrain=sequence.pad_sequences(sequences= X_train_trans, maxlen=maxlen, padding='post', dtype='float32', truncating='post').reshape((-1, maxlen, 1))\n",
        "seqTest=sequence.pad_sequences(sequences= X_test_trans, maxlen=maxlen, padding='post', dtype='float32', truncating='post').reshape((-1, maxlen, 1))\n",
        "\n",
        "model = Sequential()\n",
        "\n",
        "model.add(Bidirectional(CuDNNGRU(150,return_sequences=True))) # ,return_sequences=True is need for deep \n",
        "model.add(BatchNormalization())\n",
        "model.add(Dropout(0.2))\n",
        "\n",
        "model.add(Bidirectional(CuDNNGRU(150,return_sequences=True))) # ,return_sequences=True is need for deep \n",
        "model.add(BatchNormalization())\n",
        "model.add(Dropout(0.2))\n",
        "\n",
        "model.add(Bidirectional(CuDNNGRU(90,return_sequences=False))) # ,return_sequences=True is need for deep \n",
        "model.add(BatchNormalization())\n",
        "model.add(Dropout(0.2))\n",
        "\n",
        "model.add(Dense(40, activation='elu'))\n",
        "model.add(Dropout(0.2))\n",
        "model.add(BatchNormalization())\n",
        "\n",
        "model.add(Dense(1, activation='sigmoid'))\n",
        "\n",
        "# model.summary()\n",
        "es_callback = keras.callbacks.EarlyStopping(monitor='val_loss', patience=6)\n",
        "chk = ModelCheckpoint('best_model.pkl', monitor='val_acc', save_best_only=True, mode='max', verbose=1)\n",
        "\n",
        "model.compile(loss='binary_crossentropy', optimizer=RMSprop_low_LR, metrics=['accuracy'])\n",
        "history  = model.fit(seqTrain, y_train, epochs=100, batch_size=90,callbacks=[es_callback], validation_data=(seqTest,y_test))"
      ],
      "execution_count": 119,
      "outputs": [
        {
          "output_type": "stream",
          "text": [
            "Train on 8625 samples, validate on 2875 samples\n",
            "Epoch 1/100\n",
            "8625/8625 [==============================] - 20s 2ms/step - loss: 0.4831 - acc: 0.7825 - val_loss: 0.2214 - val_acc: 0.9270\n",
            "Epoch 2/100\n",
            "8625/8625 [==============================] - 11s 1ms/step - loss: 0.3384 - acc: 0.8888 - val_loss: 0.1992 - val_acc: 0.9416\n",
            "Epoch 3/100\n",
            "8625/8625 [==============================] - 11s 1ms/step - loss: 0.2925 - acc: 0.9154 - val_loss: 0.2658 - val_acc: 0.9332\n",
            "Epoch 4/100\n",
            "8625/8625 [==============================] - 11s 1ms/step - loss: 0.2576 - acc: 0.9289 - val_loss: 0.2598 - val_acc: 0.9412\n",
            "Epoch 5/100\n",
            "8625/8625 [==============================] - 11s 1ms/step - loss: 0.2406 - acc: 0.9337 - val_loss: 0.6714 - val_acc: 0.6790\n",
            "Epoch 6/100\n",
            "8625/8625 [==============================] - 11s 1ms/step - loss: 0.2180 - acc: 0.9406 - val_loss: 0.2521 - val_acc: 0.9409\n",
            "Epoch 7/100\n",
            "8625/8625 [==============================] - 11s 1ms/step - loss: 0.2056 - acc: 0.9477 - val_loss: 0.4043 - val_acc: 0.8800\n",
            "Epoch 8/100\n",
            "8625/8625 [==============================] - 11s 1ms/step - loss: 0.1924 - acc: 0.9441 - val_loss: 0.6366 - val_acc: 0.7277\n"
          ],
          "name": "stdout"
        }
      ]
    },
    {
      "cell_type": "code",
      "metadata": {
        "id": "VNKIXvUinXWR",
        "colab_type": "code",
        "colab": {
          "base_uri": "https://localhost:8080/",
          "height": 442
        },
        "outputId": "e3ce1aa7-a17e-4b2b-f0c9-dcbe39c0d7be"
      },
      "source": [
        "seqTrain=sequence.pad_sequences(sequences= X_train_trans, maxlen=maxlen, padding='post', dtype='float32', truncating='post').reshape((-1, maxlen, 1))\n",
        "seqTest=sequence.pad_sequences(sequences= X_test_trans, maxlen=maxlen, padding='post', dtype='float32', truncating='post').reshape((-1, maxlen, 1))\n",
        "\n",
        "model = Sequential()\n",
        "\n",
        "model.add(Bidirectional(CuDNNGRU(150,return_sequences=True))) # ,return_sequences=True is need for deep \n",
        "model.add(BatchNormalization())\n",
        "model.add(Dropout(0.2))\n",
        "\n",
        "model.add(Bidirectional(CuDNNGRU(150,return_sequences=False))) # ,return_sequences=True is need for deep \n",
        "model.add(BatchNormalization())\n",
        "model.add(Dropout(0.2))\n",
        "\n",
        "model.add(Dense(40, activation='elu'))\n",
        "model.add(Dropout(0.2))\n",
        "model.add(BatchNormalization())\n",
        "\n",
        "model.add(Dense(1, activation='sigmoid'))\n",
        "\n",
        "# model.summary()\n",
        "es_callback = keras.callbacks.EarlyStopping(monitor='val_loss', patience=6)\n",
        "chk = ModelCheckpoint('best_model.pkl', monitor='val_acc', save_best_only=True, mode='max', verbose=1)\n",
        "\n",
        "model.compile(loss='binary_crossentropy', optimizer=RMSprop_low_LR, metrics=['accuracy'])\n",
        "history  = model.fit(seqTrain, y_train, epochs=100, batch_size=90,callbacks=[es_callback], validation_data=(seqTest,y_test))\n"
      ],
      "execution_count": 116,
      "outputs": [
        {
          "output_type": "stream",
          "text": [
            "Train on 8625 samples, validate on 2875 samples\n",
            "Epoch 1/100\n",
            "8625/8625 [==============================] - 16s 2ms/step - loss: 0.6102 - acc: 0.6765 - val_loss: 0.4176 - val_acc: 0.8720\n",
            "Epoch 2/100\n",
            "8625/8625 [==============================] - 8s 913us/step - loss: 0.4335 - acc: 0.8436 - val_loss: 0.2929 - val_acc: 0.9123\n",
            "Epoch 3/100\n",
            "8625/8625 [==============================] - 8s 915us/step - loss: 0.3475 - acc: 0.8931 - val_loss: 0.2673 - val_acc: 0.9221\n",
            "Epoch 4/100\n",
            "8625/8625 [==============================] - 8s 916us/step - loss: 0.2885 - acc: 0.9234 - val_loss: 0.2163 - val_acc: 0.9325\n",
            "Epoch 5/100\n",
            "8625/8625 [==============================] - 8s 915us/step - loss: 0.2587 - acc: 0.9304 - val_loss: 0.2102 - val_acc: 0.9343\n",
            "Epoch 6/100\n",
            "8625/8625 [==============================] - 8s 920us/step - loss: 0.2366 - acc: 0.9376 - val_loss: 0.2835 - val_acc: 0.9259\n",
            "Epoch 7/100\n",
            "8625/8625 [==============================] - 8s 920us/step - loss: 0.2084 - acc: 0.9439 - val_loss: 0.1836 - val_acc: 0.9419\n",
            "Epoch 8/100\n",
            "8625/8625 [==============================] - 8s 922us/step - loss: 0.1997 - acc: 0.9430 - val_loss: 0.1613 - val_acc: 0.9496\n",
            "Epoch 9/100\n",
            "8625/8625 [==============================] - 8s 918us/step - loss: 0.1817 - acc: 0.9454 - val_loss: 0.1838 - val_acc: 0.9426\n",
            "Epoch 10/100\n",
            "8625/8625 [==============================] - 8s 923us/step - loss: 0.1728 - acc: 0.9490 - val_loss: 0.3413 - val_acc: 0.8988\n",
            "Epoch 11/100\n",
            "8625/8625 [==============================] - 8s 923us/step - loss: 0.1624 - acc: 0.9520 - val_loss: 0.1664 - val_acc: 0.9499\n",
            "Epoch 12/100\n",
            "8625/8625 [==============================] - 8s 920us/step - loss: 0.1573 - acc: 0.9527 - val_loss: 0.2187 - val_acc: 0.9367\n"
          ],
          "name": "stdout"
        }
      ]
    },
    {
      "cell_type": "code",
      "metadata": {
        "id": "_IRDZPcmiRlR",
        "colab_type": "code",
        "colab": {
          "base_uri": "https://localhost:8080/",
          "height": 573
        },
        "outputId": "3aa94f0c-8d9a-436a-892e-e0dcea2209cb"
      },
      "source": [
        "# list all data in history\n",
        "# print(history.history.keys())\n",
        "# summarize history for accuracy\n",
        "plt.plot(history.history['acc'])\n",
        "plt.plot(history.history['val_acc'])\n",
        "plt.title('model accuracy')\n",
        "plt.ylabel('accuracy')\n",
        "plt.xlabel('epoch')\n",
        "plt.legend(['train', 'test'], loc='upper left')\n",
        "plt.show();\n",
        "# summarize history for loss\n",
        "plt.plot(history.history['loss'])\n",
        "plt.plot(history.history['val_loss'])\n",
        "plt.title('model loss')\n",
        "plt.ylabel('loss')\n",
        "plt.xlabel('epoch')\n",
        "plt.legend(['train', 'test'], loc='upper left')\n",
        "plt.show();"
      ],
      "execution_count": 118,
      "outputs": [
        {
          "output_type": "display_data",
          "data": {
            "image/png": "[encoded data removed]",
            "text/plain": [
              "<Figure size 432x288 with 1 Axes>"
            ]
          },
          "metadata": {
            "tags": []
          }
        },
        {
          "output_type": "display_data",
          "data": {
            "image/png": "[encoded data removed]",
            "text/plain": [
              "<Figure size 432x288 with 1 Axes>"
            ]
          },
          "metadata": {
            "tags": []
          }
        }
      ]
    },
    {
      "cell_type": "markdown",
      "metadata": {
        "id": "DgAk311xIR_d",
        "colab_type": "text"
      },
      "source": [
        "## Conv1D -> LSTM"
      ]
    },
    {
      "cell_type": "code",
      "metadata": {
        "id": "Gs_-aH45IR74",
        "colab_type": "code",
        "colab": {}
      },
      "source": [
        "seqTrain=sequence.pad_sequences(sequences= X_train_trans, maxlen=maxlen, padding='post', dtype='float32', truncating='post')\n",
        "seqTest=sequence.pad_sequences(sequences= X_test_trans, maxlen=maxlen, padding='post', dtype='float32', truncating='post')\n",
        "\n",
        "# seqTrain=sequence.pad_sequences(sequences= X_train_trans, maxlen=maxlen, padding='post', dtype='float32', truncating='post').reshape((-1, maxlen, 1))\n",
        "# seqTest=sequence.pad_sequences(sequences= X_test_trans, maxlen=maxlen, padding='post', dtype='float32', truncating='post').reshape((-1, maxlen, 1))\n",
        "\n",
        "\n",
        "model = Sequential()\n",
        "model.add(Embedding(seqTrain.shape[0], maxlen, input_length=maxlen))\n",
        "\n",
        "model.add(Conv1D(160, 100, padding = 'same', use_bias= False)) # (1,Chans,Samples), use_bias= False))\n",
        "model.add(BatchNormalization(axis = 1))\n",
        "\n",
        "\n",
        "model.add(Bidirectional(CuDNNLSTM(80, return_sequences=False)))\n",
        "model.add(BatchNormalization(axis = 1))\n",
        "\n",
        "model.add(Dense(outputVectorSize, name = 'dense',kernel_constraint = max_norm(norm_rate),activation='sigmoid'))\n",
        "\n",
        "# model.summary()\n",
        "\n",
        "chk = ModelCheckpoint('best_model.pkl', monitor='val_acc', save_best_only=True, mode='max', verbose=1)\n",
        "es_callback = keras.callbacks.EarlyStopping(monitor='val_loss', patience=6)\n",
        "\n",
        "model.compile(loss='binary_crossentropy', optimizer=RMSprop_low_LR, metrics=['accuracy'])\n",
        "history  = model.fit(seqTrain, y_train_oneHot, epochs=100, batch_size=90,callbacks=[es_callback,chk], validation_data=(seqTest,y_test_oneHot))\n"
      ],
      "execution_count": 0,
      "outputs": []
    },
    {
      "cell_type": "code",
      "metadata": {
        "id": "wFqJo_QxIR48",
        "colab_type": "code",
        "colab": {}
      },
      "source": [
        "# list all data in history\n",
        "# print(history.history.keys())\n",
        "# summarize history for accuracy\n",
        "plt.plot(history.history['acc'])\n",
        "plt.plot(history.history['val_acc'])\n",
        "plt.title('model accuracy')\n",
        "plt.ylabel('accuracy')\n",
        "plt.xlabel('epoch')\n",
        "plt.legend(['train', 'test'], loc='upper left')\n",
        "plt.show();\n",
        "# summarize history for loss\n",
        "plt.plot(history.history['loss'])\n",
        "plt.plot(history.history['val_loss'])\n",
        "plt.title('model loss')\n",
        "plt.ylabel('loss')\n",
        "plt.xlabel('epoch')\n",
        "plt.legend(['train', 'test'], loc='upper left')\n",
        "plt.show();"
      ],
      "execution_count": 0,
      "outputs": []
    },
    {
      "cell_type": "code",
      "metadata": {
        "id": "DvxwRDYDYBrW",
        "colab_type": "code",
        "colab": {}
      },
      "source": [
        ""
      ],
      "execution_count": 0,
      "outputs": []
    },
    {
      "cell_type": "markdown",
      "metadata": {
        "id": "sii81CntYBuN",
        "colab_type": "text"
      },
      "source": [
        "[autoencoder example](https://medium.com/dabbler-in-de-stress/detecting-epileptic-seizures-for-eeg-data-56e6103bb591)\n",
        "\n",
        "\n"
      ]
    },
    {
      "cell_type": "code",
      "metadata": {
        "id": "EIVMzB1uYBz6",
        "colab_type": "code",
        "colab": {}
      },
      "source": [
        ""
      ],
      "execution_count": 0,
      "outputs": []
    },
    {
      "cell_type": "code",
      "metadata": {
        "id": "XLs-8tVGYBxO",
        "colab_type": "code",
        "colab": {
          "base_uri": "https://localhost:8080/",
          "height": 341
        },
        "outputId": "d86b1921-bd33-4970-e507-dcec7ad7090a"
      },
      "source": [
        "seqTrain=sequence.pad_sequences(sequences= X_train_trans, maxlen=maxlen, padding='post', dtype='float32', truncating='post').reshape((-1, maxlen, 1))\n",
        "seqTest=sequence.pad_sequences(sequences= X_test_trans, maxlen=maxlen, padding='post', dtype='float32', truncating='post').reshape((-1, maxlen, ))\n",
        "\n",
        "model = Sequential()\n",
        "\n",
        "model.add(Bidirectional(CuDNNGRU(60,return_sequences=True))) # ,return_sequences=True is need for deep \n",
        "model.add(BatchNormalization())\n",
        "model.add(Dropout(0.2))\n",
        "\n",
        "model.add(Dense(20, activation='elu'))\n",
        "model.add(Dropout(0.2))\n",
        "model.add(BatchNormalization())\n",
        "\n",
        "model.add(Dense(1, activation='sigmoid'))\n",
        "\n",
        "# model.summary()\n",
        "es_callback = keras.callbacks.EarlyStopping(monitor='val_loss', patience=6)\n",
        "chk = ModelCheckpoint('best_model.pkl', monitor='val_acc', save_best_only=True, mode='max', verbose=1)\n",
        "\n",
        "model.compile(loss='binary_crossentropy', optimizer=RMSprop_low_LR, metrics=['accuracy'])\n",
        "history  = model.fit(seqTrain, y_train, epochs=100, batch_size=90,callbacks=[es_callback], validation_data=(seqTest,y_test))"
      ],
      "execution_count": 138,
      "outputs": [
        {
          "output_type": "error",
          "ename": "ValueError",
          "evalue": "ignored",
          "traceback": [
            "\u001b[0;31m---------------------------------------------------------------------------\u001b[0m",
            "\u001b[0;31mValueError\u001b[0m                                Traceback (most recent call last)",
            "\u001b[0;32m<ipython-input-138-a5f5f8bc9c85>\u001b[0m in \u001b[0;36m<module>\u001b[0;34m()\u001b[0m\n\u001b[1;32m     19\u001b[0m \u001b[0;34m\u001b[0m\u001b[0m\n\u001b[1;32m     20\u001b[0m \u001b[0mmodel\u001b[0m\u001b[0;34m.\u001b[0m\u001b[0mcompile\u001b[0m\u001b[0;34m(\u001b[0m\u001b[0mloss\u001b[0m\u001b[0;34m=\u001b[0m\u001b[0;34m'binary_crossentropy'\u001b[0m\u001b[0;34m,\u001b[0m \u001b[0moptimizer\u001b[0m\u001b[0;34m=\u001b[0m\u001b[0mRMSprop_low_LR\u001b[0m\u001b[0;34m,\u001b[0m \u001b[0mmetrics\u001b[0m\u001b[0;34m=\u001b[0m\u001b[0;34m[\u001b[0m\u001b[0;34m'accuracy'\u001b[0m\u001b[0;34m]\u001b[0m\u001b[0;34m)\u001b[0m\u001b[0;34m\u001b[0m\u001b[0;34m\u001b[0m\u001b[0m\n\u001b[0;32m---> 21\u001b[0;31m \u001b[0mhistory\u001b[0m  \u001b[0;34m=\u001b[0m \u001b[0mmodel\u001b[0m\u001b[0;34m.\u001b[0m\u001b[0mfit\u001b[0m\u001b[0;34m(\u001b[0m\u001b[0mseqTrain\u001b[0m\u001b[0;34m,\u001b[0m \u001b[0my_train\u001b[0m\u001b[0;34m,\u001b[0m \u001b[0mepochs\u001b[0m\u001b[0;34m=\u001b[0m\u001b[0;36m100\u001b[0m\u001b[0;34m,\u001b[0m \u001b[0mbatch_size\u001b[0m\u001b[0;34m=\u001b[0m\u001b[0;36m90\u001b[0m\u001b[0;34m,\u001b[0m\u001b[0mcallbacks\u001b[0m\u001b[0;34m=\u001b[0m\u001b[0;34m[\u001b[0m\u001b[0mes_callback\u001b[0m\u001b[0;34m]\u001b[0m\u001b[0;34m,\u001b[0m \u001b[0mvalidation_data\u001b[0m\u001b[0;34m=\u001b[0m\u001b[0;34m(\u001b[0m\u001b[0mseqTest\u001b[0m\u001b[0;34m,\u001b[0m\u001b[0my_test\u001b[0m\u001b[0;34m)\u001b[0m\u001b[0;34m)\u001b[0m\u001b[0;34m\u001b[0m\u001b[0;34m\u001b[0m\u001b[0m\n\u001b[0m",
            "\u001b[0;32m/usr/local/lib/python3.6/dist-packages/keras/engine/training.py\u001b[0m in \u001b[0;36mfit\u001b[0;34m(self, x, y, batch_size, epochs, verbose, callbacks, validation_split, validation_data, shuffle, class_weight, sample_weight, initial_epoch, steps_per_epoch, validation_steps, validation_freq, max_queue_size, workers, use_multiprocessing, **kwargs)\u001b[0m\n\u001b[1;32m   1087\u001b[0m             \u001b[0msample_weight\u001b[0m\u001b[0;34m=\u001b[0m\u001b[0msample_weight\u001b[0m\u001b[0;34m,\u001b[0m\u001b[0;34m\u001b[0m\u001b[0;34m\u001b[0m\u001b[0m\n\u001b[1;32m   1088\u001b[0m             \u001b[0mclass_weight\u001b[0m\u001b[0;34m=\u001b[0m\u001b[0mclass_weight\u001b[0m\u001b[0;34m,\u001b[0m\u001b[0;34m\u001b[0m\u001b[0;34m\u001b[0m\u001b[0m\n\u001b[0;32m-> 1089\u001b[0;31m             batch_size=batch_size)\n\u001b[0m\u001b[1;32m   1090\u001b[0m \u001b[0;34m\u001b[0m\u001b[0m\n\u001b[1;32m   1091\u001b[0m         \u001b[0;31m# Prepare validation data.\u001b[0m\u001b[0;34m\u001b[0m\u001b[0;34m\u001b[0m\u001b[0;34m\u001b[0m\u001b[0m\n",
            "\u001b[0;32m/usr/local/lib/python3.6/dist-packages/keras/engine/training.py\u001b[0m in \u001b[0;36m_standardize_user_data\u001b[0;34m(self, x, y, sample_weight, class_weight, check_array_lengths, batch_size)\u001b[0m\n\u001b[1;32m    793\u001b[0m                 \u001b[0mfeed_output_shapes\u001b[0m\u001b[0;34m,\u001b[0m\u001b[0;34m\u001b[0m\u001b[0;34m\u001b[0m\u001b[0m\n\u001b[1;32m    794\u001b[0m                 \u001b[0mcheck_batch_axis\u001b[0m\u001b[0;34m=\u001b[0m\u001b[0;32mFalse\u001b[0m\u001b[0;34m,\u001b[0m  \u001b[0;31m# Don't enforce the batch size.\u001b[0m\u001b[0;34m\u001b[0m\u001b[0;34m\u001b[0m\u001b[0m\n\u001b[0;32m--> 795\u001b[0;31m                 exception_prefix='target')\n\u001b[0m\u001b[1;32m    796\u001b[0m \u001b[0;34m\u001b[0m\u001b[0m\n\u001b[1;32m    797\u001b[0m             \u001b[0;31m# Generate sample-wise weight values given the `sample_weight` and\u001b[0m\u001b[0;34m\u001b[0m\u001b[0;34m\u001b[0m\u001b[0;34m\u001b[0m\u001b[0m\n",
            "\u001b[0;32m/usr/local/lib/python3.6/dist-packages/keras/engine/training_utils.py\u001b[0m in \u001b[0;36mstandardize_input_data\u001b[0;34m(data, names, shapes, check_batch_axis, exception_prefix)\u001b[0m\n\u001b[1;32m    129\u001b[0m                         \u001b[0;34m': expected '\u001b[0m \u001b[0;34m+\u001b[0m \u001b[0mnames\u001b[0m\u001b[0;34m[\u001b[0m\u001b[0mi\u001b[0m\u001b[0;34m]\u001b[0m \u001b[0;34m+\u001b[0m \u001b[0;34m' to have '\u001b[0m \u001b[0;34m+\u001b[0m\u001b[0;34m\u001b[0m\u001b[0;34m\u001b[0m\u001b[0m\n\u001b[1;32m    130\u001b[0m                         \u001b[0mstr\u001b[0m\u001b[0;34m(\u001b[0m\u001b[0mlen\u001b[0m\u001b[0;34m(\u001b[0m\u001b[0mshape\u001b[0m\u001b[0;34m)\u001b[0m\u001b[0;34m)\u001b[0m \u001b[0;34m+\u001b[0m \u001b[0;34m' dimensions, but got array '\u001b[0m\u001b[0;34m\u001b[0m\u001b[0;34m\u001b[0m\u001b[0m\n\u001b[0;32m--> 131\u001b[0;31m                         'with shape ' + str(data_shape))\n\u001b[0m\u001b[1;32m    132\u001b[0m                 \u001b[0;32mif\u001b[0m \u001b[0;32mnot\u001b[0m \u001b[0mcheck_batch_axis\u001b[0m\u001b[0;34m:\u001b[0m\u001b[0;34m\u001b[0m\u001b[0;34m\u001b[0m\u001b[0m\n\u001b[1;32m    133\u001b[0m                     \u001b[0mdata_shape\u001b[0m \u001b[0;34m=\u001b[0m \u001b[0mdata_shape\u001b[0m\u001b[0;34m[\u001b[0m\u001b[0;36m1\u001b[0m\u001b[0;34m:\u001b[0m\u001b[0;34m]\u001b[0m\u001b[0;34m\u001b[0m\u001b[0;34m\u001b[0m\u001b[0m\n",
            "\u001b[0;31mValueError\u001b[0m: Error when checking target: expected dense_108 to have 3 dimensions, but got array with shape (8625, 1)"
          ]
        }
      ]
    },
    {
      "cell_type": "code",
      "metadata": {
        "id": "_g6-eScgrtAc",
        "colab_type": "code",
        "colab": {}
      },
      "source": [
        ""
      ],
      "execution_count": 0,
      "outputs": []
    }
  ]
}