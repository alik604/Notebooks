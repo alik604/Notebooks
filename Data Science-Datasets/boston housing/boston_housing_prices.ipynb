{
  "nbformat": 4,
  "nbformat_minor": 0,
  "metadata": {
    "colab": {
      "name": "boston housing prices.ipynb",
      "version": "0.3.2",
      "provenance": [],
      "collapsed_sections": [],
      "include_colab_link": true
    },
    "kernelspec": {
      "name": "python3",
      "display_name": "Python 3"
    },
    "accelerator": "TPU"
  },
  "cells": [
    {
      "cell_type": "markdown",
      "metadata": {
        "id": "view-in-github",
        "colab_type": "text"
      },
      "source": [
        "<a href=\"https://colab.research.google.com/github/alik604/Notebooks/blob/master/Data%20Science-Datasets/boston_housing_prices.ipynb\" target=\"_parent\"><img src=\"https://colab.research.google.com/assets/colab-badge.svg\" alt=\"Open In Colab\"/></a>"
      ]
    },
    {
      "cell_type": "code",
      "metadata": {
        "id": "r3H5DqckfdI3",
        "colab_type": "code",
        "colab": {}
      },
      "source": [
        "import numpy as np\n",
        "import pandas as pd\n",
        "from sklearn.datasets import load_boston\n",
        "from sklearn.model_selection import train_test_split\n",
        "\n",
        "boston = load_boston()\n",
        "import matplotlib.pyplot as plt\n",
        "\n",
        "%matplotlib inline\n"
      ],
      "execution_count": 0,
      "outputs": []
    },
    {
      "cell_type": "code",
      "metadata": {
        "id": "QyZ5bwvEf3i1",
        "colab_type": "code",
        "colab": {}
      },
      "source": [
        "df_boston = pd.DataFrame(boston.data,columns=boston.feature_names)\n",
        "df_boston['target'] = pd.Series(boston.target)\n"
      ],
      "execution_count": 0,
      "outputs": []
    },
    {
      "cell_type": "markdown",
      "metadata": {
        "id": "SyQC_BvZf3p6",
        "colab_type": "text"
      },
      "source": [
        "Data description\n",
        "The Boston data frame has 506 rows and 14 columns.\n",
        "\n",
        "This data frame contains the following columns:\n",
        "\n",
        "crim\n",
        "per capita crime rate by town.\n",
        "\n",
        "zn\n",
        "proportion of residential land zoned for lots over 25,000 sq.ft.\n",
        "\n",
        "indus\n",
        "proportion of non-retail business acres per town.\n",
        "\n",
        "chas\n",
        "Charles River dummy variable (= 1 if tract bounds river; 0 otherwise).\n",
        "\n",
        "nox\n",
        "nitrogen oxides concentration (parts per 10 million).\n",
        "\n",
        "rm\n",
        "average number of rooms per dwelling.\n",
        "\n",
        "age\n",
        "proportion of owner-occupied units built prior to 1940.\n",
        "\n",
        "dis\n",
        "weighted mean of distances to five Boston employment centres.\n",
        "\n",
        "rad\n",
        "index of accessibility to radial highways.\n",
        "\n",
        "tax\n",
        "full-value property-tax rate per $10,000.\n",
        "\n",
        "ptratio\n",
        "pupil-teacher ratio by town.\n",
        "\n",
        "black\n",
        "1000(Bk - 0.63)^2 where Bk is the proportion of blacks by town.\n",
        "\n",
        "lstat\n",
        "lower status of the population (percent).\n",
        "\n",
        "medv\n",
        "median value of owner-occupied homes in $1000s.\n"
      ]
    },
    {
      "cell_type": "code",
      "metadata": {
        "id": "3Uh1VL9Qf3tq",
        "colab_type": "code",
        "outputId": "1891dfa1-083d-4994-eac9-c2a57885eeaf",
        "colab": {
          "base_uri": "https://localhost:8080/",
          "height": 204
        }
      },
      "source": [
        "df =df_boston\n",
        "\n",
        "df.head()\n"
      ],
      "execution_count": 0,
      "outputs": [
        {
          "output_type": "execute_result",
          "data": {
            "text/html": [
              "<div>\n",
              "<style scoped>\n",
              "    .dataframe tbody tr th:only-of-type {\n",
              "        vertical-align: middle;\n",
              "    }\n",
              "\n",
              "    .dataframe tbody tr th {\n",
              "        vertical-align: top;\n",
              "    }\n",
              "\n",
              "    .dataframe thead th {\n",
              "        text-align: right;\n",
              "    }\n",
              "</style>\n",
              "<table border=\"1\" class=\"dataframe\">\n",
              "  <thead>\n",
              "    <tr style=\"text-align: right;\">\n",
              "      <th></th>\n",
              "      <th>CRIM</th>\n",
              "      <th>ZN</th>\n",
              "      <th>INDUS</th>\n",
              "      <th>CHAS</th>\n",
              "      <th>NOX</th>\n",
              "      <th>RM</th>\n",
              "      <th>AGE</th>\n",
              "      <th>DIS</th>\n",
              "      <th>RAD</th>\n",
              "      <th>TAX</th>\n",
              "      <th>PTRATIO</th>\n",
              "      <th>B</th>\n",
              "      <th>LSTAT</th>\n",
              "      <th>target</th>\n",
              "    </tr>\n",
              "  </thead>\n",
              "  <tbody>\n",
              "    <tr>\n",
              "      <th>0</th>\n",
              "      <td>0.00632</td>\n",
              "      <td>18.0</td>\n",
              "      <td>2.31</td>\n",
              "      <td>0.0</td>\n",
              "      <td>0.538</td>\n",
              "      <td>6.575</td>\n",
              "      <td>65.2</td>\n",
              "      <td>4.0900</td>\n",
              "      <td>1.0</td>\n",
              "      <td>296.0</td>\n",
              "      <td>15.3</td>\n",
              "      <td>396.90</td>\n",
              "      <td>4.98</td>\n",
              "      <td>24.0</td>\n",
              "    </tr>\n",
              "    <tr>\n",
              "      <th>1</th>\n",
              "      <td>0.02731</td>\n",
              "      <td>0.0</td>\n",
              "      <td>7.07</td>\n",
              "      <td>0.0</td>\n",
              "      <td>0.469</td>\n",
              "      <td>6.421</td>\n",
              "      <td>78.9</td>\n",
              "      <td>4.9671</td>\n",
              "      <td>2.0</td>\n",
              "      <td>242.0</td>\n",
              "      <td>17.8</td>\n",
              "      <td>396.90</td>\n",
              "      <td>9.14</td>\n",
              "      <td>21.6</td>\n",
              "    </tr>\n",
              "    <tr>\n",
              "      <th>2</th>\n",
              "      <td>0.02729</td>\n",
              "      <td>0.0</td>\n",
              "      <td>7.07</td>\n",
              "      <td>0.0</td>\n",
              "      <td>0.469</td>\n",
              "      <td>7.185</td>\n",
              "      <td>61.1</td>\n",
              "      <td>4.9671</td>\n",
              "      <td>2.0</td>\n",
              "      <td>242.0</td>\n",
              "      <td>17.8</td>\n",
              "      <td>392.83</td>\n",
              "      <td>4.03</td>\n",
              "      <td>34.7</td>\n",
              "    </tr>\n",
              "    <tr>\n",
              "      <th>3</th>\n",
              "      <td>0.03237</td>\n",
              "      <td>0.0</td>\n",
              "      <td>2.18</td>\n",
              "      <td>0.0</td>\n",
              "      <td>0.458</td>\n",
              "      <td>6.998</td>\n",
              "      <td>45.8</td>\n",
              "      <td>6.0622</td>\n",
              "      <td>3.0</td>\n",
              "      <td>222.0</td>\n",
              "      <td>18.7</td>\n",
              "      <td>394.63</td>\n",
              "      <td>2.94</td>\n",
              "      <td>33.4</td>\n",
              "    </tr>\n",
              "    <tr>\n",
              "      <th>4</th>\n",
              "      <td>0.06905</td>\n",
              "      <td>0.0</td>\n",
              "      <td>2.18</td>\n",
              "      <td>0.0</td>\n",
              "      <td>0.458</td>\n",
              "      <td>7.147</td>\n",
              "      <td>54.2</td>\n",
              "      <td>6.0622</td>\n",
              "      <td>3.0</td>\n",
              "      <td>222.0</td>\n",
              "      <td>18.7</td>\n",
              "      <td>396.90</td>\n",
              "      <td>5.33</td>\n",
              "      <td>36.2</td>\n",
              "    </tr>\n",
              "  </tbody>\n",
              "</table>\n",
              "</div>"
            ],
            "text/plain": [
              "      CRIM    ZN  INDUS  CHAS    NOX  ...    TAX  PTRATIO       B  LSTAT  target\n",
              "0  0.00632  18.0   2.31   0.0  0.538  ...  296.0     15.3  396.90   4.98    24.0\n",
              "1  0.02731   0.0   7.07   0.0  0.469  ...  242.0     17.8  396.90   9.14    21.6\n",
              "2  0.02729   0.0   7.07   0.0  0.469  ...  242.0     17.8  392.83   4.03    34.7\n",
              "3  0.03237   0.0   2.18   0.0  0.458  ...  222.0     18.7  394.63   2.94    33.4\n",
              "4  0.06905   0.0   2.18   0.0  0.458  ...  222.0     18.7  396.90   5.33    36.2\n",
              "\n",
              "[5 rows x 14 columns]"
            ]
          },
          "metadata": {
            "tags": []
          },
          "execution_count": 4
        }
      ]
    },
    {
      "cell_type": "code",
      "metadata": {
        "id": "uj8dyy5vf3w6",
        "colab_type": "code",
        "outputId": "5116fd60-f8bc-432e-f12c-a0a00c8de0bc",
        "colab": {
          "base_uri": "https://localhost:8080/",
          "height": 136
        }
      },
      "source": [
        "prices = df.target\n",
        "prices\n",
        "# Minimum price of the data\n",
        "minimum_price = np.amin(prices)\n",
        "\n",
        "# Maximum price of the data\n",
        "maximum_price = np.amax(prices)\n",
        "\n",
        "# Mean price of the data\n",
        "mean_price = np.mean(prices)\n",
        "\n",
        "# Median price of the data\n",
        "median_price = np.median(prices)\n",
        "\n",
        "# Standard deviation of prices of the data\n",
        "std_price = np.std(prices)\n",
        "\n",
        "# Show the calculated statistics\n",
        "print(\"Statistics for Boston housing dataset:\\n\")\n",
        "print(\"Minimum price: ${}\".format(minimum_price)) \n",
        "print(\"Maximum price: ${}\".format(maximum_price))\n",
        "print(\"Mean price: ${}\".format(mean_price))\n",
        "print(\"Median price ${}\".format(median_price))\n",
        "print(\"Standard deviation of prices: ${}\".format(std_price))"
      ],
      "execution_count": 0,
      "outputs": [
        {
          "output_type": "stream",
          "text": [
            "Statistics for Boston housing dataset:\n",
            "\n",
            "Minimum price: $5.0\n",
            "Maximum price: $50.0\n",
            "Mean price: $22.532806324110698\n",
            "Median price $21.2\n",
            "Standard deviation of prices: $9.188011545278206\n"
          ],
          "name": "stdout"
        }
      ]
    },
    {
      "cell_type": "code",
      "metadata": {
        "id": "S4fTZLt4f30K",
        "colab_type": "code",
        "outputId": "0a39f49f-19e9-4898-abd2-8597b085be08",
        "colab": {
          "base_uri": "https://localhost:8080/",
          "height": 269
        }
      },
      "source": [
        "plt.plot(prices)\n",
        "plt.ylabel('prices in order')\n",
        "plt.show()\n"
      ],
      "execution_count": 0,
      "outputs": [
        {
          "output_type": "display_data",
          "data": {
            "image/png": "[encoded data removed]",
            "text/plain": [
              "<Figure size 432x288 with 1 Axes>"
            ]
          },
          "metadata": {
            "tags": []
          }
        }
      ]
    },
    {
      "cell_type": "code",
      "metadata": {
        "id": "5UUYuIvvf33S",
        "colab_type": "code",
        "outputId": "4f5a0f0f-e0e7-479f-f49b-9735ae09eb9f",
        "colab": {
          "base_uri": "https://localhost:8080/",
          "height": 173
        }
      },
      "source": [
        "df = df[[ \"RM\", \"LSTAT\", \"PTRATIO\", \"target\"]]\n",
        "\n",
        "df.corr()"
      ],
      "execution_count": 0,
      "outputs": [
        {
          "output_type": "execute_result",
          "data": {
            "text/html": [
              "<div>\n",
              "<style scoped>\n",
              "    .dataframe tbody tr th:only-of-type {\n",
              "        vertical-align: middle;\n",
              "    }\n",
              "\n",
              "    .dataframe tbody tr th {\n",
              "        vertical-align: top;\n",
              "    }\n",
              "\n",
              "    .dataframe thead th {\n",
              "        text-align: right;\n",
              "    }\n",
              "</style>\n",
              "<table border=\"1\" class=\"dataframe\">\n",
              "  <thead>\n",
              "    <tr style=\"text-align: right;\">\n",
              "      <th></th>\n",
              "      <th>RM</th>\n",
              "      <th>LSTAT</th>\n",
              "      <th>PTRATIO</th>\n",
              "      <th>target</th>\n",
              "    </tr>\n",
              "  </thead>\n",
              "  <tbody>\n",
              "    <tr>\n",
              "      <th>RM</th>\n",
              "      <td>1.000000</td>\n",
              "      <td>-0.613808</td>\n",
              "      <td>-0.355501</td>\n",
              "      <td>0.695360</td>\n",
              "    </tr>\n",
              "    <tr>\n",
              "      <th>LSTAT</th>\n",
              "      <td>-0.613808</td>\n",
              "      <td>1.000000</td>\n",
              "      <td>0.374044</td>\n",
              "      <td>-0.737663</td>\n",
              "    </tr>\n",
              "    <tr>\n",
              "      <th>PTRATIO</th>\n",
              "      <td>-0.355501</td>\n",
              "      <td>0.374044</td>\n",
              "      <td>1.000000</td>\n",
              "      <td>-0.507787</td>\n",
              "    </tr>\n",
              "    <tr>\n",
              "      <th>target</th>\n",
              "      <td>0.695360</td>\n",
              "      <td>-0.737663</td>\n",
              "      <td>-0.507787</td>\n",
              "      <td>1.000000</td>\n",
              "    </tr>\n",
              "  </tbody>\n",
              "</table>\n",
              "</div>"
            ],
            "text/plain": [
              "               RM     LSTAT   PTRATIO    target\n",
              "RM       1.000000 -0.613808 -0.355501  0.695360\n",
              "LSTAT   -0.613808  1.000000  0.374044 -0.737663\n",
              "PTRATIO -0.355501  0.374044  1.000000 -0.507787\n",
              "target   0.695360 -0.737663 -0.507787  1.000000"
            ]
          },
          "metadata": {
            "tags": []
          },
          "execution_count": 7
        }
      ]
    },
    {
      "cell_type": "code",
      "metadata": {
        "id": "jSeMHO03f36S",
        "colab_type": "code",
        "outputId": "e8bf59f5-4a12-462b-d167-83859031b281",
        "colab": {
          "base_uri": "https://localhost:8080/",
          "height": 272
        }
      },
      "source": [
        "df_boston.corrwith(df['target'])\n"
      ],
      "execution_count": 0,
      "outputs": [
        {
          "output_type": "execute_result",
          "data": {
            "text/plain": [
              "CRIM      -0.388305\n",
              "ZN         0.360445\n",
              "INDUS     -0.483725\n",
              "CHAS       0.175260\n",
              "NOX       -0.427321\n",
              "RM         0.695360\n",
              "AGE       -0.376955\n",
              "DIS        0.249929\n",
              "RAD       -0.381626\n",
              "TAX       -0.468536\n",
              "PTRATIO   -0.507787\n",
              "B          0.333461\n",
              "LSTAT     -0.737663\n",
              "target     1.000000\n",
              "dtype: float64"
            ]
          },
          "metadata": {
            "tags": []
          },
          "execution_count": 8
        }
      ]
    },
    {
      "cell_type": "code",
      "metadata": {
        "id": "zNvOpKOqf39S",
        "colab_type": "code",
        "colab": {}
      },
      "source": [
        "# # Import 'train_test_split'\n",
        "# from sklearn.model_selection import train_test_split\n",
        "\n",
        "\n",
        "# temp =list(df.columns.values)\n",
        "\n",
        "# # Shuffle and split the data into training and testing subsets\n",
        "# x_train, x_test, y_train, y_test = train_test_split(df, prices, test_size=0.2, random_state = 42)\n",
        "\n",
        "# # Success\n",
        "# print(\"Training and testing split was successful.\")"
      ],
      "execution_count": 0,
      "outputs": []
    },
    {
      "cell_type": "code",
      "metadata": {
        "id": "GaLfadi4f4AS",
        "colab_type": "code",
        "colab": {}
      },
      "source": [
        "# x_train.head()\n",
        "\n"
      ],
      "execution_count": 0,
      "outputs": []
    },
    {
      "cell_type": "code",
      "metadata": {
        "id": "2BOuK3jcsEwN",
        "colab_type": "code",
        "colab": {}
      },
      "source": [
        "# y_train.head()"
      ],
      "execution_count": 0,
      "outputs": []
    },
    {
      "cell_type": "code",
      "metadata": {
        "id": "BCuIL1citPoK",
        "colab_type": "code",
        "colab": {}
      },
      "source": [
        "\n",
        "df_x = df_boston\n",
        "df_y=pd.DataFrame(boston.target)\n",
        "  "
      ],
      "execution_count": 0,
      "outputs": []
    },
    {
      "cell_type": "code",
      "metadata": {
        "id": "AbaPTDS5xWON",
        "colab_type": "code",
        "outputId": "666d24ba-d5d9-4e53-f663-9fdda1d57544",
        "colab": {
          "base_uri": "https://localhost:8080/",
          "height": 204
        }
      },
      "source": [
        "df_x.head()"
      ],
      "execution_count": 0,
      "outputs": [
        {
          "output_type": "execute_result",
          "data": {
            "text/html": [
              "<div>\n",
              "<style scoped>\n",
              "    .dataframe tbody tr th:only-of-type {\n",
              "        vertical-align: middle;\n",
              "    }\n",
              "\n",
              "    .dataframe tbody tr th {\n",
              "        vertical-align: top;\n",
              "    }\n",
              "\n",
              "    .dataframe thead th {\n",
              "        text-align: right;\n",
              "    }\n",
              "</style>\n",
              "<table border=\"1\" class=\"dataframe\">\n",
              "  <thead>\n",
              "    <tr style=\"text-align: right;\">\n",
              "      <th></th>\n",
              "      <th>CRIM</th>\n",
              "      <th>ZN</th>\n",
              "      <th>INDUS</th>\n",
              "      <th>CHAS</th>\n",
              "      <th>NOX</th>\n",
              "      <th>RM</th>\n",
              "      <th>AGE</th>\n",
              "      <th>DIS</th>\n",
              "      <th>RAD</th>\n",
              "      <th>TAX</th>\n",
              "      <th>PTRATIO</th>\n",
              "      <th>B</th>\n",
              "      <th>LSTAT</th>\n",
              "      <th>target</th>\n",
              "    </tr>\n",
              "  </thead>\n",
              "  <tbody>\n",
              "    <tr>\n",
              "      <th>0</th>\n",
              "      <td>0.00632</td>\n",
              "      <td>18.0</td>\n",
              "      <td>2.31</td>\n",
              "      <td>0.0</td>\n",
              "      <td>0.538</td>\n",
              "      <td>6.575</td>\n",
              "      <td>65.2</td>\n",
              "      <td>4.0900</td>\n",
              "      <td>1.0</td>\n",
              "      <td>296.0</td>\n",
              "      <td>15.3</td>\n",
              "      <td>396.90</td>\n",
              "      <td>4.98</td>\n",
              "      <td>24.0</td>\n",
              "    </tr>\n",
              "    <tr>\n",
              "      <th>1</th>\n",
              "      <td>0.02731</td>\n",
              "      <td>0.0</td>\n",
              "      <td>7.07</td>\n",
              "      <td>0.0</td>\n",
              "      <td>0.469</td>\n",
              "      <td>6.421</td>\n",
              "      <td>78.9</td>\n",
              "      <td>4.9671</td>\n",
              "      <td>2.0</td>\n",
              "      <td>242.0</td>\n",
              "      <td>17.8</td>\n",
              "      <td>396.90</td>\n",
              "      <td>9.14</td>\n",
              "      <td>21.6</td>\n",
              "    </tr>\n",
              "    <tr>\n",
              "      <th>2</th>\n",
              "      <td>0.02729</td>\n",
              "      <td>0.0</td>\n",
              "      <td>7.07</td>\n",
              "      <td>0.0</td>\n",
              "      <td>0.469</td>\n",
              "      <td>7.185</td>\n",
              "      <td>61.1</td>\n",
              "      <td>4.9671</td>\n",
              "      <td>2.0</td>\n",
              "      <td>242.0</td>\n",
              "      <td>17.8</td>\n",
              "      <td>392.83</td>\n",
              "      <td>4.03</td>\n",
              "      <td>34.7</td>\n",
              "    </tr>\n",
              "    <tr>\n",
              "      <th>3</th>\n",
              "      <td>0.03237</td>\n",
              "      <td>0.0</td>\n",
              "      <td>2.18</td>\n",
              "      <td>0.0</td>\n",
              "      <td>0.458</td>\n",
              "      <td>6.998</td>\n",
              "      <td>45.8</td>\n",
              "      <td>6.0622</td>\n",
              "      <td>3.0</td>\n",
              "      <td>222.0</td>\n",
              "      <td>18.7</td>\n",
              "      <td>394.63</td>\n",
              "      <td>2.94</td>\n",
              "      <td>33.4</td>\n",
              "    </tr>\n",
              "    <tr>\n",
              "      <th>4</th>\n",
              "      <td>0.06905</td>\n",
              "      <td>0.0</td>\n",
              "      <td>2.18</td>\n",
              "      <td>0.0</td>\n",
              "      <td>0.458</td>\n",
              "      <td>7.147</td>\n",
              "      <td>54.2</td>\n",
              "      <td>6.0622</td>\n",
              "      <td>3.0</td>\n",
              "      <td>222.0</td>\n",
              "      <td>18.7</td>\n",
              "      <td>396.90</td>\n",
              "      <td>5.33</td>\n",
              "      <td>36.2</td>\n",
              "    </tr>\n",
              "  </tbody>\n",
              "</table>\n",
              "</div>"
            ],
            "text/plain": [
              "      CRIM    ZN  INDUS  CHAS    NOX  ...    TAX  PTRATIO       B  LSTAT  target\n",
              "0  0.00632  18.0   2.31   0.0  0.538  ...  296.0     15.3  396.90   4.98    24.0\n",
              "1  0.02731   0.0   7.07   0.0  0.469  ...  242.0     17.8  396.90   9.14    21.6\n",
              "2  0.02729   0.0   7.07   0.0  0.469  ...  242.0     17.8  392.83   4.03    34.7\n",
              "3  0.03237   0.0   2.18   0.0  0.458  ...  222.0     18.7  394.63   2.94    33.4\n",
              "4  0.06905   0.0   2.18   0.0  0.458  ...  222.0     18.7  396.90   5.33    36.2\n",
              "\n",
              "[5 rows x 14 columns]"
            ]
          },
          "metadata": {
            "tags": []
          },
          "execution_count": 12
        }
      ]
    },
    {
      "cell_type": "code",
      "metadata": {
        "id": "JjYJTepJxWRS",
        "colab_type": "code",
        "colab": {}
      },
      "source": [
        "#df_y"
      ],
      "execution_count": 0,
      "outputs": []
    },
    {
      "cell_type": "code",
      "metadata": {
        "id": "ufHKbcCNxka6",
        "colab_type": "code",
        "colab": {}
      },
      "source": [
        "x_train, x_test, y_train, y_test = train_test_split(df_x, df_y, test_size=0.2, random_state=4)"
      ],
      "execution_count": 0,
      "outputs": []
    },
    {
      "cell_type": "code",
      "metadata": {
        "id": "Twz-eMw9xWUb",
        "colab_type": "code",
        "outputId": "7729528f-4de1-40f4-ba61-3bd546494040",
        "colab": {
          "base_uri": "https://localhost:8080/",
          "height": 51
        }
      },
      "source": [
        "import numpy as np\n",
        "from sklearn import linear_model\n",
        "from sklearn import svm\n",
        "reg = linear_model.LinearRegression()\n",
        "\n",
        "reg.fit(x_train,y_train)\n",
        "\n",
        "#reg.coef_\n",
        "#reg.predict(x_test)\n",
        "np.mean((reg.predict(x_test) - y_test)**2)"
      ],
      "execution_count": 0,
      "outputs": [
        {
          "output_type": "execute_result",
          "data": {
            "text/plain": [
              "0    9.877312e-28\n",
              "dtype: float64"
            ]
          },
          "metadata": {
            "tags": []
          },
          "execution_count": 16
        }
      ]
    },
    {
      "cell_type": "markdown",
      "metadata": {
        "id": "CaKTGSzoyHk7",
        "colab_type": "text"
      },
      "source": [
        "\n",
        "https://stackoverflow.com/a/47950946\n"
      ]
    },
    {
      "cell_type": "code",
      "metadata": {
        "id": "NYgwXLfwyNma",
        "colab_type": "code",
        "outputId": "9b2e58a3-3622-45dd-c6cf-423c21ad3ec4",
        "colab": {
          "base_uri": "https://localhost:8080/",
          "height": 377
        }
      },
      "source": [
        "\n",
        "\n",
        "classifiers = [\n",
        "    svm.SVR(),\n",
        "    linear_model.SGDRegressor(),\n",
        "    linear_model.BayesianRidge(),\n",
        "    linear_model.LassoLars(),\n",
        "    linear_model.ARDRegression(),\n",
        "    linear_model.PassiveAggressiveRegressor(),\n",
        "    linear_model.TheilSenRegressor(),\n",
        "    linear_model.LinearRegression()]\n",
        "\n",
        "trainingData    = np.array([ [2.3, 4.3, 2.5],  [1.3, 5.2, 5.2],  [3.3, 2.9, 0.8],  [3.1, 4.3, 4.0]  ])\n",
        "trainingScores  = np.array( [3.4, 7.5, 4.5, 1.6] )\n",
        "predictionData  = np.array([ [2.5, 2.4, 2.7],  [2.7, 3.2, 1.2], [2.3, 4.3, 2.5] ]) ## look at the last item here.... and last score per row :) \n",
        "\n",
        "for item in classifiers:\n",
        "    #print(item)\n",
        "    clf = item\n",
        "    clf.fit(trainingData, trainingScores)\n",
        "    print(clf.predict(predictionData),'\\n')"
      ],
      "execution_count": 0,
      "outputs": [
        {
          "output_type": "stream",
          "text": [
            "[3.95570063 4.23426243 3.50000001] \n",
            "\n",
            "[1.43487304 3.31831282 4.8444619 ] \n",
            "\n",
            "[4.24785862 4.24601844 4.24953925] \n",
            "\n",
            "[4.25 4.25 4.25] \n",
            "\n",
            "[4.25163629 3.94012149 4.56206404] \n",
            "\n",
            "[3.50438601 3.27043505 3.38626932] \n",
            "\n",
            "[15.72023529  6.46666667  3.4       ] \n",
            "\n",
            "[15.72023529  6.46666667  3.4       ] \n",
            "\n"
          ],
          "name": "stdout"
        },
        {
          "output_type": "stream",
          "text": [
            "/usr/local/lib/python3.6/dist-packages/sklearn/svm/base.py:193: FutureWarning: The default value of gamma will change from 'auto' to 'scale' in version 0.22 to account better for unscaled features. Set gamma explicitly to 'auto' or 'scale' to avoid this warning.\n",
            "  \"avoid this warning.\", FutureWarning)\n",
            "/usr/local/lib/python3.6/dist-packages/sklearn/linear_model/stochastic_gradient.py:1185: ConvergenceWarning: Maximum number of iteration reached before convergence. Consider increasing max_iter to improve the fit.\n",
            "  ConvergenceWarning)\n"
          ],
          "name": "stderr"
        }
      ]
    },
    {
      "cell_type": "code",
      "metadata": {
        "id": "m2l9FJk-xWW7",
        "colab_type": "code",
        "outputId": "2a4e4b4e-05d7-46eb-bf5f-354dd49c6514",
        "colab": {
          "base_uri": "https://localhost:8080/",
          "height": 204
        }
      },
      "source": [
        "x_train.head()"
      ],
      "execution_count": 0,
      "outputs": [
        {
          "output_type": "execute_result",
          "data": {
            "text/html": [
              "<div>\n",
              "<style scoped>\n",
              "    .dataframe tbody tr th:only-of-type {\n",
              "        vertical-align: middle;\n",
              "    }\n",
              "\n",
              "    .dataframe tbody tr th {\n",
              "        vertical-align: top;\n",
              "    }\n",
              "\n",
              "    .dataframe thead th {\n",
              "        text-align: right;\n",
              "    }\n",
              "</style>\n",
              "<table border=\"1\" class=\"dataframe\">\n",
              "  <thead>\n",
              "    <tr style=\"text-align: right;\">\n",
              "      <th></th>\n",
              "      <th>CRIM</th>\n",
              "      <th>ZN</th>\n",
              "      <th>INDUS</th>\n",
              "      <th>CHAS</th>\n",
              "      <th>NOX</th>\n",
              "      <th>RM</th>\n",
              "      <th>AGE</th>\n",
              "      <th>DIS</th>\n",
              "      <th>RAD</th>\n",
              "      <th>TAX</th>\n",
              "      <th>PTRATIO</th>\n",
              "      <th>B</th>\n",
              "      <th>LSTAT</th>\n",
              "      <th>target</th>\n",
              "    </tr>\n",
              "  </thead>\n",
              "  <tbody>\n",
              "    <tr>\n",
              "      <th>192</th>\n",
              "      <td>0.08664</td>\n",
              "      <td>45.0</td>\n",
              "      <td>3.44</td>\n",
              "      <td>0.0</td>\n",
              "      <td>0.437</td>\n",
              "      <td>7.178</td>\n",
              "      <td>26.3</td>\n",
              "      <td>6.4798</td>\n",
              "      <td>5.0</td>\n",
              "      <td>398.0</td>\n",
              "      <td>15.2</td>\n",
              "      <td>390.49</td>\n",
              "      <td>2.87</td>\n",
              "      <td>36.4</td>\n",
              "    </tr>\n",
              "    <tr>\n",
              "      <th>138</th>\n",
              "      <td>0.24980</td>\n",
              "      <td>0.0</td>\n",
              "      <td>21.89</td>\n",
              "      <td>0.0</td>\n",
              "      <td>0.624</td>\n",
              "      <td>5.857</td>\n",
              "      <td>98.2</td>\n",
              "      <td>1.6686</td>\n",
              "      <td>4.0</td>\n",
              "      <td>437.0</td>\n",
              "      <td>21.2</td>\n",
              "      <td>392.04</td>\n",
              "      <td>21.32</td>\n",
              "      <td>13.3</td>\n",
              "    </tr>\n",
              "    <tr>\n",
              "      <th>251</th>\n",
              "      <td>0.21409</td>\n",
              "      <td>22.0</td>\n",
              "      <td>5.86</td>\n",
              "      <td>0.0</td>\n",
              "      <td>0.431</td>\n",
              "      <td>6.438</td>\n",
              "      <td>8.9</td>\n",
              "      <td>7.3967</td>\n",
              "      <td>7.0</td>\n",
              "      <td>330.0</td>\n",
              "      <td>19.1</td>\n",
              "      <td>377.07</td>\n",
              "      <td>3.59</td>\n",
              "      <td>24.8</td>\n",
              "    </tr>\n",
              "    <tr>\n",
              "      <th>13</th>\n",
              "      <td>0.62976</td>\n",
              "      <td>0.0</td>\n",
              "      <td>8.14</td>\n",
              "      <td>0.0</td>\n",
              "      <td>0.538</td>\n",
              "      <td>5.949</td>\n",
              "      <td>61.8</td>\n",
              "      <td>4.7075</td>\n",
              "      <td>4.0</td>\n",
              "      <td>307.0</td>\n",
              "      <td>21.0</td>\n",
              "      <td>396.90</td>\n",
              "      <td>8.26</td>\n",
              "      <td>20.4</td>\n",
              "    </tr>\n",
              "    <tr>\n",
              "      <th>256</th>\n",
              "      <td>0.01538</td>\n",
              "      <td>90.0</td>\n",
              "      <td>3.75</td>\n",
              "      <td>0.0</td>\n",
              "      <td>0.394</td>\n",
              "      <td>7.454</td>\n",
              "      <td>34.2</td>\n",
              "      <td>6.3361</td>\n",
              "      <td>3.0</td>\n",
              "      <td>244.0</td>\n",
              "      <td>15.9</td>\n",
              "      <td>386.34</td>\n",
              "      <td>3.11</td>\n",
              "      <td>44.0</td>\n",
              "    </tr>\n",
              "  </tbody>\n",
              "</table>\n",
              "</div>"
            ],
            "text/plain": [
              "        CRIM    ZN  INDUS  CHAS    NOX  ...    TAX  PTRATIO       B  LSTAT  target\n",
              "192  0.08664  45.0   3.44   0.0  0.437  ...  398.0     15.2  390.49   2.87    36.4\n",
              "138  0.24980   0.0  21.89   0.0  0.624  ...  437.0     21.2  392.04  21.32    13.3\n",
              "251  0.21409  22.0   5.86   0.0  0.431  ...  330.0     19.1  377.07   3.59    24.8\n",
              "13   0.62976   0.0   8.14   0.0  0.538  ...  307.0     21.0  396.90   8.26    20.4\n",
              "256  0.01538  90.0   3.75   0.0  0.394  ...  244.0     15.9  386.34   3.11    44.0\n",
              "\n",
              "[5 rows x 14 columns]"
            ]
          },
          "metadata": {
            "tags": []
          },
          "execution_count": 18
        }
      ]
    },
    {
      "cell_type": "code",
      "metadata": {
        "id": "mQRgVLCIsE8y",
        "colab_type": "code",
        "outputId": "02024d88-da2c-427d-e1be-5352a83bf531",
        "colab": {
          "base_uri": "https://localhost:8080/",
          "height": 697
        }
      },
      "source": [
        "from sklearn.svm import SVC\n",
        "from sklearn import linear_model\n",
        "from sklearn import svm\n",
        "\n",
        "classifiers = [\n",
        "#   svm.SVR(gamma='scale'),\n",
        "   linear_model.SGDRegressor()\n",
        "   ,\n",
        "   linear_model.BayesianRidge()\n",
        ",\n",
        "    linear_model.LassoLars(),\n",
        "    linear_model.ARDRegression(),\n",
        "    linear_model.PassiveAggressiveRegressor(),\n",
        "    linear_model.TheilSenRegressor(),\n",
        "    linear_model.LinearRegression()\n",
        "]\n",
        "\n",
        "\n",
        "#print(len(x_train))\n",
        "#print(len(y_train))\n",
        "\n",
        "\n",
        "for item in classifiers:\n",
        "    print(item)\n",
        "    clf = item\n",
        "    clf.fit(x_train, y_train.values.ravel())\n",
        "    \n",
        "    #print(clf.predict(x_test),'\\n')\n",
        "    #print(len(clf.predict(x_test)))\n",
        "    #print(len(x_test))\n",
        "    #print(len(y_test))\n",
        "    tmp= np.mean((clf.predict(x_test.values) - y_test.values)**2)\n",
        "    print(tmp,'\\n')\n",
        "    \n",
        "\n",
        "\n"
      ],
      "execution_count": 0,
      "outputs": [
        {
          "output_type": "stream",
          "text": [
            "SGDRegressor(alpha=0.0001, average=False, early_stopping=False, epsilon=0.1,\n",
            "             eta0=0.01, fit_intercept=True, l1_ratio=0.15,\n",
            "             learning_rate='invscaling', loss='squared_loss', max_iter=1000,\n",
            "             n_iter_no_change=5, penalty='l2', power_t=0.25, random_state=None,\n",
            "             shuffle=True, tol=0.001, validation_fraction=0.1, verbose=0,\n",
            "             warm_start=False)\n",
            "4.899454989485324e+26 \n",
            "\n",
            "BayesianRidge(alpha_1=1e-06, alpha_2=1e-06, compute_score=False, copy_X=True,\n",
            "              fit_intercept=True, lambda_1=1e-06, lambda_2=1e-06, n_iter=300,\n",
            "              normalize=False, tol=0.001, verbose=False)\n",
            "185.77844867308266 \n",
            "\n",
            "LassoLars(alpha=1.0, copy_X=True, eps=2.220446049250313e-16, fit_intercept=True,\n",
            "          fit_path=True, max_iter=500, normalize=True, positive=False,\n",
            "          precompute='auto', verbose=False)\n",
            "94.2429504880817 \n",
            "\n",
            "ARDRegression(alpha_1=1e-06, alpha_2=1e-06, compute_score=False, copy_X=True,\n",
            "              fit_intercept=True, lambda_1=1e-06, lambda_2=1e-06, n_iter=300,\n",
            "              normalize=False, threshold_lambda=10000.0, tol=0.001,\n",
            "              verbose=False)\n",
            "185.31918048983923 \n",
            "\n",
            "PassiveAggressiveRegressor(C=1.0, average=False, early_stopping=False,\n",
            "                           epsilon=0.1, fit_intercept=True,\n",
            "                           loss='epsilon_insensitive', max_iter=1000,\n",
            "                           n_iter_no_change=5, random_state=None, shuffle=True,\n",
            "                           tol=0.001, validation_fraction=0.1, verbose=0,\n",
            "                           warm_start=False)\n",
            "184.76784975554628 \n",
            "\n",
            "TheilSenRegressor(copy_X=True, fit_intercept=True, max_iter=300,\n",
            "                  max_subpopulation=10000, n_jobs=None, n_subsamples=None,\n",
            "                  random_state=None, tol=0.001, verbose=False)\n",
            "185.7784486735869 \n",
            "\n",
            "LinearRegression(copy_X=True, fit_intercept=True, n_jobs=None, normalize=False)\n",
            "185.7784486735871 \n",
            "\n"
          ],
          "name": "stdout"
        }
      ]
    },
    {
      "cell_type": "code",
      "metadata": {
        "id": "yzMFfvgfsE_y",
        "colab_type": "code",
        "colab": {}
      },
      "source": [
        ""
      ],
      "execution_count": 0,
      "outputs": []
    },
    {
      "cell_type": "code",
      "metadata": {
        "id": "ByjEIhALsFCq",
        "colab_type": "code",
        "colab": {}
      },
      "source": [
        ""
      ],
      "execution_count": 0,
      "outputs": []
    }
  ]
}