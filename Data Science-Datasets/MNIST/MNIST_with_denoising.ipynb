{
  "nbformat": 4,
  "nbformat_minor": 0,
  "metadata": {
    "colab": {
      "name": "MNIST with denoising ",
      "provenance": [],
      "collapsed_sections": [],
      "include_colab_link": true
    },
    "kernelspec": {
      "name": "python3",
      "display_name": "Python 3"
    },
    "accelerator": "GPU"
  },
  "cells": [
    {
      "cell_type": "markdown",
      "metadata": {
        "id": "view-in-github",
        "colab_type": "text"
      },
      "source": [
        "<a href=\"https://colab.research.google.com/github/alik604/Notebooks/blob/master/Data%20Science-Datasets/MNIST/MNIST_with_denoising.ipynb\" target=\"_parent\"><img src=\"https://colab.research.google.com/assets/colab-badge.svg\" alt=\"Open In Colab\"/></a>"
      ]
    },
    {
      "cell_type": "markdown",
      "metadata": {
        "id": "8I5yu_RjticP",
        "colab_type": "text"
      },
      "source": [
        "# MNIST with denoising "
      ]
    },
    {
      "cell_type": "markdown",
      "metadata": {
        "id": "dChfoq7ntNR5",
        "colab_type": "text"
      },
      "source": [
        "References: \n",
        "* the whole damn internet...\n",
        "* reduce noise: https://blog.keras.io/building-autoencoders-in-keras.html\n",
        "* reduce noise: https://medium.com/activating-robotic-minds/how-to-reduce-image-noises-by-autoencoder-65d5e6de543\n",
        "* CNN: https://towardsdatascience.com/image-classification-in-10-minutes-with-mnist-dataset-54c35b77a38d\n",
        "* predict without ANNs: https://github.com/edyoda/data-science-complete-tutorial/blob/master/Case%20Study%20Handwriting%20Detection.ipynb\n"
      ]
    },
    {
      "cell_type": "code",
      "metadata": {
        "id": "-CtRgdDA-uX2",
        "colab_type": "code",
        "colab": {
          "base_uri": "https://localhost:8080/",
          "height": 80
        },
        "outputId": "3f2c48a3-8b3d-4d23-a15d-0dbabd1ae459"
      },
      "source": [
        "import numpy as np\n",
        "import pandas as pd \n",
        "import matplotlib.pyplot as plt\n",
        "\n",
        "import keras\n",
        "from keras.datasets import *\n",
        "from keras.models import Sequential,Model\n",
        "from keras.layers import Dense, Dropout, Flatten,Input\n",
        "from keras.layers import Conv2D, MaxPooling2D,UpSampling2D\n",
        "\n",
        "from keras import backend as K\n",
        "import tensorflow as tf\n",
        "\n",
        "from sklearn.model_selection import train_test_split\n",
        "\n",
        "from IPython.core.interactiveshell import InteractiveShell\n",
        "InteractiveShell.ast_node_interactivity = \"all\"\n",
        "\n",
        "# the data, split between train and test sets\n",
        "(train_images, train_lables), (test_images, test_lables) = mnist.load_data()\n",
        "train_images = train_images /255.0\n",
        "train_lables = train_lables / 255.0\n",
        "\n",
        "\n",
        "# classnames = [\"top\", \"trouser\", \"pullover\", \"dress\", \"coat\",\n",
        "# \"sandal\", \"shirt\", \"sneaker\", \"bag\", \"ankle boot\"]\n",
        "classnames = [\"0\", \"1\", \"2\", \"3\", \"4\", \"5\", \"6\", \"7\", \"8\", \"9\"]"
      ],
      "execution_count": 1,
      "outputs": [
        {
          "output_type": "stream",
          "text": [
            "Using TensorFlow backend.\n"
          ],
          "name": "stderr"
        },
        {
          "output_type": "display_data",
          "data": {
            "text/html": [
              "<p style=\"color: red;\">\n",
              "The default version of TensorFlow in Colab will soon switch to TensorFlow 2.x.<br>\n",
              "We recommend you <a href=\"https://www.tensorflow.org/guide/migrate\" target=\"_blank\">upgrade</a> now \n",
              "or ensure your notebook will continue to use TensorFlow 1.x via the <code>%tensorflow_version 1.x</code> magic:\n",
              "<a href=\"https://colab.research.google.com/notebooks/tensorflow_version.ipynb\" target=\"_blank\">more info</a>.</p>\n"
            ],
            "text/plain": [
              "<IPython.core.display.HTML object>"
            ]
          },
          "metadata": {
            "tags": []
          }
        }
      ]
    },
    {
      "cell_type": "markdown",
      "metadata": {
        "id": "Cgd47mDojhte",
        "colab_type": "text"
      },
      "source": [
        "# Clean Data "
      ]
    },
    {
      "cell_type": "code",
      "metadata": {
        "id": "c2dPIXPGet8k",
        "colab_type": "code",
        "colab": {}
      },
      "source": [
        "(X_train, y_train), (X_test, y_test) = keras.datasets.mnist.load_data() # when you have to much ram and are too lazy for references...\n",
        "\n",
        "def preprocess(x):\n",
        "    x = x.astype('float32') / 255.\n",
        "    return x.reshape(-1, np.prod(x.shape[1:])) # flatten\n",
        "X_train = preprocess(X_train)\n",
        "X_test  = preprocess(X_test)\n",
        "\n",
        "X_train, X_valid = train_test_split(X_train, test_size=500)"
      ],
      "execution_count": 0,
      "outputs": []
    },
    {
      "cell_type": "code",
      "metadata": {
        "id": "JkcNr6thjWRD",
        "colab_type": "code",
        "colab": {
          "base_uri": "https://localhost:8080/",
          "height": 326
        },
        "outputId": "b46e4331-52a1-4cdd-eee5-03663d2fe778"
      },
      "source": [
        "def make_convolutional_autoencoder():\n",
        "    # encoding\n",
        "    inputs = keras.Input(shape=(28, 28, 1))\n",
        "    x = Conv2D(16, 3, activation='relu', padding='same')(inputs)\n",
        "    x = MaxPooling2D(padding='same')(x)\n",
        "    x = Conv2D( 8, 3, activation='relu', padding='same')(x)\n",
        "    x = MaxPooling2D(padding='same')(x)\n",
        "    x = Conv2D( 8, 3, activation='relu', padding='same')(x)\n",
        "    encoded = MaxPooling2D(padding='same')(x)    \n",
        "    \n",
        "    # decoding\n",
        "    x = Conv2D( 8, 3, activation='relu', padding='same')(encoded)\n",
        "    x = UpSampling2D()(x)\n",
        "    x = Conv2D( 8, 3, activation='relu', padding='same')(x)\n",
        "    x = UpSampling2D()(x)\n",
        "    x = Conv2D(16, 3, activation='relu')(x) # <= padding='valid'!\n",
        "    x = UpSampling2D()(x)\n",
        "    decoded = Conv2D(1, 3, activation='sigmoid', padding='same')(x)\n",
        "    \n",
        "    # autoencoder\n",
        "    autoencoder = Model(inputs, decoded)\n",
        "    autoencoder.compile(optimizer='adam', \n",
        "                        loss='binary_crossentropy')\n",
        "    return autoencoder\n",
        "# create a convolutional autoencoder\n",
        "autoencoder = make_convolutional_autoencoder()"
      ],
      "execution_count": 3,
      "outputs": [
        {
          "output_type": "stream",
          "text": [
            "WARNING:tensorflow:From /usr/local/lib/python3.6/dist-packages/keras/backend/tensorflow_backend.py:66: The name tf.get_default_graph is deprecated. Please use tf.compat.v1.get_default_graph instead.\n",
            "\n",
            "WARNING:tensorflow:From /usr/local/lib/python3.6/dist-packages/keras/backend/tensorflow_backend.py:541: The name tf.placeholder is deprecated. Please use tf.compat.v1.placeholder instead.\n",
            "\n",
            "WARNING:tensorflow:From /usr/local/lib/python3.6/dist-packages/keras/backend/tensorflow_backend.py:4432: The name tf.random_uniform is deprecated. Please use tf.random.uniform instead.\n",
            "\n",
            "WARNING:tensorflow:From /usr/local/lib/python3.6/dist-packages/keras/backend/tensorflow_backend.py:4267: The name tf.nn.max_pool is deprecated. Please use tf.nn.max_pool2d instead.\n",
            "\n",
            "WARNING:tensorflow:From /usr/local/lib/python3.6/dist-packages/keras/backend/tensorflow_backend.py:2239: The name tf.image.resize_nearest_neighbor is deprecated. Please use tf.compat.v1.image.resize_nearest_neighbor instead.\n",
            "\n",
            "WARNING:tensorflow:From /usr/local/lib/python3.6/dist-packages/keras/optimizers.py:793: The name tf.train.Optimizer is deprecated. Please use tf.compat.v1.train.Optimizer instead.\n",
            "\n",
            "WARNING:tensorflow:From /usr/local/lib/python3.6/dist-packages/keras/backend/tensorflow_backend.py:3657: The name tf.log is deprecated. Please use tf.math.log instead.\n",
            "\n",
            "WARNING:tensorflow:From /usr/local/lib/python3.6/dist-packages/tensorflow_core/python/ops/nn_impl.py:183: where (from tensorflow.python.ops.array_ops) is deprecated and will be removed in a future version.\n",
            "Instructions for updating:\n",
            "Use tf.where in 2.0, which has the same broadcast rule as np.where\n"
          ],
          "name": "stdout"
        }
      ]
    },
    {
      "cell_type": "code",
      "metadata": {
        "id": "0BNlD0WxjWOG",
        "colab_type": "code",
        "colab": {
          "base_uri": "https://localhost:8080/",
          "height": 1000
        },
        "outputId": "44def86b-04df-48d2-9927-6feb100a3d09"
      },
      "source": [
        "# reshape the flattened images to 28x28 with 1 channel\n",
        "X_train = X_train.reshape(-1, 28, 28, 1)\n",
        "X_valid = X_valid.reshape(-1, 28, 28, 1)\n",
        "X_test  = X_test.reshape(-1, 28, 28, 1)\n",
        "autoencoder.fit(X_train, X_train, \n",
        "                epochs=20, \n",
        "                batch_size=128, \n",
        "                validation_data=(X_valid, X_valid))"
      ],
      "execution_count": 4,
      "outputs": [
        {
          "output_type": "stream",
          "text": [
            "WARNING:tensorflow:From /usr/local/lib/python3.6/dist-packages/keras/backend/tensorflow_backend.py:1033: The name tf.assign_add is deprecated. Please use tf.compat.v1.assign_add instead.\n",
            "\n",
            "WARNING:tensorflow:From /usr/local/lib/python3.6/dist-packages/keras/backend/tensorflow_backend.py:1020: The name tf.assign is deprecated. Please use tf.compat.v1.assign instead.\n",
            "\n",
            "WARNING:tensorflow:From /usr/local/lib/python3.6/dist-packages/keras/backend/tensorflow_backend.py:3005: The name tf.Session is deprecated. Please use tf.compat.v1.Session instead.\n",
            "\n",
            "Train on 59500 samples, validate on 500 samples\n",
            "Epoch 1/20\n",
            "WARNING:tensorflow:From /usr/local/lib/python3.6/dist-packages/keras/backend/tensorflow_backend.py:190: The name tf.get_default_session is deprecated. Please use tf.compat.v1.get_default_session instead.\n",
            "\n",
            "WARNING:tensorflow:From /usr/local/lib/python3.6/dist-packages/keras/backend/tensorflow_backend.py:197: The name tf.ConfigProto is deprecated. Please use tf.compat.v1.ConfigProto instead.\n",
            "\n",
            "WARNING:tensorflow:From /usr/local/lib/python3.6/dist-packages/keras/backend/tensorflow_backend.py:207: The name tf.global_variables is deprecated. Please use tf.compat.v1.global_variables instead.\n",
            "\n",
            "WARNING:tensorflow:From /usr/local/lib/python3.6/dist-packages/keras/backend/tensorflow_backend.py:216: The name tf.is_variable_initialized is deprecated. Please use tf.compat.v1.is_variable_initialized instead.\n",
            "\n",
            "WARNING:tensorflow:From /usr/local/lib/python3.6/dist-packages/keras/backend/tensorflow_backend.py:223: The name tf.variables_initializer is deprecated. Please use tf.compat.v1.variables_initializer instead.\n",
            "\n",
            "59500/59500 [==============================] - 9s 148us/step - loss: 0.2226 - val_loss: 0.1513\n",
            "Epoch 2/20\n",
            "59500/59500 [==============================] - 6s 93us/step - loss: 0.1371 - val_loss: 0.1287\n",
            "Epoch 3/20\n",
            "59500/59500 [==============================] - 6s 92us/step - loss: 0.1224 - val_loss: 0.1183\n",
            "Epoch 4/20\n",
            "59500/59500 [==============================] - 6s 94us/step - loss: 0.1158 - val_loss: 0.1141\n",
            "Epoch 5/20\n",
            "59500/59500 [==============================] - 6s 94us/step - loss: 0.1119 - val_loss: 0.1100\n",
            "Epoch 6/20\n",
            "59500/59500 [==============================] - 6s 93us/step - loss: 0.1092 - val_loss: 0.1075\n",
            "Epoch 7/20\n",
            "59500/59500 [==============================] - 6s 94us/step - loss: 0.1073 - val_loss: 0.1059\n",
            "Epoch 8/20\n",
            "59500/59500 [==============================] - 6s 93us/step - loss: 0.1058 - val_loss: 0.1049\n",
            "Epoch 9/20\n",
            "59500/59500 [==============================] - 6s 94us/step - loss: 0.1046 - val_loss: 0.1034\n",
            "Epoch 10/20\n",
            "59500/59500 [==============================] - 6s 94us/step - loss: 0.1035 - val_loss: 0.1027\n",
            "Epoch 11/20\n",
            "59500/59500 [==============================] - 6s 94us/step - loss: 0.1026 - val_loss: 0.1017\n",
            "Epoch 12/20\n",
            "59500/59500 [==============================] - 6s 94us/step - loss: 0.1018 - val_loss: 0.1010\n",
            "Epoch 13/20\n",
            "59500/59500 [==============================] - 6s 93us/step - loss: 0.1011 - val_loss: 0.1004\n",
            "Epoch 14/20\n",
            "59500/59500 [==============================] - 6s 94us/step - loss: 0.1004 - val_loss: 0.1002\n",
            "Epoch 15/20\n",
            "59500/59500 [==============================] - 6s 97us/step - loss: 0.0998 - val_loss: 0.0992\n",
            "Epoch 16/20\n",
            "59500/59500 [==============================] - 6s 99us/step - loss: 0.0992 - val_loss: 0.0987\n",
            "Epoch 17/20\n",
            "59500/59500 [==============================] - 6s 99us/step - loss: 0.0987 - val_loss: 0.0985\n",
            "Epoch 18/20\n",
            "59500/59500 [==============================] - 6s 98us/step - loss: 0.0982 - val_loss: 0.0976\n",
            "Epoch 19/20\n",
            "59500/59500 [==============================] - 6s 97us/step - loss: 0.0977 - val_loss: 0.0971\n",
            "Epoch 20/20\n",
            "59500/59500 [==============================] - 6s 97us/step - loss: 0.0972 - val_loss: 0.0968\n"
          ],
          "name": "stdout"
        },
        {
          "output_type": "execute_result",
          "data": {
            "text/plain": [
              "<keras.callbacks.History at 0x7f98b4ba4e80>"
            ]
          },
          "metadata": {
            "tags": []
          },
          "execution_count": 4
        }
      ]
    },
    {
      "cell_type": "code",
      "metadata": {
        "id": "KbfpYuSFjWLF",
        "colab_type": "code",
        "colab": {
          "base_uri": "https://localhost:8080/",
          "height": 579
        },
        "outputId": "8fa0a351-fd40-4faf-a470-6e939fb87bb2"
      },
      "source": [
        "test_base = np.array([X_test[0],X_test[1]])\n",
        "X_test_decoded = autoencoder.predict(test_base) \n",
        "\n",
        "test_input  = test_base.reshape(-1, 28, 28)\n",
        "test_decoded  = X_test_decoded.reshape(-1, 28, 28)\n",
        "\n",
        "# # utility to display a row of digits with their predictions\n",
        "# def display_digits(digits, predictions, labels, title, n):\n",
        "#   fig = plt.figure(figsize=(13,3))\n",
        "#   digits = np.reshape(digits, [n, 28, 28])\n",
        "#   digits = np.swapaxes(digits, 0, 1)\n",
        "#   digits = np.reshape(digits, [28, 28*n])\n",
        "#   plt.yticks([])\n",
        "#   plt.xticks([28*x+14 for x in range(n)], predictions)\n",
        "#   plt.grid(b=None)\n",
        "#   for i,t in enumerate(plt.gca().xaxis.get_ticklabels()):\n",
        "#     if predictions[i] != labels[i]: t.set_color('red') # bad predictions in red\n",
        "#   plt.imshow(digits)\n",
        "#   plt.grid(None)\n",
        "#   plt.title(title)\n",
        "#   display.display(fig)\n",
        "\n",
        "# display_digits(test,None,None,\"\",len(X_test))\n",
        "\n",
        "\n",
        "plt.grid(False)\n",
        "plt.title(\"original\")\n",
        "plt.imshow(test_input[0],cmap=plt.cm.binary)\n",
        "plt.show()\n",
        "\n",
        "plt.title(\"decoded\")\n",
        "plt.imshow(test_decoded[0],cmap=plt.cm.binary)\n",
        "plt.show()\n",
        "\n"
      ],
      "execution_count": 5,
      "outputs": [
        {
          "output_type": "execute_result",
          "data": {
            "text/plain": [
              "Text(0.5, 1.0, 'original')"
            ]
          },
          "metadata": {
            "tags": []
          },
          "execution_count": 5
        },
        {
          "output_type": "execute_result",
          "data": {
            "text/plain": [
              "<matplotlib.image.AxesImage at 0x7f98a04ec2b0>"
            ]
          },
          "metadata": {
            "tags": []
          },
          "execution_count": 5
        },
        {
          "output_type": "display_data",
          "data": {
            "image/png": "[encoded data removed]",
            "text/plain": [
              "<Figure size 432x288 with 1 Axes>"
            ]
          },
          "metadata": {
            "tags": []
          }
        },
        {
          "output_type": "execute_result",
          "data": {
            "text/plain": [
              "Text(0.5, 1.0, 'decoded')"
            ]
          },
          "metadata": {
            "tags": []
          },
          "execution_count": 5
        },
        {
          "output_type": "execute_result",
          "data": {
            "text/plain": [
              "<matplotlib.image.AxesImage at 0x7f98674091d0>"
            ]
          },
          "metadata": {
            "tags": []
          },
          "execution_count": 5
        },
        {
          "output_type": "display_data",
          "data": {
            "image/png": "[encoded data removed]",
            "text/plain": [
              "<Figure size 432x288 with 1 Axes>"
            ]
          },
          "metadata": {
            "tags": []
          }
        }
      ]
    },
    {
      "cell_type": "markdown",
      "metadata": {
        "id": "TTlJ9OS7tqUE",
        "colab_type": "text"
      },
      "source": [
        "## With added noise"
      ]
    },
    {
      "cell_type": "code",
      "metadata": {
        "id": "ITWbQjfxjWIF",
        "colab_type": "code",
        "colab": {}
      },
      "source": [
        "def add_noise(x, noise_factor=0.2):\n",
        "    x = x + np.random.randn(*x.shape) * noise_factor\n",
        "    x = x.clip(0., 1.)\n",
        "    return x\n",
        "    \n",
        "X_train_noisy = add_noise(X_train)\n",
        "X_valid_noisy = add_noise(X_valid)\n",
        "X_test_noisy  = add_noise(X_test)"
      ],
      "execution_count": 0,
      "outputs": []
    },
    {
      "cell_type": "code",
      "metadata": {
        "id": "xS5VZRBktETu",
        "colab_type": "code",
        "colab": {
          "base_uri": "https://localhost:8080/",
          "height": 391
        },
        "outputId": "5be00bbc-5c3f-482c-8bd3-f5cfb5a76a00"
      },
      "source": [
        "autoencoder = make_convolutional_autoencoder()\n",
        "autoencoder.fit(X_train_noisy, X_train, \n",
        "                epochs=10, \n",
        "                batch_size=128, \n",
        "                validation_data=(X_valid_noisy, X_valid))"
      ],
      "execution_count": 7,
      "outputs": [
        {
          "output_type": "stream",
          "text": [
            "Train on 59500 samples, validate on 500 samples\n",
            "Epoch 1/10\n",
            "59500/59500 [==============================] - 7s 126us/step - loss: 0.2672 - val_loss: 0.1743\n",
            "Epoch 2/10\n",
            "59500/59500 [==============================] - 7s 115us/step - loss: 0.1582 - val_loss: 0.1454\n",
            "Epoch 3/10\n",
            "59500/59500 [==============================] - 7s 115us/step - loss: 0.1391 - val_loss: 0.1346\n",
            "Epoch 4/10\n",
            "59500/59500 [==============================] - 7s 115us/step - loss: 0.1307 - val_loss: 0.1283\n",
            "Epoch 5/10\n",
            "59500/59500 [==============================] - 7s 114us/step - loss: 0.1258 - val_loss: 0.1236\n",
            "Epoch 6/10\n",
            "59500/59500 [==============================] - 7s 112us/step - loss: 0.1224 - val_loss: 0.1215\n",
            "Epoch 7/10\n",
            "59500/59500 [==============================] - 7s 112us/step - loss: 0.1198 - val_loss: 0.1184\n",
            "Epoch 8/10\n",
            "59500/59500 [==============================] - 7s 112us/step - loss: 0.1177 - val_loss: 0.1167\n",
            "Epoch 9/10\n",
            "59500/59500 [==============================] - 7s 113us/step - loss: 0.1158 - val_loss: 0.1145\n",
            "Epoch 10/10\n",
            "59500/59500 [==============================] - 7s 113us/step - loss: 0.1141 - val_loss: 0.1130\n"
          ],
          "name": "stdout"
        },
        {
          "output_type": "execute_result",
          "data": {
            "text/plain": [
              "<keras.callbacks.History at 0x7f986738e198>"
            ]
          },
          "metadata": {
            "tags": []
          },
          "execution_count": 7
        }
      ]
    },
    {
      "cell_type": "code",
      "metadata": {
        "id": "Qt1y-g4stEZp",
        "colab_type": "code",
        "colab": {}
      },
      "source": [
        "X_test_decoded = autoencoder.predict(X_test_noisy)"
      ],
      "execution_count": 0,
      "outputs": []
    },
    {
      "cell_type": "code",
      "metadata": {
        "id": "HuiTF6fptEiE",
        "colab_type": "code",
        "colab": {
          "base_uri": "https://localhost:8080/",
          "height": 547
        },
        "outputId": "8111aa47-d901-43f1-ee2f-120d5d4db0e5"
      },
      "source": [
        "test  = X_test_decoded.reshape(-1, 28, 28)\n",
        "test_n  = X_test_noisy.reshape(-1, 28, 28)\n",
        "\n",
        "\n",
        "plt.imshow(test_n[1],cmap=plt.cm.binary)\n",
        "plt.show()\n",
        "\n",
        "plt.imshow(test[1],cmap=plt.cm.binary)\n",
        "plt.show()"
      ],
      "execution_count": 9,
      "outputs": [
        {
          "output_type": "execute_result",
          "data": {
            "text/plain": [
              "<matplotlib.image.AxesImage at 0x7f986715bfd0>"
            ]
          },
          "metadata": {
            "tags": []
          },
          "execution_count": 9
        },
        {
          "output_type": "display_data",
          "data": {
            "image/png": "[encoded data removed]",
            "text/plain": [
              "<Figure size 432x288 with 1 Axes>"
            ]
          },
          "metadata": {
            "tags": []
          }
        },
        {
          "output_type": "execute_result",
          "data": {
            "text/plain": [
              "<matplotlib.image.AxesImage at 0x7f98671377f0>"
            ]
          },
          "metadata": {
            "tags": []
          },
          "execution_count": 9
        },
        {
          "output_type": "display_data",
          "data": {
            "image/png": "[encoded data removed]",
            "text/plain": [
              "<Figure size 432x288 with 1 Axes>"
            ]
          },
          "metadata": {
            "tags": []
          }
        }
      ]
    },
    {
      "cell_type": "code",
      "metadata": {
        "id": "tI2S2IeJtEfq",
        "colab_type": "code",
        "colab": {}
      },
      "source": [
        ""
      ],
      "execution_count": 0,
      "outputs": []
    },
    {
      "cell_type": "code",
      "metadata": {
        "id": "Q5n2gOz9tEdh",
        "colab_type": "code",
        "colab": {}
      },
      "source": [
        ""
      ],
      "execution_count": 0,
      "outputs": []
    },
    {
      "cell_type": "code",
      "metadata": {
        "id": "2v244Gf1tEXN",
        "colab_type": "code",
        "colab": {}
      },
      "source": [
        ""
      ],
      "execution_count": 0,
      "outputs": []
    },
    {
      "cell_type": "code",
      "metadata": {
        "id": "wt8havtZtEQl",
        "colab_type": "code",
        "colab": {}
      },
      "source": [
        ""
      ],
      "execution_count": 0,
      "outputs": []
    },
    {
      "cell_type": "code",
      "metadata": {
        "id": "pzUQSZYdjWFG",
        "colab_type": "code",
        "colab": {}
      },
      "source": [
        ""
      ],
      "execution_count": 0,
      "outputs": []
    },
    {
      "cell_type": "markdown",
      "metadata": {
        "id": "5slGuM_LjWB7",
        "colab_type": "text"
      },
      "source": [
        "# Prediction "
      ]
    },
    {
      "cell_type": "code",
      "metadata": {
        "id": "uRip823S_Bhl",
        "colab_type": "code",
        "colab": {}
      },
      "source": [
        "#(X_train, y_train), (X_test, y_test) = keras.datasets.mnist.load_data() # when you have to much ram and are too lazy for references...\n",
        "\n",
        "# def preprocess(x):\n",
        "#     x = x.astype('float32') / 255.\n",
        "#     return x.reshape(-1, np.prod(x.shape[1:])) # flatten\n",
        "# X_train = preprocess(X_train)\n",
        "# X_test  = preprocess(X_test)\n",
        "\n",
        "\n",
        "# X_test  = X_test.reshape(-1, 28, 28, 1)\n",
        "\n",
        "X_train_decoded = autoencoder.predict(X_train)\n",
        "X_test_decoded = autoencoder.predict(X_test) \n",
        "X_valid_decoded = autoencoder.predict(X_valid)"
      ],
      "execution_count": 0,
      "outputs": []
    },
    {
      "cell_type": "code",
      "metadata": {
        "id": "AcgLowRB_JFY",
        "colab_type": "code",
        "colab": {
          "base_uri": "https://localhost:8080/",
          "height": 309
        },
        "outputId": "89fe9fd1-1cd5-46a2-9037-c96748d6ea3e"
      },
      "source": [
        "# model = keras.Sequential([\n",
        "#   keras.layers.Flatten(input_shape=(28,28)),\n",
        "#   keras.layers.Dense(128,activation=\"relu\"), \n",
        "#   keras.layers.Dense(256,activation=\"relu\"),\n",
        "#   keras.layers.Dense(10,activation=\"softmax\") # adds upto 1             \n",
        "# ])\n",
        "# model.compile(optimizer=\"adam\",loss=\"binary_crossentropy\", metrics=[\"accuracy\"])#sparse_categorical_crossentropy\n",
        "# model.fit(train_images,train_lables,epochs=5)\n",
        "\n",
        "input_shape = (28, 28, 1)\n",
        "\n",
        "model = Sequential()\n",
        "model.add(Conv2D(28, kernel_size=(3,3), input_shape=input_shape))\n",
        "model.add(MaxPooling2D(pool_size=(2, 2)))\n",
        "model.add(Conv2D(28, kernel_size=(3,3), input_shape=input_shape))\n",
        "model.add(MaxPooling2D(pool_size=(2, 2)))\n",
        "model.add(Flatten()) # Flattening the 2D arrays for fully connected layers\n",
        "model.add(Dense(128, activation=tf.nn.relu))\n",
        "model.add(Dropout(0.2))\n",
        "model.add(Dense(32, activation=tf.nn.relu))\n",
        "model.add(Dense(10,activation=tf.nn.softmax))\n",
        "\n",
        "model.compile(optimizer=\"adam\",loss=\"sparse_categorical_crossentropy\", metrics=[\"accuracy\"])#sparse_categorical_crossentropy\n",
        "model.fit(X_test_decoded,y_test,epochs=5)\n"
      ],
      "execution_count": 11,
      "outputs": [
        {
          "output_type": "stream",
          "text": [
            "WARNING:tensorflow:From /usr/local/lib/python3.6/dist-packages/keras/backend/tensorflow_backend.py:148: The name tf.placeholder_with_default is deprecated. Please use tf.compat.v1.placeholder_with_default instead.\n",
            "\n",
            "WARNING:tensorflow:From /usr/local/lib/python3.6/dist-packages/keras/backend/tensorflow_backend.py:3733: calling dropout (from tensorflow.python.ops.nn_ops) with keep_prob is deprecated and will be removed in a future version.\n",
            "Instructions for updating:\n",
            "Please use `rate` instead of `keep_prob`. Rate should be set to `rate = 1 - keep_prob`.\n",
            "Epoch 1/5\n",
            "10000/10000 [==============================] - 3s 272us/step - loss: 0.6773 - acc: 0.7828\n",
            "Epoch 2/5\n",
            "10000/10000 [==============================] - 2s 207us/step - loss: 0.3149 - acc: 0.9011\n",
            "Epoch 3/5\n",
            "10000/10000 [==============================] - 2s 213us/step - loss: 0.2411 - acc: 0.9225\n",
            "Epoch 4/5\n",
            "10000/10000 [==============================] - 2s 221us/step - loss: 0.1979 - acc: 0.9313\n",
            "Epoch 5/5\n",
            "10000/10000 [==============================] - 2s 209us/step - loss: 0.1757 - acc: 0.9421\n"
          ],
          "name": "stdout"
        },
        {
          "output_type": "execute_result",
          "data": {
            "text/plain": [
              "<keras.callbacks.History at 0x7f9867054b00>"
            ]
          },
          "metadata": {
            "tags": []
          },
          "execution_count": 11
        }
      ]
    },
    {
      "cell_type": "code",
      "metadata": {
        "id": "IsINxex7_JIT",
        "colab_type": "code",
        "colab": {
          "base_uri": "https://localhost:8080/",
          "height": 51
        },
        "outputId": "26dba481-a571-4d24-d112-9ebeac262a53"
      },
      "source": [
        "test_loss,test_acc = model.evaluate(X_test_noisy,y_test[:len(X_test_noisy)])\n",
        "print(\"tested Acc: \", test_acc) # 0.9803; two conv2d = .9891; two conv2d  + Dense 128 + drop 0.2 + Dense 32 = .9896"
      ],
      "execution_count": 12,
      "outputs": [
        {
          "output_type": "stream",
          "text": [
            "10000/10000 [==============================] - 1s 97us/step\n",
            "tested Acc:  0.9621\n"
          ],
          "name": "stdout"
        }
      ]
    },
    {
      "cell_type": "code",
      "metadata": {
        "id": "P0jCpl1O_JLq",
        "colab_type": "code",
        "colab": {
          "base_uri": "https://localhost:8080/",
          "height": 607
        },
        "outputId": "ef26e63a-af16-4731-e821-41bdb9486cef"
      },
      "source": [
        "prediction = model.predict(X_test_noisy)\n",
        "#prediction\n",
        "for i in range(2):\n",
        "  plt.grid(False)\n",
        "  plt.imshow(X_test_noisy[i].reshape(28,28),cmap=plt.cm.binary)\n",
        "  plt.xlabel(\"Actual: \" + classnames[y_test[i]])\n",
        "  plt.title(\"Prediction: \" + classnames[np.argmax(prediction[i])])\n",
        "  plt.show()"
      ],
      "execution_count": 41,
      "outputs": [
        {
          "output_type": "execute_result",
          "data": {
            "text/plain": [
              "<matplotlib.image.AxesImage at 0x7f986175d470>"
            ]
          },
          "metadata": {
            "tags": []
          },
          "execution_count": 41
        },
        {
          "output_type": "execute_result",
          "data": {
            "text/plain": [
              "Text(0.5, 0, 'Actual: 7')"
            ]
          },
          "metadata": {
            "tags": []
          },
          "execution_count": 41
        },
        {
          "output_type": "execute_result",
          "data": {
            "text/plain": [
              "Text(0.5, 1.0, 'Prediction: 2')"
            ]
          },
          "metadata": {
            "tags": []
          },
          "execution_count": 41
        },
        {
          "output_type": "display_data",
          "data": {
            "image/png": "[encoded data removed]",
            "text/plain": [
              "<Figure size 432x288 with 1 Axes>"
            ]
          },
          "metadata": {
            "tags": []
          }
        },
        {
          "output_type": "execute_result",
          "data": {
            "text/plain": [
              "<matplotlib.image.AxesImage at 0x7f9866e9c358>"
            ]
          },
          "metadata": {
            "tags": []
          },
          "execution_count": 41
        },
        {
          "output_type": "execute_result",
          "data": {
            "text/plain": [
              "Text(0.5, 0, 'Actual: 2')"
            ]
          },
          "metadata": {
            "tags": []
          },
          "execution_count": 41
        },
        {
          "output_type": "execute_result",
          "data": {
            "text/plain": [
              "Text(0.5, 1.0, 'Prediction: 2')"
            ]
          },
          "metadata": {
            "tags": []
          },
          "execution_count": 41
        },
        {
          "output_type": "display_data",
          "data": {
            "image/png": "[encoded data removed]",
            "text/plain": [
              "<Figure size 432x288 with 1 Axes>"
            ]
          },
          "metadata": {
            "tags": []
          }
        }
      ]
    },
    {
      "cell_type": "code",
      "metadata": {
        "id": "po3fL6Aq_JPB",
        "colab_type": "code",
        "colab": {
          "base_uri": "https://localhost:8080/",
          "height": 51
        },
        "outputId": "f86d9be2-d398-4c18-c5ac-d8615573910d"
      },
      "source": [
        "test_loss,test_acc = model.evaluate(X_test_decoded,y_test[:len(X_test_decoded)])\n",
        "print(\"tested Acc: \", test_acc) # 0.9803; two conv2d = .9891; two conv2d  + Dense 128 + drop 0.2 + Dense 32 = .9896"
      ],
      "execution_count": 42,
      "outputs": [
        {
          "output_type": "stream",
          "text": [
            "10000/10000 [==============================] - 1s 96us/step\n",
            "tested Acc:  0.0768\n"
          ],
          "name": "stdout"
        }
      ]
    },
    {
      "cell_type": "code",
      "metadata": {
        "id": "imaLKb9L_JSj",
        "colab_type": "code",
        "colab": {}
      },
      "source": [
        "test_loss,test_acc = model.evaluate(X_test,y_test[:len(X_test_decoded)])\n",
        "print(\"tested Acc: \", test_acc) # 0.9803; two conv2d = .9891; two conv2d  + Dense 128 + drop 0.2 + Dense 32 = .9896"
      ],
      "execution_count": 0,
      "outputs": []
    },
    {
      "cell_type": "code",
      "metadata": {
        "id": "v13UCyra_JV4",
        "colab_type": "code",
        "colab": {}
      },
      "source": [
        ""
      ],
      "execution_count": 0,
      "outputs": []
    },
    {
      "cell_type": "code",
      "metadata": {
        "id": "qa1jlhKZ_JZY",
        "colab_type": "code",
        "colab": {}
      },
      "source": [
        ""
      ],
      "execution_count": 0,
      "outputs": []
    },
    {
      "cell_type": "code",
      "metadata": {
        "id": "jDgukqjJ_Jcx",
        "colab_type": "code",
        "colab": {}
      },
      "source": [
        ""
      ],
      "execution_count": 0,
      "outputs": []
    },
    {
      "cell_type": "code",
      "metadata": {
        "id": "2C4Us79D_JgM",
        "colab_type": "code",
        "colab": {}
      },
      "source": [
        ""
      ],
      "execution_count": 0,
      "outputs": []
    },
    {
      "cell_type": "code",
      "metadata": {
        "id": "PU0qjhmB_Jjz",
        "colab_type": "code",
        "colab": {}
      },
      "source": [
        ""
      ],
      "execution_count": 0,
      "outputs": []
    },
    {
      "cell_type": "code",
      "metadata": {
        "id": "5ogAXT9__Jnd",
        "colab_type": "code",
        "colab": {
          "base_uri": "https://localhost:8080/",
          "height": 34
        },
        "cellView": "both",
        "outputId": "aa1887cf-5333-4989-ecef-a1c82951d7a4"
      },
      "source": [
        "#@this has hidden stuff inside \n",
        "print(\"this is hidden\")"
      ],
      "execution_count": 14,
      "outputs": [
        {
          "output_type": "stream",
          "text": [
            "this is hidden\n"
          ],
          "name": "stdout"
        }
      ]
    },
    {
      "cell_type": "code",
      "metadata": {
        "id": "_QzW1rGh_Jrt",
        "colab_type": "code",
        "colab": {}
      },
      "source": [
        ""
      ],
      "execution_count": 0,
      "outputs": []
    },
    {
      "cell_type": "code",
      "metadata": {
        "id": "OAl9BXDZ_JvB",
        "colab_type": "code",
        "colab": {}
      },
      "source": [
        ""
      ],
      "execution_count": 0,
      "outputs": []
    },
    {
      "cell_type": "code",
      "metadata": {
        "id": "CWFfnhDn_Jxo",
        "colab_type": "code",
        "colab": {}
      },
      "source": [
        ""
      ],
      "execution_count": 0,
      "outputs": []
    },
    {
      "cell_type": "code",
      "metadata": {
        "id": "z-d0fpaZ_J1C",
        "colab_type": "code",
        "colab": {
          "base_uri": "https://localhost:8080/",
          "height": 204
        },
        "outputId": "0ab026ff-f2ef-47e1-aa0c-5bc4051533f3"
      },
      "source": [
        "(X_train, y_train), (X_test, y_test) = keras.datasets.mnist.load_data() # when you have to much ram and are too lazy for references...\n",
        "\n",
        "x_train = x_train.reshape(x_train.shape[0], 28, 28, 1)\n",
        "x_test = x_test.reshape(x_test.shape[0], 28, 28, 1)\n",
        "input_shape = (28, 28, 1)\n",
        "# Making sure that the values are float so that we can get decimal points after division\n",
        "x_train = x_train.astype('float32')\n",
        "x_test = x_test.astype('float32')\n",
        "# Normalizing the RGB codes by dividing it to the max RGB value.\n",
        "x_train /= 255\n",
        "x_test /= 255\n",
        "\n",
        "\n",
        "# model = keras.Sequential([\n",
        "#   keras.layers.Flatten(input_shape=(28,28)),\n",
        "#   keras.layers.Dense(128,activation=\"relu\"), \n",
        "#   keras.layers.Dense(256,activation=\"relu\"),\n",
        "#   keras.layers.Dense(10,activation=\"softmax\") # adds upto 1             \n",
        "# ])\n",
        "# model.compile(optimizer=\"adam\",loss=\"binary_crossentropy\", metrics=[\"accuracy\"])#sparse_categorical_crossentropy\n",
        "# model.fit(train_images,train_lables,epochs=5)\n",
        "\n",
        "input_shape = (28, 28, 1)\n",
        "\n",
        "model_control = Sequential()\n",
        "model_control.add(Conv2D(28, kernel_size=(3,3), input_shape=input_shape))\n",
        "model_control.add(MaxPooling2D(pool_size=(2, 2)))\n",
        "model_control.add(Conv2D(28, kernel_size=(3,3), input_shape=input_shape))\n",
        "model_control.add(MaxPooling2D(pool_size=(2, 2)))\n",
        "model_control.add(Flatten()) # Flattening the 2D arrays for fully connected layers\n",
        "model_control.add(Dense(128, activation=tf.nn.relu))\n",
        "model_control.add(Dropout(0.2))\n",
        "model_control.add(Dense(32, activation=tf.nn.relu))\n",
        "model_control.add(Dense(10,activation=tf.nn.softmax))\n",
        "\n",
        "model_control.compile(optimizer=\"adam\",loss=\"sparse_categorical_crossentropy\", metrics=[\"accuracy\"])#sparse_categorical_crossentropy\n",
        "model_control.fit(x_train,y_train,epochs=5)\n"
      ],
      "execution_count": 32,
      "outputs": [
        {
          "output_type": "stream",
          "text": [
            "Epoch 1/5\n",
            "60000/60000 [==============================] - 14s 241us/step - loss: 2.3023 - acc: 0.1102\n",
            "Epoch 2/5\n",
            "60000/60000 [==============================] - 14s 231us/step - loss: 2.3015 - acc: 0.1122\n",
            "Epoch 3/5\n",
            "60000/60000 [==============================] - 14s 242us/step - loss: 2.3015 - acc: 0.1118\n",
            "Epoch 4/5\n",
            "60000/60000 [==============================] - 14s 225us/step - loss: 2.3016 - acc: 0.1123\n",
            "Epoch 5/5\n",
            "60000/60000 [==============================] - 14s 227us/step - loss: 2.3015 - acc: 0.1122\n"
          ],
          "name": "stdout"
        },
        {
          "output_type": "execute_result",
          "data": {
            "text/plain": [
              "<keras.callbacks.History at 0x7f9861568940>"
            ]
          },
          "metadata": {
            "tags": []
          },
          "execution_count": 32
        }
      ]
    },
    {
      "cell_type": "code",
      "metadata": {
        "id": "iSZCqkfZ_J4e",
        "colab_type": "code",
        "colab": {
          "base_uri": "https://localhost:8080/",
          "height": 51
        },
        "outputId": "9b040e5e-ad86-4563-d674-b888a9a6fb07"
      },
      "source": [
        "test_loss,test_acc = model_control.evaluate(x_test,y_test)\n",
        "print(\"tested Acc: \", test_acc) # 0.9803; two conv2d = .9891; two conv2d  + Dense 128 + drop 0.2 + Dense 32 = .9896"
      ],
      "execution_count": 33,
      "outputs": [
        {
          "output_type": "stream",
          "text": [
            "10000/10000 [==============================] - 1s 115us/step\n",
            "tested Acc:  0.1135\n"
          ],
          "name": "stdout"
        }
      ]
    },
    {
      "cell_type": "code",
      "metadata": {
        "id": "HLeBdXCyEWjN",
        "colab_type": "code",
        "colab": {}
      },
      "source": [
        ""
      ],
      "execution_count": 0,
      "outputs": []
    },
    {
      "cell_type": "code",
      "metadata": {
        "id": "mzvTPD3HEWuz",
        "colab_type": "code",
        "colab": {}
      },
      "source": [
        ""
      ],
      "execution_count": 0,
      "outputs": []
    },
    {
      "cell_type": "code",
      "metadata": {
        "id": "qHAmLsfM_J7m",
        "colab_type": "code",
        "colab": {
          "base_uri": "https://localhost:8080/",
          "height": 1000
        },
        "outputId": "b1b2fb41-0b5b-47fb-87a8-c779853b138b"
      },
      "source": [
        "prediction = model_control.predict(x_train)\n",
        "#prediction\n",
        "for i in range(5):\n",
        "  plt.grid(False)\n",
        "  plt.imshow(test_images[i],cmap=plt.cm.binary)\n",
        "  plt.xlabel(\"Actual: \" + classnames[y_test[i]])\n",
        "  plt.title(\"Prediction: \" + classnames[np.argmax(prediction[i])])\n",
        "  plt.show()"
      ],
      "execution_count": 34,
      "outputs": [
        {
          "output_type": "execute_result",
          "data": {
            "text/plain": [
              "<matplotlib.image.AxesImage at 0x7f98613bb320>"
            ]
          },
          "metadata": {
            "tags": []
          },
          "execution_count": 34
        },
        {
          "output_type": "execute_result",
          "data": {
            "text/plain": [
              "Text(0.5, 0, 'Actual: 7')"
            ]
          },
          "metadata": {
            "tags": []
          },
          "execution_count": 34
        },
        {
          "output_type": "execute_result",
          "data": {
            "text/plain": [
              "Text(0.5, 1.0, 'Prediction: 1')"
            ]
          },
          "metadata": {
            "tags": []
          },
          "execution_count": 34
        },
        {
          "output_type": "display_data",
          "data": {
            "image/png": "[encoded data removed]",
            "text/plain": [
              "<Figure size 432x288 with 1 Axes>"
            ]
          },
          "metadata": {
            "tags": []
          }
        },
        {
          "output_type": "execute_result",
          "data": {
            "text/plain": [
              "<matplotlib.image.AxesImage at 0x7f9861382e48>"
            ]
          },
          "metadata": {
            "tags": []
          },
          "execution_count": 34
        },
        {
          "output_type": "execute_result",
          "data": {
            "text/plain": [
              "Text(0.5, 0, 'Actual: 2')"
            ]
          },
          "metadata": {
            "tags": []
          },
          "execution_count": 34
        },
        {
          "output_type": "execute_result",
          "data": {
            "text/plain": [
              "Text(0.5, 1.0, 'Prediction: 1')"
            ]
          },
          "metadata": {
            "tags": []
          },
          "execution_count": 34
        },
        {
          "output_type": "display_data",
          "data": {
            "image/png": "[encoded data removed]",
            "text/plain": [
              "<Figure size 432x288 with 1 Axes>"
            ]
          },
          "metadata": {
            "tags": []
          }
        },
        {
          "output_type": "execute_result",
          "data": {
            "text/plain": [
              "<matplotlib.image.AxesImage at 0x7f98612dbef0>"
            ]
          },
          "metadata": {
            "tags": []
          },
          "execution_count": 34
        },
        {
          "output_type": "execute_result",
          "data": {
            "text/plain": [
              "Text(0.5, 0, 'Actual: 1')"
            ]
          },
          "metadata": {
            "tags": []
          },
          "execution_count": 34
        },
        {
          "output_type": "execute_result",
          "data": {
            "text/plain": [
              "Text(0.5, 1.0, 'Prediction: 1')"
            ]
          },
          "metadata": {
            "tags": []
          },
          "execution_count": 34
        },
        {
          "output_type": "display_data",
          "data": {
            "image/png": "[encoded data removed]",
            "text/plain": [
              "<Figure size 432x288 with 1 Axes>"
            ]
          },
          "metadata": {
            "tags": []
          }
        },
        {
          "output_type": "execute_result",
          "data": {
            "text/plain": [
              "<matplotlib.image.AxesImage at 0x7f98612b5f98>"
            ]
          },
          "metadata": {
            "tags": []
          },
          "execution_count": 34
        },
        {
          "output_type": "execute_result",
          "data": {
            "text/plain": [
              "Text(0.5, 0, 'Actual: 0')"
            ]
          },
          "metadata": {
            "tags": []
          },
          "execution_count": 34
        },
        {
          "output_type": "execute_result",
          "data": {
            "text/plain": [
              "Text(0.5, 1.0, 'Prediction: 1')"
            ]
          },
          "metadata": {
            "tags": []
          },
          "execution_count": 34
        },
        {
          "output_type": "display_data",
          "data": {
            "image/png": "[encoded data removed]",
            "text/plain": [
              "<Figure size 432x288 with 1 Axes>"
            ]
          },
          "metadata": {
            "tags": []
          }
        },
        {
          "output_type": "execute_result",
          "data": {
            "text/plain": [
              "<matplotlib.image.AxesImage at 0x7f986121d080>"
            ]
          },
          "metadata": {
            "tags": []
          },
          "execution_count": 34
        },
        {
          "output_type": "execute_result",
          "data": {
            "text/plain": [
              "Text(0.5, 0, 'Actual: 4')"
            ]
          },
          "metadata": {
            "tags": []
          },
          "execution_count": 34
        },
        {
          "output_type": "execute_result",
          "data": {
            "text/plain": [
              "Text(0.5, 1.0, 'Prediction: 1')"
            ]
          },
          "metadata": {
            "tags": []
          },
          "execution_count": 34
        },
        {
          "output_type": "display_data",
          "data": {
            "image/png": "[encoded data removed]",
            "text/plain": [
              "<Figure size 432x288 with 1 Axes>"
            ]
          },
          "metadata": {
            "tags": []
          }
        }
      ]
    },
    {
      "cell_type": "code",
      "metadata": {
        "id": "B9ncdBeu_J-v",
        "colab_type": "code",
        "colab": {}
      },
      "source": [
        ""
      ],
      "execution_count": 0,
      "outputs": []
    }
  ]
}