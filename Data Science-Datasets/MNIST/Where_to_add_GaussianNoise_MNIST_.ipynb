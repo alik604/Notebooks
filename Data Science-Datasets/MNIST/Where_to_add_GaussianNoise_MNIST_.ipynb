{
  "nbformat": 4,
  "nbformat_minor": 0,
  "metadata": {
    "colab": {
      "name": "Where to add GaussianNoise - MNIST .ipynb",
      "provenance": [],
      "collapsed_sections": [],
      "include_colab_link": true
    },
    "kernelspec": {
      "name": "python3",
      "display_name": "Python 3"
    },
    "accelerator": "GPU"
  },
  "cells": [
    {
      "cell_type": "markdown",
      "metadata": {
        "id": "view-in-github",
        "colab_type": "text"
      },
      "source": [
        "<a href=\"https://colab.research.google.com/github/alik604/Notebooks/blob/master/Data%20Science-Datasets/MNIST/Where_to_add_GaussianNoise_MNIST_.ipynb\" target=\"_parent\"><img src=\"https://colab.research.google.com/assets/colab-badge.svg\" alt=\"Open In Colab\"/></a>"
      ]
    },
    {
      "cell_type": "code",
      "metadata": {
        "id": "8134ctvW5ev7",
        "colab_type": "code",
        "colab": {}
      },
      "source": [
        "from __future__ import print_function\n",
        "from tensorflow.keras.datasets import mnist\n",
        "from tensorflow.keras.models import Sequential\n",
        "from tensorflow.keras.layers import Dense, Dropout, Flatten\n",
        "from tensorflow.keras.layers import Conv2D, MaxPooling2D\n",
        "from tensorflow.keras.layers import *\n",
        "\n",
        "from tensorflow.keras import backend as K\n",
        "import tensorflow as tf\n",
        "\n",
        "import pandas as pd\n",
        "import numpy as np"
      ],
      "execution_count": 0,
      "outputs": []
    },
    {
      "cell_type": "code",
      "metadata": {
        "id": "wVNpwLK05l4P",
        "colab_type": "code",
        "outputId": "77bc19c5-47ab-4c74-8375-b0a644d6a2c7",
        "colab": {
          "base_uri": "https://localhost:8080/",
          "height": 67
        }
      },
      "source": [
        "batch_size = 64\n",
        "num_classes = 10\n",
        "epochs = 12\n",
        "\n",
        "# input image dimensions\n",
        "img_rows, img_cols = 28, 28\n",
        "\n",
        "# the data, split between train and test sets\n",
        "(x_train, y_train), (x_test, y_test) = mnist.load_data()\n",
        "x_train = x_train.reshape(x_train.shape[0],28,28,1)\n",
        "x_test = x_test.reshape(x_test.shape[0],28,28,1)\n",
        "x_train = x_train.astype('float32')\n",
        "x_test = x_test.astype('float32')\n",
        "x_train /= 255\n",
        "x_test /= 255\n",
        "\n",
        "print('x_train shape:', x_train.shape)\n",
        "print(x_train.shape[0], 'train samples')\n",
        "print(x_test.shape[0], 'test samples')\n",
        "\n",
        "# convert class vectors to binary class matrices\n",
        "y_train = tf.keras.utils.to_categorical(y_train, num_classes)\n",
        "y_test = tf.keras.utils.to_categorical(y_test, num_classes)"
      ],
      "execution_count": 93,
      "outputs": [
        {
          "output_type": "stream",
          "text": [
            "x_train shape: (60000, 28, 28, 1)\n",
            "60000 train samples\n",
            "10000 test samples\n"
          ],
          "name": "stdout"
        }
      ]
    },
    {
      "cell_type": "code",
      "metadata": {
        "id": "F7f2X22xARl3",
        "colab_type": "code",
        "colab": {
          "base_uri": "https://localhost:8080/",
          "height": 84
        },
        "outputId": "fe6d518d-2ca6-4516-e944-d8ea33a72567"
      },
      "source": [
        "print(x_train.shape)\n",
        "print(x_test.shape)\n",
        "x = np.concatenate([x_train,x_test])\n",
        "y = np.concatenate([y_train,y_test])\n",
        "\n",
        "from sklearn.model_selection import train_test_split\n",
        "x_train, x_test, y_train, y_test = train_test_split(x, y, test_size=0.98, random_state=42)\n",
        "\n",
        "print(x_train.shape)\n",
        "print(x_test.shape)"
      ],
      "execution_count": 94,
      "outputs": [
        {
          "output_type": "stream",
          "text": [
            "(60000, 28, 28, 1)\n",
            "(10000, 28, 28, 1)\n",
            "(1400, 28, 28, 1)\n",
            "(68600, 28, 28, 1)\n"
          ],
          "name": "stdout"
        }
      ]
    },
    {
      "cell_type": "code",
      "metadata": {
        "id": "5uLPMBqH9_xv",
        "colab_type": "code",
        "colab": {
          "base_uri": "https://localhost:8080/",
          "height": 282
        },
        "outputId": "d31ec8cf-0973-46ba-da64-cefda31ad6bf"
      },
      "source": [
        "import matplotlib.pyplot as plt\n",
        "tmp = x_train[0].reshape((28, 28))\n",
        "plt.imshow(tmp, cmap='gray')"
      ],
      "execution_count": 95,
      "outputs": [
        {
          "output_type": "execute_result",
          "data": {
            "text/plain": [
              "<matplotlib.image.AxesImage at 0x7f63e45e0c88>"
            ]
          },
          "metadata": {
            "tags": []
          },
          "execution_count": 95
        },
        {
          "output_type": "display_data",
          "data": {
            "image/png": "[encoded data removed]",
            "text/plain": [
              "<Figure size 432x288 with 1 Axes>"
            ]
          },
          "metadata": {
            "tags": [],
            "needs_background": "light"
          }
        }
      ]
    },
    {
      "cell_type": "markdown",
      "metadata": {
        "id": "nM4fe2I4O2Qa",
        "colab_type": "text"
      },
      "source": [
        " [layers order](http://cs231n.github.io/convolutional-networks/#layerpat)\n",
        "\n"
      ]
    },
    {
      "cell_type": "markdown",
      "metadata": {
        "id": "ZNSJ2oNca5xi",
        "colab_type": "text"
      },
      "source": [
        " 100; 4, yeilds 98%. \n",
        " \n",
        " \n",
        " 50; 3, yeilds 98%. \n",
        " \n",
        " \n",
        " 100; 3, with final layer(Dense(num_classes, activation='relu')), yeilds 34.65%\n",
        " \n",
        "100; 3, with final layer: Dense(num_classes, activation='sigmoid') , yeilds 9.8%"
      ]
    },
    {
      "cell_type": "code",
      "metadata": {
        "id": "yNvOFcO0Y9GF",
        "colab_type": "code",
        "colab": {
          "base_uri": "https://localhost:8080/",
          "height": 1000
        },
        "outputId": "6acd1001-6e69-4be3-d910-c62f9a190e33"
      },
      "source": [
        "# Adam\n",
        "model = Sequential()\n",
        "model.add(Conv2D(filters=100, kernel_size=3, activation='relu'))\n",
        "model.add(MaxPooling2D(pool_size=(2, 2)))\n",
        "model.add(BatchNormalization())\n",
        "\n",
        "model.add(Conv2D(filters=100, kernel_size=3, activation='relu'))\n",
        "model.add(MaxPooling2D(pool_size=(2, 2)))\n",
        "\n",
        "model.add(Flatten())\n",
        "model.add(Dense(num_classes, activation='softmax'))\n",
        " \n",
        "opt = tf.keras.optimizers.Adam()\n",
        "\n",
        "model.compile(loss='categorical_crossentropy',\n",
        "              optimizer=opt,\n",
        "              metrics=['accuracy'])\n",
        "\n",
        "\n",
        "model.fit(x_train, y_train,\n",
        "          batch_size=batch_size,\n",
        "          epochs=30,\n",
        "          verbose=1,\n",
        "          validation_data=(x_test, y_test))\n",
        "\n",
        "\n",
        "score = model.evaluate(x_test, y_test, verbose=0)\n",
        "print('Test loss:', score[0])\n",
        "print('Test accuracy:', score[1]) # Test accuracy: 0.9916999936103821"
      ],
      "execution_count": 108,
      "outputs": [
        {
          "output_type": "stream",
          "text": [
            "Epoch 1/30\n",
            "22/22 [==============================] - 4s 173ms/step - loss: 0.8616 - accuracy: 0.7229 - val_loss: 1.9427 - val_accuracy: 0.8393\n",
            "Epoch 2/30\n",
            "22/22 [==============================] - 3s 152ms/step - loss: 0.1851 - accuracy: 0.9464 - val_loss: 1.8046 - val_accuracy: 0.7852\n",
            "Epoch 3/30\n",
            "22/22 [==============================] - 3s 153ms/step - loss: 0.0740 - accuracy: 0.9829 - val_loss: 1.7097 - val_accuracy: 0.8700\n",
            "Epoch 4/30\n",
            "22/22 [==============================] - 3s 152ms/step - loss: 0.0352 - accuracy: 0.9936 - val_loss: 1.5866 - val_accuracy: 0.9204\n",
            "Epoch 5/30\n",
            "22/22 [==============================] - 3s 149ms/step - loss: 0.0198 - accuracy: 0.9971 - val_loss: 1.4547 - val_accuracy: 0.9292\n",
            "Epoch 6/30\n",
            "22/22 [==============================] - 3s 151ms/step - loss: 0.0103 - accuracy: 0.9993 - val_loss: 1.3260 - val_accuracy: 0.9425\n",
            "Epoch 7/30\n",
            "22/22 [==============================] - 3s 150ms/step - loss: 0.0062 - accuracy: 1.0000 - val_loss: 1.1933 - val_accuracy: 0.9432\n",
            "Epoch 8/30\n",
            "22/22 [==============================] - 3s 148ms/step - loss: 0.0048 - accuracy: 1.0000 - val_loss: 1.0615 - val_accuracy: 0.9496\n",
            "Epoch 9/30\n",
            "22/22 [==============================] - 3s 150ms/step - loss: 0.0033 - accuracy: 1.0000 - val_loss: 0.9430 - val_accuracy: 0.9477\n",
            "Epoch 10/30\n",
            "22/22 [==============================] - 3s 152ms/step - loss: 0.0024 - accuracy: 1.0000 - val_loss: 0.8194 - val_accuracy: 0.9506\n",
            "Epoch 11/30\n",
            "22/22 [==============================] - 3s 152ms/step - loss: 0.0021 - accuracy: 1.0000 - val_loss: 0.7057 - val_accuracy: 0.9514\n",
            "Epoch 12/30\n",
            "22/22 [==============================] - 3s 152ms/step - loss: 0.0017 - accuracy: 1.0000 - val_loss: 0.5987 - val_accuracy: 0.9527\n",
            "Epoch 13/30\n",
            "22/22 [==============================] - 3s 154ms/step - loss: 0.0015 - accuracy: 1.0000 - val_loss: 0.5065 - val_accuracy: 0.9520\n",
            "Epoch 14/30\n",
            "22/22 [==============================] - 3s 155ms/step - loss: 0.0013 - accuracy: 1.0000 - val_loss: 0.4248 - val_accuracy: 0.9529\n",
            "Epoch 15/30\n",
            "22/22 [==============================] - 3s 154ms/step - loss: 0.0012 - accuracy: 1.0000 - val_loss: 0.3585 - val_accuracy: 0.9524\n",
            "Epoch 16/30\n",
            "22/22 [==============================] - 3s 155ms/step - loss: 0.0010 - accuracy: 1.0000 - val_loss: 0.3008 - val_accuracy: 0.9530\n",
            "Epoch 17/30\n",
            "22/22 [==============================] - 3s 154ms/step - loss: 9.6123e-04 - accuracy: 1.0000 - val_loss: 0.2585 - val_accuracy: 0.9535\n",
            "Epoch 18/30\n",
            "22/22 [==============================] - 3s 151ms/step - loss: 8.7434e-04 - accuracy: 1.0000 - val_loss: 0.2233 - val_accuracy: 0.9537\n",
            "Epoch 19/30\n",
            "22/22 [==============================] - 3s 150ms/step - loss: 7.8552e-04 - accuracy: 1.0000 - val_loss: 0.1987 - val_accuracy: 0.9544\n",
            "Epoch 20/30\n",
            "22/22 [==============================] - 3s 150ms/step - loss: 7.0772e-04 - accuracy: 1.0000 - val_loss: 0.1802 - val_accuracy: 0.9545\n",
            "Epoch 21/30\n",
            "22/22 [==============================] - 3s 150ms/step - loss: 6.5152e-04 - accuracy: 1.0000 - val_loss: 0.1675 - val_accuracy: 0.9549\n",
            "Epoch 22/30\n",
            "22/22 [==============================] - 3s 151ms/step - loss: 6.0507e-04 - accuracy: 1.0000 - val_loss: 0.1589 - val_accuracy: 0.9550\n",
            "Epoch 23/30\n",
            "22/22 [==============================] - 3s 148ms/step - loss: 5.4851e-04 - accuracy: 1.0000 - val_loss: 0.1536 - val_accuracy: 0.9556\n",
            "Epoch 24/30\n",
            "22/22 [==============================] - 3s 151ms/step - loss: 5.1513e-04 - accuracy: 1.0000 - val_loss: 0.1508 - val_accuracy: 0.9560\n",
            "Epoch 25/30\n",
            "22/22 [==============================] - 3s 150ms/step - loss: 4.7885e-04 - accuracy: 1.0000 - val_loss: 0.1498 - val_accuracy: 0.9563\n",
            "Epoch 26/30\n",
            "22/22 [==============================] - 3s 150ms/step - loss: 4.3795e-04 - accuracy: 1.0000 - val_loss: 0.1504 - val_accuracy: 0.9569\n",
            "Epoch 27/30\n",
            "22/22 [==============================] - 3s 148ms/step - loss: 4.1024e-04 - accuracy: 1.0000 - val_loss: 0.1518 - val_accuracy: 0.9571\n",
            "Epoch 28/30\n",
            "22/22 [==============================] - 3s 149ms/step - loss: 3.8021e-04 - accuracy: 1.0000 - val_loss: 0.1532 - val_accuracy: 0.9575\n",
            "Epoch 29/30\n",
            "22/22 [==============================] - 3s 150ms/step - loss: 3.6749e-04 - accuracy: 1.0000 - val_loss: 0.1552 - val_accuracy: 0.9578\n",
            "Epoch 30/30\n",
            "22/22 [==============================] - 3s 150ms/step - loss: 3.4292e-04 - accuracy: 1.0000 - val_loss: 0.1580 - val_accuracy: 0.9578\n",
            "Test loss: 0.1579907089471817\n",
            "Test accuracy: 0.9578279852867126\n"
          ],
          "name": "stdout"
        }
      ]
    },
    {
      "cell_type": "code",
      "metadata": {
        "id": "-60lZlsBLSES",
        "colab_type": "code",
        "colab": {
          "base_uri": "https://localhost:8080/",
          "height": 1000
        },
        "outputId": "aa6ba064-1469-4fb4-b41c-20e266ecebb6"
      },
      "source": [
        "# Adam\n",
        "model = Sequential()\n",
        "model.add(Conv2D(filters=100, kernel_size=3)) # remove relu\n",
        "# model.add(GaussianNoise(0.5)) # sandwich between\n",
        "# GaussianNoise(0.5) here - accuracy: 0.9829 - val_loss: 0.4050 - val_accuracy: 0.9024\n",
        "model.add(Activation('relu')) # add relu \n",
        "# GaussianNoise(0.5) here - accuracy: 0.9900 - val_loss: 1.4703 - val_accuracy: 0.8073\n",
        "model.add(MaxPooling2D(pool_size=(2, 2)))\n",
        "# GaussianNoise(0.5) here - accuracy: 0.9721 - val_loss: 0.3031 - val_accuracy: 0.9356\n",
        "model.add(BatchNormalization())\n",
        "# GaussianNoise(0.5) here - accuracy: 1.0000 - val_loss: 0.1905 - val_accuracy: 0.9538 \n",
        "\n",
        "model.add(Conv2D(filters=100, kernel_size=3, activation='relu'))\n",
        "model.add(MaxPooling2D(pool_size=(2, 2)))\n",
        "\n",
        "model.add(Flatten())\n",
        "model.add(Dense(num_classes, activation='softmax'))\n",
        " \n",
        "opt = tf.keras.optimizers.Adam()\n",
        "\n",
        "model.compile(loss='categorical_crossentropy',\n",
        "              optimizer=opt,\n",
        "              metrics=['accuracy'])\n",
        "\n",
        "\n",
        "model.fit(x_train, y_train,\n",
        "          batch_size=batch_size,\n",
        "          epochs=30,\n",
        "          verbose=1,\n",
        "          validation_data=(x_test, y_test))\n",
        "\n",
        "\n",
        "score = model.evaluate(x_test, y_test, verbose=0)\n",
        "print('Test loss:', score[0])\n",
        "print('Test accuracy:', score[1]) # Test accuracy: 0.9916999936103821"
      ],
      "execution_count": 117,
      "outputs": [
        {
          "output_type": "stream",
          "text": [
            "Epoch 1/30\n",
            "22/22 [==============================] - 4s 160ms/step - loss: 2.9540 - accuracy: 0.1436 - val_loss: 2.1944 - val_accuracy: 0.4169\n",
            "Epoch 2/30\n",
            "22/22 [==============================] - 3s 151ms/step - loss: 1.7650 - accuracy: 0.4021 - val_loss: 1.9005 - val_accuracy: 0.3881\n",
            "Epoch 3/30\n",
            "22/22 [==============================] - 3s 149ms/step - loss: 0.8722 - accuracy: 0.7014 - val_loss: 1.4525 - val_accuracy: 0.6199\n",
            "Epoch 4/30\n",
            "22/22 [==============================] - 3s 151ms/step - loss: 0.6659 - accuracy: 0.7786 - val_loss: 1.0807 - val_accuracy: 0.7244\n",
            "Epoch 5/30\n",
            "22/22 [==============================] - 3s 151ms/step - loss: 0.4827 - accuracy: 0.8436 - val_loss: 0.8261 - val_accuracy: 0.8040\n",
            "Epoch 6/30\n",
            "22/22 [==============================] - 3s 148ms/step - loss: 0.3971 - accuracy: 0.8800 - val_loss: 0.7223 - val_accuracy: 0.8191\n",
            "Epoch 7/30\n",
            "22/22 [==============================] - 3s 148ms/step - loss: 0.3568 - accuracy: 0.8929 - val_loss: 0.6323 - val_accuracy: 0.8335\n",
            "Epoch 8/30\n",
            "22/22 [==============================] - 3s 147ms/step - loss: 0.3244 - accuracy: 0.8900 - val_loss: 0.5347 - val_accuracy: 0.8502\n",
            "Epoch 9/30\n",
            "22/22 [==============================] - 3s 149ms/step - loss: 0.2856 - accuracy: 0.9136 - val_loss: 0.5862 - val_accuracy: 0.8128\n",
            "Epoch 10/30\n",
            "22/22 [==============================] - 3s 149ms/step - loss: 0.2534 - accuracy: 0.9243 - val_loss: 0.5087 - val_accuracy: 0.8395\n",
            "Epoch 11/30\n",
            "22/22 [==============================] - 3s 148ms/step - loss: 0.2655 - accuracy: 0.9164 - val_loss: 0.6322 - val_accuracy: 0.7619\n",
            "Epoch 12/30\n",
            "22/22 [==============================] - 3s 147ms/step - loss: 0.2090 - accuracy: 0.9336 - val_loss: 0.4117 - val_accuracy: 0.8751\n",
            "Epoch 13/30\n",
            "22/22 [==============================] - 3s 150ms/step - loss: 0.1896 - accuracy: 0.9321 - val_loss: 0.4684 - val_accuracy: 0.8470\n",
            "Epoch 14/30\n",
            "22/22 [==============================] - 3s 149ms/step - loss: 0.1558 - accuracy: 0.9500 - val_loss: 0.4214 - val_accuracy: 0.8732\n",
            "Epoch 15/30\n",
            "22/22 [==============================] - 3s 149ms/step - loss: 0.1434 - accuracy: 0.9514 - val_loss: 0.3855 - val_accuracy: 0.8851\n",
            "Epoch 16/30\n",
            "22/22 [==============================] - 3s 149ms/step - loss: 0.1363 - accuracy: 0.9529 - val_loss: 0.4793 - val_accuracy: 0.8514\n",
            "Epoch 17/30\n",
            "22/22 [==============================] - 3s 148ms/step - loss: 0.1205 - accuracy: 0.9607 - val_loss: 0.4541 - val_accuracy: 0.8683\n",
            "Epoch 18/30\n",
            "22/22 [==============================] - 3s 148ms/step - loss: 0.1163 - accuracy: 0.9607 - val_loss: 0.3774 - val_accuracy: 0.8945\n",
            "Epoch 19/30\n",
            "22/22 [==============================] - 3s 148ms/step - loss: 0.1064 - accuracy: 0.9643 - val_loss: 0.5506 - val_accuracy: 0.8461\n",
            "Epoch 20/30\n",
            "22/22 [==============================] - 3s 149ms/step - loss: 0.1102 - accuracy: 0.9679 - val_loss: 0.3428 - val_accuracy: 0.9065\n",
            "Epoch 21/30\n",
            "22/22 [==============================] - 3s 159ms/step - loss: 0.1098 - accuracy: 0.9643 - val_loss: 0.3652 - val_accuracy: 0.9016\n",
            "Epoch 22/30\n",
            "22/22 [==============================] - 4s 160ms/step - loss: 0.0907 - accuracy: 0.9686 - val_loss: 0.4040 - val_accuracy: 0.8895\n",
            "Epoch 23/30\n",
            "22/22 [==============================] - 4s 160ms/step - loss: 0.0878 - accuracy: 0.9671 - val_loss: 0.3644 - val_accuracy: 0.9010\n",
            "Epoch 24/30\n",
            "22/22 [==============================] - 3s 150ms/step - loss: 0.0639 - accuracy: 0.9764 - val_loss: 0.3544 - val_accuracy: 0.9095\n",
            "Epoch 25/30\n",
            "22/22 [==============================] - 3s 150ms/step - loss: 0.0646 - accuracy: 0.9779 - val_loss: 0.3405 - val_accuracy: 0.9140\n",
            "Epoch 26/30\n",
            "22/22 [==============================] - 3s 150ms/step - loss: 0.0602 - accuracy: 0.9793 - val_loss: 0.3445 - val_accuracy: 0.9134\n",
            "Epoch 27/30\n",
            "22/22 [==============================] - 3s 157ms/step - loss: 0.0795 - accuracy: 0.9729 - val_loss: 0.4298 - val_accuracy: 0.8933\n",
            "Epoch 28/30\n",
            "22/22 [==============================] - 4s 160ms/step - loss: 0.0648 - accuracy: 0.9807 - val_loss: 0.3621 - val_accuracy: 0.9118\n",
            "Epoch 29/30\n",
            "22/22 [==============================] - 4s 159ms/step - loss: 0.0376 - accuracy: 0.9857 - val_loss: 0.3568 - val_accuracy: 0.9144\n",
            "Epoch 30/30\n",
            "22/22 [==============================] - 3s 158ms/step - loss: 0.0485 - accuracy: 0.9829 - val_loss: 0.4050 - val_accuracy: 0.9024\n",
            "Test loss: 0.40497902035713196\n",
            "Test accuracy: 0.9024052619934082\n"
          ],
          "name": "stdout"
        }
      ]
    },
    {
      "cell_type": "code",
      "metadata": {
        "id": "WHC8v0ncKD9Q",
        "colab_type": "code",
        "colab": {
          "base_uri": "https://localhost:8080/",
          "height": 1000
        },
        "outputId": "25042d82-9817-441c-aee4-2579e8ff0354"
      },
      "source": [
        "# Adadelta default\n",
        "model = Sequential()\n",
        "model.add(Conv2D(filters=100, kernel_size=3, activation='relu'))\n",
        "model.add(MaxPooling2D(pool_size=(2, 2)))\n",
        "model.add(BatchNormalization())\n",
        "\n",
        "model.add(Conv2D(filters=100, kernel_size=3, activation='relu'))\n",
        "model.add(MaxPooling2D(pool_size=(2, 2)))\n",
        "\n",
        "model.add(Flatten())\n",
        "model.add(Dense(num_classes, activation='softmax'))\n",
        "\n",
        "opt = tf.keras.optimizers.Adadelta()\n",
        "\n",
        "model.compile(loss='categorical_crossentropy',\n",
        "              optimizer=opt,\n",
        "              metrics=['accuracy'])\n",
        "\n",
        "model.fit(x_train, y_train,\n",
        "          batch_size=batch_size,\n",
        "          epochs=30,\n",
        "          verbose=1,\n",
        "          validation_data=(x_test, y_test))\n",
        "\n",
        "score = model.evaluate(x_test, y_test, verbose=0)\n",
        "print('Test loss:', score[0])\n",
        "print('Test accuracy:', score[1]) # Test accuracy: 0.9916999936103821"
      ],
      "execution_count": 111,
      "outputs": [
        {
          "output_type": "stream",
          "text": [
            "Epoch 1/30\n",
            "22/22 [==============================] - 4s 161ms/step - loss: 3.0067 - accuracy: 0.0557 - val_loss: 2.3159 - val_accuracy: 0.0226\n",
            "Epoch 2/30\n",
            "22/22 [==============================] - 3s 149ms/step - loss: 2.9486 - accuracy: 0.0579 - val_loss: 2.3158 - val_accuracy: 0.0225\n",
            "Epoch 3/30\n",
            "22/22 [==============================] - 3s 147ms/step - loss: 2.8928 - accuracy: 0.0614 - val_loss: 2.3156 - val_accuracy: 0.0232\n",
            "Epoch 4/30\n",
            "22/22 [==============================] - 3s 147ms/step - loss: 2.8396 - accuracy: 0.0664 - val_loss: 2.3154 - val_accuracy: 0.0258\n",
            "Epoch 5/30\n",
            "22/22 [==============================] - 3s 145ms/step - loss: 2.7887 - accuracy: 0.0736 - val_loss: 2.3150 - val_accuracy: 0.0298\n",
            "Epoch 6/30\n",
            "22/22 [==============================] - 3s 145ms/step - loss: 2.7409 - accuracy: 0.0779 - val_loss: 2.3144 - val_accuracy: 0.0355\n",
            "Epoch 7/30\n",
            "22/22 [==============================] - 3s 148ms/step - loss: 2.6945 - accuracy: 0.0786 - val_loss: 2.3136 - val_accuracy: 0.0419\n",
            "Epoch 8/30\n",
            "22/22 [==============================] - 3s 148ms/step - loss: 2.6507 - accuracy: 0.0836 - val_loss: 2.3125 - val_accuracy: 0.0496\n",
            "Epoch 9/30\n",
            "22/22 [==============================] - 3s 149ms/step - loss: 2.6087 - accuracy: 0.0914 - val_loss: 2.3110 - val_accuracy: 0.0578\n",
            "Epoch 10/30\n",
            "22/22 [==============================] - 3s 150ms/step - loss: 2.5680 - accuracy: 0.1029 - val_loss: 2.3092 - val_accuracy: 0.0659\n",
            "Epoch 11/30\n",
            "22/22 [==============================] - 3s 150ms/step - loss: 2.5279 - accuracy: 0.1121 - val_loss: 2.3068 - val_accuracy: 0.0745\n",
            "Epoch 12/30\n",
            "22/22 [==============================] - 3s 151ms/step - loss: 2.4914 - accuracy: 0.1186 - val_loss: 2.3039 - val_accuracy: 0.0840\n",
            "Epoch 13/30\n",
            "22/22 [==============================] - 4s 160ms/step - loss: 2.4538 - accuracy: 0.1264 - val_loss: 2.3003 - val_accuracy: 0.0945\n",
            "Epoch 14/30\n",
            "22/22 [==============================] - 3s 157ms/step - loss: 2.4201 - accuracy: 0.1321 - val_loss: 2.2959 - val_accuracy: 0.1048\n",
            "Epoch 15/30\n",
            "22/22 [==============================] - 3s 158ms/step - loss: 2.3866 - accuracy: 0.1400 - val_loss: 2.2906 - val_accuracy: 0.1162\n",
            "Epoch 16/30\n",
            "22/22 [==============================] - 3s 149ms/step - loss: 2.3539 - accuracy: 0.1457 - val_loss: 2.2843 - val_accuracy: 0.1277\n",
            "Epoch 17/30\n",
            "22/22 [==============================] - 3s 147ms/step - loss: 2.3237 - accuracy: 0.1557 - val_loss: 2.2768 - val_accuracy: 0.1393\n",
            "Epoch 18/30\n",
            "22/22 [==============================] - 3s 148ms/step - loss: 2.2926 - accuracy: 0.1643 - val_loss: 2.2680 - val_accuracy: 0.1511\n",
            "Epoch 19/30\n",
            "22/22 [==============================] - 3s 147ms/step - loss: 2.2635 - accuracy: 0.1821 - val_loss: 2.2578 - val_accuracy: 0.1639\n",
            "Epoch 20/30\n",
            "22/22 [==============================] - 3s 147ms/step - loss: 2.2338 - accuracy: 0.1929 - val_loss: 2.2460 - val_accuracy: 0.1771\n",
            "Epoch 21/30\n",
            "22/22 [==============================] - 3s 146ms/step - loss: 2.2060 - accuracy: 0.2079 - val_loss: 2.2327 - val_accuracy: 0.1897\n",
            "Epoch 22/30\n",
            "22/22 [==============================] - 3s 146ms/step - loss: 2.1799 - accuracy: 0.2243 - val_loss: 2.2178 - val_accuracy: 0.2021\n",
            "Epoch 23/30\n",
            "22/22 [==============================] - 3s 145ms/step - loss: 2.1529 - accuracy: 0.2343 - val_loss: 2.2013 - val_accuracy: 0.2147\n",
            "Epoch 24/30\n",
            "22/22 [==============================] - 3s 145ms/step - loss: 2.1270 - accuracy: 0.2486 - val_loss: 2.1832 - val_accuracy: 0.2275\n",
            "Epoch 25/30\n",
            "22/22 [==============================] - 3s 146ms/step - loss: 2.1023 - accuracy: 0.2571 - val_loss: 2.1638 - val_accuracy: 0.2403\n",
            "Epoch 26/30\n",
            "22/22 [==============================] - 3s 145ms/step - loss: 2.0778 - accuracy: 0.2671 - val_loss: 2.1432 - val_accuracy: 0.2524\n",
            "Epoch 27/30\n",
            "22/22 [==============================] - 3s 145ms/step - loss: 2.0531 - accuracy: 0.2793 - val_loss: 2.1214 - val_accuracy: 0.2644\n",
            "Epoch 28/30\n",
            "22/22 [==============================] - 3s 145ms/step - loss: 2.0305 - accuracy: 0.2971 - val_loss: 2.0989 - val_accuracy: 0.2761\n",
            "Epoch 29/30\n",
            "22/22 [==============================] - 3s 147ms/step - loss: 2.0067 - accuracy: 0.3114 - val_loss: 2.0758 - val_accuracy: 0.2877\n",
            "Epoch 30/30\n",
            "22/22 [==============================] - 3s 145ms/step - loss: 1.9845 - accuracy: 0.3229 - val_loss: 2.0523 - val_accuracy: 0.2998\n",
            "Test loss: 2.052323818206787\n",
            "Test accuracy: 0.299795925617218\n"
          ],
          "name": "stdout"
        }
      ]
    },
    {
      "cell_type": "code",
      "metadata": {
        "id": "4RTcyo-MI4St",
        "colab_type": "code",
        "colab": {
          "base_uri": "https://localhost:8080/",
          "height": 1000
        },
        "outputId": "a42af176-172d-477b-9bea-d9d25b61c6b6"
      },
      "source": [
        "# Adadelta 10x\n",
        "model = Sequential()\n",
        "model.add(Conv2D(filters=100, kernel_size=3, activation='relu'))\n",
        "model.add(MaxPooling2D(pool_size=(2, 2)))\n",
        "model.add(BatchNormalization())\n",
        "\n",
        "model.add(Conv2D(filters=100, kernel_size=3, activation='relu'))\n",
        "model.add(MaxPooling2D(pool_size=(2, 2)))\n",
        "\n",
        "model.add(Flatten())\n",
        "model.add(Dense(num_classes, activation='softmax'))\n",
        "\n",
        "opt = tf.keras.optimizers.Adadelta(0.01)\n",
        "\n",
        "model.compile(loss='categorical_crossentropy',\n",
        "              optimizer=opt,\n",
        "              metrics=['accuracy'])\n",
        "\n",
        "model.fit(x_train, y_train,\n",
        "          batch_size=batch_size,\n",
        "          epochs=30,\n",
        "          verbose=1,\n",
        "          validation_data=(x_test, y_test))\n",
        "\n",
        "score = model.evaluate(x_test, y_test, verbose=0)\n",
        "print('Test loss:', score[0])\n",
        "print('Test accuracy:', score[1]) # Test accuracy: 0.9916999936103821"
      ],
      "execution_count": 112,
      "outputs": [
        {
          "output_type": "stream",
          "text": [
            "Epoch 1/30\n",
            "22/22 [==============================] - 3s 157ms/step - loss: 2.4153 - accuracy: 0.1236 - val_loss: 2.2670 - val_accuracy: 0.1479\n",
            "Epoch 2/30\n",
            "22/22 [==============================] - 3s 148ms/step - loss: 2.0629 - accuracy: 0.2186 - val_loss: 2.2480 - val_accuracy: 0.2284\n",
            "Epoch 3/30\n",
            "22/22 [==============================] - 3s 148ms/step - loss: 1.8299 - accuracy: 0.3550 - val_loss: 2.2251 - val_accuracy: 0.3676\n",
            "Epoch 4/30\n",
            "22/22 [==============================] - 3s 148ms/step - loss: 1.6394 - accuracy: 0.5014 - val_loss: 2.1982 - val_accuracy: 0.4986\n",
            "Epoch 5/30\n",
            "22/22 [==============================] - 3s 148ms/step - loss: 1.4775 - accuracy: 0.5871 - val_loss: 2.1673 - val_accuracy: 0.5763\n",
            "Epoch 6/30\n",
            "22/22 [==============================] - 3s 145ms/step - loss: 1.3397 - accuracy: 0.6557 - val_loss: 2.1320 - val_accuracy: 0.6233\n",
            "Epoch 7/30\n",
            "22/22 [==============================] - 3s 147ms/step - loss: 1.2219 - accuracy: 0.7036 - val_loss: 2.0920 - val_accuracy: 0.6612\n",
            "Epoch 8/30\n",
            "22/22 [==============================] - 3s 144ms/step - loss: 1.1205 - accuracy: 0.7400 - val_loss: 2.0470 - val_accuracy: 0.6893\n",
            "Epoch 9/30\n",
            "22/22 [==============================] - 3s 144ms/step - loss: 1.0317 - accuracy: 0.7671 - val_loss: 1.9968 - val_accuracy: 0.7105\n",
            "Epoch 10/30\n",
            "22/22 [==============================] - 3s 146ms/step - loss: 0.9570 - accuracy: 0.7800 - val_loss: 1.9407 - val_accuracy: 0.7305\n",
            "Epoch 11/30\n",
            "22/22 [==============================] - 3s 146ms/step - loss: 0.8897 - accuracy: 0.7986 - val_loss: 1.8789 - val_accuracy: 0.7458\n",
            "Epoch 12/30\n",
            "22/22 [==============================] - 3s 147ms/step - loss: 0.8326 - accuracy: 0.8086 - val_loss: 1.8117 - val_accuracy: 0.7637\n",
            "Epoch 13/30\n",
            "22/22 [==============================] - 3s 145ms/step - loss: 0.7813 - accuracy: 0.8250 - val_loss: 1.7383 - val_accuracy: 0.7726\n",
            "Epoch 14/30\n",
            "22/22 [==============================] - 3s 144ms/step - loss: 0.7350 - accuracy: 0.8443 - val_loss: 1.6594 - val_accuracy: 0.7827\n",
            "Epoch 15/30\n",
            "22/22 [==============================] - 3s 145ms/step - loss: 0.6941 - accuracy: 0.8500 - val_loss: 1.5760 - val_accuracy: 0.7931\n",
            "Epoch 16/30\n",
            "22/22 [==============================] - 3s 145ms/step - loss: 0.6570 - accuracy: 0.8521 - val_loss: 1.4887 - val_accuracy: 0.8003\n",
            "Epoch 17/30\n",
            "22/22 [==============================] - 3s 147ms/step - loss: 0.6236 - accuracy: 0.8621 - val_loss: 1.3984 - val_accuracy: 0.8083\n",
            "Epoch 18/30\n",
            "22/22 [==============================] - 3s 151ms/step - loss: 0.5917 - accuracy: 0.8679 - val_loss: 1.3068 - val_accuracy: 0.8151\n",
            "Epoch 19/30\n",
            "22/22 [==============================] - 3s 150ms/step - loss: 0.5651 - accuracy: 0.8757 - val_loss: 1.2145 - val_accuracy: 0.8232\n",
            "Epoch 20/30\n",
            "22/22 [==============================] - 3s 146ms/step - loss: 0.5393 - accuracy: 0.8821 - val_loss: 1.1245 - val_accuracy: 0.8291\n",
            "Epoch 21/30\n",
            "22/22 [==============================] - 3s 147ms/step - loss: 0.5161 - accuracy: 0.8871 - val_loss: 1.0380 - val_accuracy: 0.8349\n",
            "Epoch 22/30\n",
            "22/22 [==============================] - 3s 144ms/step - loss: 0.4931 - accuracy: 0.8893 - val_loss: 0.9572 - val_accuracy: 0.8399\n",
            "Epoch 23/30\n",
            "22/22 [==============================] - 3s 144ms/step - loss: 0.4727 - accuracy: 0.8979 - val_loss: 0.8815 - val_accuracy: 0.8452\n",
            "Epoch 24/30\n",
            "22/22 [==============================] - 3s 145ms/step - loss: 0.4540 - accuracy: 0.9007 - val_loss: 0.8131 - val_accuracy: 0.8511\n",
            "Epoch 25/30\n",
            "22/22 [==============================] - 3s 145ms/step - loss: 0.4367 - accuracy: 0.9029 - val_loss: 0.7522 - val_accuracy: 0.8557\n",
            "Epoch 26/30\n",
            "22/22 [==============================] - 3s 146ms/step - loss: 0.4206 - accuracy: 0.9086 - val_loss: 0.6981 - val_accuracy: 0.8597\n",
            "Epoch 27/30\n",
            "22/22 [==============================] - 3s 147ms/step - loss: 0.4058 - accuracy: 0.9093 - val_loss: 0.6506 - val_accuracy: 0.8636\n",
            "Epoch 28/30\n",
            "22/22 [==============================] - 3s 146ms/step - loss: 0.3900 - accuracy: 0.9107 - val_loss: 0.6091 - val_accuracy: 0.8665\n",
            "Epoch 29/30\n",
            "22/22 [==============================] - 3s 145ms/step - loss: 0.3765 - accuracy: 0.9136 - val_loss: 0.5733 - val_accuracy: 0.8705\n",
            "Epoch 30/30\n",
            "22/22 [==============================] - 3s 144ms/step - loss: 0.3636 - accuracy: 0.9171 - val_loss: 0.5424 - val_accuracy: 0.8738\n",
            "Test loss: 0.5423767566680908\n",
            "Test accuracy: 0.8738046884536743\n"
          ],
          "name": "stdout"
        }
      ]
    }
  ]
}